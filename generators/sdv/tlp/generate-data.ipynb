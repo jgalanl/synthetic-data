{
 "cells": [
  {
   "cell_type": "markdown",
   "metadata": {},
   "source": [
    "### 1. Imports"
   ]
  },
  {
   "cell_type": "code",
   "execution_count": 1,
   "metadata": {},
   "outputs": [],
   "source": [
    "import pandas as pd"
   ]
  },
  {
   "cell_type": "code",
   "execution_count": 2,
   "metadata": {},
   "outputs": [],
   "source": [
    "pd.set_option('display.max_columns', None)\n",
    "pd.set_option('display.max_rows', None)\n",
    "pd.set_option('display.max_colwidth', None)"
   ]
  },
  {
   "cell_type": "code",
   "execution_count": 3,
   "metadata": {},
   "outputs": [],
   "source": [
    "NUM_ROWS = 50\n",
    "NUM_EPOCHS = 10000"
   ]
  },
  {
   "cell_type": "markdown",
   "metadata": {},
   "source": [
    "### 2. Load data"
   ]
  },
  {
   "cell_type": "code",
   "execution_count": 4,
   "metadata": {},
   "outputs": [],
   "source": [
    "df = pd.read_excel(\n",
    "    '../../../data/tlp/Identia_UNED_TLP.xlsx'\n",
    ")\n"
   ]
  },
  {
   "cell_type": "code",
   "execution_count": null,
   "metadata": {},
   "outputs": [],
   "source": [
    "df.head()"
   ]
  },
  {
   "cell_type": "markdown",
   "metadata": {},
   "source": [
    "### 3. Preprocesing"
   ]
  },
  {
   "cell_type": "code",
   "execution_count": 6,
   "metadata": {},
   "outputs": [],
   "source": [
    "def transfor_ed(row):\n",
    "   if row['etiq-diagExpTLP_R2'] == 'ED1':\n",
    "      return 'H'\n",
    "   elif row['etiq-diagExpTLP_R2'] == 'ED2' or row['etiq-diagExpTLP_R2'] == 'ED3':\n",
    "      return 'D'"
   ]
  },
  {
   "cell_type": "code",
   "execution_count": 7,
   "metadata": {},
   "outputs": [],
   "source": [
    "df['ED_2Clases'] = df.apply(transfor_ed, axis=1)"
   ]
  },
  {
   "cell_type": "code",
   "execution_count": 8,
   "metadata": {},
   "outputs": [],
   "source": [
    "drop_columns = [\n",
    "    'etiq-diagExpTLPcode',\n",
    "    'etiq-diagExpTLPtext',\n",
    "    'etiq-diagExpTLPcode_R2',\n",
    "    'etiq-diagMMSE',\n",
    "    'etiq-diagExpTLP',\n",
    "    'etiq-diagExpTLP_R2',\n",
    "    'etiq-diagExpTLPtext_R2',\n",
    "    'etiq-id',\n",
    "    'clin-Covid_numDosis',\n",
    "    'clin-Covid_numVecesCovid',\n",
    "    'clin-Covid_pasadoCovid',\n",
    "    'clin-Covid_sentimientoAislado',\n",
    "    'clin-Covid_sintomaCansancio',\n",
    "    'clin-Covid_sintomaDiarrea',\n",
    "    'clin-Covid_sintomaDifRespirar',\n",
    "    'clin-Covid_sintomaDolCabeza',\n",
    "    'clin-Covid_sintomaDolGarganta',\n",
    "    'clin-Covid_sintomaDolMuscular',\n",
    "    'clin-Covid_sintomaEscalofrios',\n",
    "    'clin-Covid_sintomaFiebre',\n",
    "    'clin-Covid_sintomaPerGusto',\n",
    "    'clin-Covid_sintomaPerOlfato',\n",
    "    'clin-Covid_vacunado',\n",
    "    'clin-añosSinFumar_Tipos_y_Rangos',\n",
    "    'clin-consumoAlcohol_UBEsemanal',\n",
    "    'clin-enfermedadesAltTiroides',\n",
    "    'clin-enfermedadesAntecedentesCardiacos',\n",
    "    'clin-enfermedadesHepatica',\n",
    "    'clin-enfermedadesRenal',\n",
    "    'clin-entornoUrbano',\n",
    "    'clin-familiaresAlzheimer',\n",
    "    'clin-familiaresOtraDemencia',\n",
    "    'clin-tipoFumador',\n",
    "    'clin-tratCronico',\n",
    "    'clin-tratPsicologico',\n",
    "    'clin-tratPsiquiatrico',\n",
    "    'clin-frecOlvidos',\n",
    "    'clin-frecUsoEmail',\n",
    "    'clin-frecUsoMovil',\n",
    "    'clin-frecUsoOrdenador',\n",
    "    'clin-frecUsoRSociales',\n",
    "    'clin-frecUsoTele',\n",
    "    'clin-nivelActFisica',\n",
    "    'clin-nivelSociabilidad',\n",
    "    'clin-reservaCognitiva_actividadLectora',\n",
    "    'clin-reservaCognitiva_cursos',\n",
    "    'clin-reservaCognitiva_escolaridadPadres',\n",
    "    'clin-reservaCognitiva_formacionMusical',\n",
    "    'clin-reservaCognitiva_juegos',\n",
    "    'clin-numCigarros',\n",
    "    'clin-añosSinFumar',\n",
    "    'clin-tipoAlcohol'\n",
    "]"
   ]
  },
  {
   "cell_type": "code",
   "execution_count": 9,
   "metadata": {},
   "outputs": [],
   "source": [
    "pt_columns = [column for column in df.columns if 'PT' in column ]\n",
    "pz_columns = [column for column in df.columns if 'PZ' in column ]\n",
    "pdc_columns = [column for column in df.columns if 'PDC' in column]\n",
    "drop_columns += pt_columns + pz_columns + pdc_columns\n",
    "df.drop(columns=drop_columns, inplace=True)"
   ]
  },
  {
   "cell_type": "code",
   "execution_count": null,
   "metadata": {},
   "outputs": [],
   "source": [
    "df.shape"
   ]
  },
  {
   "cell_type": "code",
   "execution_count": null,
   "metadata": {},
   "outputs": [],
   "source": [
    "df.columns[df.isna().any()]"
   ]
  },
  {
   "cell_type": "code",
   "execution_count": null,
   "metadata": {},
   "outputs": [],
   "source": [
    "df.columns[df.astype(str).apply(lambda col: col.isin([\"inf\", \"-inf\"]).any())]"
   ]
  },
  {
   "cell_type": "code",
   "execution_count": 13,
   "metadata": {},
   "outputs": [],
   "source": [
    "from sdv.metadata import Metadata\n",
    "\n",
    "metadata = Metadata.detect_from_dataframe(data=df, table_name='TLP')"
   ]
  },
  {
   "cell_type": "code",
   "execution_count": 14,
   "metadata": {},
   "outputs": [],
   "source": [
    "categorical_columns = [\n",
    "    'ED_2Clases'\n",
    "]\n",
    "metadata.update_columns(\n",
    "    column_names=categorical_columns,\n",
    "    sdtype='categorical',\n",
    "    table_name='TLP'\n",
    ")"
   ]
  },
  {
   "cell_type": "code",
   "execution_count": null,
   "metadata": {},
   "outputs": [],
   "source": [
    "print('Auto detected data:\\n')\n",
    "metadata.visualize()"
   ]
  },
  {
   "cell_type": "code",
   "execution_count": 16,
   "metadata": {},
   "outputs": [],
   "source": [
    "metadata.validate_table(data=df, table_name='TLP')"
   ]
  },
  {
   "cell_type": "code",
   "execution_count": null,
   "metadata": {},
   "outputs": [],
   "source": [
    "metadata.visualize()"
   ]
  },
  {
   "cell_type": "code",
   "execution_count": 18,
   "metadata": {},
   "outputs": [],
   "source": [
    "import os\n",
    "if os.path.exists(\"metadata.json\"):\n",
    "  os.remove(\"metadata.json\")\n",
    "\n",
    "metadata.save_to_json('metadata.json')"
   ]
  },
  {
   "cell_type": "markdown",
   "metadata": {},
   "source": [
    "### 4. Synthesizers"
   ]
  },
  {
   "cell_type": "markdown",
   "metadata": {},
   "source": [
    "Constrains"
   ]
  },
  {
   "cell_type": "code",
   "execution_count": 19,
   "metadata": {},
   "outputs": [],
   "source": [
    "num_d, num_h = df['ED_2Clases'].value_counts()\n",
    "num_synthetic_data = num_d - num_h"
   ]
  },
  {
   "cell_type": "code",
   "execution_count": null,
   "metadata": {},
   "outputs": [],
   "source": [
    "df['ED_2Clases'].value_counts()"
   ]
  },
  {
   "cell_type": "code",
   "execution_count": 21,
   "metadata": {},
   "outputs": [],
   "source": [
    "df.to_csv(\n",
    "    '../../../data/tlp/preprocesado.csv',\n",
    "    index=False\n",
    ")"
   ]
  },
  {
   "cell_type": "markdown",
   "metadata": {},
   "source": [
    "#### 4.1. GaussianCopulaSynthesizer"
   ]
  },
  {
   "cell_type": "code",
   "execution_count": 22,
   "metadata": {},
   "outputs": [],
   "source": [
    "from sdv.single_table import GaussianCopulaSynthesizer\n",
    "\n",
    "gc_synthesizer = GaussianCopulaSynthesizer(\n",
    "    metadata,\n",
    "    enforce_min_max_values=True,\n",
    "    enforce_rounding=True,\n",
    "    locales=[\"es_ES\"],\n",
    "    numerical_distributions={},\n",
    "    default_distribution='beta'\n",
    ")"
   ]
  },
  {
   "cell_type": "code",
   "execution_count": 23,
   "metadata": {},
   "outputs": [],
   "source": [
    "gc_synthesizer.auto_assign_transformers(df)"
   ]
  },
  {
   "cell_type": "code",
   "execution_count": 24,
   "metadata": {},
   "outputs": [],
   "source": [
    "processed_df = gc_synthesizer.preprocess(df)"
   ]
  },
  {
   "cell_type": "code",
   "execution_count": 25,
   "metadata": {},
   "outputs": [],
   "source": [
    "gc_synthesizer.fit_processed_data(processed_df)"
   ]
  },
  {
   "cell_type": "code",
   "execution_count": 26,
   "metadata": {},
   "outputs": [],
   "source": [
    "synthetic_data_list = []\n",
    "\n",
    "while len(synthetic_data_list) < num_synthetic_data:\n",
    "    samples = gc_synthesizer.sample(num_rows=NUM_ROWS)\n",
    "    synthetic_data_list.extend(samples.loc[samples['ED_2Clases'] == 'H'].values.tolist()[:num_synthetic_data - len(synthetic_data_list)])\n"
   ]
  },
  {
   "cell_type": "code",
   "execution_count": 27,
   "metadata": {},
   "outputs": [],
   "source": [
    "synthetic_data_df = pd.DataFrame(synthetic_data_list, columns=df.columns)"
   ]
  },
  {
   "cell_type": "code",
   "execution_count": 28,
   "metadata": {},
   "outputs": [],
   "source": [
    "gc_synthetic_data = pd.concat([df, synthetic_data_df], ignore_index=True)"
   ]
  },
  {
   "cell_type": "code",
   "execution_count": null,
   "metadata": {},
   "outputs": [],
   "source": [
    "gc_synthetic_data.shape"
   ]
  },
  {
   "cell_type": "code",
   "execution_count": 30,
   "metadata": {},
   "outputs": [],
   "source": [
    "gc_synthetic_data.to_csv(\n",
    "    '../../../data/tlp/synthetic-gc.csv',\n",
    "    index=False\n",
    ")"
   ]
  },
  {
   "cell_type": "markdown",
   "metadata": {},
   "source": [
    "#### 4.2.CTGANSynthesizer"
   ]
  },
  {
   "cell_type": "code",
   "execution_count": 31,
   "metadata": {},
   "outputs": [],
   "source": [
    "from sdv.single_table import CTGANSynthesizer\n",
    "\n",
    "ctgan_synthesizer = CTGANSynthesizer(\n",
    "    metadata,\n",
    "    enforce_min_max_values=True,\n",
    "    enforce_rounding=True,\n",
    "    locales=['es_ES'],\n",
    "    epochs=NUM_EPOCHS,\n",
    "    verbose=True,\n",
    "    cuda=True\n",
    ")"
   ]
  },
  {
   "cell_type": "code",
   "execution_count": 32,
   "metadata": {},
   "outputs": [],
   "source": [
    "ctgan_synthesizer.auto_assign_transformers(df)"
   ]
  },
  {
   "cell_type": "code",
   "execution_count": 33,
   "metadata": {},
   "outputs": [],
   "source": [
    "processed_df = ctgan_synthesizer.preprocess(df)"
   ]
  },
  {
   "cell_type": "code",
   "execution_count": null,
   "metadata": {},
   "outputs": [],
   "source": [
    "ctgan_synthesizer.fit_processed_data(processed_df)"
   ]
  },
  {
   "cell_type": "code",
   "execution_count": null,
   "metadata": {},
   "outputs": [],
   "source": [
    "synthetic_data_list = []\n",
    "\n",
    "while len(synthetic_data_list) < num_synthetic_data:\n",
    "    samples = ctgan_synthesizer.sample(num_rows=NUM_ROWS)\n",
    "    synthetic_data_list.extend(samples.loc[samples['ED_2Clases'] == 'H'].values.tolist()[:num_synthetic_data - len(synthetic_data_list)])\n"
   ]
  },
  {
   "cell_type": "code",
   "execution_count": null,
   "metadata": {},
   "outputs": [],
   "source": [
    "synthetic_data_df = pd.DataFrame(synthetic_data_list, columns=df.columns)"
   ]
  },
  {
   "cell_type": "code",
   "execution_count": null,
   "metadata": {},
   "outputs": [],
   "source": [
    "ctgan_synthetic_data = pd.concat([df, synthetic_data_df], ignore_index=True)"
   ]
  },
  {
   "cell_type": "code",
   "execution_count": null,
   "metadata": {},
   "outputs": [],
   "source": [
    "ctgan_synthetic_data.shape"
   ]
  },
  {
   "cell_type": "code",
   "execution_count": null,
   "metadata": {},
   "outputs": [],
   "source": [
    "ctgan_synthetic_data.to_csv(\n",
    "    '../../../data/tlp/synthetic-ctgan.csv',\n",
    "    index=False\n",
    ")"
   ]
  },
  {
   "cell_type": "markdown",
   "metadata": {},
   "source": [
    "#### 4.3. TVAESynthesizer"
   ]
  },
  {
   "cell_type": "code",
   "execution_count": null,
   "metadata": {},
   "outputs": [],
   "source": [
    "from sdv.single_table import TVAESynthesizer\n",
    "\n",
    "tvaes_synthesizer = TVAESynthesizer(\n",
    "    metadata,\n",
    "    enforce_min_max_values=True,\n",
    "    enforce_rounding=True,\n",
    "    epochs=NUM_EPOCHS,\n",
    "    verbose=True,\n",
    "    cuda=True\n",
    ")"
   ]
  },
  {
   "cell_type": "code",
   "execution_count": null,
   "metadata": {},
   "outputs": [],
   "source": [
    "tvaes_synthesizer.auto_assign_transformers(df)"
   ]
  },
  {
   "cell_type": "code",
   "execution_count": null,
   "metadata": {},
   "outputs": [],
   "source": [
    "processed_df = tvaes_synthesizer.preprocess(df)"
   ]
  },
  {
   "cell_type": "code",
   "execution_count": null,
   "metadata": {},
   "outputs": [],
   "source": [
    "tvaes_synthesizer.fit_processed_data(processed_df)"
   ]
  },
  {
   "cell_type": "code",
   "execution_count": null,
   "metadata": {},
   "outputs": [],
   "source": [
    "synthetic_data_list = []\n",
    "\n",
    "while len(synthetic_data_list) < num_synthetic_data:\n",
    "    samples = tvaes_synthesizer.sample(num_rows=NUM_ROWS)\n",
    "    synthetic_data_list.extend(samples.loc[samples['ED_2Clases'] == 'H'].values.tolist()[:num_synthetic_data - len(synthetic_data_list)])\n"
   ]
  },
  {
   "cell_type": "code",
   "execution_count": null,
   "metadata": {},
   "outputs": [],
   "source": [
    "synthetic_data_df = pd.DataFrame(synthetic_data_list, columns=df.columns)"
   ]
  },
  {
   "cell_type": "code",
   "execution_count": null,
   "metadata": {},
   "outputs": [],
   "source": [
    "tvaes_synthetic_data = pd.concat([df, synthetic_data_df], ignore_index=True)"
   ]
  },
  {
   "cell_type": "code",
   "execution_count": null,
   "metadata": {},
   "outputs": [],
   "source": [
    "tvaes_synthetic_data.shape"
   ]
  },
  {
   "cell_type": "code",
   "execution_count": null,
   "metadata": {},
   "outputs": [],
   "source": [
    "tvaes_synthetic_data.to_csv(\n",
    "    '../../../data/tlp/synthetic-tvaes.csv',\n",
    "    index=False\n",
    ")"
   ]
  },
  {
   "cell_type": "markdown",
   "metadata": {},
   "source": [
    "### 5. Evaluating Real vs. Synthetic Data"
   ]
  },
  {
   "cell_type": "code",
   "execution_count": null,
   "metadata": {},
   "outputs": [],
   "source": [
    "from sdv.evaluation.single_table import get_column_plot\n",
    "\n",
    "plot_columns = list(df.columns)"
   ]
  },
  {
   "cell_type": "markdown",
   "metadata": {},
   "source": [
    "#### 5.1. GaussianCopulaSynthesizer"
   ]
  },
  {
   "cell_type": "code",
   "execution_count": null,
   "metadata": {},
   "outputs": [],
   "source": [
    "from sdv.evaluation.single_table import run_diagnostic\n",
    "\n",
    "gc_diagnostic = run_diagnostic(\n",
    "    real_data=df,\n",
    "    synthetic_data=gc_synthetic_data,\n",
    "    metadata=metadata\n",
    ")"
   ]
  },
  {
   "cell_type": "code",
   "execution_count": null,
   "metadata": {},
   "outputs": [],
   "source": [
    "from sdv.evaluation.single_table import evaluate_quality\n",
    "\n",
    "gc_quality_report = evaluate_quality(\n",
    "    df,\n",
    "    gc_synthetic_data,\n",
    "    metadata\n",
    ")"
   ]
  },
  {
   "cell_type": "code",
   "execution_count": null,
   "metadata": {},
   "outputs": [],
   "source": [
    "# gc_details = gc_quality_report.get_details('Column Pair Trends')\n",
    "# gc_details[gc_details['Real Correlation'].notnull()]"
   ]
  },
  {
   "cell_type": "code",
   "execution_count": null,
   "metadata": {},
   "outputs": [],
   "source": [
    "#gc_quality_report.get_details('Column Shapes')"
   ]
  },
  {
   "cell_type": "code",
   "execution_count": null,
   "metadata": {},
   "outputs": [],
   "source": [
    "# for column in plot_columns:\n",
    "#     fig = get_column_plot(\n",
    "#         real_data=df,\n",
    "#         synthetic_data=gc_synthetic_data,\n",
    "#         column_name=column,\n",
    "#         metadata=metadata\n",
    "#     )\n",
    "#     fig.show()"
   ]
  },
  {
   "cell_type": "markdown",
   "metadata": {},
   "source": [
    "#### 5.2. CTGANSynthesizer"
   ]
  },
  {
   "cell_type": "code",
   "execution_count": null,
   "metadata": {},
   "outputs": [],
   "source": [
    "ctgan_diagnostic = run_diagnostic(\n",
    "    real_data=df,\n",
    "    synthetic_data=ctgan_synthetic_data,\n",
    "    metadata=metadata\n",
    ")"
   ]
  },
  {
   "cell_type": "code",
   "execution_count": null,
   "metadata": {},
   "outputs": [],
   "source": [
    "ctgan_quality_report = evaluate_quality(\n",
    "    df,\n",
    "    ctgan_synthetic_data,\n",
    "    metadata\n",
    ")"
   ]
  },
  {
   "cell_type": "code",
   "execution_count": null,
   "metadata": {},
   "outputs": [],
   "source": [
    "# ctgan_details = ctgan_quality_report.get_details('Column Pair Trends')\n",
    "# ctgan_details[ctgan_details['Real Correlation'].notnull()]"
   ]
  },
  {
   "cell_type": "code",
   "execution_count": null,
   "metadata": {},
   "outputs": [],
   "source": [
    "# ctgan_quality_report.get_details('Column Shapes')"
   ]
  },
  {
   "cell_type": "code",
   "execution_count": null,
   "metadata": {},
   "outputs": [],
   "source": [
    "#for column in plot_columns:\n",
    "#    fig = get_column_plot(\n",
    "#        real_data=df,\n",
    "#        synthetic_data=ctgan_synthetic_data,\n",
    "#        column_name=column,\n",
    "#        metadata=metadata\n",
    "#    )\n",
    "#    fig.show()"
   ]
  },
  {
   "cell_type": "markdown",
   "metadata": {},
   "source": [
    "#### 5.3. TVAESSynthesizer"
   ]
  },
  {
   "cell_type": "code",
   "execution_count": null,
   "metadata": {},
   "outputs": [],
   "source": [
    "tvaes_diagnostic = run_diagnostic(\n",
    "    real_data=df,\n",
    "    synthetic_data=tvaes_synthetic_data,\n",
    "    metadata=metadata\n",
    ")"
   ]
  },
  {
   "cell_type": "code",
   "execution_count": null,
   "metadata": {},
   "outputs": [],
   "source": [
    "tvaes_quality_report = evaluate_quality(\n",
    "    df,\n",
    "    tvaes_synthetic_data,\n",
    "    metadata\n",
    ")"
   ]
  },
  {
   "cell_type": "code",
   "execution_count": null,
   "metadata": {},
   "outputs": [],
   "source": [
    "# tvaes_details = tvaes_quality_report.get_details('Column Pair Trends')\n",
    "# tvaes_details[tvaes_details['Real Correlation'].notnull()]"
   ]
  },
  {
   "cell_type": "code",
   "execution_count": null,
   "metadata": {},
   "outputs": [],
   "source": [
    "# tvaes_quality_report.get_details('Column Shapes')"
   ]
  },
  {
   "cell_type": "code",
   "execution_count": null,
   "metadata": {},
   "outputs": [],
   "source": [
    "#for column in plot_columns:\n",
    "#    fig = get_column_plot(\n",
    "#        real_data=df,\n",
    "#        synthetic_data=tvaes_synthetic_data,\n",
    "#        column_name=column,\n",
    "#        metadata=metadata\n",
    "#    )\n",
    "#    fig.show()"
   ]
  }
 ],
 "metadata": {
  "kernelspec": {
   "display_name": "Python 3",
   "language": "python",
   "name": "python3"
  },
  "language_info": {
   "codemirror_mode": {
    "name": "ipython",
    "version": 3
   },
   "file_extension": ".py",
   "mimetype": "text/x-python",
   "name": "python",
   "nbconvert_exporter": "python",
   "pygments_lexer": "ipython3",
   "version": "3.11.11"
  }
 },
 "nbformat": 4,
 "nbformat_minor": 2
}
