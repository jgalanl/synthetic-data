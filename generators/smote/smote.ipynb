{
 "cells": [
  {
   "cell_type": "code",
   "execution_count": 1,
   "metadata": {},
   "outputs": [],
   "source": [
    "import pandas as pd\n",
    "import numpy as np\n",
    "from imblearn.over_sampling import SMOTE\n",
    "from sklearn.model_selection import train_test_split"
   ]
  },
  {
   "cell_type": "code",
   "execution_count": 2,
   "metadata": {},
   "outputs": [],
   "source": [
    "X_train = pd.read_csv(\n",
    "    '../../data/tlp/X_train.csv'\n",
    ")"
   ]
  },
  {
   "cell_type": "code",
   "execution_count": 3,
   "metadata": {},
   "outputs": [],
   "source": [
    "y_train = pd.read_csv(\n",
    "    '../../data/tlp/y_train.csv'\n",
    ")"
   ]
  },
  {
   "cell_type": "code",
   "execution_count": 4,
   "metadata": {},
   "outputs": [],
   "source": [
    "df = pd.concat([X_train, y_train], axis=1)"
   ]
  },
  {
   "cell_type": "code",
   "execution_count": 5,
   "metadata": {},
   "outputs": [
    {
     "data": {
      "application/vnd.microsoft.datawrangler.viewer.v0+json": {
       "columns": [
        {
         "name": "index",
         "rawType": "int64",
         "type": "integer"
        },
        {
         "name": "demo-genero",
         "rawType": "int64",
         "type": "integer"
        },
        {
         "name": "demo-edad",
         "rawType": "int64",
         "type": "integer"
        },
        {
         "name": "clin-reservaCognitiva_total",
         "rawType": "int64",
         "type": "integer"
        },
        {
         "name": "clin-reservaCognitiva_idiomas",
         "rawType": "int64",
         "type": "integer"
        },
        {
         "name": "clin-reservaCognitiva_ocupacion",
         "rawType": "int64",
         "type": "integer"
        },
        {
         "name": "clin-reservaCognitiva_escolaridad",
         "rawType": "int64",
         "type": "integer"
        },
        {
         "name": "clin-ansiedad",
         "rawType": "bool",
         "type": "boolean"
        },
        {
         "name": "clin-depresion",
         "rawType": "bool",
         "type": "boolean"
        },
        {
         "name": "clin-cardiopatiaIsquemica",
         "rawType": "bool",
         "type": "boolean"
        },
        {
         "name": "clin-diabetes",
         "rawType": "bool",
         "type": "boolean"
        },
        {
         "name": "clin-Hipercolesterolemia",
         "rawType": "bool",
         "type": "boolean"
        },
        {
         "name": "clin-Hipertension",
         "rawType": "bool",
         "type": "boolean"
        },
        {
         "name": "clin-alcohol",
         "rawType": "bool",
         "type": "boolean"
        },
        {
         "name": "clin-fumador",
         "rawType": "bool",
         "type": "boolean"
        },
        {
         "name": "clin-Covid_sintomaSarpullido",
         "rawType": "bool",
         "type": "boolean"
        },
        {
         "name": "ques-QuejasMemo-Total-PD",
         "rawType": "int64",
         "type": "integer"
        },
        {
         "name": "ques-NavEspacial-All-PD",
         "rawType": "int64",
         "type": "integer"
        },
        {
         "name": "ques-NavEspacial-resultadosWFQ_NO-PD",
         "rawType": "int64",
         "type": "integer"
        },
        {
         "name": "ques-NavEspacial-resultadosWFQ_SA-PD",
         "rawType": "int64",
         "type": "integer"
        },
        {
         "name": "ques-NavEspacial-resultadosWFQ_DE-PD",
         "rawType": "int64",
         "type": "integer"
        },
        {
         "name": "ques-Sus-totalPar-PD",
         "rawType": "int64",
         "type": "integer"
        },
        {
         "name": "ques-Sus-totalImpar-PD",
         "rawType": "int64",
         "type": "integer"
        },
        {
         "name": "ques-Sus-total-PD",
         "rawType": "float64",
         "type": "float"
        },
        {
         "name": "ques-MMSE-Total-PD",
         "rawType": "int64",
         "type": "integer"
        },
        {
         "name": "ques-MMSE-concentracion-PD",
         "rawType": "int64",
         "type": "integer"
        },
        {
         "name": "ques-MMSE-fijacion-PD",
         "rawType": "int64",
         "type": "integer"
        },
        {
         "name": "ques-MMSE-lenguaje-PD",
         "rawType": "int64",
         "type": "integer"
        },
        {
         "name": "ques-MMSE-memoria-PD",
         "rawType": "int64",
         "type": "integer"
        },
        {
         "name": "ques-MMSE-orientacion-PD",
         "rawType": "int64",
         "type": "integer"
        },
        {
         "name": "ques-MMSE-escolaridad-PD",
         "rawType": "int64",
         "type": "integer"
        },
        {
         "name": "eval-TLP-CubCorsi-totalDirectos-PD",
         "rawType": "int64",
         "type": "integer"
        },
        {
         "name": "eval-TLP-CubCorsi-totalinversos-PD",
         "rawType": "int64",
         "type": "integer"
        },
        {
         "name": "eval-TLP-CubCorsi-total-PD",
         "rawType": "int64",
         "type": "integer"
        },
        {
         "name": "eval-TLP-FigRey-tipoCopia-PD",
         "rawType": "int64",
         "type": "integer"
        },
        {
         "name": "eval-TLP-FigRey-totalCopia-PD",
         "rawType": "float64",
         "type": "float"
        },
        {
         "name": "eval-TLP-FigRey-totalMemoria-PD",
         "rawType": "float64",
         "type": "float"
        },
        {
         "name": "eval-TLP-FigRey-Duracion-PD",
         "rawType": "int64",
         "type": "integer"
        },
        {
         "name": "eval-TLP-Stroop-color-PD",
         "rawType": "int64",
         "type": "integer"
        },
        {
         "name": "eval-TLP-Stroop-palabras-PD",
         "rawType": "int64",
         "type": "integer"
        },
        {
         "name": "eval-TLP-Stroop-palabrasColor-PD",
         "rawType": "int64",
         "type": "integer"
        },
        {
         "name": "eval-TLP-Tavec-1_RI_A1-PD",
         "rawType": "int64",
         "type": "integer"
        },
        {
         "name": "eval-TLP-Tavec-2_RI_A5-PD",
         "rawType": "int64",
         "type": "integer"
        },
        {
         "name": "eval-TLP-Tavec-3_RI_AT-PD",
         "rawType": "int64",
         "type": "integer"
        },
        {
         "name": "eval-TLP-Tavec-4_RI_B-PD",
         "rawType": "int64",
         "type": "integer"
        },
        {
         "name": "eval-TLP-Tavec-5_Rg_Pr-PD",
         "rawType": "float64",
         "type": "float"
        },
        {
         "name": "eval-TLP-Tavec-6_Rg_Md-PD",
         "rawType": "float64",
         "type": "float"
        },
        {
         "name": "eval-TLP-Tavec-7_Rg_Rc-PD",
         "rawType": "float64",
         "type": "float"
        },
        {
         "name": "eval-TLP-Tavec-8_RL_CP-PD",
         "rawType": "int64",
         "type": "integer"
        },
        {
         "name": "eval-TLP-Tavec-9_RCl_CP-PD",
         "rawType": "int64",
         "type": "integer"
        },
        {
         "name": "eval-TLP-Tavec-10_RL_LP-PD",
         "rawType": "int64",
         "type": "integer"
        },
        {
         "name": "eval-TLP-Tavec-11_RCl_LP-PD",
         "rawType": "int64",
         "type": "integer"
        },
        {
         "name": "eval-TLP-Tavec-12_ESem_RI_A-PD",
         "rawType": "int64",
         "type": "integer"
        },
        {
         "name": "eval-TLP-Tavec-13_ESem_RI_B-PD",
         "rawType": "int64",
         "type": "integer"
        },
        {
         "name": "eval-TLP-Tavec-14_ESem_RL_CP-PD",
         "rawType": "int64",
         "type": "integer"
        },
        {
         "name": "eval-TLP-Tavec-15_ESem_RL_LP-PD",
         "rawType": "int64",
         "type": "integer"
        },
        {
         "name": "eval-TLP-Tavec-16_ESer_RI_A-PD",
         "rawType": "int64",
         "type": "integer"
        },
        {
         "name": "eval-TLP-Tavec-17_ESer_RI_B-PD",
         "rawType": "int64",
         "type": "integer"
        },
        {
         "name": "eval-TLP-Tavec-18_ESer_RL_CP-PD",
         "rawType": "int64",
         "type": "integer"
        },
        {
         "name": "eval-TLP-Tavec-19_ESer_RL_LP-PD",
         "rawType": "int64",
         "type": "integer"
        },
        {
         "name": "eval-TLP-Tavec-20_P-PD",
         "rawType": "int64",
         "type": "integer"
        },
        {
         "name": "eval-TLP-Tavec-21_I_RL-PD",
         "rawType": "int64",
         "type": "integer"
        },
        {
         "name": "eval-TLP-Tavec-22_I_RCL-PD",
         "rawType": "int64",
         "type": "integer"
        },
        {
         "name": "eval-TLP-Tavec-23_Recon_Ac-PD",
         "rawType": "int64",
         "type": "integer"
        },
        {
         "name": "eval-TLP-Tavec-24_FP-PD",
         "rawType": "int64",
         "type": "integer"
        },
        {
         "name": "eval-TLP-Tavec-25_Discriminabilidad-PD",
         "rawType": "float64",
         "type": "float"
        },
        {
         "name": "eval-TLP-Tavec-26_Sesgo-PD",
         "rawType": "float64",
         "type": "float"
        },
        {
         "name": "eval-TLP-Tavec-27_RI_B_frente_RI_A1-PD",
         "rawType": "float64",
         "type": "float"
        },
        {
         "name": "eval-TLP-Tavec-28_RL_CP_frente_RI_A5-PD",
         "rawType": "float64",
         "type": "float"
        },
        {
         "name": "eval-TLP-Tavec-29_RCl_Cp_frente_RCl_LP-PD",
         "rawType": "float64",
         "type": "float"
        },
        {
         "name": "eval-TLP-Tavec-30_RL_LP_frente_RL_CP-PD",
         "rawType": "float64",
         "type": "float"
        },
        {
         "name": "eval-TLP-Tavec-31_RCl_LP_frente_RL_LP-PD",
         "rawType": "float64",
         "type": "float"
        },
        {
         "name": "eval-TLP-Tavec-32_Recon_Ac_frente_RL_LP-PD",
         "rawType": "float64",
         "type": "float"
        },
        {
         "name": "eval-TLP-Tavec-33_Recon_Ac_frente_RCl_LP-PD",
         "rawType": "float64",
         "type": "float"
        },
        {
         "name": "ED_2Clases",
         "rawType": "object",
         "type": "string"
        }
       ],
       "conversionMethod": "pd.DataFrame",
       "ref": "3b853acb-004f-40ef-86ec-90b7483bca93",
       "rows": [
        [
         "0",
         "2",
         "63",
         "13",
         "0",
         "1",
         "4",
         "True",
         "True",
         "False",
         "False",
         "False",
         "False",
         "False",
         "False",
         "False",
         "7",
         "91",
         "42",
         "39",
         "10",
         "15",
         "20",
         "87.5",
         "30",
         "5",
         "3",
         "9",
         "3",
         "10",
         "1",
         "9",
         "8",
         "17",
         "1",
         "35.0",
         "23.5",
         "108",
         "73",
         "92",
         "46",
         "8",
         "14",
         "60",
         "4",
         "26.67",
         "45.0",
         "28.33",
         "14",
         "14",
         "14",
         "15",
         "31",
         "0",
         "10",
         "10",
         "1",
         "0",
         "0",
         "0",
         "7",
         "3",
         "0",
         "16",
         "0",
         "100.0",
         "0.0",
         "100.0",
         "0.0",
         "7.14",
         "0.0",
         "-6.67",
         "-12.5",
         "-6.25",
         "H"
        ],
        [
         "1",
         "2",
         "56",
         "10",
         "0",
         "2",
         "4",
         "True",
         "False",
         "False",
         "False",
         "False",
         "False",
         "False",
         "False",
         "False",
         "7",
         "73",
         "39",
         "21",
         "13",
         "18",
         "15",
         "82.5",
         "27",
         "4",
         "3",
         "9",
         "2",
         "9",
         "1",
         "6",
         "5",
         "11",
         "1",
         "36.0",
         "19.5",
         "145",
         "53",
         "95",
         "33",
         "6",
         "8",
         "40",
         "3",
         "37.5",
         "35.0",
         "27.5",
         "7",
         "7",
         "6",
         "9",
         "4",
         "0",
         "0",
         "0",
         "9",
         "1",
         "1",
         "0",
         "1",
         "2",
         "1",
         "12",
         "0",
         "90.91",
         "-0.6",
         "100.0",
         "14.29",
         "28.57",
         "16.67",
         "-33.33",
         "-50.0",
         "-25.0",
         "D"
        ],
        [
         "2",
         "2",
         "74",
         "15",
         "0",
         "2",
         "3",
         "True",
         "True",
         "False",
         "False",
         "False",
         "False",
         "False",
         "False",
         "False",
         "6",
         "101",
         "56",
         "37",
         "8",
         "20",
         "20",
         "100.0",
         "29",
         "5",
         "3",
         "9",
         "2",
         "10",
         "0",
         "7",
         "6",
         "13",
         "4",
         "36.0",
         "12.5",
         "337",
         "55",
         "98",
         "32",
         "8",
         "10",
         "43",
         "5",
         "27.91",
         "39.53",
         "32.56",
         "7",
         "9",
         "8",
         "9",
         "6",
         "1",
         "2",
         "4",
         "7",
         "0",
         "1",
         "1",
         "10",
         "2",
         "6",
         "15",
         "6",
         "84.09",
         "0.71",
         "60.0",
         "42.86",
         "0.0",
         "-12.5",
         "-11.11",
         "-46.67",
         "-40.0",
         "D"
        ],
        [
         "3",
         "2",
         "80",
         "8",
         "0",
         "0",
         "3",
         "True",
         "False",
         "False",
         "False",
         "False",
         "False",
         "True",
         "False",
         "False",
         "2",
         "86",
         "33",
         "39",
         "14",
         "3",
         "19",
         "55.0",
         "28",
         "5",
         "3",
         "7",
         "3",
         "10",
         "0",
         "4",
         "0",
         "4",
         "5",
         "20.0",
         "4.5",
         "414",
         "46",
         "75",
         "21",
         "6",
         "11",
         "40",
         "5",
         "30.0",
         "47.5",
         "22.5",
         "4",
         "8",
         "7",
         "9",
         "9",
         "1",
         "0",
         "1",
         "3",
         "0",
         "0",
         "1",
         "5",
         "0",
         "2",
         "14",
         "3",
         "88.64",
         "0.2",
         "20.0",
         "175.0",
         "12.5",
         "-42.86",
         "-22.22",
         "-50.0",
         "-35.71",
         "D"
        ],
        [
         "4",
         "1",
         "74",
         "9",
         "1",
         "0",
         "4",
         "True",
         "False",
         "False",
         "True",
         "False",
         "True",
         "True",
         "True",
         "False",
         "5",
         "50",
         "26",
         "15",
         "9",
         "11",
         "12",
         "57.5",
         "29",
         "5",
         "3",
         "9",
         "2",
         "10",
         "1",
         "7",
         "5",
         "12",
         "4",
         "23.0",
         "9.0",
         "260",
         "45",
         "74",
         "25",
         "5",
         "7",
         "36",
         "5",
         "27.78",
         "50.0",
         "22.22",
         "5",
         "8",
         "8",
         "10",
         "7",
         "1",
         "1",
         "2",
         "5",
         "0",
         "0",
         "0",
         "0",
         "6",
         "6",
         "15",
         "6",
         "84.09",
         "0.71",
         "0.0",
         "40.0",
         "25.0",
         "-37.5",
         "-20.0",
         "-46.67",
         "-33.33",
         "D"
        ]
       ],
       "shape": {
        "columns": 74,
        "rows": 5
       }
      },
      "text/html": [
       "<div>\n",
       "<style scoped>\n",
       "    .dataframe tbody tr th:only-of-type {\n",
       "        vertical-align: middle;\n",
       "    }\n",
       "\n",
       "    .dataframe tbody tr th {\n",
       "        vertical-align: top;\n",
       "    }\n",
       "\n",
       "    .dataframe thead th {\n",
       "        text-align: right;\n",
       "    }\n",
       "</style>\n",
       "<table border=\"1\" class=\"dataframe\">\n",
       "  <thead>\n",
       "    <tr style=\"text-align: right;\">\n",
       "      <th></th>\n",
       "      <th>demo-genero</th>\n",
       "      <th>demo-edad</th>\n",
       "      <th>clin-reservaCognitiva_total</th>\n",
       "      <th>clin-reservaCognitiva_idiomas</th>\n",
       "      <th>clin-reservaCognitiva_ocupacion</th>\n",
       "      <th>clin-reservaCognitiva_escolaridad</th>\n",
       "      <th>clin-ansiedad</th>\n",
       "      <th>clin-depresion</th>\n",
       "      <th>clin-cardiopatiaIsquemica</th>\n",
       "      <th>clin-diabetes</th>\n",
       "      <th>...</th>\n",
       "      <th>eval-TLP-Tavec-25_Discriminabilidad-PD</th>\n",
       "      <th>eval-TLP-Tavec-26_Sesgo-PD</th>\n",
       "      <th>eval-TLP-Tavec-27_RI_B_frente_RI_A1-PD</th>\n",
       "      <th>eval-TLP-Tavec-28_RL_CP_frente_RI_A5-PD</th>\n",
       "      <th>eval-TLP-Tavec-29_RCl_Cp_frente_RCl_LP-PD</th>\n",
       "      <th>eval-TLP-Tavec-30_RL_LP_frente_RL_CP-PD</th>\n",
       "      <th>eval-TLP-Tavec-31_RCl_LP_frente_RL_LP-PD</th>\n",
       "      <th>eval-TLP-Tavec-32_Recon_Ac_frente_RL_LP-PD</th>\n",
       "      <th>eval-TLP-Tavec-33_Recon_Ac_frente_RCl_LP-PD</th>\n",
       "      <th>ED_2Clases</th>\n",
       "    </tr>\n",
       "  </thead>\n",
       "  <tbody>\n",
       "    <tr>\n",
       "      <th>0</th>\n",
       "      <td>2</td>\n",
       "      <td>63</td>\n",
       "      <td>13</td>\n",
       "      <td>0</td>\n",
       "      <td>1</td>\n",
       "      <td>4</td>\n",
       "      <td>True</td>\n",
       "      <td>True</td>\n",
       "      <td>False</td>\n",
       "      <td>False</td>\n",
       "      <td>...</td>\n",
       "      <td>100.00</td>\n",
       "      <td>0.00</td>\n",
       "      <td>100.0</td>\n",
       "      <td>0.00</td>\n",
       "      <td>7.14</td>\n",
       "      <td>0.00</td>\n",
       "      <td>-6.67</td>\n",
       "      <td>-12.50</td>\n",
       "      <td>-6.25</td>\n",
       "      <td>H</td>\n",
       "    </tr>\n",
       "    <tr>\n",
       "      <th>1</th>\n",
       "      <td>2</td>\n",
       "      <td>56</td>\n",
       "      <td>10</td>\n",
       "      <td>0</td>\n",
       "      <td>2</td>\n",
       "      <td>4</td>\n",
       "      <td>True</td>\n",
       "      <td>False</td>\n",
       "      <td>False</td>\n",
       "      <td>False</td>\n",
       "      <td>...</td>\n",
       "      <td>90.91</td>\n",
       "      <td>-0.60</td>\n",
       "      <td>100.0</td>\n",
       "      <td>14.29</td>\n",
       "      <td>28.57</td>\n",
       "      <td>16.67</td>\n",
       "      <td>-33.33</td>\n",
       "      <td>-50.00</td>\n",
       "      <td>-25.00</td>\n",
       "      <td>D</td>\n",
       "    </tr>\n",
       "    <tr>\n",
       "      <th>2</th>\n",
       "      <td>2</td>\n",
       "      <td>74</td>\n",
       "      <td>15</td>\n",
       "      <td>0</td>\n",
       "      <td>2</td>\n",
       "      <td>3</td>\n",
       "      <td>True</td>\n",
       "      <td>True</td>\n",
       "      <td>False</td>\n",
       "      <td>False</td>\n",
       "      <td>...</td>\n",
       "      <td>84.09</td>\n",
       "      <td>0.71</td>\n",
       "      <td>60.0</td>\n",
       "      <td>42.86</td>\n",
       "      <td>0.00</td>\n",
       "      <td>-12.50</td>\n",
       "      <td>-11.11</td>\n",
       "      <td>-46.67</td>\n",
       "      <td>-40.00</td>\n",
       "      <td>D</td>\n",
       "    </tr>\n",
       "    <tr>\n",
       "      <th>3</th>\n",
       "      <td>2</td>\n",
       "      <td>80</td>\n",
       "      <td>8</td>\n",
       "      <td>0</td>\n",
       "      <td>0</td>\n",
       "      <td>3</td>\n",
       "      <td>True</td>\n",
       "      <td>False</td>\n",
       "      <td>False</td>\n",
       "      <td>False</td>\n",
       "      <td>...</td>\n",
       "      <td>88.64</td>\n",
       "      <td>0.20</td>\n",
       "      <td>20.0</td>\n",
       "      <td>175.00</td>\n",
       "      <td>12.50</td>\n",
       "      <td>-42.86</td>\n",
       "      <td>-22.22</td>\n",
       "      <td>-50.00</td>\n",
       "      <td>-35.71</td>\n",
       "      <td>D</td>\n",
       "    </tr>\n",
       "    <tr>\n",
       "      <th>4</th>\n",
       "      <td>1</td>\n",
       "      <td>74</td>\n",
       "      <td>9</td>\n",
       "      <td>1</td>\n",
       "      <td>0</td>\n",
       "      <td>4</td>\n",
       "      <td>True</td>\n",
       "      <td>False</td>\n",
       "      <td>False</td>\n",
       "      <td>True</td>\n",
       "      <td>...</td>\n",
       "      <td>84.09</td>\n",
       "      <td>0.71</td>\n",
       "      <td>0.0</td>\n",
       "      <td>40.00</td>\n",
       "      <td>25.00</td>\n",
       "      <td>-37.50</td>\n",
       "      <td>-20.00</td>\n",
       "      <td>-46.67</td>\n",
       "      <td>-33.33</td>\n",
       "      <td>D</td>\n",
       "    </tr>\n",
       "  </tbody>\n",
       "</table>\n",
       "<p>5 rows × 74 columns</p>\n",
       "</div>"
      ],
      "text/plain": [
       "   demo-genero  demo-edad  clin-reservaCognitiva_total  \\\n",
       "0            2         63                           13   \n",
       "1            2         56                           10   \n",
       "2            2         74                           15   \n",
       "3            2         80                            8   \n",
       "4            1         74                            9   \n",
       "\n",
       "   clin-reservaCognitiva_idiomas  clin-reservaCognitiva_ocupacion  \\\n",
       "0                              0                                1   \n",
       "1                              0                                2   \n",
       "2                              0                                2   \n",
       "3                              0                                0   \n",
       "4                              1                                0   \n",
       "\n",
       "   clin-reservaCognitiva_escolaridad  clin-ansiedad  clin-depresion  \\\n",
       "0                                  4           True            True   \n",
       "1                                  4           True           False   \n",
       "2                                  3           True            True   \n",
       "3                                  3           True           False   \n",
       "4                                  4           True           False   \n",
       "\n",
       "   clin-cardiopatiaIsquemica  clin-diabetes  ...  \\\n",
       "0                      False          False  ...   \n",
       "1                      False          False  ...   \n",
       "2                      False          False  ...   \n",
       "3                      False          False  ...   \n",
       "4                      False           True  ...   \n",
       "\n",
       "   eval-TLP-Tavec-25_Discriminabilidad-PD  eval-TLP-Tavec-26_Sesgo-PD  \\\n",
       "0                                  100.00                        0.00   \n",
       "1                                   90.91                       -0.60   \n",
       "2                                   84.09                        0.71   \n",
       "3                                   88.64                        0.20   \n",
       "4                                   84.09                        0.71   \n",
       "\n",
       "   eval-TLP-Tavec-27_RI_B_frente_RI_A1-PD  \\\n",
       "0                                   100.0   \n",
       "1                                   100.0   \n",
       "2                                    60.0   \n",
       "3                                    20.0   \n",
       "4                                     0.0   \n",
       "\n",
       "   eval-TLP-Tavec-28_RL_CP_frente_RI_A5-PD  \\\n",
       "0                                     0.00   \n",
       "1                                    14.29   \n",
       "2                                    42.86   \n",
       "3                                   175.00   \n",
       "4                                    40.00   \n",
       "\n",
       "   eval-TLP-Tavec-29_RCl_Cp_frente_RCl_LP-PD  \\\n",
       "0                                       7.14   \n",
       "1                                      28.57   \n",
       "2                                       0.00   \n",
       "3                                      12.50   \n",
       "4                                      25.00   \n",
       "\n",
       "   eval-TLP-Tavec-30_RL_LP_frente_RL_CP-PD  \\\n",
       "0                                     0.00   \n",
       "1                                    16.67   \n",
       "2                                   -12.50   \n",
       "3                                   -42.86   \n",
       "4                                   -37.50   \n",
       "\n",
       "   eval-TLP-Tavec-31_RCl_LP_frente_RL_LP-PD  \\\n",
       "0                                     -6.67   \n",
       "1                                    -33.33   \n",
       "2                                    -11.11   \n",
       "3                                    -22.22   \n",
       "4                                    -20.00   \n",
       "\n",
       "   eval-TLP-Tavec-32_Recon_Ac_frente_RL_LP-PD  \\\n",
       "0                                      -12.50   \n",
       "1                                      -50.00   \n",
       "2                                      -46.67   \n",
       "3                                      -50.00   \n",
       "4                                      -46.67   \n",
       "\n",
       "   eval-TLP-Tavec-33_Recon_Ac_frente_RCl_LP-PD  ED_2Clases  \n",
       "0                                        -6.25           H  \n",
       "1                                       -25.00           D  \n",
       "2                                       -40.00           D  \n",
       "3                                       -35.71           D  \n",
       "4                                       -33.33           D  \n",
       "\n",
       "[5 rows x 74 columns]"
      ]
     },
     "execution_count": 5,
     "metadata": {},
     "output_type": "execute_result"
    }
   ],
   "source": [
    "df.head()"
   ]
  },
  {
   "cell_type": "code",
   "execution_count": 6,
   "metadata": {},
   "outputs": [],
   "source": [
    "X = df.drop(columns=[\"ED_2Clases\"])\n",
    "y = df[\"ED_2Clases\"]\n",
    "categorical_features = X.select_dtypes(include=['object']).columns.tolist()"
   ]
  },
  {
   "cell_type": "code",
   "execution_count": 7,
   "metadata": {},
   "outputs": [
    {
     "data": {
      "text/plain": [
       "[]"
      ]
     },
     "execution_count": 7,
     "metadata": {},
     "output_type": "execute_result"
    }
   ],
   "source": [
    "categorical_features"
   ]
  },
  {
   "cell_type": "code",
   "execution_count": 8,
   "metadata": {},
   "outputs": [],
   "source": [
    "sm = SMOTE(\n",
    "    random_state=42,\n",
    "    sampling_strategy='minority'\n",
    "    )"
   ]
  },
  {
   "cell_type": "code",
   "execution_count": 9,
   "metadata": {},
   "outputs": [],
   "source": [
    "X_res, y_res = sm.fit_resample(X, y)"
   ]
  },
  {
   "cell_type": "code",
   "execution_count": 10,
   "metadata": {},
   "outputs": [],
   "source": [
    "df_resampled = pd.DataFrame(X_res, columns=X.columns)\n",
    "df_resampled[\"ED_2Clases\"] = y_res"
   ]
  },
  {
   "cell_type": "code",
   "execution_count": 11,
   "metadata": {},
   "outputs": [
    {
     "name": "stdout",
     "output_type": "stream",
     "text": [
      "Antes de SMOTE:\n",
      " ED_2Clases\n",
      "D    196\n",
      "H     55\n",
      "Name: count, dtype: int64\n",
      "Después de SMOTE:\n",
      " ED_2Clases\n",
      "H    196\n",
      "D    196\n",
      "Name: count, dtype: int64\n"
     ]
    }
   ],
   "source": [
    "print(\"Antes de SMOTE:\\n\", df[\"ED_2Clases\"].value_counts())\n",
    "print(\"Después de SMOTE:\\n\", df_resampled[\"ED_2Clases\"].value_counts())"
   ]
  },
  {
   "cell_type": "code",
   "execution_count": 12,
   "metadata": {},
   "outputs": [],
   "source": [
    "df_resampled.to_csv(\n",
    "    '../../data/tlp/synthetic-smote.csv',\n",
    "    index=False\n",
    ")"
   ]
  }
 ],
 "metadata": {
  "kernelspec": {
   "display_name": "Python 3",
   "language": "python",
   "name": "python3"
  },
  "language_info": {
   "codemirror_mode": {
    "name": "ipython",
    "version": 3
   },
   "file_extension": ".py",
   "mimetype": "text/x-python",
   "name": "python",
   "nbconvert_exporter": "python",
   "pygments_lexer": "ipython3",
   "version": "3.11.11"
  }
 },
 "nbformat": 4,
 "nbformat_minor": 2
}
