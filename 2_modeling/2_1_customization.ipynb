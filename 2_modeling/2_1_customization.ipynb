{
 "cells": [
  {
   "cell_type": "code",
   "execution_count": 15,
   "id": "4c52041e",
   "metadata": {},
   "outputs": [],
   "source": [
    "from copulas.univariate import Univariate\n",
    "import pandas as pd\n",
    "import json"
   ]
  },
  {
   "cell_type": "code",
   "execution_count": 16,
   "id": "9c4f3ba8",
   "metadata": {},
   "outputs": [],
   "source": [
    "dtype = {\n",
    "    \"ED_2Clases\": 'category',\n",
    "    #\"clin-reservaCognitiva_escolaridad\": 'category',\n",
    "    #\"demo-genero\": 'category'\n",
    "    }"
   ]
  },
  {
   "cell_type": "code",
   "execution_count": 17,
   "id": "782ad747",
   "metadata": {},
   "outputs": [],
   "source": [
    "df = pd.read_csv(f'../data/original/Identia_UNED_TLP_preprocessed.csv', dtype=dtype)\n"
   ]
  },
  {
   "cell_type": "code",
   "execution_count": 18,
   "id": "8d0a3e99",
   "metadata": {},
   "outputs": [
    {
     "name": "stdout",
     "output_type": "stream",
     "text": [
      "<class 'pandas.core.frame.DataFrame'>\n",
      "RangeIndex: 314 entries, 0 to 313\n",
      "Data columns (total 20 columns):\n",
      " #   Column                              Non-Null Count  Dtype   \n",
      "---  ------                              --------------  -----   \n",
      " 0   ED_2Clases                          314 non-null    category\n",
      " 1   clin-reservaCognitiva_escolaridad   314 non-null    int64   \n",
      " 2   demo-edad                           314 non-null    int64   \n",
      " 3   demo-genero                         314 non-null    int64   \n",
      " 4   eval-TLP-CubCorsi-totalDirectos-PD  314 non-null    float64 \n",
      " 5   eval-TLP-CubCorsi-totalinversos-PD  314 non-null    float64 \n",
      " 6   eval-TLP-CubCorsi-total-PD          314 non-null    float64 \n",
      " 7   eval-TLP-FigRey-Duracion-PD         314 non-null    float64 \n",
      " 8   eval-TLP-FigRey-totalCopia-PD       314 non-null    float64 \n",
      " 9   eval-TLP-FigRey-totalMemoria-PD     314 non-null    float64 \n",
      " 10  eval-TLP-Stroop-palabras-PD         314 non-null    float64 \n",
      " 11  eval-TLP-Stroop-color-PD            314 non-null    float64 \n",
      " 12  eval-TLP-Stroop-palabrasColor-PD    314 non-null    float64 \n",
      " 13  eval-TLP-Tavec-1_RI_A1-PD           314 non-null    float64 \n",
      " 14  eval-TLP-Tavec-10_RL_LP-PD          314 non-null    float64 \n",
      " 15  eval-TLP-Tavec-11_RCl_LP-PD         314 non-null    float64 \n",
      " 16  eval-TLP-Tavec-2_RI_A5-PD           314 non-null    float64 \n",
      " 17  eval-TLP-Tavec-3_RI_AT-PD           314 non-null    float64 \n",
      " 18  eval-TLP-Tavec-8_RL_CP-PD           314 non-null    float64 \n",
      " 19  eval-TLP-Tavec-9_RCl_CP-PD          314 non-null    float64 \n",
      "dtypes: category(1), float64(16), int64(3)\n",
      "memory usage: 47.1 KB\n"
     ]
    }
   ],
   "source": [
    "df.info()"
   ]
  },
  {
   "cell_type": "code",
   "execution_count": 19,
   "id": "9775137f",
   "metadata": {},
   "outputs": [],
   "source": [
    "map_distribution = {\n",
    "    \"copulas.univariate.gaussian_kde.GaussianKDE\": \"gaussian_kde\",\n",
    "    \"copulas.univariate.gamma.GammaUnivariate\": \"gamma\",\n",
    "    \"copulas.univariate.beta.BetaUnivariate\": \"beta\",\n",
    "    \"copulas.univariate.gaussian.GaussianUnivariate\": \"gaussian_kde\"\n",
    "}"
   ]
  },
  {
   "cell_type": "code",
   "execution_count": 20,
   "id": "5fe03e6a",
   "metadata": {},
   "outputs": [
    {
     "name": "stderr",
     "output_type": "stream",
     "text": [
      "c:\\Users\\jgala\\uned\\tfm\\synthetic-data\\.conda\\Lib\\site-packages\\scipy\\stats\\_continuous_distns.py:716: RuntimeWarning: invalid value encountered in sqrt\n",
      "  sk = 2*(b-a)*np.sqrt(a + b + 1) / (a + b + 2) / np.sqrt(a*b)\n",
      "c:\\Users\\jgala\\uned\\tfm\\synthetic-data\\.conda\\Lib\\site-packages\\scipy\\stats\\_continuous_distns.py:721: RuntimeWarning: The iteration is not making good progress, as measured by the \n",
      "  improvement from the last ten iterations.\n",
      "  a, b = optimize.fsolve(func, (1.0, 1.0))\n",
      "c:\\Users\\jgala\\uned\\tfm\\synthetic-data\\.conda\\Lib\\site-packages\\scipy\\stats\\_continuous_distns.py:721: RuntimeWarning: The iteration is not making good progress, as measured by the \n",
      "  improvement from the last ten iterations.\n",
      "  a, b = optimize.fsolve(func, (1.0, 1.0))\n",
      "c:\\Users\\jgala\\uned\\tfm\\synthetic-data\\.conda\\Lib\\site-packages\\scipy\\stats\\_continuous_distns.py:716: RuntimeWarning: invalid value encountered in sqrt\n",
      "  sk = 2*(b-a)*np.sqrt(a + b + 1) / (a + b + 2) / np.sqrt(a*b)\n",
      "c:\\Users\\jgala\\uned\\tfm\\synthetic-data\\.conda\\Lib\\site-packages\\scipy\\stats\\_continuous_distns.py:716: RuntimeWarning: invalid value encountered in sqrt\n",
      "  sk = 2*(b-a)*np.sqrt(a + b + 1) / (a + b + 2) / np.sqrt(a*b)\n",
      "c:\\Users\\jgala\\uned\\tfm\\synthetic-data\\.conda\\Lib\\site-packages\\scipy\\stats\\_continuous_distns.py:716: RuntimeWarning: invalid value encountered in sqrt\n",
      "  sk = 2*(b-a)*np.sqrt(a + b + 1) / (a + b + 2) / np.sqrt(a*b)\n",
      "c:\\Users\\jgala\\uned\\tfm\\synthetic-data\\.conda\\Lib\\site-packages\\scipy\\stats\\_continuous_distns.py:721: RuntimeWarning: The iteration is not making good progress, as measured by the \n",
      "  improvement from the last ten iterations.\n",
      "  a, b = optimize.fsolve(func, (1.0, 1.0))\n",
      "c:\\Users\\jgala\\uned\\tfm\\synthetic-data\\.conda\\Lib\\site-packages\\scipy\\stats\\_continuous_distns.py:716: RuntimeWarning: invalid value encountered in sqrt\n",
      "  sk = 2*(b-a)*np.sqrt(a + b + 1) / (a + b + 2) / np.sqrt(a*b)\n",
      "c:\\Users\\jgala\\uned\\tfm\\synthetic-data\\.conda\\Lib\\site-packages\\scipy\\stats\\_continuous_distns.py:721: RuntimeWarning: The iteration is not making good progress, as measured by the \n",
      "  improvement from the last ten iterations.\n",
      "  a, b = optimize.fsolve(func, (1.0, 1.0))\n",
      "c:\\Users\\jgala\\uned\\tfm\\synthetic-data\\.conda\\Lib\\site-packages\\scipy\\stats\\_continuous_distns.py:716: RuntimeWarning: invalid value encountered in sqrt\n",
      "  sk = 2*(b-a)*np.sqrt(a + b + 1) / (a + b + 2) / np.sqrt(a*b)\n",
      "c:\\Users\\jgala\\uned\\tfm\\synthetic-data\\.conda\\Lib\\site-packages\\scipy\\stats\\_continuous_distns.py:721: RuntimeWarning: The iteration is not making good progress, as measured by the \n",
      "  improvement from the last ten iterations.\n",
      "  a, b = optimize.fsolve(func, (1.0, 1.0))\n",
      "c:\\Users\\jgala\\uned\\tfm\\synthetic-data\\.conda\\Lib\\site-packages\\scipy\\stats\\_continuous_distns.py:716: RuntimeWarning: invalid value encountered in sqrt\n",
      "  sk = 2*(b-a)*np.sqrt(a + b + 1) / (a + b + 2) / np.sqrt(a*b)\n",
      "c:\\Users\\jgala\\uned\\tfm\\synthetic-data\\.conda\\Lib\\site-packages\\scipy\\stats\\_continuous_distns.py:721: RuntimeWarning: The iteration is not making good progress, as measured by the \n",
      "  improvement from the last ten iterations.\n",
      "  a, b = optimize.fsolve(func, (1.0, 1.0))\n",
      "c:\\Users\\jgala\\uned\\tfm\\synthetic-data\\.conda\\Lib\\site-packages\\scipy\\stats\\_continuous_distns.py:716: RuntimeWarning: invalid value encountered in sqrt\n",
      "  sk = 2*(b-a)*np.sqrt(a + b + 1) / (a + b + 2) / np.sqrt(a*b)\n",
      "c:\\Users\\jgala\\uned\\tfm\\synthetic-data\\.conda\\Lib\\site-packages\\scipy\\stats\\_continuous_distns.py:716: RuntimeWarning: invalid value encountered in sqrt\n",
      "  sk = 2*(b-a)*np.sqrt(a + b + 1) / (a + b + 2) / np.sqrt(a*b)\n",
      "c:\\Users\\jgala\\uned\\tfm\\synthetic-data\\.conda\\Lib\\site-packages\\scipy\\stats\\_continuous_distns.py:721: RuntimeWarning: The iteration is not making good progress, as measured by the \n",
      "  improvement from the last ten iterations.\n",
      "  a, b = optimize.fsolve(func, (1.0, 1.0))\n"
     ]
    }
   ],
   "source": [
    "# Supongamos que ya tienes tu DataFrame llamado `df`\n",
    "synth_data = pd.DataFrame()\n",
    "distributions = {}\n",
    "\n",
    "for col in df.select_dtypes(include=['float64', 'int64']).columns:\n",
    "    real_data = df[col]\n",
    "    univariate = Univariate()\n",
    "    univariate.fit(real_data)\n",
    "    synth_data[col] = univariate.sample(len(real_data))\n",
    "    distributions[col] = map_distribution[univariate.to_dict()['type']]"
   ]
  },
  {
   "cell_type": "code",
   "execution_count": 21,
   "id": "2c087b38",
   "metadata": {},
   "outputs": [
    {
     "data": {
      "text/plain": [
       "{'clin-reservaCognitiva_escolaridad': 'gaussian_kde',\n",
       " 'demo-edad': 'gaussian_kde',\n",
       " 'demo-genero': 'gaussian_kde',\n",
       " 'eval-TLP-CubCorsi-totalDirectos-PD': 'gaussian_kde',\n",
       " 'eval-TLP-CubCorsi-totalinversos-PD': 'gamma',\n",
       " 'eval-TLP-CubCorsi-total-PD': 'gaussian_kde',\n",
       " 'eval-TLP-FigRey-Duracion-PD': 'beta',\n",
       " 'eval-TLP-FigRey-totalCopia-PD': 'gaussian_kde',\n",
       " 'eval-TLP-FigRey-totalMemoria-PD': 'gaussian_kde',\n",
       " 'eval-TLP-Stroop-palabras-PD': 'gaussian_kde',\n",
       " 'eval-TLP-Stroop-color-PD': 'gaussian_kde',\n",
       " 'eval-TLP-Stroop-palabrasColor-PD': 'gaussian_kde',\n",
       " 'eval-TLP-Tavec-1_RI_A1-PD': 'gaussian_kde',\n",
       " 'eval-TLP-Tavec-10_RL_LP-PD': 'gaussian_kde',\n",
       " 'eval-TLP-Tavec-11_RCl_LP-PD': 'gaussian_kde',\n",
       " 'eval-TLP-Tavec-2_RI_A5-PD': 'gaussian_kde',\n",
       " 'eval-TLP-Tavec-3_RI_AT-PD': 'gaussian_kde',\n",
       " 'eval-TLP-Tavec-8_RL_CP-PD': 'gaussian_kde',\n",
       " 'eval-TLP-Tavec-9_RCl_CP-PD': 'gaussian_kde'}"
      ]
     },
     "execution_count": 21,
     "metadata": {},
     "output_type": "execute_result"
    }
   ],
   "source": [
    "distributions"
   ]
  },
  {
   "cell_type": "code",
   "execution_count": 22,
   "id": "3be85921",
   "metadata": {},
   "outputs": [],
   "source": [
    "with open('distributions.json', 'w') as f:\n",
    "   json.dump(distributions, f, indent=4)"
   ]
  },
  {
   "cell_type": "code",
   "execution_count": 23,
   "id": "1832b218",
   "metadata": {},
   "outputs": [
    {
     "name": "stdout",
     "output_type": "stream",
     "text": [
      "{'constraint_class': 'ScalarRange', 'table_name': 'TLP', 'constraint_parameters': {'column_name': 'clin-reservaCognitiva_escolaridad', 'low_value': 0, 'high_value': 5, 'strict_boundaries': False}}\n",
      "{'constraint_class': 'ScalarRange', 'table_name': 'TLP', 'constraint_parameters': {'column_name': 'demo-edad', 'low_value': 18, 'high_value': 100, 'strict_boundaries': False}}\n",
      "{'constraint_class': 'ScalarRange', 'table_name': 'TLP', 'constraint_parameters': {'column_name': 'demo-genero', 'low_value': 1, 'high_value': 2, 'strict_boundaries': False}}\n",
      "{'constraint_class': 'ScalarRange', 'table_name': 'TLP', 'constraint_parameters': {'column_name': 'eval-TLP-CubCorsi-totalDirectos-PD', 'low_value': 0.0, 'high_value': 1.0, 'strict_boundaries': False}}\n",
      "{'constraint_class': 'ScalarRange', 'table_name': 'TLP', 'constraint_parameters': {'column_name': 'eval-TLP-CubCorsi-totalinversos-PD', 'low_value': 0.0, 'high_value': 1.0, 'strict_boundaries': False}}\n",
      "{'constraint_class': 'ScalarRange', 'table_name': 'TLP', 'constraint_parameters': {'column_name': 'eval-TLP-CubCorsi-total-PD', 'low_value': 0.0, 'high_value': 1.0, 'strict_boundaries': False}}\n",
      "{'constraint_class': 'ScalarRange', 'table_name': 'TLP', 'constraint_parameters': {'column_name': 'eval-TLP-FigRey-Duracion-PD', 'low_value': 0.0, 'high_value': 1.0, 'strict_boundaries': False}}\n",
      "{'constraint_class': 'ScalarRange', 'table_name': 'TLP', 'constraint_parameters': {'column_name': 'eval-TLP-FigRey-totalCopia-PD', 'low_value': 0.0, 'high_value': 1.0, 'strict_boundaries': False}}\n",
      "{'constraint_class': 'ScalarRange', 'table_name': 'TLP', 'constraint_parameters': {'column_name': 'eval-TLP-FigRey-totalMemoria-PD', 'low_value': 0.0, 'high_value': 1.0, 'strict_boundaries': False}}\n",
      "{'constraint_class': 'ScalarRange', 'table_name': 'TLP', 'constraint_parameters': {'column_name': 'eval-TLP-Stroop-palabras-PD', 'low_value': 0.0, 'high_value': 1.0, 'strict_boundaries': False}}\n",
      "{'constraint_class': 'ScalarRange', 'table_name': 'TLP', 'constraint_parameters': {'column_name': 'eval-TLP-Stroop-color-PD', 'low_value': 0.0, 'high_value': 1.0, 'strict_boundaries': False}}\n",
      "{'constraint_class': 'ScalarRange', 'table_name': 'TLP', 'constraint_parameters': {'column_name': 'eval-TLP-Stroop-palabrasColor-PD', 'low_value': 0.0, 'high_value': 1.0, 'strict_boundaries': False}}\n",
      "{'constraint_class': 'ScalarRange', 'table_name': 'TLP', 'constraint_parameters': {'column_name': 'eval-TLP-Tavec-1_RI_A1-PD', 'low_value': 0.0, 'high_value': 1.0, 'strict_boundaries': False}}\n",
      "{'constraint_class': 'ScalarRange', 'table_name': 'TLP', 'constraint_parameters': {'column_name': 'eval-TLP-Tavec-10_RL_LP-PD', 'low_value': 0.0, 'high_value': 1.0, 'strict_boundaries': False}}\n",
      "{'constraint_class': 'ScalarRange', 'table_name': 'TLP', 'constraint_parameters': {'column_name': 'eval-TLP-Tavec-11_RCl_LP-PD', 'low_value': 0.0, 'high_value': 1.0, 'strict_boundaries': False}}\n",
      "{'constraint_class': 'ScalarRange', 'table_name': 'TLP', 'constraint_parameters': {'column_name': 'eval-TLP-Tavec-2_RI_A5-PD', 'low_value': 0.0, 'high_value': 1.0, 'strict_boundaries': False}}\n",
      "{'constraint_class': 'ScalarRange', 'table_name': 'TLP', 'constraint_parameters': {'column_name': 'eval-TLP-Tavec-3_RI_AT-PD', 'low_value': 0.0, 'high_value': 1.0, 'strict_boundaries': False}}\n",
      "{'constraint_class': 'ScalarRange', 'table_name': 'TLP', 'constraint_parameters': {'column_name': 'eval-TLP-Tavec-8_RL_CP-PD', 'low_value': 0.0, 'high_value': 1.0, 'strict_boundaries': False}}\n",
      "{'constraint_class': 'ScalarRange', 'table_name': 'TLP', 'constraint_parameters': {'column_name': 'eval-TLP-Tavec-9_RCl_CP-PD', 'low_value': 0.0, 'high_value': 1.0, 'strict_boundaries': False}}\n"
     ]
    }
   ],
   "source": [
    "constraints = []\n",
    "\n",
    "for col in df.columns:\n",
    "    if col == 'ED_2Clases':\n",
    "        continue\n",
    "    if col == 'demo-edad':\n",
    "        # Para la edad, se establece un rango de 18 a 100 años\n",
    "        my_constraint = {\n",
    "            'constraint_class': 'ScalarRange',\n",
    "            'table_name': 'TLP',\n",
    "            'constraint_parameters': {\n",
    "                'column_name': col,\n",
    "                'low_value': 18,\n",
    "                'high_value': 100,\n",
    "                'strict_boundaries': False\n",
    "            }\n",
    "        }\n",
    "        constraints.append(my_constraint)\n",
    "    elif col == 'clin-reservaCognitiva_escolaridad':\n",
    "        # Para la escolaridad, se establece un rango de 0 a 5\n",
    "        my_constraint = {\n",
    "            'constraint_class': 'ScalarRange',\n",
    "            'table_name': 'TLP',\n",
    "            'constraint_parameters': {\n",
    "                'column_name': col,\n",
    "                'low_value': 0,\n",
    "                'high_value': 5,\n",
    "                'strict_boundaries': False\n",
    "            }\n",
    "        }\n",
    "        constraints.append(my_constraint)\n",
    "    elif col == 'demo-genero':\n",
    "        # Para el género, se establece un rango de 1 a 2\n",
    "        my_constraint = {\n",
    "            'constraint_class': 'ScalarRange',\n",
    "            'table_name': 'TLP',\n",
    "            'constraint_parameters': {\n",
    "                'column_name': col,\n",
    "                'low_value': 1,\n",
    "                'high_value': 2,\n",
    "                'strict_boundaries': False\n",
    "            }\n",
    "        }\n",
    "        constraints.append(my_constraint)\n",
    "    else:\n",
    "        min_val = df[col].min()\n",
    "        max_val = df[col].max()\n",
    "        my_constraint = {\n",
    "        'constraint_class': 'ScalarRange',\n",
    "        'table_name': 'TLP',\n",
    "        'constraint_parameters': {\n",
    "            'column_name': col,\n",
    "            'low_value': min_val,\n",
    "            'high_value': max_val,\n",
    "            'strict_boundaries': False\n",
    "            }\n",
    "        }\n",
    "        constraints.append(my_constraint)\n",
    "\n",
    "# Ver ejemplo de las constraints generadas\n",
    "for c in constraints:\n",
    "    print(c)\n"
   ]
  },
  {
   "cell_type": "code",
   "execution_count": 24,
   "id": "2bee7656",
   "metadata": {},
   "outputs": [],
   "source": [
    "with open('constraints.json', 'w') as f:\n",
    "   json.dump(constraints, f, indent=4)"
   ]
  }
 ],
 "metadata": {
  "kernelspec": {
   "display_name": "Python 3",
   "language": "python",
   "name": "python3"
  },
  "language_info": {
   "codemirror_mode": {
    "name": "ipython",
    "version": 3
   },
   "file_extension": ".py",
   "mimetype": "text/x-python",
   "name": "python",
   "nbconvert_exporter": "python",
   "pygments_lexer": "ipython3",
   "version": "3.11.11"
  }
 },
 "nbformat": 4,
 "nbformat_minor": 5
}
