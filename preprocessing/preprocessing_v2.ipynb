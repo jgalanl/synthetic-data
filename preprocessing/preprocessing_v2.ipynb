{
 "cells": [
  {
   "cell_type": "code",
   "execution_count": 9,
   "metadata": {},
   "outputs": [],
   "source": [
    "import pandas as pd\n",
    "from sklearn.model_selection import train_test_split"
   ]
  },
  {
   "cell_type": "code",
   "execution_count": 10,
   "metadata": {},
   "outputs": [],
   "source": [
    "CONS_TEST_SIZE = 0.2\n",
    "CONS_RANDOM_STATE = 42"
   ]
  },
  {
   "cell_type": "markdown",
   "metadata": {},
   "source": [
    "Load data"
   ]
  },
  {
   "cell_type": "code",
   "execution_count": 11,
   "metadata": {},
   "outputs": [],
   "source": [
    "df = pd.read_excel(\n",
    "    '../data/original/Identia_UNED_TLP_Clean.xlsx'\n",
    ")"
   ]
  },
  {
   "cell_type": "code",
   "execution_count": 12,
   "metadata": {},
   "outputs": [
    {
     "data": {
      "application/vnd.microsoft.datawrangler.viewer.v0+json": {
       "columns": [
        {
         "name": "index",
         "rawType": "int64",
         "type": "integer"
        },
        {
         "name": "etiq-id2",
         "rawType": "object",
         "type": "string"
        },
        {
         "name": "etiq-diagExpTLP_R2",
         "rawType": "object",
         "type": "string"
        },
        {
         "name": "demo-genero",
         "rawType": "int64",
         "type": "integer"
        },
        {
         "name": "demo-rangoEdad",
         "rawType": "float64",
         "type": "float"
        },
        {
         "name": "demo-edad",
         "rawType": "float64",
         "type": "float"
        },
        {
         "name": "clin-reservaCognitiva_total",
         "rawType": "float64",
         "type": "float"
        },
        {
         "name": "clin-reservaCognitiva_idiomas",
         "rawType": "float64",
         "type": "float"
        },
        {
         "name": "clin-reservaCognitiva_ocupacion",
         "rawType": "float64",
         "type": "float"
        },
        {
         "name": "clin-reservaCognitiva_escolaridad",
         "rawType": "float64",
         "type": "float"
        },
        {
         "name": "clin-reservaCognitiva_escolaridadPadres",
         "rawType": "float64",
         "type": "float"
        },
        {
         "name": "clin-reservaCognitiva_cursos",
         "rawType": "float64",
         "type": "float"
        },
        {
         "name": "clin-reservaCognitiva_formacionMusical",
         "rawType": "float64",
         "type": "float"
        },
        {
         "name": "clin-reservaCognitiva_actividadLectora",
         "rawType": "float64",
         "type": "float"
        },
        {
         "name": "clin-reservaCognitiva_juegos",
         "rawType": "float64",
         "type": "float"
        },
        {
         "name": "clin-ansiedad",
         "rawType": "int64",
         "type": "integer"
        },
        {
         "name": "clin-depresion",
         "rawType": "int64",
         "type": "integer"
        },
        {
         "name": "clin-cardiopatiaIsquemica",
         "rawType": "int64",
         "type": "integer"
        },
        {
         "name": "clin-diabetes",
         "rawType": "int64",
         "type": "integer"
        },
        {
         "name": "clin-Hipercolesterolemia",
         "rawType": "int64",
         "type": "integer"
        },
        {
         "name": "clin-Hipertension",
         "rawType": "int64",
         "type": "integer"
        },
        {
         "name": "clin-enfermedadesAltTiroides",
         "rawType": "int64",
         "type": "integer"
        },
        {
         "name": "clin-enfermedadesRenal",
         "rawType": "int64",
         "type": "integer"
        },
        {
         "name": "clin-enfermedadesHepatica",
         "rawType": "int64",
         "type": "integer"
        },
        {
         "name": "clin-enfermedadesAntecedentesCardiacos",
         "rawType": "int64",
         "type": "integer"
        },
        {
         "name": "clin-tratCronico",
         "rawType": "int64",
         "type": "integer"
        },
        {
         "name": "clin-tratPsicologico",
         "rawType": "int64",
         "type": "integer"
        },
        {
         "name": "clin-tratPsiquiatrico",
         "rawType": "int64",
         "type": "integer"
        },
        {
         "name": "clin-familiaresAlzheimer",
         "rawType": "int64",
         "type": "integer"
        },
        {
         "name": "clin-familiaresOtraDemencia",
         "rawType": "int64",
         "type": "integer"
        },
        {
         "name": "clin-Bebedor_alcohol",
         "rawType": "int64",
         "type": "integer"
        },
        {
         "name": "clin-entornoUrbano",
         "rawType": "int64",
         "type": "integer"
        },
        {
         "name": "clin-Covid_vacunado",
         "rawType": "int64",
         "type": "integer"
        },
        {
         "name": "clin-Covid_numDosis",
         "rawType": "float64",
         "type": "float"
        },
        {
         "name": "clin-Covid_pasadoCovid",
         "rawType": "int64",
         "type": "integer"
        },
        {
         "name": "clin-Covid_numVecesCovid",
         "rawType": "float64",
         "type": "float"
        },
        {
         "name": "clin-Covid_sintomaDifRespirar",
         "rawType": "int64",
         "type": "integer"
        },
        {
         "name": "clin-Covid_sintomaDolMuscular",
         "rawType": "int64",
         "type": "integer"
        },
        {
         "name": "clin-Covid_sintomaEscalofrios",
         "rawType": "int64",
         "type": "integer"
        },
        {
         "name": "clin-Covid_sintomaDolGarganta",
         "rawType": "int64",
         "type": "integer"
        },
        {
         "name": "clin-Covid_sintomaFiebre",
         "rawType": "int64",
         "type": "integer"
        },
        {
         "name": "clin-Covid_sintomaDolCabeza",
         "rawType": "int64",
         "type": "integer"
        },
        {
         "name": "clin-Covid_sintomaDiarrea",
         "rawType": "int64",
         "type": "integer"
        },
        {
         "name": "clin-Covid_sintomaPerOlfato",
         "rawType": "int64",
         "type": "integer"
        },
        {
         "name": "clin-Covid_sintomaPerGusto",
         "rawType": "int64",
         "type": "integer"
        },
        {
         "name": "clin-Covid_sintomaCansancio",
         "rawType": "int64",
         "type": "integer"
        },
        {
         "name": "clin-Covid_sentimientoAislado",
         "rawType": "float64",
         "type": "float"
        },
        {
         "name": "clin-nivelSociabilidad",
         "rawType": "float64",
         "type": "float"
        },
        {
         "name": "clin-nivelActFisica",
         "rawType": "float64",
         "type": "float"
        },
        {
         "name": "clin-frecUsoOrdenador",
         "rawType": "float64",
         "type": "float"
        },
        {
         "name": "clin-frecUsoMovil",
         "rawType": "float64",
         "type": "float"
        },
        {
         "name": "clin-frecUsoTele",
         "rawType": "float64",
         "type": "float"
        },
        {
         "name": "clin-frecUsoEmail",
         "rawType": "float64",
         "type": "float"
        },
        {
         "name": "clin-frecUsoRSociales",
         "rawType": "float64",
         "type": "float"
        },
        {
         "name": "clin-frecOlvidos",
         "rawType": "float64",
         "type": "float"
        },
        {
         "name": "clin-consumoAlcohol_UBEsemanal",
         "rawType": "float64",
         "type": "float"
        },
        {
         "name": "clin-tipoFumador",
         "rawType": "float64",
         "type": "float"
        },
        {
         "name": "ques-QuejasMemo-Total-PD",
         "rawType": "float64",
         "type": "float"
        },
        {
         "name": "ques-NavEspacial-All-PD",
         "rawType": "float64",
         "type": "float"
        },
        {
         "name": "ques-NavEspacial-resultadosWFQ_NO-PD",
         "rawType": "float64",
         "type": "float"
        },
        {
         "name": "ques-NavEspacial-resultadosWFQ_SA-PD",
         "rawType": "float64",
         "type": "float"
        },
        {
         "name": "ques-NavEspacial-resultadosWFQ_DE-PD",
         "rawType": "float64",
         "type": "float"
        },
        {
         "name": "ques-Sus-totalPar-PD",
         "rawType": "float64",
         "type": "float"
        },
        {
         "name": "ques-Sus-totalImpar-PD",
         "rawType": "float64",
         "type": "float"
        },
        {
         "name": "ques-Sus-total-PD",
         "rawType": "float64",
         "type": "float"
        },
        {
         "name": "ques-MMSE-Total-PD",
         "rawType": "float64",
         "type": "float"
        },
        {
         "name": "ques-MMSE-concentracion-PD",
         "rawType": "float64",
         "type": "float"
        },
        {
         "name": "ques-MMSE-fijacion-PD",
         "rawType": "int64",
         "type": "integer"
        },
        {
         "name": "ques-MMSE-lenguaje-PD",
         "rawType": "float64",
         "type": "float"
        },
        {
         "name": "ques-MMSE-memoria-PD",
         "rawType": "float64",
         "type": "float"
        },
        {
         "name": "ques-MMSE-orientacion-PD",
         "rawType": "float64",
         "type": "float"
        },
        {
         "name": "ques-MMSE-escolaridad-PD",
         "rawType": "float64",
         "type": "float"
        },
        {
         "name": "eval-TLP-CubCorsi-totalDirectos-PD",
         "rawType": "float64",
         "type": "float"
        },
        {
         "name": "eval-TLP-CubCorsi-totalDirectos-PZ",
         "rawType": "float64",
         "type": "float"
        },
        {
         "name": "eval-TLP-CubCorsi-totalinversos-PD",
         "rawType": "float64",
         "type": "float"
        },
        {
         "name": "eval-TLP-CubCorsi-totalinversos-PZ",
         "rawType": "float64",
         "type": "float"
        },
        {
         "name": "eval-TLP-CubCorsi-total-PD",
         "rawType": "float64",
         "type": "float"
        },
        {
         "name": "eval-TLP-CubCorsi-total-PZ",
         "rawType": "float64",
         "type": "float"
        },
        {
         "name": "eval-TLP-FigRey-tipoCopia-PD",
         "rawType": "float64",
         "type": "float"
        },
        {
         "name": "eval-TLP-FigRey-totalCopia-PD",
         "rawType": "float64",
         "type": "float"
        },
        {
         "name": "eval-TLP-FigRey-totalCopia-PZ",
         "rawType": "float64",
         "type": "float"
        },
        {
         "name": "eval-TLP-FigRey-totalMemoria-PD",
         "rawType": "float64",
         "type": "float"
        },
        {
         "name": "eval-TLP-FigRey-totalMemoria-PZ",
         "rawType": "float64",
         "type": "float"
        },
        {
         "name": "eval-TLP-FigRey-Duracion-PD",
         "rawType": "float64",
         "type": "float"
        },
        {
         "name": "eval-TLP-FigRey-Duracion-PZ",
         "rawType": "float64",
         "type": "float"
        },
        {
         "name": "eval-TLP-Stroop-p2_color-PD",
         "rawType": "float64",
         "type": "float"
        },
        {
         "name": "eval-TLP-Stroop-p2_color-PDC",
         "rawType": "float64",
         "type": "float"
        },
        {
         "name": "eval-TLP-Stroop-p2_color-PZ",
         "rawType": "float64",
         "type": "float"
        },
        {
         "name": "eval-TLP-Stroop-p1_palabras-PD",
         "rawType": "float64",
         "type": "float"
        },
        {
         "name": "eval-TLP-Stroop-p1_palabras-PDC",
         "rawType": "float64",
         "type": "float"
        },
        {
         "name": "eval-TLP-Stroop-p1_palabras-PZ",
         "rawType": "float64",
         "type": "float"
        },
        {
         "name": "eval-TLP-Stroop-p3_palabrasColor-PD",
         "rawType": "float64",
         "type": "float"
        },
        {
         "name": "eval-TLP-Stroop-p3_palabrasColor-PDC",
         "rawType": "float64",
         "type": "float"
        },
        {
         "name": "eval-TLP-Stroop-p3_palabrasColor-PZ",
         "rawType": "float64",
         "type": "float"
        },
        {
         "name": "eval-TLP-Stroop-interferencia-PDC",
         "rawType": "float64",
         "type": "float"
        },
        {
         "name": "eval-TLP-Stroop-interferencia-PZ",
         "rawType": "float64",
         "type": "float"
        },
        {
         "name": "eval-TLP-Tavec-1_RI_A1-PD",
         "rawType": "float64",
         "type": "float"
        },
        {
         "name": "eval-TLP-Tavec-1_RI_A1-PZ",
         "rawType": "float64",
         "type": "float"
        },
        {
         "name": "eval-TLP-Tavec-2_RI_A5-PD",
         "rawType": "float64",
         "type": "float"
        },
        {
         "name": "eval-TLP-Tavec-2_RI_A5-PZ",
         "rawType": "float64",
         "type": "float"
        },
        {
         "name": "eval-TLP-Tavec-3_RI_AT-PD",
         "rawType": "float64",
         "type": "float"
        },
        {
         "name": "eval-TLP-Tavec-3_RI_AT-PZ",
         "rawType": "float64",
         "type": "float"
        },
        {
         "name": "eval-TLP-Tavec-4_RI_B-PD",
         "rawType": "float64",
         "type": "float"
        },
        {
         "name": "eval-TLP-Tavec-4_RI_B-PZ",
         "rawType": "float64",
         "type": "float"
        },
        {
         "name": "eval-TLP-Tavec-5_Rg_Pr-PD",
         "rawType": "float64",
         "type": "float"
        },
        {
         "name": "eval-TLP-Tavec-5_Rg_Pr-PZ",
         "rawType": "float64",
         "type": "float"
        },
        {
         "name": "eval-TLP-Tavec-6_Rg_Md-PD",
         "rawType": "float64",
         "type": "float"
        },
        {
         "name": "eval-TLP-Tavec-6_Rg_Md-PZ",
         "rawType": "float64",
         "type": "float"
        },
        {
         "name": "eval-TLP-Tavec-7_Rg_Rc-PD",
         "rawType": "float64",
         "type": "float"
        },
        {
         "name": "eval-TLP-Tavec-7_Rg_Rc-PZ",
         "rawType": "float64",
         "type": "float"
        },
        {
         "name": "eval-TLP-Tavec-8_RL_CP-PD",
         "rawType": "float64",
         "type": "float"
        },
        {
         "name": "eval-TLP-Tavec-8_RL_CP-PZ",
         "rawType": "float64",
         "type": "float"
        },
        {
         "name": "eval-TLP-Tavec-9_RCl_CP-PD",
         "rawType": "float64",
         "type": "float"
        },
        {
         "name": "eval-TLP-Tavec-9_RCl_CP-PZ",
         "rawType": "float64",
         "type": "float"
        },
        {
         "name": "eval-TLP-Tavec-10_RL_LP-PD",
         "rawType": "float64",
         "type": "float"
        },
        {
         "name": "eval-TLP-Tavec-10_RL_LP-PZ",
         "rawType": "float64",
         "type": "float"
        },
        {
         "name": "eval-TLP-Tavec-11_RCl_LP-PD",
         "rawType": "float64",
         "type": "float"
        },
        {
         "name": "eval-TLP-Tavec-11_RCl_LP-PZ",
         "rawType": "float64",
         "type": "float"
        },
        {
         "name": "eval-TLP-Tavec-12_ESem_RI_A-PD",
         "rawType": "float64",
         "type": "float"
        },
        {
         "name": "eval-TLP-Tavec-12_ESem_RI_A-PZ",
         "rawType": "float64",
         "type": "float"
        },
        {
         "name": "eval-TLP-Tavec-13_ESem_RI_B-PD",
         "rawType": "float64",
         "type": "float"
        },
        {
         "name": "eval-TLP-Tavec-13_ESem_RI_B-PZ",
         "rawType": "float64",
         "type": "float"
        },
        {
         "name": "eval-TLP-Tavec-14_ESem_RL_CP-PD",
         "rawType": "float64",
         "type": "float"
        },
        {
         "name": "eval-TLP-Tavec-14_ESem_RL_CP-PZ",
         "rawType": "float64",
         "type": "float"
        },
        {
         "name": "eval-TLP-Tavec-15_ESem_RL_LP-PD",
         "rawType": "float64",
         "type": "float"
        },
        {
         "name": "eval-TLP-Tavec-15_ESem_RL_LP-PZ",
         "rawType": "float64",
         "type": "float"
        },
        {
         "name": "eval-TLP-Tavec-16_ESer_RI_A-PD",
         "rawType": "float64",
         "type": "float"
        },
        {
         "name": "eval-TLP-Tavec-16_ESer_RI_A-PZ",
         "rawType": "float64",
         "type": "float"
        },
        {
         "name": "eval-TLP-Tavec-17_ESer_RI_B-PD",
         "rawType": "float64",
         "type": "float"
        },
        {
         "name": "eval-TLP-Tavec-17_ESer_RI_B-PZ",
         "rawType": "float64",
         "type": "float"
        },
        {
         "name": "eval-TLP-Tavec-18_ESer_RL_CP-PD",
         "rawType": "float64",
         "type": "float"
        },
        {
         "name": "eval-TLP-Tavec-18_ESer_RL_CP-PZ",
         "rawType": "float64",
         "type": "float"
        },
        {
         "name": "eval-TLP-Tavec-19_ESer_RL_LP-PD",
         "rawType": "float64",
         "type": "float"
        },
        {
         "name": "eval-TLP-Tavec-19_ESer_RL_LP-PZ",
         "rawType": "float64",
         "type": "float"
        },
        {
         "name": "eval-TLP-Tavec-20_P-PD",
         "rawType": "float64",
         "type": "float"
        },
        {
         "name": "eval-TLP-Tavec-20_P-PZ",
         "rawType": "float64",
         "type": "float"
        },
        {
         "name": "eval-TLP-Tavec-21_I_RL-PD",
         "rawType": "float64",
         "type": "float"
        },
        {
         "name": "eval-TLP-Tavec-21_I_RL-PZ",
         "rawType": "float64",
         "type": "float"
        },
        {
         "name": "eval-TLP-Tavec-22_I_RCL-PD",
         "rawType": "float64",
         "type": "float"
        },
        {
         "name": "eval-TLP-Tavec-22_I_RCL-PZ",
         "rawType": "float64",
         "type": "float"
        },
        {
         "name": "eval-TLP-Tavec-23_Recon_Ac-PD",
         "rawType": "float64",
         "type": "float"
        },
        {
         "name": "eval-TLP-Tavec-23_Recon_Ac-PZ",
         "rawType": "float64",
         "type": "float"
        },
        {
         "name": "eval-TLP-Tavec-24_FP-PD",
         "rawType": "float64",
         "type": "float"
        },
        {
         "name": "eval-TLP-Tavec-24_FP-PZ",
         "rawType": "float64",
         "type": "float"
        },
        {
         "name": "eval-TLP-Tavec-25_Discriminabilidad-PD",
         "rawType": "float64",
         "type": "float"
        },
        {
         "name": "eval-TLP-Tavec-25_Discriminabilidad-PZ",
         "rawType": "float64",
         "type": "float"
        },
        {
         "name": "eval-TLP-Tavec-26_Sesgo-PD",
         "rawType": "float64",
         "type": "float"
        },
        {
         "name": "eval-TLP-Tavec-26_Sesgo-PZ",
         "rawType": "float64",
         "type": "float"
        },
        {
         "name": "eval-TLP-Tavec-27_RI_B_frente_RI_A1-PD",
         "rawType": "float64",
         "type": "float"
        },
        {
         "name": "eval-TLP-Tavec-27_RI_B_frente_RI_A1-PZ",
         "rawType": "float64",
         "type": "float"
        },
        {
         "name": "eval-TLP-Tavec-28_RL_CP_frente_RI_A5-PD",
         "rawType": "float64",
         "type": "float"
        },
        {
         "name": "eval-TLP-Tavec-28_RL_CP_frente_RI_A5-PZ",
         "rawType": "float64",
         "type": "float"
        },
        {
         "name": "eval-TLP-Tavec-29_RCl_Cp_frente_RCl_LP-PD",
         "rawType": "float64",
         "type": "float"
        },
        {
         "name": "eval-TLP-Tavec-29_RCl_Cp_frente_RCl_LP-PZ",
         "rawType": "float64",
         "type": "float"
        },
        {
         "name": "eval-TLP-Tavec-30_RL_LP_frente_RL_CP-PD",
         "rawType": "float64",
         "type": "float"
        },
        {
         "name": "eval-TLP-Tavec-30_RL_LP_frente_RL_CP-PZ",
         "rawType": "float64",
         "type": "float"
        },
        {
         "name": "eval-TLP-Tavec-31_RCl_LP_frente_RL_LP-PD",
         "rawType": "float64",
         "type": "float"
        },
        {
         "name": "eval-TLP-Tavec-31_RCl_LP_frente_RL_LP-PZ",
         "rawType": "float64",
         "type": "float"
        },
        {
         "name": "eval-TLP-Tavec-32_Recon_Ac_frente_RL_LP-PD",
         "rawType": "float64",
         "type": "float"
        },
        {
         "name": "eval-TLP-Tavec-32_Recon_Ac_frente_RL_LP-PZ",
         "rawType": "float64",
         "type": "float"
        },
        {
         "name": "eval-TLP-Tavec-33_Recon_Ac_frente_RCl_LP-PD",
         "rawType": "float64",
         "type": "float"
        },
        {
         "name": "eval-TLP-Tavec-33_Recon_Ac_frente_RCl_LP-PZ",
         "rawType": "float64",
         "type": "float"
        }
       ],
       "conversionMethod": "pd.DataFrame",
       "ref": "c16bba77-b7b2-4091-87a0-ee91fbdf9fdc",
       "rows": [
        [
         "0",
         "056_ED2_Rango3_M",
         "ED2",
         "1",
         "0.6666666666666666",
         "1.555902486091699",
         "-0.434235843000742",
         "0.0",
         "0.25",
         "0.5",
         "0.5",
         "0.0",
         "0.5",
         "1.0",
         "1.0",
         "0",
         "1",
         "0",
         "1",
         "1",
         "0",
         "0",
         "0",
         "0",
         "0",
         "1",
         "0",
         "0",
         "1",
         "1",
         "0",
         "1",
         "1",
         "0.7057324990011832",
         "0",
         "0.0",
         "0",
         "0",
         "0",
         "0",
         "0",
         "0",
         "0",
         "0",
         "0",
         "0",
         "0.75",
         "0.5",
         "1.0",
         "1.0",
         "1.0",
         "1.0",
         "0.0",
         "0.5",
         "0.75",
         "0.3225806451612903",
         "1.0",
         "1.465867907768687",
         "0.4923493194527828",
         "-0.328258959553871",
         "1.591689310137914",
         "-0.04024366777675088",
         "0.6866467528713401",
         "0.7491263590078269",
         "0.84977981772684",
         "-0.4627366244410242",
         "1.0",
         "1",
         "0.6666666666666665",
         "0.6666666666666666",
         "1.0",
         "0.5",
         "-0.8474578839875653",
         "0.3333333333333333",
         "-1.396023093252233",
         "0.0",
         "-1.300269714293847",
         "0.0",
         "1.126899380463972",
         "-0.9367809731055846",
         "-0.3333333333333333",
         "-0.719909192003226",
         "0.0",
         "0.5987330195427965",
         "0.3333333333333333",
         "1.264610367962382",
         "1.489576023313507",
         "0.6",
         "-0.5327114792302184",
         "-0.457642179710767",
         "-0.6",
         "-1.595993882826128",
         "-1.44557152225782",
         "-1.2",
         "-2.497097851973055",
         "-1.4",
         "-1.132452785268332",
         "-0.42",
         "-0.4308143711278773",
         "0.48",
         "-0.1690048951494727",
         "0.89",
         "-0.2453001281846072",
         "-0.03",
         "0.261635225609434",
         "0.29",
         "-0.8933784699045331",
         "-0.58",
         "0.8229319366286632",
         "0.53",
         "0.2236137857899747",
         "1.01",
         "-0.7994085689983047",
         "0.07",
         "-0.8396131885679853",
         "0.14",
         "0.1348307160688603",
         "0.95",
         "-0.3868941281629079",
         "0.64",
         "0.5466831451766817",
         "1.25",
         "-0.3517687939003218",
         "0.51",
         "-1.42375001141013",
         "-1.06",
         "-0.4993086613883636",
         "-0.31",
         "0.0",
         "-0.42",
         "1.119358879248702",
         "1.91",
         "1.127880179711409",
         "2.6",
         "0.5959054547982557",
         "0.26",
         "-0.5283951108858885",
         "-0.8",
         "1.238529150716049",
         "-0.09",
         "-0.8534762833797008",
         "-0.15",
         "0.9662005409863693",
         "0.22",
         "-1.267491691790875",
         "-0.24",
         "0.2335407677828447",
         "0.2",
         "-0.8826216754345421",
         "-0.52",
         "-0.7032282898778816",
         "-0.7",
         "1.679948799734973",
         "1.7",
         "1.297665202574695",
         "1.07",
         "-1.473027137829652",
         "-0.55",
         "-0.6220946870202575",
         "0.23",
         "0.7248821825181213",
         "1.19"
        ],
        [
         "1",
         "312_ED3_Rango3_M",
         "ED3",
         "1",
         "0.6666666666666666",
         "0.7708675948767123",
         "-1.384410440228846",
         "0.0",
         "0.25",
         "0.5",
         "1.0",
         "0.0",
         "0.5",
         "0.25",
         "0.0",
         "1",
         "1",
         "0",
         "0",
         "0",
         "0",
         "0",
         "0",
         "0",
         "0",
         "1",
         "0",
         "1",
         "0",
         "0",
         "0",
         "1",
         "1",
         "0.7057324990011832",
         "1",
         "0.3333333333333333",
         "0",
         "0",
         "1",
         "0",
         "1",
         "0",
         "0",
         "0",
         "0",
         "0",
         "0.75",
         "0.5",
         "0.5",
         "0.0",
         "0.0",
         "1.0",
         "0.0",
         "0.0",
         "0.5",
         "0.3225806451612903",
         "1.0",
         "1.465867907768687",
         "0.7133610225380919",
         "0.3588964624455651",
         "1.591689310137914",
         "-0.7984343686907408",
         "0.2199647606600831",
         "0.526163632250995",
         "0.4452863420832405",
         "-3.104542080340685",
         "0.5",
         "1",
         "0.6666666666666665",
         "0.6666666666666666",
         "0.3333333333333335",
         "0.5",
         "-2.046114530708716",
         "-0.6666666666666666",
         "-2.442207463851758",
         "-0.6666666666666666",
         "-2.57416890396083",
         "-1.0",
         "1.126899380463972",
         "-3.921985146916493",
         "-1.666666666666667",
         "-2.076075355404314",
         "-1.666666666666667",
         "1.814362218877996",
         "-1.0",
         "-1.801414844306489",
         "-1.742650796868203",
         "-2.2",
         "-1.275197104688697",
         "-1.225502875133871",
         "-1.4",
         "-1.884836579775641",
         "-1.761151678449447",
         "-1.6",
         "-0.7478817855418884",
         "0.0",
         "-2.040729093248552",
         "-1.35",
         "-1.197249003049427",
         "-0.17",
         "-1.346271076037096",
         "-0.19",
         "0.6503305723964",
         "0.92",
         "-1.076739439913848",
         "-0.91",
         "0.5267300202938816",
         "0.41",
         "0.3657458124237737",
         "0.19",
         "-0.6540703234356762",
         "0.22",
         "-1.138159298641311",
         "-0.23",
         "-0.8396131885679853",
         "0.14",
         "-1.219948318991048",
         "-0.19",
         "-0.829945755599644",
         "-0.25",
         "-0.1745710883757471",
         "0.21",
         "-0.6568942118138605",
         "0.04",
         "-0.8401240276205988",
         "-0.25",
         "-0.2480539824205011",
         "0.04",
         "0.25",
         "0.66",
         "0.231786434591903",
         "0.66",
         "-0.6607782871036535",
         "-0.48",
         "3.912843220922437",
         "2.1",
         "2.690871818421868",
         "1.23",
         "1.238529150716049",
         "-0.09",
         "-2.546054512734812",
         "-1.46",
         "0.4869162283959744",
         "-0.13",
         "-1.984968117661927",
         "-0.76",
         "-1.045344074866217",
         "-0.83",
         "-1.784169181667993",
         "-1.49",
         "-0.3825920944121997",
         "-0.53",
         "-0.202315710654197",
         "0.63",
         "0.08758417467814153",
         "0.12",
         "0.3598647734576719",
         "0.43",
         "0.2707285593974161",
         "0.92",
         "0.01999231029906172",
         "0.65"
        ],
        [
         "2",
         "220_ED2_Rango2_M",
         "ED2",
         "1",
         "0.3333333333333333",
         "0.3783501492692187",
         "-0.6717794923077681",
         "0.0",
         "0.0",
         "0.75",
         "0.5",
         "0.0",
         "0.5",
         "0.75",
         "1.0",
         "0",
         "0",
         "0",
         "0",
         "0",
         "0",
         "0",
         "0",
         "0",
         "0",
         "1",
         "0",
         "0",
         "0",
         "1",
         "0",
         "1",
         "1",
         "-0.3967550865031528",
         "0",
         "0.0",
         "0",
         "0",
         "0",
         "0",
         "0",
         "0",
         "0",
         "0",
         "0",
         "0",
         "0.5",
         "0.5",
         "0.0",
         "1.0",
         "1.0",
         "1.0",
         "1.0",
         "1.0",
         "1.0",
         "0.3225806451612903",
         "1.0",
         "0.63202275733505",
         "-0.1154328640318172",
         "0.06440128158866387",
         "-0.2033507635835512",
         "-0.2929739014147476",
         "1.153328745082597",
         "0.9720890857646587",
         "1.254273293370439",
         "0.8581661035088063",
         "1.0",
         "1",
         "1.0",
         "1.0",
         "1.0",
         "0.5",
         "-0.2481295606269899",
         "0.6666666666666666",
         "-0.87293090795247",
         "0.3333333333333333",
         "-0.6633201194603557",
         "0.3333333333333333",
         "-0.2772530221776437",
         "0.1293633746840255",
         "0.3333333333333333",
         "-0.8626635249928142",
         "-0.3333333333333333",
         "0.291985464570363",
         "0.0",
         "0.6663615460562606",
         "0.8588976193756123",
         "0.0",
         "0.5279822714247507",
         "0.6393016708936674",
         "0.4",
         "0.5221858948036306",
         "0.8686829564807714",
         "1.0",
         "0.3039374758398214",
         "0.8",
         "-0.2241764772881116",
         "0.08",
         "0.7188375767544466",
         "1.51",
         "0.4649076637900166",
         "1.41",
         "0.6503305723964",
         "0.59",
         "0.1724102479078822",
         "0.18",
         "0.1774564354786379",
         "0.01",
         "-0.3725370807268786",
         "-0.14",
         "-0.6540703234356762",
         "-0.45",
         "-1.138159298641311",
         "-0.95",
         "-0.2498177943613916",
         "0.14",
         "-0.5425588014610938",
         "-0.25",
         "-0.4755044536502552",
         "-0.05",
         "-0.1745710883757471",
         "-0.01",
         "-0.9620196297273994",
         "-0.82",
         "-0.5483110357258333",
         "-0.24",
         "2.013238128290261",
         "3.07",
         "0.5",
         "1.96",
         "-0.655786010064896",
         "-0.72",
         "-0.6607782871036535",
         "-0.85",
         "1.376361399768651",
         "1.48",
         "0.4621485596703442",
         "0.18",
         "1.238529150716049",
         "0.55",
         "-1.417669026498071",
         "-0.97",
         "-0.4716523967848152",
         "-0.52",
         "-0.5484349213694466",
         "-0.11",
         "-1.780022601494401",
         "-1.5",
         "-0.7825276396462275",
         "-0.49",
         "1.22058888291621",
         "1.31",
         "1.209523856094355",
         "1.94",
         "-0.5577923735333535",
         "-0.78",
         "0.3598647734576719",
         "0.46",
         "0.431784973837874",
         "0.69",
         "0.2106733236613255",
         "0.3"
        ],
        [
         "3",
         "122_ED2_Rango1_M",
         "ED2",
         "1",
         "0.0",
         "-1.191719633160756",
         "0.9910260528414145",
         "0.6666666666666666",
         "0.25",
         "0.75",
         "1.0",
         "1.0",
         "0.5",
         "1.0",
         "0.5",
         "0",
         "0",
         "0",
         "0",
         "0",
         "0",
         "0",
         "0",
         "0",
         "0",
         "0",
         "0",
         "0",
         "0",
         "0",
         "0",
         "1",
         "1",
         "-0.3967550865031528",
         "0",
         "0.0",
         "0",
         "0",
         "0",
         "0",
         "0",
         "0",
         "0",
         "0",
         "0",
         "0",
         "0.5",
         "1.0",
         "1.0",
         "1.0",
         "1.0",
         "0.0",
         "0.5",
         "0.5",
         "0.5",
         "0.3225806451612903",
         "0.5",
         "-0.618744968315406",
         "-0.6127091959737626",
         "-0.2300938992682373",
         "-0.7162193560753984",
         "-0.7984343686907408",
         "-0.01337623544554543",
         "0.3032009054941632",
         "0.1756240249875075",
         "0.8581661035088063",
         "1.0",
         "1",
         "1.0",
         "1.0",
         "1.0",
         "0.5",
         "0.3511987627335855",
         "0.3333333333333333",
         "-0.3498387226527075",
         "0.3333333333333333",
         "-0.02637052462686436",
         "0.0",
         "-0.9793292234984515",
         "0.3425922442419476",
         "0.6666666666666666",
         "0.4221254719134795",
         "0.3333333333333333",
         "-0.6850623031196105",
         "0.6666666666666666",
         "1.788078087130238",
         "1.489576023313507",
         "0.6",
         "1.058329146752235",
         "0.8586904410145543",
         "0.6",
         "0.1370622988709471",
         "-0.6040244390801507",
         "-0.4",
         "-2.086950445792742",
         "-1.0",
         "0.6840998306921087",
         "0.66",
         "0.7188375767544466",
         "0.76",
         "1.279938096712217",
         "1.51",
         "-0.2453001281846072",
         "-0.35",
         "-0.875545862743682",
         "-0.67",
         "1.215800774832483",
         "1.05",
         "-0.642325358967927",
         "-0.45",
         "0.5161751555318583",
         "0.51",
         "-0.4606578393552985",
         "-0.69",
         "-0.8396131885679853",
         "-1.13",
         "-0.5425588014610938",
         "-0.77",
         "0.8536504286599532",
         "1.33",
         "0.5466831451766817",
         "0.74",
         "0.5636074598402946",
         "0.84",
         "0.03531494806369766",
         "0.09",
         "0.003200696547361416",
         "-0.09",
         "0.0",
         "-0.55",
         "-0.655786010064896",
         "-0.63",
         "-0.6607782871036535",
         "-0.63",
         "-0.9650064351425353",
         "-1.03",
         "0.214512642031286",
         "0.25",
         "0.121005721621683",
         "0.16",
         "0.8391019459754107",
         "0.82",
         "0.9662005409863693",
         "1.38",
         "-0.1896967084339214",
         "-0.56",
         "1.485215294630863",
         "1.79",
         "0.519746601809792",
         "0.57",
         "-0.2756278596048481",
         "-0.19",
         "-0.202315710654197",
         "0.57",
         "1.701025545206879",
         "2.95",
         "-0.7399803578278511",
         "-0.71",
         "-1.180230129255358",
         "-1.54",
         "-0.9820850872503731",
         "-1.28"
        ],
        [
         "4",
         "233_ED3_Rango1_M",
         "ED3",
         "1",
         "0.0",
         "-0.6683630390174308",
         "-0.1966921936937159",
         "0.0",
         "0.25",
         "0.75",
         "0.5",
         "0.6666666666666666",
         "0.5",
         "0.5",
         "1.0",
         "0",
         "0",
         "0",
         "0",
         "0",
         "0",
         "0",
         "0",
         "0",
         "0",
         "0",
         "0",
         "0",
         "0",
         "0",
         "0",
         "1",
         "1",
         "-0.3967550865031528",
         "1",
         "0.6666666666666666",
         "0",
         "0",
         "0",
         "1",
         "1",
         "0",
         "0",
         "0",
         "0",
         "1",
         "0.5",
         "1.0",
         "1.0",
         "1.0",
         "1.0",
         "1.0",
         "1.0",
         "0.0",
         "0.5",
         "0.3225806451612903",
         "1.0",
         "0.63202275733505",
         "-0.6127091959737626",
         "-0.7209192006964059",
         "-0.2033507635835512",
         "-0.5457041350527442",
         "0.9199877489769687",
         "0.9720890857646587",
         "1.119442134822573",
         "-0.4627366244410242",
         "0.75",
         "1",
         "1.0",
         "0.6666666666666666",
         "1.0",
         "0.5",
         "-0.8474578839875653",
         "-0.6666666666666666",
         "-0.3498387226527075",
         "0.3333333333333333",
         "-0.6633201194603557",
         "-0.3333333333333333",
         "-0.9793292234984515",
         "0.7690499833577916",
         "2.666666666666667",
         "-0.5771548590136378",
         "-0.3333333333333333",
         "0.04204301237060232",
         "-0.3333333333333333",
         "0.3672371351032001",
         "-0.008285186038992661",
         "-0.6",
         "-0.5327114792302184",
         "-0.7867253348920973",
         "-1.0",
         "0.6184667937868015",
         "-0.07805751209410705",
         "0.0",
         "0.2167926315670139",
         "0.6",
         "-1.132452785268332",
         "-1.32",
         "-0.814031687088652",
         "-1.12",
         "-1.074594265063029",
         "-1.25",
         "-0.6931154784751109",
         "-0.81",
         "0.8302257697859919",
         "1.08",
         "-2.39471337517626",
         "-2.95",
         "2.0910983942288",
         "2.35",
         "-1.239193062919443",
         "-1.64",
         "-0.7994085689983047",
         "-1.07",
         "-0.5447154914646885",
         "-0.78",
         "-0.8812535602260708",
         "-1.14",
         "-0.9185560810869913",
         "-0.88",
         "-0.1745710883757471",
         "-0.09",
         "-1.267145047640938",
         "-1.46",
         "-0.8401240276205988",
         "-0.9",
         "-0.2480539824205011",
         "-0.3",
         "0.0",
         "-0.55",
         "0.231786434591903",
         "0.17",
         "0.2335509463038776",
         "0.22",
         "0.4007914685556569",
         "0.26",
         "-0.2807591932468304",
         "-0.2",
         "-0.996517707472683",
         "-0.64",
         "-2.546054512734812",
         "-2.93",
         "-0.9509367093752101",
         "-0.73",
         "-0.9087534788553494",
         "-1.39",
         "-2.079336075305884",
         "-2.19",
         "-0.5320296061234584",
         "-0.54",
         "1.006916922257879",
         "1.45",
         "-0.202315710654197",
         "0.57",
         "-0.9879358429163149",
         "-1.6",
         "0.3598647734576719",
         "0.29",
         "0.7543814556150075",
         "0.78",
         "0.5926079660415959",
         "0.5"
        ]
       ],
       "shape": {
        "columns": 161,
        "rows": 5
       }
      },
      "text/html": [
       "<div>\n",
       "<style scoped>\n",
       "    .dataframe tbody tr th:only-of-type {\n",
       "        vertical-align: middle;\n",
       "    }\n",
       "\n",
       "    .dataframe tbody tr th {\n",
       "        vertical-align: top;\n",
       "    }\n",
       "\n",
       "    .dataframe thead th {\n",
       "        text-align: right;\n",
       "    }\n",
       "</style>\n",
       "<table border=\"1\" class=\"dataframe\">\n",
       "  <thead>\n",
       "    <tr style=\"text-align: right;\">\n",
       "      <th></th>\n",
       "      <th>etiq-id2</th>\n",
       "      <th>etiq-diagExpTLP_R2</th>\n",
       "      <th>demo-genero</th>\n",
       "      <th>demo-rangoEdad</th>\n",
       "      <th>demo-edad</th>\n",
       "      <th>clin-reservaCognitiva_total</th>\n",
       "      <th>clin-reservaCognitiva_idiomas</th>\n",
       "      <th>clin-reservaCognitiva_ocupacion</th>\n",
       "      <th>clin-reservaCognitiva_escolaridad</th>\n",
       "      <th>clin-reservaCognitiva_escolaridadPadres</th>\n",
       "      <th>...</th>\n",
       "      <th>eval-TLP-Tavec-29_RCl_Cp_frente_RCl_LP-PD</th>\n",
       "      <th>eval-TLP-Tavec-29_RCl_Cp_frente_RCl_LP-PZ</th>\n",
       "      <th>eval-TLP-Tavec-30_RL_LP_frente_RL_CP-PD</th>\n",
       "      <th>eval-TLP-Tavec-30_RL_LP_frente_RL_CP-PZ</th>\n",
       "      <th>eval-TLP-Tavec-31_RCl_LP_frente_RL_LP-PD</th>\n",
       "      <th>eval-TLP-Tavec-31_RCl_LP_frente_RL_LP-PZ</th>\n",
       "      <th>eval-TLP-Tavec-32_Recon_Ac_frente_RL_LP-PD</th>\n",
       "      <th>eval-TLP-Tavec-32_Recon_Ac_frente_RL_LP-PZ</th>\n",
       "      <th>eval-TLP-Tavec-33_Recon_Ac_frente_RCl_LP-PD</th>\n",
       "      <th>eval-TLP-Tavec-33_Recon_Ac_frente_RCl_LP-PZ</th>\n",
       "    </tr>\n",
       "  </thead>\n",
       "  <tbody>\n",
       "    <tr>\n",
       "      <th>0</th>\n",
       "      <td>056_ED2_Rango3_M</td>\n",
       "      <td>ED2</td>\n",
       "      <td>1</td>\n",
       "      <td>0.666667</td>\n",
       "      <td>1.555902</td>\n",
       "      <td>-0.434236</td>\n",
       "      <td>0.000000</td>\n",
       "      <td>0.25</td>\n",
       "      <td>0.50</td>\n",
       "      <td>0.5</td>\n",
       "      <td>...</td>\n",
       "      <td>1.679949</td>\n",
       "      <td>1.70</td>\n",
       "      <td>1.297665</td>\n",
       "      <td>1.07</td>\n",
       "      <td>-1.473027</td>\n",
       "      <td>-0.55</td>\n",
       "      <td>-0.622095</td>\n",
       "      <td>0.23</td>\n",
       "      <td>0.724882</td>\n",
       "      <td>1.19</td>\n",
       "    </tr>\n",
       "    <tr>\n",
       "      <th>1</th>\n",
       "      <td>312_ED3_Rango3_M</td>\n",
       "      <td>ED3</td>\n",
       "      <td>1</td>\n",
       "      <td>0.666667</td>\n",
       "      <td>0.770868</td>\n",
       "      <td>-1.384410</td>\n",
       "      <td>0.000000</td>\n",
       "      <td>0.25</td>\n",
       "      <td>0.50</td>\n",
       "      <td>1.0</td>\n",
       "      <td>...</td>\n",
       "      <td>-0.202316</td>\n",
       "      <td>0.63</td>\n",
       "      <td>0.087584</td>\n",
       "      <td>0.12</td>\n",
       "      <td>0.359865</td>\n",
       "      <td>0.43</td>\n",
       "      <td>0.270729</td>\n",
       "      <td>0.92</td>\n",
       "      <td>0.019992</td>\n",
       "      <td>0.65</td>\n",
       "    </tr>\n",
       "    <tr>\n",
       "      <th>2</th>\n",
       "      <td>220_ED2_Rango2_M</td>\n",
       "      <td>ED2</td>\n",
       "      <td>1</td>\n",
       "      <td>0.333333</td>\n",
       "      <td>0.378350</td>\n",
       "      <td>-0.671779</td>\n",
       "      <td>0.000000</td>\n",
       "      <td>0.00</td>\n",
       "      <td>0.75</td>\n",
       "      <td>0.5</td>\n",
       "      <td>...</td>\n",
       "      <td>1.209524</td>\n",
       "      <td>1.94</td>\n",
       "      <td>-0.557792</td>\n",
       "      <td>-0.78</td>\n",
       "      <td>0.359865</td>\n",
       "      <td>0.46</td>\n",
       "      <td>0.431785</td>\n",
       "      <td>0.69</td>\n",
       "      <td>0.210673</td>\n",
       "      <td>0.30</td>\n",
       "    </tr>\n",
       "    <tr>\n",
       "      <th>3</th>\n",
       "      <td>122_ED2_Rango1_M</td>\n",
       "      <td>ED2</td>\n",
       "      <td>1</td>\n",
       "      <td>0.000000</td>\n",
       "      <td>-1.191720</td>\n",
       "      <td>0.991026</td>\n",
       "      <td>0.666667</td>\n",
       "      <td>0.25</td>\n",
       "      <td>0.75</td>\n",
       "      <td>1.0</td>\n",
       "      <td>...</td>\n",
       "      <td>-0.202316</td>\n",
       "      <td>0.57</td>\n",
       "      <td>1.701026</td>\n",
       "      <td>2.95</td>\n",
       "      <td>-0.739980</td>\n",
       "      <td>-0.71</td>\n",
       "      <td>-1.180230</td>\n",
       "      <td>-1.54</td>\n",
       "      <td>-0.982085</td>\n",
       "      <td>-1.28</td>\n",
       "    </tr>\n",
       "    <tr>\n",
       "      <th>4</th>\n",
       "      <td>233_ED3_Rango1_M</td>\n",
       "      <td>ED3</td>\n",
       "      <td>1</td>\n",
       "      <td>0.000000</td>\n",
       "      <td>-0.668363</td>\n",
       "      <td>-0.196692</td>\n",
       "      <td>0.000000</td>\n",
       "      <td>0.25</td>\n",
       "      <td>0.75</td>\n",
       "      <td>0.5</td>\n",
       "      <td>...</td>\n",
       "      <td>-0.202316</td>\n",
       "      <td>0.57</td>\n",
       "      <td>-0.987936</td>\n",
       "      <td>-1.60</td>\n",
       "      <td>0.359865</td>\n",
       "      <td>0.29</td>\n",
       "      <td>0.754381</td>\n",
       "      <td>0.78</td>\n",
       "      <td>0.592608</td>\n",
       "      <td>0.50</td>\n",
       "    </tr>\n",
       "  </tbody>\n",
       "</table>\n",
       "<p>5 rows × 161 columns</p>\n",
       "</div>"
      ],
      "text/plain": [
       "           etiq-id2 etiq-diagExpTLP_R2  demo-genero  demo-rangoEdad  \\\n",
       "0  056_ED2_Rango3_M                ED2            1        0.666667   \n",
       "1  312_ED3_Rango3_M                ED3            1        0.666667   \n",
       "2  220_ED2_Rango2_M                ED2            1        0.333333   \n",
       "3  122_ED2_Rango1_M                ED2            1        0.000000   \n",
       "4  233_ED3_Rango1_M                ED3            1        0.000000   \n",
       "\n",
       "   demo-edad  clin-reservaCognitiva_total  clin-reservaCognitiva_idiomas  \\\n",
       "0   1.555902                    -0.434236                       0.000000   \n",
       "1   0.770868                    -1.384410                       0.000000   \n",
       "2   0.378350                    -0.671779                       0.000000   \n",
       "3  -1.191720                     0.991026                       0.666667   \n",
       "4  -0.668363                    -0.196692                       0.000000   \n",
       "\n",
       "   clin-reservaCognitiva_ocupacion  clin-reservaCognitiva_escolaridad  \\\n",
       "0                             0.25                               0.50   \n",
       "1                             0.25                               0.50   \n",
       "2                             0.00                               0.75   \n",
       "3                             0.25                               0.75   \n",
       "4                             0.25                               0.75   \n",
       "\n",
       "   clin-reservaCognitiva_escolaridadPadres  ...  \\\n",
       "0                                      0.5  ...   \n",
       "1                                      1.0  ...   \n",
       "2                                      0.5  ...   \n",
       "3                                      1.0  ...   \n",
       "4                                      0.5  ...   \n",
       "\n",
       "   eval-TLP-Tavec-29_RCl_Cp_frente_RCl_LP-PD  \\\n",
       "0                                   1.679949   \n",
       "1                                  -0.202316   \n",
       "2                                   1.209524   \n",
       "3                                  -0.202316   \n",
       "4                                  -0.202316   \n",
       "\n",
       "   eval-TLP-Tavec-29_RCl_Cp_frente_RCl_LP-PZ  \\\n",
       "0                                       1.70   \n",
       "1                                       0.63   \n",
       "2                                       1.94   \n",
       "3                                       0.57   \n",
       "4                                       0.57   \n",
       "\n",
       "   eval-TLP-Tavec-30_RL_LP_frente_RL_CP-PD  \\\n",
       "0                                 1.297665   \n",
       "1                                 0.087584   \n",
       "2                                -0.557792   \n",
       "3                                 1.701026   \n",
       "4                                -0.987936   \n",
       "\n",
       "   eval-TLP-Tavec-30_RL_LP_frente_RL_CP-PZ  \\\n",
       "0                                     1.07   \n",
       "1                                     0.12   \n",
       "2                                    -0.78   \n",
       "3                                     2.95   \n",
       "4                                    -1.60   \n",
       "\n",
       "   eval-TLP-Tavec-31_RCl_LP_frente_RL_LP-PD  \\\n",
       "0                                 -1.473027   \n",
       "1                                  0.359865   \n",
       "2                                  0.359865   \n",
       "3                                 -0.739980   \n",
       "4                                  0.359865   \n",
       "\n",
       "   eval-TLP-Tavec-31_RCl_LP_frente_RL_LP-PZ  \\\n",
       "0                                     -0.55   \n",
       "1                                      0.43   \n",
       "2                                      0.46   \n",
       "3                                     -0.71   \n",
       "4                                      0.29   \n",
       "\n",
       "   eval-TLP-Tavec-32_Recon_Ac_frente_RL_LP-PD  \\\n",
       "0                                   -0.622095   \n",
       "1                                    0.270729   \n",
       "2                                    0.431785   \n",
       "3                                   -1.180230   \n",
       "4                                    0.754381   \n",
       "\n",
       "   eval-TLP-Tavec-32_Recon_Ac_frente_RL_LP-PZ  \\\n",
       "0                                        0.23   \n",
       "1                                        0.92   \n",
       "2                                        0.69   \n",
       "3                                       -1.54   \n",
       "4                                        0.78   \n",
       "\n",
       "   eval-TLP-Tavec-33_Recon_Ac_frente_RCl_LP-PD  \\\n",
       "0                                     0.724882   \n",
       "1                                     0.019992   \n",
       "2                                     0.210673   \n",
       "3                                    -0.982085   \n",
       "4                                     0.592608   \n",
       "\n",
       "   eval-TLP-Tavec-33_Recon_Ac_frente_RCl_LP-PZ  \n",
       "0                                         1.19  \n",
       "1                                         0.65  \n",
       "2                                         0.30  \n",
       "3                                        -1.28  \n",
       "4                                         0.50  \n",
       "\n",
       "[5 rows x 161 columns]"
      ]
     },
     "execution_count": 12,
     "metadata": {},
     "output_type": "execute_result"
    }
   ],
   "source": [
    "df.head()"
   ]
  },
  {
   "cell_type": "markdown",
   "metadata": {},
   "source": [
    "Generar la columna \"ED_2Clases\" a partir de la variable \"etiq-diagExpTLP_R2"
   ]
  },
  {
   "cell_type": "code",
   "execution_count": 13,
   "metadata": {},
   "outputs": [],
   "source": [
    "def transfor_ed(row):\n",
    "   if row['etiq-diagExpTLP_R2'] == 'ED1':\n",
    "      return 'H'\n",
    "   elif row['etiq-diagExpTLP_R2'] == 'ED2' or row['etiq-diagExpTLP_R2'] == 'ED3':\n",
    "      return 'D'"
   ]
  },
  {
   "cell_type": "code",
   "execution_count": 14,
   "metadata": {},
   "outputs": [],
   "source": [
    "df['ED_2Clases'] = df.apply(transfor_ed, axis=1)"
   ]
  },
  {
   "cell_type": "code",
   "execution_count": 21,
   "metadata": {},
   "outputs": [
    {
     "data": {
      "application/vnd.microsoft.datawrangler.viewer.v0+json": {
       "columns": [
        {
         "name": "index",
         "rawType": "int64",
         "type": "integer"
        },
        {
         "name": "eval-TLP-Stroop-p1_palabras-PD",
         "rawType": "float64",
         "type": "float"
        },
        {
         "name": "eval-TLP-Stroop-p2_color-PD",
         "rawType": "float64",
         "type": "float"
        },
        {
         "name": "eval-TLP-Stroop-p3_palabrasColor-PD",
         "rawType": "float64",
         "type": "float"
        }
       ],
       "conversionMethod": "pd.DataFrame",
       "ref": "1afaf9b3-671e-4b82-8562-4e35b0e997ec",
       "rows": [
        [
         "0",
         "-0.5327114792302184",
         "1.264610367962382",
         "-1.595993882826128"
        ],
        [
         "1",
         "-1.275197104688697",
         "-1.801414844306489",
         "-1.884836579775641"
        ],
        [
         "2",
         "0.5279822714247507",
         "0.6663615460562606",
         "0.5221858948036306"
        ],
        [
         "3",
         "1.058329146752235",
         "1.788078087130238",
         "0.1370622988709471"
        ],
        [
         "4",
         "-0.5327114792302184",
         "0.3672371351032001",
         "0.6184667937868015"
        ],
        [
         "5",
         "-1.1691277296232",
         "-1.128384919662103",
         "-1.692274781809299"
        ],
        [
         "6",
         "-0.585746166762967",
         "-0.6049172004942468",
         "-1.307151185876616"
        ],
        [
         "7",
         "-0.05539929143548232",
         "-0.2310116868029211",
         "-0.2480612970617363"
        ],
        [
         "8",
         "0.6340516464902477",
         "0.815923751532791",
         "0.4259049958204598"
        ],
        [
         "9",
         "-0.6918155418284638",
         "-0.4553549950177165",
         "-0.05549949909539459"
        ],
        [
         "10",
         "1.270467896883229",
         "1.563734778915442",
         "0.8110285917531432"
        ],
        [
         "11",
         "-1.275197104688697",
         "-1.502290433353429",
         "-0.5369039940112489"
        ],
        [
         "12",
         "-0.2145033540337277",
         "-0.006668378588125652",
         "-0.3443421960449072"
        ],
        [
         "13",
         "0.6870863340229961",
         "-0.6049172004942468",
         "0.4259049958204598"
        ],
        [
         "14",
         "0.4219128963592538",
         "-0.6049172004942468",
         "-1.307151185876616"
        ],
        [
         "15",
         "1.429571959481475",
         "0.5915804433179955",
         "1.099871288702656"
        ],
        [
         "16",
         "-0.3736074166319731",
         "0.1428938268884046",
         "-0.9220275899439324"
        ],
        [
         "17",
         "0.1037047711627631",
         "-0.8292605087090422",
         "0.3296240968372889"
        ],
        [
         "18",
         "0.5810169589574993",
         "0.7411426487945257",
         "0.4259049958204598"
        ],
        [
         "19",
         "0.5810169589574993",
         "-0.0814494813263908",
         "-0.05549949909539459"
        ],
        [
         "20",
         "0.5279822714247507",
         "0.3672371351032001",
         "1.292433086668997"
        ],
        [
         "21",
         "-0.05539929143548232",
         "0.2176749296266698",
         "-0.2480612970617363"
        ],
        [
         "22",
         "0.1037047711627631",
         "0.2924560323649349",
         "-0.7294657919775906"
        ],
        [
         "23",
         "-1.540370542352439",
         "-1.053603816923838",
         "-0.4406230950280781"
        ],
        [
         "24",
         "0.6870863340229961",
         "0.815923751532791",
         "1.58127578361851"
        ],
        [
         "25",
         "0.20977414622826",
         "0.5167993405797303",
         "0.8110285917531432"
        ],
        [
         "26",
         "0.4749475838920023",
         "-0.3057927895411862",
         "-1.018308488927103"
        ],
        [
         "27",
         "-0.8509196044267092",
         "-1.577071536091694",
         "-1.884836579775641"
        ],
        [
         "28",
         "-4.775486481850096",
         "-4.5683156456223",
         "-3.232769165540033"
        ],
        [
         "29",
         "-0.1084339789682308",
         "-1.128384919662103",
         "-1.307151185876616"
        ],
        [
         "30",
         "0.5810169589574993",
         "-0.6049172004942468",
         "0.3296240968372889"
        ],
        [
         "31",
         "-0.2145033540337277",
         "0.2924560323649349",
         "-0.2480612970617363"
        ],
        [
         "32",
         "1.058329146752235",
         "0.815923751532791",
         "0.8110285917531432"
        ],
        [
         "33",
         "-2.494994917941912",
         "-2.997912488118732",
         "-1.981117478758812"
        ],
        [
         "34",
         "0.1037047711627631",
         "-0.3057927895411862",
         "-0.4406230950280781"
        ],
        [
         "35",
         "-2.017682730147175",
         "-2.39966366621261",
         "-2.077398377741983"
        ],
        [
         "36",
         "0.2628088337610084",
         "-0.3805738922794514",
         "0.1370622988709471"
        ],
        [
         "37",
         "-0.9039542919594578",
         "-0.6796983032325119",
         "-1.307151185876616"
        ],
        [
         "38",
         "0.9522597716867385",
         "0.815923751532791",
         "0.04078139988777629"
        ],
        [
         "39",
         "0.05067008363001461",
         "0.9654859570093212",
         "1.196152187685827"
        ],
        [
         "40",
         "0.20977414622826",
         "1.040267059747586",
         "1.388713985652168"
        ],
        [
         "41",
         "-0.2145033540337277",
         "-0.4553549950177165",
         "-1.018308488927103"
        ],
        [
         "42",
         "0.20977414622826",
         "-0.0814494813263908",
         "0.9073094907363141"
        ],
        [
         "43",
         "-0.2145033540337277",
         "0.815923751532791",
         "0.4259049958204598"
        ],
        [
         "44",
         "0.6870863340229961",
         "0.2176749296266698",
         "-0.05549949909539459"
        ],
        [
         "45",
         "-0.47967679169747",
         "0.6663615460562606",
         "0.4259049958204598"
        ],
        [
         "46",
         "-0.6387808542957154",
         "0.3672371351032001",
         "0.04078139988777629"
        ],
        [
         "47",
         "-0.2145033540337277",
         "-0.0814494813263908",
         "0.04078139988777629"
        ],
        [
         "48",
         "0.6870863340229961",
         "0.2176749296266698",
         "0.9073094907363141"
        ],
        [
         "49",
         "-0.9569889794922062",
         "-0.5301360977559817",
         "0.3296240968372889"
        ]
       ],
       "shape": {
        "columns": 3,
        "rows": 314
       }
      },
      "text/html": [
       "<div>\n",
       "<style scoped>\n",
       "    .dataframe tbody tr th:only-of-type {\n",
       "        vertical-align: middle;\n",
       "    }\n",
       "\n",
       "    .dataframe tbody tr th {\n",
       "        vertical-align: top;\n",
       "    }\n",
       "\n",
       "    .dataframe thead th {\n",
       "        text-align: right;\n",
       "    }\n",
       "</style>\n",
       "<table border=\"1\" class=\"dataframe\">\n",
       "  <thead>\n",
       "    <tr style=\"text-align: right;\">\n",
       "      <th></th>\n",
       "      <th>eval-TLP-Stroop-p1_palabras-PD</th>\n",
       "      <th>eval-TLP-Stroop-p2_color-PD</th>\n",
       "      <th>eval-TLP-Stroop-p3_palabrasColor-PD</th>\n",
       "    </tr>\n",
       "  </thead>\n",
       "  <tbody>\n",
       "    <tr>\n",
       "      <th>0</th>\n",
       "      <td>-0.532711</td>\n",
       "      <td>1.264610</td>\n",
       "      <td>-1.595994</td>\n",
       "    </tr>\n",
       "    <tr>\n",
       "      <th>1</th>\n",
       "      <td>-1.275197</td>\n",
       "      <td>-1.801415</td>\n",
       "      <td>-1.884837</td>\n",
       "    </tr>\n",
       "    <tr>\n",
       "      <th>2</th>\n",
       "      <td>0.527982</td>\n",
       "      <td>0.666362</td>\n",
       "      <td>0.522186</td>\n",
       "    </tr>\n",
       "    <tr>\n",
       "      <th>3</th>\n",
       "      <td>1.058329</td>\n",
       "      <td>1.788078</td>\n",
       "      <td>0.137062</td>\n",
       "    </tr>\n",
       "    <tr>\n",
       "      <th>4</th>\n",
       "      <td>-0.532711</td>\n",
       "      <td>0.367237</td>\n",
       "      <td>0.618467</td>\n",
       "    </tr>\n",
       "    <tr>\n",
       "      <th>...</th>\n",
       "      <td>...</td>\n",
       "      <td>...</td>\n",
       "      <td>...</td>\n",
       "    </tr>\n",
       "    <tr>\n",
       "      <th>309</th>\n",
       "      <td>0.527982</td>\n",
       "      <td>-0.231012</td>\n",
       "      <td>-1.403432</td>\n",
       "    </tr>\n",
       "    <tr>\n",
       "      <th>310</th>\n",
       "      <td>-0.214503</td>\n",
       "      <td>-0.231012</td>\n",
       "      <td>0.907309</td>\n",
       "    </tr>\n",
       "    <tr>\n",
       "      <th>311</th>\n",
       "      <td>0.846190</td>\n",
       "      <td>-0.530136</td>\n",
       "      <td>0.618467</td>\n",
       "    </tr>\n",
       "    <tr>\n",
       "      <th>312</th>\n",
       "      <td>0.527982</td>\n",
       "      <td>0.591580</td>\n",
       "      <td>0.040781</td>\n",
       "    </tr>\n",
       "    <tr>\n",
       "      <th>313</th>\n",
       "      <td>-0.850920</td>\n",
       "      <td>-1.128385</td>\n",
       "      <td>-1.307151</td>\n",
       "    </tr>\n",
       "  </tbody>\n",
       "</table>\n",
       "<p>314 rows × 3 columns</p>\n",
       "</div>"
      ],
      "text/plain": [
       "     eval-TLP-Stroop-p1_palabras-PD  eval-TLP-Stroop-p2_color-PD  \\\n",
       "0                         -0.532711                     1.264610   \n",
       "1                         -1.275197                    -1.801415   \n",
       "2                          0.527982                     0.666362   \n",
       "3                          1.058329                     1.788078   \n",
       "4                         -0.532711                     0.367237   \n",
       "..                              ...                          ...   \n",
       "309                        0.527982                    -0.231012   \n",
       "310                       -0.214503                    -0.231012   \n",
       "311                        0.846190                    -0.530136   \n",
       "312                        0.527982                     0.591580   \n",
       "313                       -0.850920                    -1.128385   \n",
       "\n",
       "     eval-TLP-Stroop-p3_palabrasColor-PD  \n",
       "0                              -1.595994  \n",
       "1                              -1.884837  \n",
       "2                               0.522186  \n",
       "3                               0.137062  \n",
       "4                               0.618467  \n",
       "..                                   ...  \n",
       "309                            -1.403432  \n",
       "310                             0.907309  \n",
       "311                             0.618467  \n",
       "312                             0.040781  \n",
       "313                            -1.307151  \n",
       "\n",
       "[314 rows x 3 columns]"
      ]
     },
     "execution_count": 21,
     "metadata": {},
     "output_type": "execute_result"
    }
   ],
   "source": [
    "df[['eval-TLP-Stroop-p1_palabras-PD', 'eval-TLP-Stroop-p2_color-PD', 'eval-TLP-Stroop-p3_palabrasColor-PD']]"
   ]
  },
  {
   "cell_type": "code",
   "execution_count": null,
   "metadata": {},
   "outputs": [],
   "source": [
    "columns = [\n",
    "    'clin-reservaCognitiva_escolaridad',\n",
    "    'demo-edad',\n",
    "    'demo-genero',\n",
    "    'eval-TLP-CubCorsi-totalDirectos-PD',\n",
    "    'eval-TLP-CubCorsi-totalinversos-PD',\n",
    "    'eval-TLP-CubCorsi-total-PD',\n",
    "    'eval-TLP-FigRey-Duracion-PD',\n",
    "    'eval-TLP-FigRey-totalCopia-PD',\n",
    "    'eval-TLP-FigRey-totalMemoria-PD',\n",
    "    'eval-TLP-Stroop-p1_palabras-PD',\n",
    "    'eval-TLP-Stroop-p2_color-PD',\n",
    "    'eval-TLP-Stroop-p3_palabrasColor-PD',\n",
    "    'eval-TLP-Tavec-1_RI_A1-PD',\n",
    "    'eval-TLP-Tavec-10_RL_LP-PD',\n",
    "    'eval-TLP-Tavec-11_RCl_LP-PD',\n",
    "    'eval-TLP-Tavec-2_RI_A5-PD',\n",
    "    'eval-TLP-Tavec-3_RI_AT-PD',\n",
    "    'eval-TLP-Tavec-8_RL_CP-PD',\n",
    "    'eval-TLP-Tavec-9_RCl_CP-PD'\n",
    "]"
   ]
  },
  {
   "cell_type": "code",
   "execution_count": 16,
   "metadata": {},
   "outputs": [],
   "source": [
    "df = df[columns]"
   ]
  },
  {
   "cell_type": "code",
   "execution_count": 17,
   "metadata": {},
   "outputs": [
    {
     "data": {
      "text/plain": [
       "(314, 19)"
      ]
     },
     "execution_count": 17,
     "metadata": {},
     "output_type": "execute_result"
    }
   ],
   "source": [
    "df.shape"
   ]
  },
  {
   "cell_type": "code",
   "execution_count": 14,
   "metadata": {},
   "outputs": [
    {
     "data": {
      "text/plain": [
       "Index(['clin-Covid_sentimientoAislado'], dtype='object')"
      ]
     },
     "execution_count": 14,
     "metadata": {},
     "output_type": "execute_result"
    }
   ],
   "source": [
    "df.columns[df.isna().any()]"
   ]
  },
  {
   "cell_type": "code",
   "execution_count": 15,
   "metadata": {},
   "outputs": [],
   "source": [
    "df.dropna(inplace=True)"
   ]
  },
  {
   "cell_type": "code",
   "execution_count": 16,
   "metadata": {},
   "outputs": [
    {
     "data": {
      "text/plain": [
       "(307, 113)"
      ]
     },
     "execution_count": 16,
     "metadata": {},
     "output_type": "execute_result"
    }
   ],
   "source": [
    "df.shape"
   ]
  },
  {
   "cell_type": "code",
   "execution_count": 17,
   "metadata": {},
   "outputs": [
    {
     "data": {
      "text/plain": [
       "Index([], dtype='object')"
      ]
     },
     "execution_count": 17,
     "metadata": {},
     "output_type": "execute_result"
    }
   ],
   "source": [
    "df.columns[df.astype(str).apply(lambda col: col.isin([\"inf\", \"-inf\"]).any())]"
   ]
  },
  {
   "cell_type": "code",
   "execution_count": 18,
   "metadata": {},
   "outputs": [
    {
     "data": {
      "application/vnd.microsoft.datawrangler.viewer.v0+json": {
       "columns": [
        {
         "name": "index",
         "rawType": "int64",
         "type": "integer"
        },
        {
         "name": "demo-genero",
         "rawType": "int64",
         "type": "integer"
        },
        {
         "name": "demo-edad",
         "rawType": "int64",
         "type": "integer"
        },
        {
         "name": "clin-reservaCognitiva_total",
         "rawType": "int64",
         "type": "integer"
        },
        {
         "name": "clin-reservaCognitiva_idiomas",
         "rawType": "int64",
         "type": "integer"
        },
        {
         "name": "clin-reservaCognitiva_ocupacion",
         "rawType": "int64",
         "type": "integer"
        },
        {
         "name": "clin-reservaCognitiva_escolaridad",
         "rawType": "int64",
         "type": "integer"
        },
        {
         "name": "clin-reservaCognitiva_escolaridadPadres",
         "rawType": "int64",
         "type": "integer"
        },
        {
         "name": "clin-reservaCognitiva_cursos",
         "rawType": "int64",
         "type": "integer"
        },
        {
         "name": "clin-reservaCognitiva_formacionMusical",
         "rawType": "int64",
         "type": "integer"
        },
        {
         "name": "clin-reservaCognitiva_actividadLectora",
         "rawType": "int64",
         "type": "integer"
        },
        {
         "name": "clin-reservaCognitiva_juegos",
         "rawType": "int64",
         "type": "integer"
        },
        {
         "name": "clin-ansiedad",
         "rawType": "bool",
         "type": "boolean"
        },
        {
         "name": "clin-depresion",
         "rawType": "bool",
         "type": "boolean"
        },
        {
         "name": "clin-cardiopatiaIsquemica",
         "rawType": "bool",
         "type": "boolean"
        },
        {
         "name": "clin-diabetes",
         "rawType": "bool",
         "type": "boolean"
        },
        {
         "name": "clin-Hipercolesterolemia",
         "rawType": "bool",
         "type": "boolean"
        },
        {
         "name": "clin-Hipertension",
         "rawType": "bool",
         "type": "boolean"
        },
        {
         "name": "clin-enfermedadesAltTiroides",
         "rawType": "bool",
         "type": "boolean"
        },
        {
         "name": "clin-enfermedadesRenal",
         "rawType": "bool",
         "type": "boolean"
        },
        {
         "name": "clin-enfermedadesHepatica",
         "rawType": "bool",
         "type": "boolean"
        },
        {
         "name": "clin-enfermedadesAntecedentesCardiacos",
         "rawType": "bool",
         "type": "boolean"
        },
        {
         "name": "clin-tratCronico",
         "rawType": "bool",
         "type": "boolean"
        },
        {
         "name": "clin-tratPsicologico",
         "rawType": "bool",
         "type": "boolean"
        },
        {
         "name": "clin-tratPsiquiatrico",
         "rawType": "bool",
         "type": "boolean"
        },
        {
         "name": "clin-familiaresAlzheimer",
         "rawType": "bool",
         "type": "boolean"
        },
        {
         "name": "clin-familiaresOtraDemencia",
         "rawType": "bool",
         "type": "boolean"
        },
        {
         "name": "clin-alcohol",
         "rawType": "bool",
         "type": "boolean"
        },
        {
         "name": "clin-fumador",
         "rawType": "bool",
         "type": "boolean"
        },
        {
         "name": "clin-entornoUrbano",
         "rawType": "bool",
         "type": "boolean"
        },
        {
         "name": "clin-Covid_vacunado",
         "rawType": "bool",
         "type": "boolean"
        },
        {
         "name": "clin-Covid_numDosis",
         "rawType": "int64",
         "type": "integer"
        },
        {
         "name": "clin-Covid_pasadoCovid",
         "rawType": "bool",
         "type": "boolean"
        },
        {
         "name": "clin-Covid_numVecesCovid",
         "rawType": "int64",
         "type": "integer"
        },
        {
         "name": "clin-Covid_sintomaDifRespirar",
         "rawType": "bool",
         "type": "boolean"
        },
        {
         "name": "clin-Covid_sintomaDolMuscular",
         "rawType": "bool",
         "type": "boolean"
        },
        {
         "name": "clin-Covid_sintomaEscalofrios",
         "rawType": "bool",
         "type": "boolean"
        },
        {
         "name": "clin-Covid_sintomaDolGarganta",
         "rawType": "bool",
         "type": "boolean"
        },
        {
         "name": "clin-Covid_sintomaFiebre",
         "rawType": "bool",
         "type": "boolean"
        },
        {
         "name": "clin-Covid_sintomaDolCabeza",
         "rawType": "bool",
         "type": "boolean"
        },
        {
         "name": "clin-Covid_sintomaDiarrea",
         "rawType": "bool",
         "type": "boolean"
        },
        {
         "name": "clin-Covid_sintomaSarpullido",
         "rawType": "bool",
         "type": "boolean"
        },
        {
         "name": "clin-Covid_sintomaPerOlfato",
         "rawType": "bool",
         "type": "boolean"
        },
        {
         "name": "clin-Covid_sintomaPerGusto",
         "rawType": "bool",
         "type": "boolean"
        },
        {
         "name": "clin-Covid_sintomaCansancio",
         "rawType": "bool",
         "type": "boolean"
        },
        {
         "name": "clin-Covid_sentimientoAislado",
         "rawType": "float64",
         "type": "float"
        },
        {
         "name": "clin-nivelSociabilidad",
         "rawType": "int64",
         "type": "integer"
        },
        {
         "name": "clin-nivelActFisica",
         "rawType": "int64",
         "type": "integer"
        },
        {
         "name": "clin-frecUsoOrdenador",
         "rawType": "int64",
         "type": "integer"
        },
        {
         "name": "clin-frecUsoMovil",
         "rawType": "int64",
         "type": "integer"
        },
        {
         "name": "clin-frecUsoTele",
         "rawType": "int64",
         "type": "integer"
        },
        {
         "name": "clin-frecUsoEmail",
         "rawType": "int64",
         "type": "integer"
        },
        {
         "name": "clin-frecUsoRSociales",
         "rawType": "int64",
         "type": "integer"
        },
        {
         "name": "clin-frecOlvidos",
         "rawType": "int64",
         "type": "integer"
        },
        {
         "name": "clin-tipoFumador",
         "rawType": "object",
         "type": "string"
        },
        {
         "name": "ques-QuejasMemo-Total-PD",
         "rawType": "int64",
         "type": "integer"
        },
        {
         "name": "ques-NavEspacial-All-PD",
         "rawType": "int64",
         "type": "integer"
        },
        {
         "name": "ques-NavEspacial-resultadosWFQ_NO-PD",
         "rawType": "int64",
         "type": "integer"
        },
        {
         "name": "ques-NavEspacial-resultadosWFQ_SA-PD",
         "rawType": "int64",
         "type": "integer"
        },
        {
         "name": "ques-NavEspacial-resultadosWFQ_DE-PD",
         "rawType": "int64",
         "type": "integer"
        },
        {
         "name": "ques-Sus-totalPar-PD",
         "rawType": "int64",
         "type": "integer"
        },
        {
         "name": "ques-Sus-totalImpar-PD",
         "rawType": "int64",
         "type": "integer"
        },
        {
         "name": "ques-Sus-total-PD",
         "rawType": "float64",
         "type": "float"
        },
        {
         "name": "ques-MMSE-Total-PD",
         "rawType": "int64",
         "type": "integer"
        },
        {
         "name": "ques-MMSE-concentracion-PD",
         "rawType": "int64",
         "type": "integer"
        },
        {
         "name": "ques-MMSE-fijacion-PD",
         "rawType": "int64",
         "type": "integer"
        },
        {
         "name": "ques-MMSE-lenguaje-PD",
         "rawType": "int64",
         "type": "integer"
        },
        {
         "name": "ques-MMSE-memoria-PD",
         "rawType": "int64",
         "type": "integer"
        },
        {
         "name": "ques-MMSE-orientacion-PD",
         "rawType": "int64",
         "type": "integer"
        },
        {
         "name": "ques-MMSE-escolaridad-PD",
         "rawType": "int64",
         "type": "integer"
        },
        {
         "name": "eval-TLP-CubCorsi-totalDirectos-PD",
         "rawType": "int64",
         "type": "integer"
        },
        {
         "name": "eval-TLP-CubCorsi-totalinversos-PD",
         "rawType": "int64",
         "type": "integer"
        },
        {
         "name": "eval-TLP-CubCorsi-total-PD",
         "rawType": "int64",
         "type": "integer"
        },
        {
         "name": "eval-TLP-FigRey-tipoCopia-PD",
         "rawType": "int64",
         "type": "integer"
        },
        {
         "name": "eval-TLP-FigRey-totalCopia-PD",
         "rawType": "float64",
         "type": "float"
        },
        {
         "name": "eval-TLP-FigRey-totalMemoria-PD",
         "rawType": "float64",
         "type": "float"
        },
        {
         "name": "eval-TLP-FigRey-Duracion-PD",
         "rawType": "int64",
         "type": "integer"
        },
        {
         "name": "eval-TLP-Stroop-color-PD",
         "rawType": "int64",
         "type": "integer"
        },
        {
         "name": "eval-TLP-Stroop-palabras-PD",
         "rawType": "int64",
         "type": "integer"
        },
        {
         "name": "eval-TLP-Stroop-palabrasColor-PD",
         "rawType": "int64",
         "type": "integer"
        },
        {
         "name": "eval-TLP-Tavec-1_RI_A1-PD",
         "rawType": "int64",
         "type": "integer"
        },
        {
         "name": "eval-TLP-Tavec-2_RI_A5-PD",
         "rawType": "int64",
         "type": "integer"
        },
        {
         "name": "eval-TLP-Tavec-3_RI_AT-PD",
         "rawType": "int64",
         "type": "integer"
        },
        {
         "name": "eval-TLP-Tavec-4_RI_B-PD",
         "rawType": "int64",
         "type": "integer"
        },
        {
         "name": "eval-TLP-Tavec-5_Rg_Pr-PD",
         "rawType": "float64",
         "type": "float"
        },
        {
         "name": "eval-TLP-Tavec-6_Rg_Md-PD",
         "rawType": "float64",
         "type": "float"
        },
        {
         "name": "eval-TLP-Tavec-7_Rg_Rc-PD",
         "rawType": "float64",
         "type": "float"
        },
        {
         "name": "eval-TLP-Tavec-8_RL_CP-PD",
         "rawType": "int64",
         "type": "integer"
        },
        {
         "name": "eval-TLP-Tavec-9_RCl_CP-PD",
         "rawType": "int64",
         "type": "integer"
        },
        {
         "name": "eval-TLP-Tavec-10_RL_LP-PD",
         "rawType": "int64",
         "type": "integer"
        },
        {
         "name": "eval-TLP-Tavec-11_RCl_LP-PD",
         "rawType": "int64",
         "type": "integer"
        },
        {
         "name": "eval-TLP-Tavec-12_ESem_RI_A-PD",
         "rawType": "int64",
         "type": "integer"
        },
        {
         "name": "eval-TLP-Tavec-13_ESem_RI_B-PD",
         "rawType": "int64",
         "type": "integer"
        },
        {
         "name": "eval-TLP-Tavec-14_ESem_RL_CP-PD",
         "rawType": "int64",
         "type": "integer"
        },
        {
         "name": "eval-TLP-Tavec-15_ESem_RL_LP-PD",
         "rawType": "int64",
         "type": "integer"
        },
        {
         "name": "eval-TLP-Tavec-16_ESer_RI_A-PD",
         "rawType": "int64",
         "type": "integer"
        },
        {
         "name": "eval-TLP-Tavec-17_ESer_RI_B-PD",
         "rawType": "int64",
         "type": "integer"
        },
        {
         "name": "eval-TLP-Tavec-18_ESer_RL_CP-PD",
         "rawType": "int64",
         "type": "integer"
        },
        {
         "name": "eval-TLP-Tavec-19_ESer_RL_LP-PD",
         "rawType": "int64",
         "type": "integer"
        },
        {
         "name": "eval-TLP-Tavec-20_P-PD",
         "rawType": "int64",
         "type": "integer"
        },
        {
         "name": "eval-TLP-Tavec-21_I_RL-PD",
         "rawType": "int64",
         "type": "integer"
        },
        {
         "name": "eval-TLP-Tavec-22_I_RCL-PD",
         "rawType": "int64",
         "type": "integer"
        },
        {
         "name": "eval-TLP-Tavec-23_Recon_Ac-PD",
         "rawType": "int64",
         "type": "integer"
        },
        {
         "name": "eval-TLP-Tavec-24_FP-PD",
         "rawType": "int64",
         "type": "integer"
        },
        {
         "name": "eval-TLP-Tavec-25_Discriminabilidad-PD",
         "rawType": "float64",
         "type": "float"
        },
        {
         "name": "eval-TLP-Tavec-26_Sesgo-PD",
         "rawType": "float64",
         "type": "float"
        },
        {
         "name": "eval-TLP-Tavec-27_RI_B_frente_RI_A1-PD",
         "rawType": "float64",
         "type": "float"
        },
        {
         "name": "eval-TLP-Tavec-28_RL_CP_frente_RI_A5-PD",
         "rawType": "float64",
         "type": "float"
        },
        {
         "name": "eval-TLP-Tavec-29_RCl_Cp_frente_RCl_LP-PD",
         "rawType": "float64",
         "type": "float"
        },
        {
         "name": "eval-TLP-Tavec-30_RL_LP_frente_RL_CP-PD",
         "rawType": "float64",
         "type": "float"
        },
        {
         "name": "eval-TLP-Tavec-31_RCl_LP_frente_RL_LP-PD",
         "rawType": "float64",
         "type": "float"
        },
        {
         "name": "eval-TLP-Tavec-32_Recon_Ac_frente_RL_LP-PD",
         "rawType": "float64",
         "type": "float"
        },
        {
         "name": "eval-TLP-Tavec-33_Recon_Ac_frente_RCl_LP-PD",
         "rawType": "float64",
         "type": "float"
        },
        {
         "name": "ED_2Clases",
         "rawType": "object",
         "type": "string"
        }
       ],
       "conversionMethod": "pd.DataFrame",
       "ref": "65fd8dd9-58ad-48dc-bc97-8156f2934111",
       "rows": [
        [
         "0",
         "2",
         "81",
         "12",
         "0",
         "1",
         "3",
         "1",
         "0",
         "1",
         "4",
         "2",
         "False",
         "True",
         "False",
         "True",
         "True",
         "False",
         "False",
         "False",
         "False",
         "False",
         "True",
         "False",
         "False",
         "True",
         "True",
         "False",
         "False",
         "True",
         "True",
         "4",
         "False",
         "0",
         "False",
         "False",
         "False",
         "False",
         "False",
         "False",
         "False",
         "False",
         "False",
         "False",
         "False",
         "4.0",
         "3",
         "5",
         "5",
         "5",
         "5",
         "1",
         "3",
         "4",
         "No fumador",
         "8",
         "106",
         "45",
         "49",
         "12",
         "18",
         "19",
         "92.5",
         "28",
         "5",
         "3",
         "8",
         "2",
         "10",
         "1",
         "6",
         "4",
         "10",
         "4",
         "28.0",
         "11.0",
         "253",
         "78",
         "80",
         "17",
         "4",
         "11",
         "49",
         "5",
         "32.65",
         "36.73",
         "30.61",
         "11",
         "9",
         "8",
         "12",
         "12",
         "2",
         "3",
         "0",
         "3",
         "0",
         "2",
         "2",
         "9",
         "2",
         "6",
         "13",
         "4",
         "84.09",
         "0.14",
         "-20.0",
         "0.0",
         "33.33",
         "37.5",
         "-33.33",
         "-38.46",
         "-7.69",
         "D"
        ],
        [
         "1",
         "2",
         "75",
         "8",
         "0",
         "1",
         "3",
         "2",
         "0",
         "1",
         "1",
         "0",
         "True",
         "True",
         "False",
         "False",
         "False",
         "False",
         "False",
         "False",
         "False",
         "False",
         "True",
         "False",
         "True",
         "False",
         "False",
         "False",
         "False",
         "True",
         "True",
         "4",
         "True",
         "1",
         "False",
         "False",
         "True",
         "False",
         "True",
         "False",
         "False",
         "False",
         "False",
         "False",
         "False",
         "4.0",
         "3",
         "3",
         "1",
         "1",
         "5",
         "1",
         "1",
         "3",
         "No fumador",
         "8",
         "110",
         "52",
         "49",
         "9",
         "16",
         "18",
         "85.0",
         "24",
         "3",
         "3",
         "8",
         "2",
         "8",
         "1",
         "4",
         "2",
         "6",
         "4",
         "14.0",
         "1.5",
         "360",
         "37",
         "66",
         "14",
         "2",
         "9",
         "36",
         "7",
         "25.0",
         "47.22",
         "27.78",
         "8",
         "8",
         "8",
         "8",
         "7",
         "1",
         "2",
         "2",
         "4",
         "1",
         "1",
         "0",
         "26",
         "15",
         "6",
         "10",
         "3",
         "79.55",
         "-0.33",
         "-71.43",
         "12.5",
         "0.0",
         "0.0",
         "0.0",
         "-20.0",
         "-20.0",
         "D"
        ],
        [
         "2",
         "2",
         "72",
         "11",
         "0",
         "0",
         "4",
         "1",
         "0",
         "1",
         "3",
         "2",
         "False",
         "False",
         "False",
         "False",
         "False",
         "False",
         "False",
         "False",
         "False",
         "False",
         "True",
         "False",
         "False",
         "False",
         "True",
         "False",
         "False",
         "True",
         "True",
         "3",
         "False",
         "0",
         "False",
         "False",
         "False",
         "False",
         "False",
         "False",
         "False",
         "False",
         "False",
         "False",
         "False",
         "3.0",
         "3",
         "1",
         "5",
         "5",
         "5",
         "5",
         "5",
         "5",
         "No fumador",
         "6",
         "95",
         "49",
         "35",
         "11",
         "20",
         "20",
         "100.0",
         "30",
         "5",
         "3",
         "9",
         "3",
         "10",
         "1",
         "7",
         "5",
         "12",
         "2",
         "33.0",
         "10.0",
         "226",
         "70",
         "100",
         "39",
         "6",
         "14",
         "56",
         "7",
         "32.14",
         "44.64",
         "23.21",
         "8",
         "8",
         "10",
         "10",
         "11",
         "1",
         "1",
         "3",
         "13",
         "2",
         "0",
         "0",
         "13",
         "6",
         "6",
         "12",
         "1",
         "88.64",
         "-0.6",
         "-14.29",
         "75.0",
         "25.0",
         "-20.0",
         "0.0",
         "-16.67",
         "-16.67",
         "D"
        ],
        [
         "3",
         "2",
         "60",
         "18",
         "2",
         "1",
         "4",
         "2",
         "3",
         "1",
         "4",
         "1",
         "False",
         "False",
         "False",
         "False",
         "False",
         "False",
         "False",
         "False",
         "False",
         "False",
         "False",
         "False",
         "False",
         "False",
         "False",
         "False",
         "True",
         "True",
         "True",
         "3",
         "False",
         "0",
         "False",
         "False",
         "False",
         "False",
         "False",
         "False",
         "False",
         "False",
         "False",
         "False",
         "False",
         "3.0",
         "5",
         "5",
         "5",
         "5",
         "1",
         "3",
         "3",
         "3",
         "Fumador",
         "3",
         "86",
         "46",
         "31",
         "9",
         "15",
         "17",
         "80.0",
         "30",
         "5",
         "3",
         "9",
         "3",
         "10",
         "1",
         "8",
         "6",
         "14",
         "1",
         "34.0",
         "19.0",
         "140",
         "85",
         "110",
         "35",
         "8",
         "14",
         "65",
         "5",
         "26.15",
         "52.31",
         "21.54",
         "12",
         "10",
         "8",
         "10",
         "26",
         "2",
         "6",
         "5",
         "5",
         "0",
         "0",
         "0",
         "1",
         "5",
         "3",
         "16",
         "4",
         "90.91",
         "0.6",
         "60.0",
         "16.67",
         "0.0",
         "50.0",
         "-20.0",
         "-50.0",
         "-37.5",
         "D"
        ],
        [
         "4",
         "2",
         "64",
         "13",
         "0",
         "1",
         "4",
         "1",
         "2",
         "1",
         "2",
         "2",
         "False",
         "False",
         "False",
         "False",
         "False",
         "False",
         "False",
         "False",
         "False",
         "False",
         "False",
         "False",
         "False",
         "False",
         "False",
         "False",
         "False",
         "True",
         "True",
         "3",
         "True",
         "2",
         "False",
         "False",
         "False",
         "True",
         "True",
         "False",
         "False",
         "False",
         "False",
         "False",
         "True",
         "3.0",
         "5",
         "5",
         "5",
         "5",
         "5",
         "5",
         "1",
         "3",
         "No fumador",
         "6",
         "86",
         "41",
         "35",
         "10",
         "19",
         "20",
         "97.5",
         "28",
         "4",
         "3",
         "9",
         "2",
         "10",
         "1",
         "6",
         "6",
         "12",
         "1",
         "36.0",
         "12.0",
         "204",
         "66",
         "80",
         "40",
         "4",
         "10",
         "39",
         "4",
         "35.9",
         "25.64",
         "38.46",
         "6",
         "9",
         "9",
         "9",
         "6",
         "1",
         "0",
         "2",
         "4",
         "0",
         "1",
         "1",
         "8",
         "3",
         "0",
         "10",
         "0",
         "86.36",
         "-0.71",
         "0.0",
         "66.67",
         "0.0",
         "-33.33",
         "0.0",
         "-10.0",
         "-10.0",
         "D"
        ]
       ],
       "shape": {
        "columns": 113,
        "rows": 5
       }
      },
      "text/html": [
       "<div>\n",
       "<style scoped>\n",
       "    .dataframe tbody tr th:only-of-type {\n",
       "        vertical-align: middle;\n",
       "    }\n",
       "\n",
       "    .dataframe tbody tr th {\n",
       "        vertical-align: top;\n",
       "    }\n",
       "\n",
       "    .dataframe thead th {\n",
       "        text-align: right;\n",
       "    }\n",
       "</style>\n",
       "<table border=\"1\" class=\"dataframe\">\n",
       "  <thead>\n",
       "    <tr style=\"text-align: right;\">\n",
       "      <th></th>\n",
       "      <th>demo-genero</th>\n",
       "      <th>demo-edad</th>\n",
       "      <th>clin-reservaCognitiva_total</th>\n",
       "      <th>clin-reservaCognitiva_idiomas</th>\n",
       "      <th>clin-reservaCognitiva_ocupacion</th>\n",
       "      <th>clin-reservaCognitiva_escolaridad</th>\n",
       "      <th>clin-reservaCognitiva_escolaridadPadres</th>\n",
       "      <th>clin-reservaCognitiva_cursos</th>\n",
       "      <th>clin-reservaCognitiva_formacionMusical</th>\n",
       "      <th>clin-reservaCognitiva_actividadLectora</th>\n",
       "      <th>...</th>\n",
       "      <th>eval-TLP-Tavec-25_Discriminabilidad-PD</th>\n",
       "      <th>eval-TLP-Tavec-26_Sesgo-PD</th>\n",
       "      <th>eval-TLP-Tavec-27_RI_B_frente_RI_A1-PD</th>\n",
       "      <th>eval-TLP-Tavec-28_RL_CP_frente_RI_A5-PD</th>\n",
       "      <th>eval-TLP-Tavec-29_RCl_Cp_frente_RCl_LP-PD</th>\n",
       "      <th>eval-TLP-Tavec-30_RL_LP_frente_RL_CP-PD</th>\n",
       "      <th>eval-TLP-Tavec-31_RCl_LP_frente_RL_LP-PD</th>\n",
       "      <th>eval-TLP-Tavec-32_Recon_Ac_frente_RL_LP-PD</th>\n",
       "      <th>eval-TLP-Tavec-33_Recon_Ac_frente_RCl_LP-PD</th>\n",
       "      <th>ED_2Clases</th>\n",
       "    </tr>\n",
       "  </thead>\n",
       "  <tbody>\n",
       "    <tr>\n",
       "      <th>0</th>\n",
       "      <td>2</td>\n",
       "      <td>81</td>\n",
       "      <td>12</td>\n",
       "      <td>0</td>\n",
       "      <td>1</td>\n",
       "      <td>3</td>\n",
       "      <td>1</td>\n",
       "      <td>0</td>\n",
       "      <td>1</td>\n",
       "      <td>4</td>\n",
       "      <td>...</td>\n",
       "      <td>84.09</td>\n",
       "      <td>0.14</td>\n",
       "      <td>-20.00</td>\n",
       "      <td>0.00</td>\n",
       "      <td>33.33</td>\n",
       "      <td>37.50</td>\n",
       "      <td>-33.33</td>\n",
       "      <td>-38.46</td>\n",
       "      <td>-7.69</td>\n",
       "      <td>D</td>\n",
       "    </tr>\n",
       "    <tr>\n",
       "      <th>1</th>\n",
       "      <td>2</td>\n",
       "      <td>75</td>\n",
       "      <td>8</td>\n",
       "      <td>0</td>\n",
       "      <td>1</td>\n",
       "      <td>3</td>\n",
       "      <td>2</td>\n",
       "      <td>0</td>\n",
       "      <td>1</td>\n",
       "      <td>1</td>\n",
       "      <td>...</td>\n",
       "      <td>79.55</td>\n",
       "      <td>-0.33</td>\n",
       "      <td>-71.43</td>\n",
       "      <td>12.50</td>\n",
       "      <td>0.00</td>\n",
       "      <td>0.00</td>\n",
       "      <td>0.00</td>\n",
       "      <td>-20.00</td>\n",
       "      <td>-20.00</td>\n",
       "      <td>D</td>\n",
       "    </tr>\n",
       "    <tr>\n",
       "      <th>2</th>\n",
       "      <td>2</td>\n",
       "      <td>72</td>\n",
       "      <td>11</td>\n",
       "      <td>0</td>\n",
       "      <td>0</td>\n",
       "      <td>4</td>\n",
       "      <td>1</td>\n",
       "      <td>0</td>\n",
       "      <td>1</td>\n",
       "      <td>3</td>\n",
       "      <td>...</td>\n",
       "      <td>88.64</td>\n",
       "      <td>-0.60</td>\n",
       "      <td>-14.29</td>\n",
       "      <td>75.00</td>\n",
       "      <td>25.00</td>\n",
       "      <td>-20.00</td>\n",
       "      <td>0.00</td>\n",
       "      <td>-16.67</td>\n",
       "      <td>-16.67</td>\n",
       "      <td>D</td>\n",
       "    </tr>\n",
       "    <tr>\n",
       "      <th>3</th>\n",
       "      <td>2</td>\n",
       "      <td>60</td>\n",
       "      <td>18</td>\n",
       "      <td>2</td>\n",
       "      <td>1</td>\n",
       "      <td>4</td>\n",
       "      <td>2</td>\n",
       "      <td>3</td>\n",
       "      <td>1</td>\n",
       "      <td>4</td>\n",
       "      <td>...</td>\n",
       "      <td>90.91</td>\n",
       "      <td>0.60</td>\n",
       "      <td>60.00</td>\n",
       "      <td>16.67</td>\n",
       "      <td>0.00</td>\n",
       "      <td>50.00</td>\n",
       "      <td>-20.00</td>\n",
       "      <td>-50.00</td>\n",
       "      <td>-37.50</td>\n",
       "      <td>D</td>\n",
       "    </tr>\n",
       "    <tr>\n",
       "      <th>4</th>\n",
       "      <td>2</td>\n",
       "      <td>64</td>\n",
       "      <td>13</td>\n",
       "      <td>0</td>\n",
       "      <td>1</td>\n",
       "      <td>4</td>\n",
       "      <td>1</td>\n",
       "      <td>2</td>\n",
       "      <td>1</td>\n",
       "      <td>2</td>\n",
       "      <td>...</td>\n",
       "      <td>86.36</td>\n",
       "      <td>-0.71</td>\n",
       "      <td>0.00</td>\n",
       "      <td>66.67</td>\n",
       "      <td>0.00</td>\n",
       "      <td>-33.33</td>\n",
       "      <td>0.00</td>\n",
       "      <td>-10.00</td>\n",
       "      <td>-10.00</td>\n",
       "      <td>D</td>\n",
       "    </tr>\n",
       "  </tbody>\n",
       "</table>\n",
       "<p>5 rows × 113 columns</p>\n",
       "</div>"
      ],
      "text/plain": [
       "   demo-genero  demo-edad  clin-reservaCognitiva_total  \\\n",
       "0            2         81                           12   \n",
       "1            2         75                            8   \n",
       "2            2         72                           11   \n",
       "3            2         60                           18   \n",
       "4            2         64                           13   \n",
       "\n",
       "   clin-reservaCognitiva_idiomas  clin-reservaCognitiva_ocupacion  \\\n",
       "0                              0                                1   \n",
       "1                              0                                1   \n",
       "2                              0                                0   \n",
       "3                              2                                1   \n",
       "4                              0                                1   \n",
       "\n",
       "   clin-reservaCognitiva_escolaridad  clin-reservaCognitiva_escolaridadPadres  \\\n",
       "0                                  3                                        1   \n",
       "1                                  3                                        2   \n",
       "2                                  4                                        1   \n",
       "3                                  4                                        2   \n",
       "4                                  4                                        1   \n",
       "\n",
       "   clin-reservaCognitiva_cursos  clin-reservaCognitiva_formacionMusical  \\\n",
       "0                             0                                       1   \n",
       "1                             0                                       1   \n",
       "2                             0                                       1   \n",
       "3                             3                                       1   \n",
       "4                             2                                       1   \n",
       "\n",
       "   clin-reservaCognitiva_actividadLectora  ...  \\\n",
       "0                                       4  ...   \n",
       "1                                       1  ...   \n",
       "2                                       3  ...   \n",
       "3                                       4  ...   \n",
       "4                                       2  ...   \n",
       "\n",
       "   eval-TLP-Tavec-25_Discriminabilidad-PD  eval-TLP-Tavec-26_Sesgo-PD  \\\n",
       "0                                   84.09                        0.14   \n",
       "1                                   79.55                       -0.33   \n",
       "2                                   88.64                       -0.60   \n",
       "3                                   90.91                        0.60   \n",
       "4                                   86.36                       -0.71   \n",
       "\n",
       "   eval-TLP-Tavec-27_RI_B_frente_RI_A1-PD  \\\n",
       "0                                  -20.00   \n",
       "1                                  -71.43   \n",
       "2                                  -14.29   \n",
       "3                                   60.00   \n",
       "4                                    0.00   \n",
       "\n",
       "   eval-TLP-Tavec-28_RL_CP_frente_RI_A5-PD  \\\n",
       "0                                     0.00   \n",
       "1                                    12.50   \n",
       "2                                    75.00   \n",
       "3                                    16.67   \n",
       "4                                    66.67   \n",
       "\n",
       "   eval-TLP-Tavec-29_RCl_Cp_frente_RCl_LP-PD  \\\n",
       "0                                      33.33   \n",
       "1                                       0.00   \n",
       "2                                      25.00   \n",
       "3                                       0.00   \n",
       "4                                       0.00   \n",
       "\n",
       "   eval-TLP-Tavec-30_RL_LP_frente_RL_CP-PD  \\\n",
       "0                                    37.50   \n",
       "1                                     0.00   \n",
       "2                                   -20.00   \n",
       "3                                    50.00   \n",
       "4                                   -33.33   \n",
       "\n",
       "   eval-TLP-Tavec-31_RCl_LP_frente_RL_LP-PD  \\\n",
       "0                                    -33.33   \n",
       "1                                      0.00   \n",
       "2                                      0.00   \n",
       "3                                    -20.00   \n",
       "4                                      0.00   \n",
       "\n",
       "   eval-TLP-Tavec-32_Recon_Ac_frente_RL_LP-PD  \\\n",
       "0                                      -38.46   \n",
       "1                                      -20.00   \n",
       "2                                      -16.67   \n",
       "3                                      -50.00   \n",
       "4                                      -10.00   \n",
       "\n",
       "   eval-TLP-Tavec-33_Recon_Ac_frente_RCl_LP-PD  ED_2Clases  \n",
       "0                                        -7.69           D  \n",
       "1                                       -20.00           D  \n",
       "2                                       -16.67           D  \n",
       "3                                       -37.50           D  \n",
       "4                                       -10.00           D  \n",
       "\n",
       "[5 rows x 113 columns]"
      ]
     },
     "execution_count": 18,
     "metadata": {},
     "output_type": "execute_result"
    }
   ],
   "source": [
    "df.head()"
   ]
  },
  {
   "cell_type": "code",
   "execution_count": 19,
   "metadata": {},
   "outputs": [
    {
     "name": "stdout",
     "output_type": "stream",
     "text": [
      "<class 'pandas.core.frame.DataFrame'>\n",
      "Index: 307 entries, 0 to 313\n",
      "Columns: 113 entries, demo-genero to ED_2Clases\n",
      "dtypes: bool(31), float64(16), int64(64), object(2)\n",
      "memory usage: 208.4+ KB\n"
     ]
    }
   ],
   "source": [
    "df.info()"
   ]
  },
  {
   "cell_type": "code",
   "execution_count": 20,
   "metadata": {},
   "outputs": [
    {
     "data": {
      "application/vnd.microsoft.datawrangler.viewer.v0+json": {
       "columns": [
        {
         "name": "index",
         "rawType": "object",
         "type": "string"
        },
        {
         "name": "demo-genero",
         "rawType": "float64",
         "type": "float"
        },
        {
         "name": "demo-edad",
         "rawType": "float64",
         "type": "float"
        },
        {
         "name": "clin-reservaCognitiva_total",
         "rawType": "float64",
         "type": "float"
        },
        {
         "name": "clin-reservaCognitiva_idiomas",
         "rawType": "float64",
         "type": "float"
        },
        {
         "name": "clin-reservaCognitiva_ocupacion",
         "rawType": "float64",
         "type": "float"
        },
        {
         "name": "clin-reservaCognitiva_escolaridad",
         "rawType": "float64",
         "type": "float"
        },
        {
         "name": "clin-reservaCognitiva_escolaridadPadres",
         "rawType": "float64",
         "type": "float"
        },
        {
         "name": "clin-reservaCognitiva_cursos",
         "rawType": "float64",
         "type": "float"
        },
        {
         "name": "clin-reservaCognitiva_formacionMusical",
         "rawType": "float64",
         "type": "float"
        },
        {
         "name": "clin-reservaCognitiva_actividadLectora",
         "rawType": "float64",
         "type": "float"
        },
        {
         "name": "clin-reservaCognitiva_juegos",
         "rawType": "float64",
         "type": "float"
        },
        {
         "name": "clin-Covid_numDosis",
         "rawType": "float64",
         "type": "float"
        },
        {
         "name": "clin-Covid_numVecesCovid",
         "rawType": "float64",
         "type": "float"
        },
        {
         "name": "clin-Covid_sentimientoAislado",
         "rawType": "float64",
         "type": "float"
        },
        {
         "name": "clin-nivelSociabilidad",
         "rawType": "float64",
         "type": "float"
        },
        {
         "name": "clin-nivelActFisica",
         "rawType": "float64",
         "type": "float"
        },
        {
         "name": "clin-frecUsoOrdenador",
         "rawType": "float64",
         "type": "float"
        },
        {
         "name": "clin-frecUsoMovil",
         "rawType": "float64",
         "type": "float"
        },
        {
         "name": "clin-frecUsoTele",
         "rawType": "float64",
         "type": "float"
        },
        {
         "name": "clin-frecUsoEmail",
         "rawType": "float64",
         "type": "float"
        },
        {
         "name": "clin-frecUsoRSociales",
         "rawType": "float64",
         "type": "float"
        },
        {
         "name": "clin-frecOlvidos",
         "rawType": "float64",
         "type": "float"
        },
        {
         "name": "ques-QuejasMemo-Total-PD",
         "rawType": "float64",
         "type": "float"
        },
        {
         "name": "ques-NavEspacial-All-PD",
         "rawType": "float64",
         "type": "float"
        },
        {
         "name": "ques-NavEspacial-resultadosWFQ_NO-PD",
         "rawType": "float64",
         "type": "float"
        },
        {
         "name": "ques-NavEspacial-resultadosWFQ_SA-PD",
         "rawType": "float64",
         "type": "float"
        },
        {
         "name": "ques-NavEspacial-resultadosWFQ_DE-PD",
         "rawType": "float64",
         "type": "float"
        },
        {
         "name": "ques-Sus-totalPar-PD",
         "rawType": "float64",
         "type": "float"
        },
        {
         "name": "ques-Sus-totalImpar-PD",
         "rawType": "float64",
         "type": "float"
        },
        {
         "name": "ques-Sus-total-PD",
         "rawType": "float64",
         "type": "float"
        },
        {
         "name": "ques-MMSE-Total-PD",
         "rawType": "float64",
         "type": "float"
        },
        {
         "name": "ques-MMSE-concentracion-PD",
         "rawType": "float64",
         "type": "float"
        },
        {
         "name": "ques-MMSE-fijacion-PD",
         "rawType": "float64",
         "type": "float"
        },
        {
         "name": "ques-MMSE-lenguaje-PD",
         "rawType": "float64",
         "type": "float"
        },
        {
         "name": "ques-MMSE-memoria-PD",
         "rawType": "float64",
         "type": "float"
        },
        {
         "name": "ques-MMSE-orientacion-PD",
         "rawType": "float64",
         "type": "float"
        },
        {
         "name": "ques-MMSE-escolaridad-PD",
         "rawType": "float64",
         "type": "float"
        },
        {
         "name": "eval-TLP-CubCorsi-totalDirectos-PD",
         "rawType": "float64",
         "type": "float"
        },
        {
         "name": "eval-TLP-CubCorsi-totalinversos-PD",
         "rawType": "float64",
         "type": "float"
        },
        {
         "name": "eval-TLP-CubCorsi-total-PD",
         "rawType": "float64",
         "type": "float"
        },
        {
         "name": "eval-TLP-FigRey-tipoCopia-PD",
         "rawType": "float64",
         "type": "float"
        },
        {
         "name": "eval-TLP-FigRey-totalCopia-PD",
         "rawType": "float64",
         "type": "float"
        },
        {
         "name": "eval-TLP-FigRey-totalMemoria-PD",
         "rawType": "float64",
         "type": "float"
        },
        {
         "name": "eval-TLP-FigRey-Duracion-PD",
         "rawType": "float64",
         "type": "float"
        },
        {
         "name": "eval-TLP-Stroop-color-PD",
         "rawType": "float64",
         "type": "float"
        },
        {
         "name": "eval-TLP-Stroop-palabras-PD",
         "rawType": "float64",
         "type": "float"
        },
        {
         "name": "eval-TLP-Stroop-palabrasColor-PD",
         "rawType": "float64",
         "type": "float"
        },
        {
         "name": "eval-TLP-Tavec-1_RI_A1-PD",
         "rawType": "float64",
         "type": "float"
        },
        {
         "name": "eval-TLP-Tavec-2_RI_A5-PD",
         "rawType": "float64",
         "type": "float"
        },
        {
         "name": "eval-TLP-Tavec-3_RI_AT-PD",
         "rawType": "float64",
         "type": "float"
        },
        {
         "name": "eval-TLP-Tavec-4_RI_B-PD",
         "rawType": "float64",
         "type": "float"
        },
        {
         "name": "eval-TLP-Tavec-5_Rg_Pr-PD",
         "rawType": "float64",
         "type": "float"
        },
        {
         "name": "eval-TLP-Tavec-6_Rg_Md-PD",
         "rawType": "float64",
         "type": "float"
        },
        {
         "name": "eval-TLP-Tavec-7_Rg_Rc-PD",
         "rawType": "float64",
         "type": "float"
        },
        {
         "name": "eval-TLP-Tavec-8_RL_CP-PD",
         "rawType": "float64",
         "type": "float"
        },
        {
         "name": "eval-TLP-Tavec-9_RCl_CP-PD",
         "rawType": "float64",
         "type": "float"
        },
        {
         "name": "eval-TLP-Tavec-10_RL_LP-PD",
         "rawType": "float64",
         "type": "float"
        },
        {
         "name": "eval-TLP-Tavec-11_RCl_LP-PD",
         "rawType": "float64",
         "type": "float"
        },
        {
         "name": "eval-TLP-Tavec-12_ESem_RI_A-PD",
         "rawType": "float64",
         "type": "float"
        },
        {
         "name": "eval-TLP-Tavec-13_ESem_RI_B-PD",
         "rawType": "float64",
         "type": "float"
        },
        {
         "name": "eval-TLP-Tavec-14_ESem_RL_CP-PD",
         "rawType": "float64",
         "type": "float"
        },
        {
         "name": "eval-TLP-Tavec-15_ESem_RL_LP-PD",
         "rawType": "float64",
         "type": "float"
        },
        {
         "name": "eval-TLP-Tavec-16_ESer_RI_A-PD",
         "rawType": "float64",
         "type": "float"
        },
        {
         "name": "eval-TLP-Tavec-17_ESer_RI_B-PD",
         "rawType": "float64",
         "type": "float"
        },
        {
         "name": "eval-TLP-Tavec-18_ESer_RL_CP-PD",
         "rawType": "float64",
         "type": "float"
        },
        {
         "name": "eval-TLP-Tavec-19_ESer_RL_LP-PD",
         "rawType": "float64",
         "type": "float"
        },
        {
         "name": "eval-TLP-Tavec-20_P-PD",
         "rawType": "float64",
         "type": "float"
        },
        {
         "name": "eval-TLP-Tavec-21_I_RL-PD",
         "rawType": "float64",
         "type": "float"
        },
        {
         "name": "eval-TLP-Tavec-22_I_RCL-PD",
         "rawType": "float64",
         "type": "float"
        },
        {
         "name": "eval-TLP-Tavec-23_Recon_Ac-PD",
         "rawType": "float64",
         "type": "float"
        },
        {
         "name": "eval-TLP-Tavec-24_FP-PD",
         "rawType": "float64",
         "type": "float"
        },
        {
         "name": "eval-TLP-Tavec-25_Discriminabilidad-PD",
         "rawType": "float64",
         "type": "float"
        },
        {
         "name": "eval-TLP-Tavec-26_Sesgo-PD",
         "rawType": "float64",
         "type": "float"
        },
        {
         "name": "eval-TLP-Tavec-27_RI_B_frente_RI_A1-PD",
         "rawType": "float64",
         "type": "float"
        },
        {
         "name": "eval-TLP-Tavec-28_RL_CP_frente_RI_A5-PD",
         "rawType": "float64",
         "type": "float"
        },
        {
         "name": "eval-TLP-Tavec-29_RCl_Cp_frente_RCl_LP-PD",
         "rawType": "float64",
         "type": "float"
        },
        {
         "name": "eval-TLP-Tavec-30_RL_LP_frente_RL_CP-PD",
         "rawType": "float64",
         "type": "float"
        },
        {
         "name": "eval-TLP-Tavec-31_RCl_LP_frente_RL_LP-PD",
         "rawType": "float64",
         "type": "float"
        },
        {
         "name": "eval-TLP-Tavec-32_Recon_Ac_frente_RL_LP-PD",
         "rawType": "float64",
         "type": "float"
        },
        {
         "name": "eval-TLP-Tavec-33_Recon_Ac_frente_RCl_LP-PD",
         "rawType": "float64",
         "type": "float"
        }
       ],
       "conversionMethod": "pd.DataFrame",
       "ref": "c88d66f1-9a73-4585-a658-65baa345f9d2",
       "rows": [
        [
         "count",
         "307.0",
         "307.0",
         "307.0",
         "307.0",
         "307.0",
         "307.0",
         "307.0",
         "307.0",
         "307.0",
         "307.0",
         "307.0",
         "307.0",
         "307.0",
         "307.0",
         "307.0",
         "307.0",
         "307.0",
         "307.0",
         "307.0",
         "307.0",
         "307.0",
         "307.0",
         "307.0",
         "307.0",
         "307.0",
         "307.0",
         "307.0",
         "307.0",
         "307.0",
         "307.0",
         "307.0",
         "307.0",
         "307.0",
         "307.0",
         "307.0",
         "307.0",
         "307.0",
         "307.0",
         "307.0",
         "307.0",
         "307.0",
         "307.0",
         "307.0",
         "307.0",
         "307.0",
         "307.0",
         "307.0",
         "307.0",
         "307.0",
         "307.0",
         "307.0",
         "307.0",
         "307.0",
         "307.0",
         "307.0",
         "307.0",
         "307.0",
         "307.0",
         "307.0",
         "307.0",
         "307.0",
         "307.0",
         "307.0",
         "307.0",
         "307.0",
         "307.0",
         "307.0",
         "307.0",
         "307.0",
         "307.0",
         "307.0",
         "307.0",
         "307.0",
         "307.0",
         "307.0",
         "307.0",
         "307.0",
         "307.0",
         "307.0",
         "307.0"
        ],
        [
         "mean",
         "1.6872964169381108",
         "69.1042345276873",
         "13.798045602605864",
         "0.3811074918566775",
         "1.716612377850163",
         "4.019543973941368",
         "1.0912052117263844",
         "2.1042345276872965",
         "0.742671009771987",
         "2.495114006514658",
         "1.247557003257329",
         "3.436482084690554",
         "0.8729641693811075",
         "3.436482084690554",
         "3.762214983713355",
         "3.6416938110749184",
         "3.218241042345277",
         "4.804560260586319",
         "4.697068403908795",
         "2.996742671009772",
         "2.3811074918566777",
         "3.013029315960912",
         "4.472312703583062",
         "96.93485342019544",
         "48.25081433224756",
         "36.5472312703583",
         "12.136807817589576",
         "15.009771986970684",
         "15.648208469055374",
         "76.64495114006515",
         "28.68729641693811",
         "4.58957654723127",
         "2.990228013029316",
         "8.703583061889251",
         "2.596091205211726",
         "9.807817589576548",
         "1.0586319218241043",
         "7.403908794788274",
         "6.6547231270358305",
         "14.058631921824103",
         "2.403908794788274",
         "32.358306188925084",
         "15.972312703583063",
         "200.371335504886",
         "60.99348534201955",
         "89.9543973941368",
         "33.498371335504885",
         "6.49185667752443",
         "12.084690553745927",
         "50.732899022801305",
         "5.5667752442996745",
         "31.205374592833873",
         "43.27491856677524",
         "25.519381107491856",
         "10.185667752442997",
         "11.325732899022801",
         "10.794788273615636",
         "11.550488599348535",
         "16.15960912052117",
         "1.257328990228013",
         "4.094462540716612",
         "4.817589576547231",
         "5.029315960912052",
         "0.4527687296416938",
         "0.745928338762215",
         "0.739413680781759",
         "5.944625407166124",
         "4.159609120521172",
         "2.6905537459283386",
         "14.49185667752443",
         "1.977198697068404",
         "92.0784690553746",
         "0.05205211726384365",
         "74945.79729641695",
         "22831.291986970686",
         "3260.1341693811073",
         "32569.65136807818",
         "-6.568599348534202",
         "-25.83456026058632",
         "-20.579706840390877"
        ],
        [
         "std",
         "0.46435159665270576",
         "7.675328545716222",
         "4.223138421675586",
         "0.6427331942540204",
         "1.205034749686026",
         "0.9495143859565291",
         "0.5643153468511231",
         "1.1890905173881865",
         "0.5383071072710442",
         "1.2534171214819476",
         "0.8346766971309753",
         "0.7616446786448772",
         "0.8285068122397411",
         "0.7616446786448772",
         "1.2829216220297663",
         "1.3703040061755116",
         "1.8099018228554224",
         "0.8090049072683339",
         "0.9511385704895656",
         "1.8032258156043917",
         "1.7789715978407528",
         "0.8123794686589206",
         "2.4121930587905496",
         "18.25801794220256",
         "10.293675845226103",
         "7.857818459123073",
         "3.9788058081569715",
         "4.30039163896659",
         "4.49764154415029",
         "18.569714932141625",
         "1.5275043254071152",
         "0.8368292259685355",
         "0.09852978115675085",
         "0.5659916932573709",
         "0.6260032717403229",
         "0.5037806017725132",
         "0.7474239537839855",
         "1.684139109656335",
         "1.9245580525410626",
         "3.169990322559591",
         "1.4279141850121804",
         "4.735171667046452",
         "7.01748857791109",
         "88.19759581580284",
         "13.429553179350632",
         "18.798845879913085",
         "10.466683711998696",
         "2.2160508076318823",
         "2.6120622944474112",
         "11.036199752038492",
         "2.2472794790953197",
         "5.725371989490742",
         "7.454069878582094",
         "6.205876980157158",
         "3.4244492606730237",
         "2.9613119277868516",
         "3.3984193082806486",
         "2.9571931946621066",
         "11.128949934477177",
         "1.3963900818513313",
         "3.2480565261586243",
         "3.404046523325275",
         "4.009276887987201",
         "0.7095638598292842",
         "1.1349792120745423",
         "1.118988067688489",
         "5.134803275636086",
         "4.061286682803437",
         "2.6993115836628987",
         "1.7865964663683587",
         "2.037909019757446",
         "6.253218930675174",
         "0.36946440286898086",
         "527900.0866409305",
         "399509.3888927262",
         "57072.85559867309",
         "516632.9531708568",
         "18.37542986004867",
         "20.799780213113806",
         "17.54216526920429"
        ],
        [
         "min",
         "1.0",
         "55.0",
         "4.0",
         "0.0",
         "0.0",
         "1.0",
         "0.0",
         "0.0",
         "0.0",
         "0.0",
         "0.0",
         "1.0",
         "0.0",
         "1.0",
         "1.0",
         "1.0",
         "1.0",
         "1.0",
         "1.0",
         "1.0",
         "1.0",
         "1.0",
         "0.0",
         "24.0",
         "11.0",
         "8.0",
         "3.0",
         "1.0",
         "0.0",
         "20.0",
         "23.0",
         "1.0",
         "2.0",
         "6.0",
         "0.0",
         "7.0",
         "0.0",
         "4.0",
         "0.0",
         "4.0",
         "1.0",
         "10.0",
         "0.0",
         "75.0",
         "0.0",
         "0.0",
         "0.0",
         "1.0",
         "0.0",
         "12.0",
         "0.0",
         "19.05",
         "8.33",
         "3.03",
         "0.0",
         "0.0",
         "0.0",
         "1.0",
         "1.0",
         "0.0",
         "0.0",
         "0.0",
         "0.0",
         "0.0",
         "0.0",
         "0.0",
         "0.0",
         "0.0",
         "0.0",
         "4.0",
         "0.0",
         "65.91",
         "-0.78",
         "-71.43",
         "-100.0",
         "-50.0",
         "-100.0",
         "-100.0",
         "-100.0",
         "-81.82"
        ],
        [
         "25%",
         "1.0",
         "63.0",
         "11.0",
         "0.0",
         "1.0",
         "3.0",
         "1.0",
         "1.0",
         "0.0",
         "2.0",
         "0.0",
         "3.0",
         "0.0",
         "3.0",
         "3.0",
         "3.0",
         "1.0",
         "5.0",
         "5.0",
         "1.0",
         "1.0",
         "3.0",
         "3.0",
         "86.5",
         "44.0",
         "32.0",
         "9.0",
         "12.0",
         "13.0",
         "62.5",
         "28.0",
         "5.0",
         "3.0",
         "9.0",
         "2.0",
         "10.0",
         "0.5",
         "6.0",
         "6.0",
         "12.0",
         "1.0",
         "31.0",
         "11.0",
         "135.0",
         "53.0",
         "78.5",
         "26.0",
         "5.0",
         "10.0",
         "43.0",
         "4.0",
         "27.475",
         "39.575",
         "21.74",
         "8.0",
         "9.0",
         "8.0",
         "10.0",
         "8.0",
         "0.0",
         "2.0",
         "2.0",
         "2.0",
         "0.0",
         "0.0",
         "0.0",
         "2.0",
         "1.0",
         "0.0",
         "14.0",
         "1.0",
         "88.64",
         "0.0",
         "-9.545",
         "6.904999999999999",
         "-6.25",
         "-15.38",
         "-14.29",
         "-40.0",
         "-30.77"
        ],
        [
         "50%",
         "2.0",
         "69.0",
         "14.0",
         "0.0",
         "2.0",
         "4.0",
         "1.0",
         "3.0",
         "1.0",
         "2.0",
         "2.0",
         "4.0",
         "1.0",
         "4.0",
         "4.0",
         "4.0",
         "4.0",
         "5.0",
         "5.0",
         "3.0",
         "1.0",
         "3.0",
         "4.0",
         "100.0",
         "49.0",
         "37.0",
         "12.0",
         "16.0",
         "17.0",
         "80.0",
         "29.0",
         "5.0",
         "3.0",
         "9.0",
         "3.0",
         "10.0",
         "1.0",
         "7.0",
         "6.0",
         "14.0",
         "2.0",
         "34.0",
         "16.5",
         "184.0",
         "63.0",
         "92.0",
         "34.0",
         "6.0",
         "12.0",
         "51.0",
         "5.0",
         "30.36",
         "44.68",
         "25.4",
         "10.0",
         "11.0",
         "11.0",
         "12.0",
         "13.0",
         "1.0",
         "3.0",
         "4.0",
         "4.0",
         "0.0",
         "0.0",
         "0.0",
         "5.0",
         "3.0",
         "2.0",
         "15.0",
         "1.0",
         "93.18",
         "0.0",
         "16.67",
         "16.67",
         "0.0",
         "-6.67",
         "-6.25",
         "-21.43",
         "-18.75"
        ],
        [
         "75%",
         "2.0",
         "74.5",
         "17.0",
         "1.0",
         "3.0",
         "5.0",
         "1.0",
         "3.0",
         "1.0",
         "4.0",
         "2.0",
         "4.0",
         "1.0",
         "4.0",
         "5.0",
         "5.0",
         "5.0",
         "5.0",
         "5.0",
         "5.0",
         "5.0",
         "3.0",
         "6.0",
         "108.0",
         "54.0",
         "42.0",
         "15.0",
         "19.0",
         "19.5",
         "92.5",
         "30.0",
         "5.0",
         "3.0",
         "9.0",
         "3.0",
         "10.0",
         "2.0",
         "9.0",
         "8.0",
         "16.0",
         "4.0",
         "36.0",
         "21.0",
         "249.0",
         "70.0",
         "103.0",
         "40.0",
         "8.0",
         "14.0",
         "59.0",
         "7.0",
         "34.0",
         "48.245000000000005",
         "28.92",
         "13.0",
         "14.0",
         "13.5",
         "14.0",
         "21.5",
         "2.0",
         "6.0",
         "7.5",
         "7.0",
         "1.0",
         "1.0",
         "1.0",
         "8.0",
         "6.0",
         "4.0",
         "16.0",
         "3.0",
         "97.73",
         "0.33",
         "58.57",
         "40.0",
         "9.09",
         "0.0",
         "0.0",
         "-10.0",
         "-6.67"
        ],
        [
         "max",
         "2.0",
         "88.0",
         "22.0",
         "3.0",
         "4.0",
         "5.0",
         "2.0",
         "3.0",
         "2.0",
         "4.0",
         "2.0",
         "5.0",
         "3.0",
         "5.0",
         "5.0",
         "5.0",
         "5.0",
         "5.0",
         "5.0",
         "5.0",
         "5.0",
         "5.0",
         "13.0",
         "138.0",
         "72.0",
         "56.0",
         "21.0",
         "20.0",
         "20.0",
         "100.0",
         "30.0",
         "5.0",
         "3.0",
         "9.0",
         "3.0",
         "10.0",
         "2.0",
         "13.0",
         "12.0",
         "22.0",
         "6.0",
         "36.0",
         "34.0",
         "537.0",
         "103.0",
         "133.0",
         "74.0",
         "15.0",
         "16.0",
         "77.0",
         "12.0",
         "58.33",
         "63.16",
         "46.67",
         "16.0",
         "16.0",
         "16.0",
         "16.0",
         "54.0",
         "8.0",
         "12.0",
         "12.0",
         "28.0",
         "4.0",
         "10.0",
         "7.0",
         "35.0",
         "25.0",
         "16.0",
         "16.0",
         "12.0",
         "100.0",
         "0.8",
         "6000000.0",
         "7000000.0",
         "1000000.0",
         "9000000.0",
         "66.67",
         "37.5",
         "25.0"
        ]
       ],
       "shape": {
        "columns": 80,
        "rows": 8
       }
      },
      "text/html": [
       "<div>\n",
       "<style scoped>\n",
       "    .dataframe tbody tr th:only-of-type {\n",
       "        vertical-align: middle;\n",
       "    }\n",
       "\n",
       "    .dataframe tbody tr th {\n",
       "        vertical-align: top;\n",
       "    }\n",
       "\n",
       "    .dataframe thead th {\n",
       "        text-align: right;\n",
       "    }\n",
       "</style>\n",
       "<table border=\"1\" class=\"dataframe\">\n",
       "  <thead>\n",
       "    <tr style=\"text-align: right;\">\n",
       "      <th></th>\n",
       "      <th>demo-genero</th>\n",
       "      <th>demo-edad</th>\n",
       "      <th>clin-reservaCognitiva_total</th>\n",
       "      <th>clin-reservaCognitiva_idiomas</th>\n",
       "      <th>clin-reservaCognitiva_ocupacion</th>\n",
       "      <th>clin-reservaCognitiva_escolaridad</th>\n",
       "      <th>clin-reservaCognitiva_escolaridadPadres</th>\n",
       "      <th>clin-reservaCognitiva_cursos</th>\n",
       "      <th>clin-reservaCognitiva_formacionMusical</th>\n",
       "      <th>clin-reservaCognitiva_actividadLectora</th>\n",
       "      <th>...</th>\n",
       "      <th>eval-TLP-Tavec-24_FP-PD</th>\n",
       "      <th>eval-TLP-Tavec-25_Discriminabilidad-PD</th>\n",
       "      <th>eval-TLP-Tavec-26_Sesgo-PD</th>\n",
       "      <th>eval-TLP-Tavec-27_RI_B_frente_RI_A1-PD</th>\n",
       "      <th>eval-TLP-Tavec-28_RL_CP_frente_RI_A5-PD</th>\n",
       "      <th>eval-TLP-Tavec-29_RCl_Cp_frente_RCl_LP-PD</th>\n",
       "      <th>eval-TLP-Tavec-30_RL_LP_frente_RL_CP-PD</th>\n",
       "      <th>eval-TLP-Tavec-31_RCl_LP_frente_RL_LP-PD</th>\n",
       "      <th>eval-TLP-Tavec-32_Recon_Ac_frente_RL_LP-PD</th>\n",
       "      <th>eval-TLP-Tavec-33_Recon_Ac_frente_RCl_LP-PD</th>\n",
       "    </tr>\n",
       "  </thead>\n",
       "  <tbody>\n",
       "    <tr>\n",
       "      <th>count</th>\n",
       "      <td>307.000000</td>\n",
       "      <td>307.000000</td>\n",
       "      <td>307.000000</td>\n",
       "      <td>307.000000</td>\n",
       "      <td>307.000000</td>\n",
       "      <td>307.000000</td>\n",
       "      <td>307.000000</td>\n",
       "      <td>307.000000</td>\n",
       "      <td>307.000000</td>\n",
       "      <td>307.000000</td>\n",
       "      <td>...</td>\n",
       "      <td>307.000000</td>\n",
       "      <td>307.000000</td>\n",
       "      <td>307.000000</td>\n",
       "      <td>3.070000e+02</td>\n",
       "      <td>3.070000e+02</td>\n",
       "      <td>307.000000</td>\n",
       "      <td>3.070000e+02</td>\n",
       "      <td>307.000000</td>\n",
       "      <td>307.00000</td>\n",
       "      <td>307.000000</td>\n",
       "    </tr>\n",
       "    <tr>\n",
       "      <th>mean</th>\n",
       "      <td>1.687296</td>\n",
       "      <td>69.104235</td>\n",
       "      <td>13.798046</td>\n",
       "      <td>0.381107</td>\n",
       "      <td>1.716612</td>\n",
       "      <td>4.019544</td>\n",
       "      <td>1.091205</td>\n",
       "      <td>2.104235</td>\n",
       "      <td>0.742671</td>\n",
       "      <td>2.495114</td>\n",
       "      <td>...</td>\n",
       "      <td>1.977199</td>\n",
       "      <td>92.078469</td>\n",
       "      <td>0.052052</td>\n",
       "      <td>7.494580e+04</td>\n",
       "      <td>2.283129e+04</td>\n",
       "      <td>3260.134169</td>\n",
       "      <td>3.256965e+04</td>\n",
       "      <td>-6.568599</td>\n",
       "      <td>-25.83456</td>\n",
       "      <td>-20.579707</td>\n",
       "    </tr>\n",
       "    <tr>\n",
       "      <th>std</th>\n",
       "      <td>0.464352</td>\n",
       "      <td>7.675329</td>\n",
       "      <td>4.223138</td>\n",
       "      <td>0.642733</td>\n",
       "      <td>1.205035</td>\n",
       "      <td>0.949514</td>\n",
       "      <td>0.564315</td>\n",
       "      <td>1.189091</td>\n",
       "      <td>0.538307</td>\n",
       "      <td>1.253417</td>\n",
       "      <td>...</td>\n",
       "      <td>2.037909</td>\n",
       "      <td>6.253219</td>\n",
       "      <td>0.369464</td>\n",
       "      <td>5.279001e+05</td>\n",
       "      <td>3.995094e+05</td>\n",
       "      <td>57072.855599</td>\n",
       "      <td>5.166330e+05</td>\n",
       "      <td>18.375430</td>\n",
       "      <td>20.79978</td>\n",
       "      <td>17.542165</td>\n",
       "    </tr>\n",
       "    <tr>\n",
       "      <th>min</th>\n",
       "      <td>1.000000</td>\n",
       "      <td>55.000000</td>\n",
       "      <td>4.000000</td>\n",
       "      <td>0.000000</td>\n",
       "      <td>0.000000</td>\n",
       "      <td>1.000000</td>\n",
       "      <td>0.000000</td>\n",
       "      <td>0.000000</td>\n",
       "      <td>0.000000</td>\n",
       "      <td>0.000000</td>\n",
       "      <td>...</td>\n",
       "      <td>0.000000</td>\n",
       "      <td>65.910000</td>\n",
       "      <td>-0.780000</td>\n",
       "      <td>-7.143000e+01</td>\n",
       "      <td>-1.000000e+02</td>\n",
       "      <td>-50.000000</td>\n",
       "      <td>-1.000000e+02</td>\n",
       "      <td>-100.000000</td>\n",
       "      <td>-100.00000</td>\n",
       "      <td>-81.820000</td>\n",
       "    </tr>\n",
       "    <tr>\n",
       "      <th>25%</th>\n",
       "      <td>1.000000</td>\n",
       "      <td>63.000000</td>\n",
       "      <td>11.000000</td>\n",
       "      <td>0.000000</td>\n",
       "      <td>1.000000</td>\n",
       "      <td>3.000000</td>\n",
       "      <td>1.000000</td>\n",
       "      <td>1.000000</td>\n",
       "      <td>0.000000</td>\n",
       "      <td>2.000000</td>\n",
       "      <td>...</td>\n",
       "      <td>1.000000</td>\n",
       "      <td>88.640000</td>\n",
       "      <td>0.000000</td>\n",
       "      <td>-9.545000e+00</td>\n",
       "      <td>6.905000e+00</td>\n",
       "      <td>-6.250000</td>\n",
       "      <td>-1.538000e+01</td>\n",
       "      <td>-14.290000</td>\n",
       "      <td>-40.00000</td>\n",
       "      <td>-30.770000</td>\n",
       "    </tr>\n",
       "    <tr>\n",
       "      <th>50%</th>\n",
       "      <td>2.000000</td>\n",
       "      <td>69.000000</td>\n",
       "      <td>14.000000</td>\n",
       "      <td>0.000000</td>\n",
       "      <td>2.000000</td>\n",
       "      <td>4.000000</td>\n",
       "      <td>1.000000</td>\n",
       "      <td>3.000000</td>\n",
       "      <td>1.000000</td>\n",
       "      <td>2.000000</td>\n",
       "      <td>...</td>\n",
       "      <td>1.000000</td>\n",
       "      <td>93.180000</td>\n",
       "      <td>0.000000</td>\n",
       "      <td>1.667000e+01</td>\n",
       "      <td>1.667000e+01</td>\n",
       "      <td>0.000000</td>\n",
       "      <td>-6.670000e+00</td>\n",
       "      <td>-6.250000</td>\n",
       "      <td>-21.43000</td>\n",
       "      <td>-18.750000</td>\n",
       "    </tr>\n",
       "    <tr>\n",
       "      <th>75%</th>\n",
       "      <td>2.000000</td>\n",
       "      <td>74.500000</td>\n",
       "      <td>17.000000</td>\n",
       "      <td>1.000000</td>\n",
       "      <td>3.000000</td>\n",
       "      <td>5.000000</td>\n",
       "      <td>1.000000</td>\n",
       "      <td>3.000000</td>\n",
       "      <td>1.000000</td>\n",
       "      <td>4.000000</td>\n",
       "      <td>...</td>\n",
       "      <td>3.000000</td>\n",
       "      <td>97.730000</td>\n",
       "      <td>0.330000</td>\n",
       "      <td>5.857000e+01</td>\n",
       "      <td>4.000000e+01</td>\n",
       "      <td>9.090000</td>\n",
       "      <td>0.000000e+00</td>\n",
       "      <td>0.000000</td>\n",
       "      <td>-10.00000</td>\n",
       "      <td>-6.670000</td>\n",
       "    </tr>\n",
       "    <tr>\n",
       "      <th>max</th>\n",
       "      <td>2.000000</td>\n",
       "      <td>88.000000</td>\n",
       "      <td>22.000000</td>\n",
       "      <td>3.000000</td>\n",
       "      <td>4.000000</td>\n",
       "      <td>5.000000</td>\n",
       "      <td>2.000000</td>\n",
       "      <td>3.000000</td>\n",
       "      <td>2.000000</td>\n",
       "      <td>4.000000</td>\n",
       "      <td>...</td>\n",
       "      <td>12.000000</td>\n",
       "      <td>100.000000</td>\n",
       "      <td>0.800000</td>\n",
       "      <td>6.000000e+06</td>\n",
       "      <td>7.000000e+06</td>\n",
       "      <td>1000000.000000</td>\n",
       "      <td>9.000000e+06</td>\n",
       "      <td>66.670000</td>\n",
       "      <td>37.50000</td>\n",
       "      <td>25.000000</td>\n",
       "    </tr>\n",
       "  </tbody>\n",
       "</table>\n",
       "<p>8 rows × 80 columns</p>\n",
       "</div>"
      ],
      "text/plain": [
       "       demo-genero   demo-edad  clin-reservaCognitiva_total  \\\n",
       "count   307.000000  307.000000                   307.000000   \n",
       "mean      1.687296   69.104235                    13.798046   \n",
       "std       0.464352    7.675329                     4.223138   \n",
       "min       1.000000   55.000000                     4.000000   \n",
       "25%       1.000000   63.000000                    11.000000   \n",
       "50%       2.000000   69.000000                    14.000000   \n",
       "75%       2.000000   74.500000                    17.000000   \n",
       "max       2.000000   88.000000                    22.000000   \n",
       "\n",
       "       clin-reservaCognitiva_idiomas  clin-reservaCognitiva_ocupacion  \\\n",
       "count                     307.000000                       307.000000   \n",
       "mean                        0.381107                         1.716612   \n",
       "std                         0.642733                         1.205035   \n",
       "min                         0.000000                         0.000000   \n",
       "25%                         0.000000                         1.000000   \n",
       "50%                         0.000000                         2.000000   \n",
       "75%                         1.000000                         3.000000   \n",
       "max                         3.000000                         4.000000   \n",
       "\n",
       "       clin-reservaCognitiva_escolaridad  \\\n",
       "count                         307.000000   \n",
       "mean                            4.019544   \n",
       "std                             0.949514   \n",
       "min                             1.000000   \n",
       "25%                             3.000000   \n",
       "50%                             4.000000   \n",
       "75%                             5.000000   \n",
       "max                             5.000000   \n",
       "\n",
       "       clin-reservaCognitiva_escolaridadPadres  clin-reservaCognitiva_cursos  \\\n",
       "count                               307.000000                    307.000000   \n",
       "mean                                  1.091205                      2.104235   \n",
       "std                                   0.564315                      1.189091   \n",
       "min                                   0.000000                      0.000000   \n",
       "25%                                   1.000000                      1.000000   \n",
       "50%                                   1.000000                      3.000000   \n",
       "75%                                   1.000000                      3.000000   \n",
       "max                                   2.000000                      3.000000   \n",
       "\n",
       "       clin-reservaCognitiva_formacionMusical  \\\n",
       "count                              307.000000   \n",
       "mean                                 0.742671   \n",
       "std                                  0.538307   \n",
       "min                                  0.000000   \n",
       "25%                                  0.000000   \n",
       "50%                                  1.000000   \n",
       "75%                                  1.000000   \n",
       "max                                  2.000000   \n",
       "\n",
       "       clin-reservaCognitiva_actividadLectora  ...  eval-TLP-Tavec-24_FP-PD  \\\n",
       "count                              307.000000  ...               307.000000   \n",
       "mean                                 2.495114  ...                 1.977199   \n",
       "std                                  1.253417  ...                 2.037909   \n",
       "min                                  0.000000  ...                 0.000000   \n",
       "25%                                  2.000000  ...                 1.000000   \n",
       "50%                                  2.000000  ...                 1.000000   \n",
       "75%                                  4.000000  ...                 3.000000   \n",
       "max                                  4.000000  ...                12.000000   \n",
       "\n",
       "       eval-TLP-Tavec-25_Discriminabilidad-PD  eval-TLP-Tavec-26_Sesgo-PD  \\\n",
       "count                              307.000000                  307.000000   \n",
       "mean                                92.078469                    0.052052   \n",
       "std                                  6.253219                    0.369464   \n",
       "min                                 65.910000                   -0.780000   \n",
       "25%                                 88.640000                    0.000000   \n",
       "50%                                 93.180000                    0.000000   \n",
       "75%                                 97.730000                    0.330000   \n",
       "max                                100.000000                    0.800000   \n",
       "\n",
       "       eval-TLP-Tavec-27_RI_B_frente_RI_A1-PD  \\\n",
       "count                            3.070000e+02   \n",
       "mean                             7.494580e+04   \n",
       "std                              5.279001e+05   \n",
       "min                             -7.143000e+01   \n",
       "25%                             -9.545000e+00   \n",
       "50%                              1.667000e+01   \n",
       "75%                              5.857000e+01   \n",
       "max                              6.000000e+06   \n",
       "\n",
       "       eval-TLP-Tavec-28_RL_CP_frente_RI_A5-PD  \\\n",
       "count                             3.070000e+02   \n",
       "mean                              2.283129e+04   \n",
       "std                               3.995094e+05   \n",
       "min                              -1.000000e+02   \n",
       "25%                               6.905000e+00   \n",
       "50%                               1.667000e+01   \n",
       "75%                               4.000000e+01   \n",
       "max                               7.000000e+06   \n",
       "\n",
       "       eval-TLP-Tavec-29_RCl_Cp_frente_RCl_LP-PD  \\\n",
       "count                                 307.000000   \n",
       "mean                                 3260.134169   \n",
       "std                                 57072.855599   \n",
       "min                                   -50.000000   \n",
       "25%                                    -6.250000   \n",
       "50%                                     0.000000   \n",
       "75%                                     9.090000   \n",
       "max                               1000000.000000   \n",
       "\n",
       "       eval-TLP-Tavec-30_RL_LP_frente_RL_CP-PD  \\\n",
       "count                             3.070000e+02   \n",
       "mean                              3.256965e+04   \n",
       "std                               5.166330e+05   \n",
       "min                              -1.000000e+02   \n",
       "25%                              -1.538000e+01   \n",
       "50%                              -6.670000e+00   \n",
       "75%                               0.000000e+00   \n",
       "max                               9.000000e+06   \n",
       "\n",
       "       eval-TLP-Tavec-31_RCl_LP_frente_RL_LP-PD  \\\n",
       "count                                307.000000   \n",
       "mean                                  -6.568599   \n",
       "std                                   18.375430   \n",
       "min                                 -100.000000   \n",
       "25%                                  -14.290000   \n",
       "50%                                   -6.250000   \n",
       "75%                                    0.000000   \n",
       "max                                   66.670000   \n",
       "\n",
       "       eval-TLP-Tavec-32_Recon_Ac_frente_RL_LP-PD  \\\n",
       "count                                   307.00000   \n",
       "mean                                    -25.83456   \n",
       "std                                      20.79978   \n",
       "min                                    -100.00000   \n",
       "25%                                     -40.00000   \n",
       "50%                                     -21.43000   \n",
       "75%                                     -10.00000   \n",
       "max                                      37.50000   \n",
       "\n",
       "       eval-TLP-Tavec-33_Recon_Ac_frente_RCl_LP-PD  \n",
       "count                                   307.000000  \n",
       "mean                                    -20.579707  \n",
       "std                                      17.542165  \n",
       "min                                     -81.820000  \n",
       "25%                                     -30.770000  \n",
       "50%                                     -18.750000  \n",
       "75%                                      -6.670000  \n",
       "max                                      25.000000  \n",
       "\n",
       "[8 rows x 80 columns]"
      ]
     },
     "execution_count": 20,
     "metadata": {},
     "output_type": "execute_result"
    }
   ],
   "source": [
    "df.describe()"
   ]
  },
  {
   "cell_type": "markdown",
   "metadata": {},
   "source": [
    "Eliminar duplicados"
   ]
  },
  {
   "cell_type": "code",
   "execution_count": 21,
   "metadata": {},
   "outputs": [],
   "source": [
    "duplicate = df[df.duplicated()]"
   ]
  },
  {
   "cell_type": "code",
   "execution_count": 22,
   "metadata": {},
   "outputs": [
    {
     "data": {
      "application/vnd.microsoft.datawrangler.viewer.v0+json": {
       "columns": [
        {
         "name": "index",
         "rawType": "int64",
         "type": "integer"
        },
        {
         "name": "demo-genero",
         "rawType": "int64",
         "type": "integer"
        },
        {
         "name": "demo-edad",
         "rawType": "int64",
         "type": "integer"
        },
        {
         "name": "clin-reservaCognitiva_total",
         "rawType": "int64",
         "type": "integer"
        },
        {
         "name": "clin-reservaCognitiva_idiomas",
         "rawType": "int64",
         "type": "integer"
        },
        {
         "name": "clin-reservaCognitiva_ocupacion",
         "rawType": "int64",
         "type": "integer"
        },
        {
         "name": "clin-reservaCognitiva_escolaridad",
         "rawType": "int64",
         "type": "integer"
        },
        {
         "name": "clin-reservaCognitiva_escolaridadPadres",
         "rawType": "int64",
         "type": "integer"
        },
        {
         "name": "clin-reservaCognitiva_cursos",
         "rawType": "int64",
         "type": "integer"
        },
        {
         "name": "clin-reservaCognitiva_formacionMusical",
         "rawType": "int64",
         "type": "integer"
        },
        {
         "name": "clin-reservaCognitiva_actividadLectora",
         "rawType": "int64",
         "type": "integer"
        },
        {
         "name": "clin-reservaCognitiva_juegos",
         "rawType": "int64",
         "type": "integer"
        },
        {
         "name": "clin-ansiedad",
         "rawType": "bool",
         "type": "boolean"
        },
        {
         "name": "clin-depresion",
         "rawType": "bool",
         "type": "boolean"
        },
        {
         "name": "clin-cardiopatiaIsquemica",
         "rawType": "bool",
         "type": "boolean"
        },
        {
         "name": "clin-diabetes",
         "rawType": "bool",
         "type": "boolean"
        },
        {
         "name": "clin-Hipercolesterolemia",
         "rawType": "bool",
         "type": "boolean"
        },
        {
         "name": "clin-Hipertension",
         "rawType": "bool",
         "type": "boolean"
        },
        {
         "name": "clin-enfermedadesAltTiroides",
         "rawType": "bool",
         "type": "boolean"
        },
        {
         "name": "clin-enfermedadesRenal",
         "rawType": "bool",
         "type": "boolean"
        },
        {
         "name": "clin-enfermedadesHepatica",
         "rawType": "bool",
         "type": "boolean"
        },
        {
         "name": "clin-enfermedadesAntecedentesCardiacos",
         "rawType": "bool",
         "type": "boolean"
        },
        {
         "name": "clin-tratCronico",
         "rawType": "bool",
         "type": "boolean"
        },
        {
         "name": "clin-tratPsicologico",
         "rawType": "bool",
         "type": "boolean"
        },
        {
         "name": "clin-tratPsiquiatrico",
         "rawType": "bool",
         "type": "boolean"
        },
        {
         "name": "clin-familiaresAlzheimer",
         "rawType": "bool",
         "type": "boolean"
        },
        {
         "name": "clin-familiaresOtraDemencia",
         "rawType": "bool",
         "type": "boolean"
        },
        {
         "name": "clin-alcohol",
         "rawType": "bool",
         "type": "boolean"
        },
        {
         "name": "clin-fumador",
         "rawType": "bool",
         "type": "boolean"
        },
        {
         "name": "clin-entornoUrbano",
         "rawType": "bool",
         "type": "boolean"
        },
        {
         "name": "clin-Covid_vacunado",
         "rawType": "bool",
         "type": "boolean"
        },
        {
         "name": "clin-Covid_numDosis",
         "rawType": "int64",
         "type": "integer"
        },
        {
         "name": "clin-Covid_pasadoCovid",
         "rawType": "bool",
         "type": "boolean"
        },
        {
         "name": "clin-Covid_numVecesCovid",
         "rawType": "int64",
         "type": "integer"
        },
        {
         "name": "clin-Covid_sintomaDifRespirar",
         "rawType": "bool",
         "type": "boolean"
        },
        {
         "name": "clin-Covid_sintomaDolMuscular",
         "rawType": "bool",
         "type": "boolean"
        },
        {
         "name": "clin-Covid_sintomaEscalofrios",
         "rawType": "bool",
         "type": "boolean"
        },
        {
         "name": "clin-Covid_sintomaDolGarganta",
         "rawType": "bool",
         "type": "boolean"
        },
        {
         "name": "clin-Covid_sintomaFiebre",
         "rawType": "bool",
         "type": "boolean"
        },
        {
         "name": "clin-Covid_sintomaDolCabeza",
         "rawType": "bool",
         "type": "boolean"
        },
        {
         "name": "clin-Covid_sintomaDiarrea",
         "rawType": "bool",
         "type": "boolean"
        },
        {
         "name": "clin-Covid_sintomaSarpullido",
         "rawType": "bool",
         "type": "boolean"
        },
        {
         "name": "clin-Covid_sintomaPerOlfato",
         "rawType": "bool",
         "type": "boolean"
        },
        {
         "name": "clin-Covid_sintomaPerGusto",
         "rawType": "bool",
         "type": "boolean"
        },
        {
         "name": "clin-Covid_sintomaCansancio",
         "rawType": "bool",
         "type": "boolean"
        },
        {
         "name": "clin-Covid_sentimientoAislado",
         "rawType": "float64",
         "type": "float"
        },
        {
         "name": "clin-nivelSociabilidad",
         "rawType": "int64",
         "type": "integer"
        },
        {
         "name": "clin-nivelActFisica",
         "rawType": "int64",
         "type": "integer"
        },
        {
         "name": "clin-frecUsoOrdenador",
         "rawType": "int64",
         "type": "integer"
        },
        {
         "name": "clin-frecUsoMovil",
         "rawType": "int64",
         "type": "integer"
        },
        {
         "name": "clin-frecUsoTele",
         "rawType": "int64",
         "type": "integer"
        },
        {
         "name": "clin-frecUsoEmail",
         "rawType": "int64",
         "type": "integer"
        },
        {
         "name": "clin-frecUsoRSociales",
         "rawType": "int64",
         "type": "integer"
        },
        {
         "name": "clin-frecOlvidos",
         "rawType": "int64",
         "type": "integer"
        },
        {
         "name": "clin-tipoFumador",
         "rawType": "object",
         "type": "string"
        },
        {
         "name": "ques-QuejasMemo-Total-PD",
         "rawType": "int64",
         "type": "integer"
        },
        {
         "name": "ques-NavEspacial-All-PD",
         "rawType": "int64",
         "type": "integer"
        },
        {
         "name": "ques-NavEspacial-resultadosWFQ_NO-PD",
         "rawType": "int64",
         "type": "integer"
        },
        {
         "name": "ques-NavEspacial-resultadosWFQ_SA-PD",
         "rawType": "int64",
         "type": "integer"
        },
        {
         "name": "ques-NavEspacial-resultadosWFQ_DE-PD",
         "rawType": "int64",
         "type": "integer"
        },
        {
         "name": "ques-Sus-totalPar-PD",
         "rawType": "int64",
         "type": "integer"
        },
        {
         "name": "ques-Sus-totalImpar-PD",
         "rawType": "int64",
         "type": "integer"
        },
        {
         "name": "ques-Sus-total-PD",
         "rawType": "float64",
         "type": "float"
        },
        {
         "name": "ques-MMSE-Total-PD",
         "rawType": "int64",
         "type": "integer"
        },
        {
         "name": "ques-MMSE-concentracion-PD",
         "rawType": "int64",
         "type": "integer"
        },
        {
         "name": "ques-MMSE-fijacion-PD",
         "rawType": "int64",
         "type": "integer"
        },
        {
         "name": "ques-MMSE-lenguaje-PD",
         "rawType": "int64",
         "type": "integer"
        },
        {
         "name": "ques-MMSE-memoria-PD",
         "rawType": "int64",
         "type": "integer"
        },
        {
         "name": "ques-MMSE-orientacion-PD",
         "rawType": "int64",
         "type": "integer"
        },
        {
         "name": "ques-MMSE-escolaridad-PD",
         "rawType": "int64",
         "type": "integer"
        },
        {
         "name": "eval-TLP-CubCorsi-totalDirectos-PD",
         "rawType": "int64",
         "type": "integer"
        },
        {
         "name": "eval-TLP-CubCorsi-totalinversos-PD",
         "rawType": "int64",
         "type": "integer"
        },
        {
         "name": "eval-TLP-CubCorsi-total-PD",
         "rawType": "int64",
         "type": "integer"
        },
        {
         "name": "eval-TLP-FigRey-tipoCopia-PD",
         "rawType": "int64",
         "type": "integer"
        },
        {
         "name": "eval-TLP-FigRey-totalCopia-PD",
         "rawType": "float64",
         "type": "float"
        },
        {
         "name": "eval-TLP-FigRey-totalMemoria-PD",
         "rawType": "float64",
         "type": "float"
        },
        {
         "name": "eval-TLP-FigRey-Duracion-PD",
         "rawType": "int64",
         "type": "integer"
        },
        {
         "name": "eval-TLP-Stroop-color-PD",
         "rawType": "int64",
         "type": "integer"
        },
        {
         "name": "eval-TLP-Stroop-palabras-PD",
         "rawType": "int64",
         "type": "integer"
        },
        {
         "name": "eval-TLP-Stroop-palabrasColor-PD",
         "rawType": "int64",
         "type": "integer"
        },
        {
         "name": "eval-TLP-Tavec-1_RI_A1-PD",
         "rawType": "int64",
         "type": "integer"
        },
        {
         "name": "eval-TLP-Tavec-2_RI_A5-PD",
         "rawType": "int64",
         "type": "integer"
        },
        {
         "name": "eval-TLP-Tavec-3_RI_AT-PD",
         "rawType": "int64",
         "type": "integer"
        },
        {
         "name": "eval-TLP-Tavec-4_RI_B-PD",
         "rawType": "int64",
         "type": "integer"
        },
        {
         "name": "eval-TLP-Tavec-5_Rg_Pr-PD",
         "rawType": "float64",
         "type": "float"
        },
        {
         "name": "eval-TLP-Tavec-6_Rg_Md-PD",
         "rawType": "float64",
         "type": "float"
        },
        {
         "name": "eval-TLP-Tavec-7_Rg_Rc-PD",
         "rawType": "float64",
         "type": "float"
        },
        {
         "name": "eval-TLP-Tavec-8_RL_CP-PD",
         "rawType": "int64",
         "type": "integer"
        },
        {
         "name": "eval-TLP-Tavec-9_RCl_CP-PD",
         "rawType": "int64",
         "type": "integer"
        },
        {
         "name": "eval-TLP-Tavec-10_RL_LP-PD",
         "rawType": "int64",
         "type": "integer"
        },
        {
         "name": "eval-TLP-Tavec-11_RCl_LP-PD",
         "rawType": "int64",
         "type": "integer"
        },
        {
         "name": "eval-TLP-Tavec-12_ESem_RI_A-PD",
         "rawType": "int64",
         "type": "integer"
        },
        {
         "name": "eval-TLP-Tavec-13_ESem_RI_B-PD",
         "rawType": "int64",
         "type": "integer"
        },
        {
         "name": "eval-TLP-Tavec-14_ESem_RL_CP-PD",
         "rawType": "int64",
         "type": "integer"
        },
        {
         "name": "eval-TLP-Tavec-15_ESem_RL_LP-PD",
         "rawType": "int64",
         "type": "integer"
        },
        {
         "name": "eval-TLP-Tavec-16_ESer_RI_A-PD",
         "rawType": "int64",
         "type": "integer"
        },
        {
         "name": "eval-TLP-Tavec-17_ESer_RI_B-PD",
         "rawType": "int64",
         "type": "integer"
        },
        {
         "name": "eval-TLP-Tavec-18_ESer_RL_CP-PD",
         "rawType": "int64",
         "type": "integer"
        },
        {
         "name": "eval-TLP-Tavec-19_ESer_RL_LP-PD",
         "rawType": "int64",
         "type": "integer"
        },
        {
         "name": "eval-TLP-Tavec-20_P-PD",
         "rawType": "int64",
         "type": "integer"
        },
        {
         "name": "eval-TLP-Tavec-21_I_RL-PD",
         "rawType": "int64",
         "type": "integer"
        },
        {
         "name": "eval-TLP-Tavec-22_I_RCL-PD",
         "rawType": "int64",
         "type": "integer"
        },
        {
         "name": "eval-TLP-Tavec-23_Recon_Ac-PD",
         "rawType": "int64",
         "type": "integer"
        },
        {
         "name": "eval-TLP-Tavec-24_FP-PD",
         "rawType": "int64",
         "type": "integer"
        },
        {
         "name": "eval-TLP-Tavec-25_Discriminabilidad-PD",
         "rawType": "float64",
         "type": "float"
        },
        {
         "name": "eval-TLP-Tavec-26_Sesgo-PD",
         "rawType": "float64",
         "type": "float"
        },
        {
         "name": "eval-TLP-Tavec-27_RI_B_frente_RI_A1-PD",
         "rawType": "float64",
         "type": "float"
        },
        {
         "name": "eval-TLP-Tavec-28_RL_CP_frente_RI_A5-PD",
         "rawType": "float64",
         "type": "float"
        },
        {
         "name": "eval-TLP-Tavec-29_RCl_Cp_frente_RCl_LP-PD",
         "rawType": "float64",
         "type": "float"
        },
        {
         "name": "eval-TLP-Tavec-30_RL_LP_frente_RL_CP-PD",
         "rawType": "float64",
         "type": "float"
        },
        {
         "name": "eval-TLP-Tavec-31_RCl_LP_frente_RL_LP-PD",
         "rawType": "float64",
         "type": "float"
        },
        {
         "name": "eval-TLP-Tavec-32_Recon_Ac_frente_RL_LP-PD",
         "rawType": "float64",
         "type": "float"
        },
        {
         "name": "eval-TLP-Tavec-33_Recon_Ac_frente_RCl_LP-PD",
         "rawType": "float64",
         "type": "float"
        },
        {
         "name": "ED_2Clases",
         "rawType": "object",
         "type": "string"
        }
       ],
       "conversionMethod": "pd.DataFrame",
       "ref": "af8a3bfb-08a3-4a9b-b57d-3138ee06820e",
       "rows": [],
       "shape": {
        "columns": 113,
        "rows": 0
       }
      },
      "text/html": [
       "<div>\n",
       "<style scoped>\n",
       "    .dataframe tbody tr th:only-of-type {\n",
       "        vertical-align: middle;\n",
       "    }\n",
       "\n",
       "    .dataframe tbody tr th {\n",
       "        vertical-align: top;\n",
       "    }\n",
       "\n",
       "    .dataframe thead th {\n",
       "        text-align: right;\n",
       "    }\n",
       "</style>\n",
       "<table border=\"1\" class=\"dataframe\">\n",
       "  <thead>\n",
       "    <tr style=\"text-align: right;\">\n",
       "      <th></th>\n",
       "      <th>demo-genero</th>\n",
       "      <th>demo-edad</th>\n",
       "      <th>clin-reservaCognitiva_total</th>\n",
       "      <th>clin-reservaCognitiva_idiomas</th>\n",
       "      <th>clin-reservaCognitiva_ocupacion</th>\n",
       "      <th>clin-reservaCognitiva_escolaridad</th>\n",
       "      <th>clin-reservaCognitiva_escolaridadPadres</th>\n",
       "      <th>clin-reservaCognitiva_cursos</th>\n",
       "      <th>clin-reservaCognitiva_formacionMusical</th>\n",
       "      <th>clin-reservaCognitiva_actividadLectora</th>\n",
       "      <th>...</th>\n",
       "      <th>eval-TLP-Tavec-25_Discriminabilidad-PD</th>\n",
       "      <th>eval-TLP-Tavec-26_Sesgo-PD</th>\n",
       "      <th>eval-TLP-Tavec-27_RI_B_frente_RI_A1-PD</th>\n",
       "      <th>eval-TLP-Tavec-28_RL_CP_frente_RI_A5-PD</th>\n",
       "      <th>eval-TLP-Tavec-29_RCl_Cp_frente_RCl_LP-PD</th>\n",
       "      <th>eval-TLP-Tavec-30_RL_LP_frente_RL_CP-PD</th>\n",
       "      <th>eval-TLP-Tavec-31_RCl_LP_frente_RL_LP-PD</th>\n",
       "      <th>eval-TLP-Tavec-32_Recon_Ac_frente_RL_LP-PD</th>\n",
       "      <th>eval-TLP-Tavec-33_Recon_Ac_frente_RCl_LP-PD</th>\n",
       "      <th>ED_2Clases</th>\n",
       "    </tr>\n",
       "  </thead>\n",
       "  <tbody>\n",
       "  </tbody>\n",
       "</table>\n",
       "<p>0 rows × 113 columns</p>\n",
       "</div>"
      ],
      "text/plain": [
       "Empty DataFrame\n",
       "Columns: [demo-genero, demo-edad, clin-reservaCognitiva_total, clin-reservaCognitiva_idiomas, clin-reservaCognitiva_ocupacion, clin-reservaCognitiva_escolaridad, clin-reservaCognitiva_escolaridadPadres, clin-reservaCognitiva_cursos, clin-reservaCognitiva_formacionMusical, clin-reservaCognitiva_actividadLectora, clin-reservaCognitiva_juegos, clin-ansiedad, clin-depresion, clin-cardiopatiaIsquemica, clin-diabetes, clin-Hipercolesterolemia, clin-Hipertension, clin-enfermedadesAltTiroides, clin-enfermedadesRenal, clin-enfermedadesHepatica, clin-enfermedadesAntecedentesCardiacos, clin-tratCronico, clin-tratPsicologico, clin-tratPsiquiatrico, clin-familiaresAlzheimer, clin-familiaresOtraDemencia, clin-alcohol, clin-fumador, clin-entornoUrbano, clin-Covid_vacunado, clin-Covid_numDosis, clin-Covid_pasadoCovid, clin-Covid_numVecesCovid, clin-Covid_sintomaDifRespirar, clin-Covid_sintomaDolMuscular, clin-Covid_sintomaEscalofrios, clin-Covid_sintomaDolGarganta, clin-Covid_sintomaFiebre, clin-Covid_sintomaDolCabeza, clin-Covid_sintomaDiarrea, clin-Covid_sintomaSarpullido, clin-Covid_sintomaPerOlfato, clin-Covid_sintomaPerGusto, clin-Covid_sintomaCansancio, clin-Covid_sentimientoAislado, clin-nivelSociabilidad, clin-nivelActFisica, clin-frecUsoOrdenador, clin-frecUsoMovil, clin-frecUsoTele, clin-frecUsoEmail, clin-frecUsoRSociales, clin-frecOlvidos, clin-tipoFumador, ques-QuejasMemo-Total-PD, ques-NavEspacial-All-PD, ques-NavEspacial-resultadosWFQ_NO-PD, ques-NavEspacial-resultadosWFQ_SA-PD, ques-NavEspacial-resultadosWFQ_DE-PD, ques-Sus-totalPar-PD, ques-Sus-totalImpar-PD, ques-Sus-total-PD, ques-MMSE-Total-PD, ques-MMSE-concentracion-PD, ques-MMSE-fijacion-PD, ques-MMSE-lenguaje-PD, ques-MMSE-memoria-PD, ques-MMSE-orientacion-PD, ques-MMSE-escolaridad-PD, eval-TLP-CubCorsi-totalDirectos-PD, eval-TLP-CubCorsi-totalinversos-PD, eval-TLP-CubCorsi-total-PD, eval-TLP-FigRey-tipoCopia-PD, eval-TLP-FigRey-totalCopia-PD, eval-TLP-FigRey-totalMemoria-PD, eval-TLP-FigRey-Duracion-PD, eval-TLP-Stroop-color-PD, eval-TLP-Stroop-palabras-PD, eval-TLP-Stroop-palabrasColor-PD, eval-TLP-Tavec-1_RI_A1-PD, eval-TLP-Tavec-2_RI_A5-PD, eval-TLP-Tavec-3_RI_AT-PD, eval-TLP-Tavec-4_RI_B-PD, eval-TLP-Tavec-5_Rg_Pr-PD, eval-TLP-Tavec-6_Rg_Md-PD, eval-TLP-Tavec-7_Rg_Rc-PD, eval-TLP-Tavec-8_RL_CP-PD, eval-TLP-Tavec-9_RCl_CP-PD, eval-TLP-Tavec-10_RL_LP-PD, eval-TLP-Tavec-11_RCl_LP-PD, eval-TLP-Tavec-12_ESem_RI_A-PD, eval-TLP-Tavec-13_ESem_RI_B-PD, eval-TLP-Tavec-14_ESem_RL_CP-PD, eval-TLP-Tavec-15_ESem_RL_LP-PD, eval-TLP-Tavec-16_ESer_RI_A-PD, eval-TLP-Tavec-17_ESer_RI_B-PD, eval-TLP-Tavec-18_ESer_RL_CP-PD, eval-TLP-Tavec-19_ESer_RL_LP-PD, eval-TLP-Tavec-20_P-PD, eval-TLP-Tavec-21_I_RL-PD, ...]\n",
       "Index: []\n",
       "\n",
       "[0 rows x 113 columns]"
      ]
     },
     "execution_count": 22,
     "metadata": {},
     "output_type": "execute_result"
    }
   ],
   "source": [
    "duplicate"
   ]
  },
  {
   "cell_type": "markdown",
   "metadata": {},
   "source": [
    "Eliminar outliers"
   ]
  },
  {
   "cell_type": "code",
   "execution_count": 24,
   "metadata": {},
   "outputs": [],
   "source": [
    "import seaborn as sns\n",
    "import matplotlib.pyplot as plt\n",
    "\n",
    "sns.set_theme(style=\"whitegrid\")\n",
    "for column in df.select_dtypes(include=['number']).columns:\n",
    "    plt.figure(figsize=(8, 5))\n",
    "    sns.boxplot(x=df[column], color='skyblue')\n",
    "    plt.title(f'Boxplot of {column}')\n",
    "    plt.xlabel(column)\n",
    "    plt.xticks(rotation=45)\n",
    "    plt.savefig(f'boxplots/{column}.png', bbox_inches='tight')\n",
    "    plt.close()"
   ]
  },
  {
   "cell_type": "code",
   "execution_count": 25,
   "metadata": {},
   "outputs": [],
   "source": [
    "from scipy import stats\n",
    "import numpy as np\n",
    "\n",
    "num_cols = df.select_dtypes(include=[\"number\"]).columns\n",
    "z_scores = np.abs(stats.zscore(df[num_cols]))\n",
    "df_filtered = df[(z_scores < 3).all(axis=1)]"
   ]
  },
  {
   "cell_type": "code",
   "execution_count": 26,
   "metadata": {},
   "outputs": [
    {
     "data": {
      "application/vnd.microsoft.datawrangler.viewer.v0+json": {
       "columns": [
        {
         "name": "index",
         "rawType": "object",
         "type": "string"
        },
        {
         "name": "demo-genero",
         "rawType": "float64",
         "type": "float"
        },
        {
         "name": "demo-edad",
         "rawType": "float64",
         "type": "float"
        },
        {
         "name": "clin-reservaCognitiva_total",
         "rawType": "float64",
         "type": "float"
        },
        {
         "name": "clin-reservaCognitiva_idiomas",
         "rawType": "float64",
         "type": "float"
        },
        {
         "name": "clin-reservaCognitiva_ocupacion",
         "rawType": "float64",
         "type": "float"
        },
        {
         "name": "clin-reservaCognitiva_escolaridad",
         "rawType": "float64",
         "type": "float"
        },
        {
         "name": "clin-reservaCognitiva_escolaridadPadres",
         "rawType": "float64",
         "type": "float"
        },
        {
         "name": "clin-reservaCognitiva_cursos",
         "rawType": "float64",
         "type": "float"
        },
        {
         "name": "clin-reservaCognitiva_formacionMusical",
         "rawType": "float64",
         "type": "float"
        },
        {
         "name": "clin-reservaCognitiva_actividadLectora",
         "rawType": "float64",
         "type": "float"
        },
        {
         "name": "clin-reservaCognitiva_juegos",
         "rawType": "float64",
         "type": "float"
        },
        {
         "name": "clin-Covid_numDosis",
         "rawType": "float64",
         "type": "float"
        },
        {
         "name": "clin-Covid_numVecesCovid",
         "rawType": "float64",
         "type": "float"
        },
        {
         "name": "clin-Covid_sentimientoAislado",
         "rawType": "float64",
         "type": "float"
        },
        {
         "name": "clin-nivelSociabilidad",
         "rawType": "float64",
         "type": "float"
        },
        {
         "name": "clin-nivelActFisica",
         "rawType": "float64",
         "type": "float"
        },
        {
         "name": "clin-frecUsoOrdenador",
         "rawType": "float64",
         "type": "float"
        },
        {
         "name": "clin-frecUsoMovil",
         "rawType": "float64",
         "type": "float"
        },
        {
         "name": "clin-frecUsoTele",
         "rawType": "float64",
         "type": "float"
        },
        {
         "name": "clin-frecUsoEmail",
         "rawType": "float64",
         "type": "float"
        },
        {
         "name": "clin-frecUsoRSociales",
         "rawType": "float64",
         "type": "float"
        },
        {
         "name": "clin-frecOlvidos",
         "rawType": "float64",
         "type": "float"
        },
        {
         "name": "ques-QuejasMemo-Total-PD",
         "rawType": "float64",
         "type": "float"
        },
        {
         "name": "ques-NavEspacial-All-PD",
         "rawType": "float64",
         "type": "float"
        },
        {
         "name": "ques-NavEspacial-resultadosWFQ_NO-PD",
         "rawType": "float64",
         "type": "float"
        },
        {
         "name": "ques-NavEspacial-resultadosWFQ_SA-PD",
         "rawType": "float64",
         "type": "float"
        },
        {
         "name": "ques-NavEspacial-resultadosWFQ_DE-PD",
         "rawType": "float64",
         "type": "float"
        },
        {
         "name": "ques-Sus-totalPar-PD",
         "rawType": "float64",
         "type": "float"
        },
        {
         "name": "ques-Sus-totalImpar-PD",
         "rawType": "float64",
         "type": "float"
        },
        {
         "name": "ques-Sus-total-PD",
         "rawType": "float64",
         "type": "float"
        },
        {
         "name": "ques-MMSE-Total-PD",
         "rawType": "float64",
         "type": "float"
        },
        {
         "name": "ques-MMSE-concentracion-PD",
         "rawType": "float64",
         "type": "float"
        },
        {
         "name": "ques-MMSE-fijacion-PD",
         "rawType": "float64",
         "type": "float"
        },
        {
         "name": "ques-MMSE-lenguaje-PD",
         "rawType": "float64",
         "type": "float"
        },
        {
         "name": "ques-MMSE-memoria-PD",
         "rawType": "float64",
         "type": "float"
        },
        {
         "name": "ques-MMSE-orientacion-PD",
         "rawType": "float64",
         "type": "float"
        },
        {
         "name": "ques-MMSE-escolaridad-PD",
         "rawType": "float64",
         "type": "float"
        },
        {
         "name": "eval-TLP-CubCorsi-totalDirectos-PD",
         "rawType": "float64",
         "type": "float"
        },
        {
         "name": "eval-TLP-CubCorsi-totalinversos-PD",
         "rawType": "float64",
         "type": "float"
        },
        {
         "name": "eval-TLP-CubCorsi-total-PD",
         "rawType": "float64",
         "type": "float"
        },
        {
         "name": "eval-TLP-FigRey-tipoCopia-PD",
         "rawType": "float64",
         "type": "float"
        },
        {
         "name": "eval-TLP-FigRey-totalCopia-PD",
         "rawType": "float64",
         "type": "float"
        },
        {
         "name": "eval-TLP-FigRey-totalMemoria-PD",
         "rawType": "float64",
         "type": "float"
        },
        {
         "name": "eval-TLP-FigRey-Duracion-PD",
         "rawType": "float64",
         "type": "float"
        },
        {
         "name": "eval-TLP-Stroop-color-PD",
         "rawType": "float64",
         "type": "float"
        },
        {
         "name": "eval-TLP-Stroop-palabras-PD",
         "rawType": "float64",
         "type": "float"
        },
        {
         "name": "eval-TLP-Stroop-palabrasColor-PD",
         "rawType": "float64",
         "type": "float"
        },
        {
         "name": "eval-TLP-Tavec-1_RI_A1-PD",
         "rawType": "float64",
         "type": "float"
        },
        {
         "name": "eval-TLP-Tavec-2_RI_A5-PD",
         "rawType": "float64",
         "type": "float"
        },
        {
         "name": "eval-TLP-Tavec-3_RI_AT-PD",
         "rawType": "float64",
         "type": "float"
        },
        {
         "name": "eval-TLP-Tavec-4_RI_B-PD",
         "rawType": "float64",
         "type": "float"
        },
        {
         "name": "eval-TLP-Tavec-5_Rg_Pr-PD",
         "rawType": "float64",
         "type": "float"
        },
        {
         "name": "eval-TLP-Tavec-6_Rg_Md-PD",
         "rawType": "float64",
         "type": "float"
        },
        {
         "name": "eval-TLP-Tavec-7_Rg_Rc-PD",
         "rawType": "float64",
         "type": "float"
        },
        {
         "name": "eval-TLP-Tavec-8_RL_CP-PD",
         "rawType": "float64",
         "type": "float"
        },
        {
         "name": "eval-TLP-Tavec-9_RCl_CP-PD",
         "rawType": "float64",
         "type": "float"
        },
        {
         "name": "eval-TLP-Tavec-10_RL_LP-PD",
         "rawType": "float64",
         "type": "float"
        },
        {
         "name": "eval-TLP-Tavec-11_RCl_LP-PD",
         "rawType": "float64",
         "type": "float"
        },
        {
         "name": "eval-TLP-Tavec-12_ESem_RI_A-PD",
         "rawType": "float64",
         "type": "float"
        },
        {
         "name": "eval-TLP-Tavec-13_ESem_RI_B-PD",
         "rawType": "float64",
         "type": "float"
        },
        {
         "name": "eval-TLP-Tavec-14_ESem_RL_CP-PD",
         "rawType": "float64",
         "type": "float"
        },
        {
         "name": "eval-TLP-Tavec-15_ESem_RL_LP-PD",
         "rawType": "float64",
         "type": "float"
        },
        {
         "name": "eval-TLP-Tavec-16_ESer_RI_A-PD",
         "rawType": "float64",
         "type": "float"
        },
        {
         "name": "eval-TLP-Tavec-17_ESer_RI_B-PD",
         "rawType": "float64",
         "type": "float"
        },
        {
         "name": "eval-TLP-Tavec-18_ESer_RL_CP-PD",
         "rawType": "float64",
         "type": "float"
        },
        {
         "name": "eval-TLP-Tavec-19_ESer_RL_LP-PD",
         "rawType": "float64",
         "type": "float"
        },
        {
         "name": "eval-TLP-Tavec-20_P-PD",
         "rawType": "float64",
         "type": "float"
        },
        {
         "name": "eval-TLP-Tavec-21_I_RL-PD",
         "rawType": "float64",
         "type": "float"
        },
        {
         "name": "eval-TLP-Tavec-22_I_RCL-PD",
         "rawType": "float64",
         "type": "float"
        },
        {
         "name": "eval-TLP-Tavec-23_Recon_Ac-PD",
         "rawType": "float64",
         "type": "float"
        },
        {
         "name": "eval-TLP-Tavec-24_FP-PD",
         "rawType": "float64",
         "type": "float"
        },
        {
         "name": "eval-TLP-Tavec-25_Discriminabilidad-PD",
         "rawType": "float64",
         "type": "float"
        },
        {
         "name": "eval-TLP-Tavec-26_Sesgo-PD",
         "rawType": "float64",
         "type": "float"
        },
        {
         "name": "eval-TLP-Tavec-27_RI_B_frente_RI_A1-PD",
         "rawType": "float64",
         "type": "float"
        },
        {
         "name": "eval-TLP-Tavec-28_RL_CP_frente_RI_A5-PD",
         "rawType": "float64",
         "type": "float"
        },
        {
         "name": "eval-TLP-Tavec-29_RCl_Cp_frente_RCl_LP-PD",
         "rawType": "float64",
         "type": "float"
        },
        {
         "name": "eval-TLP-Tavec-30_RL_LP_frente_RL_CP-PD",
         "rawType": "float64",
         "type": "float"
        },
        {
         "name": "eval-TLP-Tavec-31_RCl_LP_frente_RL_LP-PD",
         "rawType": "float64",
         "type": "float"
        },
        {
         "name": "eval-TLP-Tavec-32_Recon_Ac_frente_RL_LP-PD",
         "rawType": "float64",
         "type": "float"
        },
        {
         "name": "eval-TLP-Tavec-33_Recon_Ac_frente_RCl_LP-PD",
         "rawType": "float64",
         "type": "float"
        }
       ],
       "conversionMethod": "pd.DataFrame",
       "ref": "fead2b81-34e7-42c8-b150-7433c98bd6ac",
       "rows": [
        [
         "count",
         "199.0",
         "199.0",
         "199.0",
         "199.0",
         "199.0",
         "199.0",
         "199.0",
         "199.0",
         "199.0",
         "199.0",
         "199.0",
         "199.0",
         "199.0",
         "199.0",
         "199.0",
         "199.0",
         "199.0",
         "199.0",
         "199.0",
         "199.0",
         "199.0",
         "199.0",
         "199.0",
         "199.0",
         "199.0",
         "199.0",
         "199.0",
         "199.0",
         "199.0",
         "199.0",
         "199.0",
         "199.0",
         "199.0",
         "199.0",
         "199.0",
         "199.0",
         "199.0",
         "199.0",
         "199.0",
         "199.0",
         "199.0",
         "199.0",
         "199.0",
         "199.0",
         "199.0",
         "199.0",
         "199.0",
         "199.0",
         "199.0",
         "199.0",
         "199.0",
         "199.0",
         "199.0",
         "199.0",
         "199.0",
         "199.0",
         "199.0",
         "199.0",
         "199.0",
         "199.0",
         "199.0",
         "199.0",
         "199.0",
         "199.0",
         "199.0",
         "199.0",
         "199.0",
         "199.0",
         "199.0",
         "199.0",
         "199.0",
         "199.0",
         "199.0",
         "199.0",
         "199.0",
         "199.0",
         "199.0",
         "199.0",
         "199.0",
         "199.0"
        ],
        [
         "mean",
         "1.6984924623115578",
         "67.82412060301507",
         "14.507537688442211",
         "0.39195979899497485",
         "1.879396984924623",
         "4.180904522613066",
         "1.1105527638190955",
         "2.301507537688442",
         "0.7386934673366834",
         "2.6532663316582914",
         "1.2512562814070352",
         "3.487437185929648",
         "0.9447236180904522",
         "3.487437185929648",
         "3.798994974874372",
         "3.7889447236180906",
         "3.407035175879397",
         "4.969849246231155",
         "4.874371859296482",
         "3.2613065326633164",
         "2.5527638190954773",
         "2.969849246231156",
         "4.28643216080402",
         "97.80904522613065",
         "48.653266331658294",
         "36.869346733668344",
         "12.28643216080402",
         "15.4321608040201",
         "16.07537688442211",
         "78.76884422110552",
         "29.14070351758794",
         "4.743718592964824",
         "3.0",
         "8.814070351758794",
         "2.6834170854271355",
         "9.899497487437186",
         "1.135678391959799",
         "7.49748743718593",
         "6.8793969849246235",
         "14.376884422110553",
         "2.236180904522613",
         "33.13316582914573",
         "16.86180904522613",
         "185.76381909547737",
         "63.914572864321606",
         "93.98994974874371",
         "35.66834170854271",
         "6.64321608040201",
         "12.477386934673367",
         "52.41206030150754",
         "5.633165829145729",
         "30.67180904522613",
         "43.78050251256281",
         "25.547286432160803",
         "10.738693467336683",
         "11.819095477386934",
         "11.396984924623116",
         "12.105527638190955",
         "17.271356783919597",
         "1.2160804020100502",
         "4.522613065326633",
         "5.326633165829146",
         "5.0201005025125625",
         "0.41708542713567837",
         "0.6733668341708543",
         "0.6884422110552764",
         "5.653266331658291",
         "3.7839195979899496",
         "2.3115577889447234",
         "14.77889447236181",
         "1.6683417085427135",
         "93.43251256281408",
         "0.048341708542713566",
         "30.307336683417088",
         "23.036130653266333",
         "3.4607537688442216",
         "-4.741959798994975",
         "-6.06467336683417",
         "-23.037638190954773",
         "-18.14326633165829"
        ],
        [
         "std",
         "0.4600699756761507",
         "7.071369297594153",
         "4.046284424478144",
         "0.641286332297733",
         "1.1658125177126508",
         "0.8630678110053602",
         "0.566612471543814",
         "1.0586573060294644",
         "0.5337690469314976",
         "1.2534303977654826",
         "0.83918306213001",
         "0.6952893190579597",
         "0.8480278958360605",
         "0.6952893190579597",
         "1.2471377310372103",
         "1.3125956980830236",
         "1.775293617419197",
         "0.22269124657232042",
         "0.5215521535772536",
         "1.7615593131211837",
         "1.8301570003573622",
         "0.7514937833751183",
         "2.2368282997576774",
         "16.83501997529707",
         "9.479663340803397",
         "7.079848702613344",
         "3.743461212928195",
         "4.061916109308755",
         "4.0276000741435025",
         "17.56997077117241",
         "0.9693804683726155",
         "0.5501590598337922",
         "0.0",
         "0.39003109831383426",
         "0.5176446090927399",
         "0.30142715880351956",
         "0.72938566725803",
         "1.595050335988281",
         "1.739478511831111",
         "2.86984818901426",
         "1.3960613743842576",
         "3.4569656700752724",
         "6.589688052557479",
         "69.61916241409283",
         "10.869182581657249",
         "14.809562140912298",
         "9.174544976128743",
         "2.0346348811366854",
         "2.262616971925787",
         "9.31876868336816",
         "1.888590283846816",
         "4.533595774903272",
         "6.377057659506492",
         "5.572943174810189",
         "2.954547992486601",
         "2.5140890243090355",
         "2.921219987769374",
         "2.4749083439798247",
         "10.397976379868572",
         "1.1757407781229892",
         "3.155601273930288",
         "3.3103517194049332",
         "3.6555752341975585",
         "0.6450350767525008",
         "0.8580246406397529",
         "0.8895675293761226",
         "4.444424140860177",
         "3.086062299882391",
         "2.099402773524403",
         "1.3526467820870693",
         "1.5668770857465084",
         "4.752060235669077",
         "0.33684778179482855",
         "59.54786242711485",
         "42.45306053859903",
         "13.480767667447966",
         "16.337537080507623",
         "13.893145492857304",
         "17.671345805441753",
         "14.66631411023998"
        ],
        [
         "min",
         "1.0",
         "55.0",
         "4.0",
         "0.0",
         "0.0",
         "2.0",
         "0.0",
         "0.0",
         "0.0",
         "0.0",
         "0.0",
         "2.0",
         "0.0",
         "2.0",
         "1.0",
         "1.0",
         "1.0",
         "3.0",
         "2.0",
         "1.0",
         "1.0",
         "1.0",
         "0.0",
         "50.0",
         "20.0",
         "15.0",
         "3.0",
         "3.0",
         "4.0",
         "27.5",
         "26.0",
         "3.0",
         "3.0",
         "8.0",
         "1.0",
         "9.0",
         "0.0",
         "4.0",
         "2.0",
         "8.0",
         "1.0",
         "20.0",
         "1.0",
         "75.0",
         "34.0",
         "56.0",
         "15.0",
         "3.0",
         "5.0",
         "30.0",
         "1.0",
         "19.05",
         "22.5",
         "9.76",
         "2.0",
         "6.0",
         "4.0",
         "6.0",
         "3.0",
         "0.0",
         "0.0",
         "0.0",
         "0.0",
         "0.0",
         "0.0",
         "0.0",
         "0.0",
         "0.0",
         "0.0",
         "10.0",
         "0.0",
         "79.55",
         "-0.71",
         "-55.56",
         "-27.27",
         "-36.36",
         "-83.33",
         "-50.0",
         "-69.23",
         "-60.0"
        ],
        [
         "25%",
         "1.0",
         "62.5",
         "11.5",
         "0.0",
         "1.0",
         "4.0",
         "1.0",
         "2.0",
         "0.0",
         "2.0",
         "0.0",
         "3.0",
         "0.0",
         "3.0",
         "3.0",
         "3.0",
         "1.0",
         "5.0",
         "5.0",
         "1.0",
         "1.0",
         "3.0",
         "3.0",
         "88.0",
         "44.0",
         "33.0",
         "10.0",
         "13.0",
         "14.0",
         "67.5",
         "28.0",
         "5.0",
         "3.0",
         "9.0",
         "2.0",
         "10.0",
         "1.0",
         "6.0",
         "6.0",
         "12.0",
         "1.0",
         "32.0",
         "12.0",
         "130.0",
         "56.0",
         "82.5",
         "30.0",
         "5.0",
         "11.0",
         "45.0",
         "4.0",
         "27.52",
         "40.0",
         "21.705",
         "9.0",
         "10.0",
         "9.0",
         "10.5",
         "9.0",
         "0.0",
         "2.0",
         "3.0",
         "2.0",
         "0.0",
         "0.0",
         "0.0",
         "2.0",
         "1.0",
         "0.0",
         "14.0",
         "1.0",
         "90.91",
         "0.0",
         "0.0",
         "0.0",
         "-6.25",
         "-14.29",
         "-12.5",
         "-36.93",
         "-25.0"
        ],
        [
         "50%",
         "2.0",
         "68.0",
         "15.0",
         "0.0",
         "2.0",
         "4.0",
         "1.0",
         "3.0",
         "1.0",
         "3.0",
         "2.0",
         "4.0",
         "1.0",
         "4.0",
         "4.0",
         "4.0",
         "5.0",
         "5.0",
         "5.0",
         "3.0",
         "1.0",
         "3.0",
         "4.0",
         "100.0",
         "49.0",
         "37.0",
         "12.0",
         "16.0",
         "18.0",
         "82.5",
         "29.0",
         "5.0",
         "3.0",
         "9.0",
         "3.0",
         "10.0",
         "1.0",
         "7.0",
         "7.0",
         "14.0",
         "1.0",
         "34.0",
         "17.0",
         "178.0",
         "64.0",
         "95.0",
         "35.0",
         "7.0",
         "13.0",
         "52.0",
         "5.0",
         "30.3",
         "45.0",
         "25.0",
         "11.0",
         "12.0",
         "12.0",
         "12.0",
         "14.0",
         "1.0",
         "4.0",
         "5.0",
         "4.0",
         "0.0",
         "0.0",
         "0.0",
         "5.0",
         "3.0",
         "2.0",
         "15.0",
         "1.0",
         "93.18",
         "0.0",
         "20.0",
         "14.29",
         "0.0",
         "-6.67",
         "-6.67",
         "-18.75",
         "-15.38"
        ],
        [
         "75%",
         "2.0",
         "73.0",
         "18.0",
         "1.0",
         "3.0",
         "5.0",
         "1.0",
         "3.0",
         "1.0",
         "4.0",
         "2.0",
         "4.0",
         "1.5",
         "4.0",
         "5.0",
         "5.0",
         "5.0",
         "5.0",
         "5.0",
         "5.0",
         "5.0",
         "3.0",
         "6.0",
         "107.0",
         "54.0",
         "42.0",
         "15.0",
         "19.0",
         "19.0",
         "92.5",
         "30.0",
         "5.0",
         "3.0",
         "9.0",
         "3.0",
         "10.0",
         "2.0",
         "9.0",
         "8.0",
         "17.0",
         "4.0",
         "36.0",
         "21.0",
         "232.0",
         "72.0",
         "106.0",
         "42.0",
         "8.0",
         "14.0",
         "60.0",
         "7.0",
         "33.33",
         "48.415",
         "29.130000000000003",
         "13.0",
         "14.0",
         "14.0",
         "14.0",
         "23.0",
         "2.0",
         "6.0",
         "8.0",
         "7.0",
         "1.0",
         "1.0",
         "1.0",
         "8.0",
         "5.5",
         "4.0",
         "16.0",
         "2.0",
         "97.73",
         "0.33",
         "60.0",
         "33.33",
         "9.545",
         "0.0",
         "0.0",
         "-7.415",
         "-6.67"
        ],
        [
         "max",
         "2.0",
         "88.0",
         "22.0",
         "2.0",
         "4.0",
         "5.0",
         "2.0",
         "3.0",
         "2.0",
         "4.0",
         "2.0",
         "5.0",
         "3.0",
         "5.0",
         "5.0",
         "5.0",
         "5.0",
         "5.0",
         "5.0",
         "5.0",
         "5.0",
         "5.0",
         "10.0",
         "138.0",
         "72.0",
         "52.0",
         "21.0",
         "20.0",
         "20.0",
         "100.0",
         "30.0",
         "5.0",
         "3.0",
         "9.0",
         "3.0",
         "10.0",
         "2.0",
         "11.0",
         "12.0",
         "21.0",
         "4.0",
         "36.0",
         "34.0",
         "407.0",
         "87.0",
         "126.0",
         "63.0",
         "13.0",
         "16.0",
         "76.0",
         "10.0",
         "44.74",
         "58.54",
         "42.86",
         "16.0",
         "16.0",
         "16.0",
         "16.0",
         "47.0",
         "5.0",
         "12.0",
         "12.0",
         "17.0",
         "2.0",
         "4.0",
         "4.0",
         "21.0",
         "15.0",
         "9.0",
         "16.0",
         "8.0",
         "100.0",
         "0.78",
         "400.0",
         "500.0",
         "44.44",
         "50.0",
         "40.0",
         "18.18",
         "18.18"
        ]
       ],
       "shape": {
        "columns": 80,
        "rows": 8
       }
      },
      "text/html": [
       "<div>\n",
       "<style scoped>\n",
       "    .dataframe tbody tr th:only-of-type {\n",
       "        vertical-align: middle;\n",
       "    }\n",
       "\n",
       "    .dataframe tbody tr th {\n",
       "        vertical-align: top;\n",
       "    }\n",
       "\n",
       "    .dataframe thead th {\n",
       "        text-align: right;\n",
       "    }\n",
       "</style>\n",
       "<table border=\"1\" class=\"dataframe\">\n",
       "  <thead>\n",
       "    <tr style=\"text-align: right;\">\n",
       "      <th></th>\n",
       "      <th>demo-genero</th>\n",
       "      <th>demo-edad</th>\n",
       "      <th>clin-reservaCognitiva_total</th>\n",
       "      <th>clin-reservaCognitiva_idiomas</th>\n",
       "      <th>clin-reservaCognitiva_ocupacion</th>\n",
       "      <th>clin-reservaCognitiva_escolaridad</th>\n",
       "      <th>clin-reservaCognitiva_escolaridadPadres</th>\n",
       "      <th>clin-reservaCognitiva_cursos</th>\n",
       "      <th>clin-reservaCognitiva_formacionMusical</th>\n",
       "      <th>clin-reservaCognitiva_actividadLectora</th>\n",
       "      <th>...</th>\n",
       "      <th>eval-TLP-Tavec-24_FP-PD</th>\n",
       "      <th>eval-TLP-Tavec-25_Discriminabilidad-PD</th>\n",
       "      <th>eval-TLP-Tavec-26_Sesgo-PD</th>\n",
       "      <th>eval-TLP-Tavec-27_RI_B_frente_RI_A1-PD</th>\n",
       "      <th>eval-TLP-Tavec-28_RL_CP_frente_RI_A5-PD</th>\n",
       "      <th>eval-TLP-Tavec-29_RCl_Cp_frente_RCl_LP-PD</th>\n",
       "      <th>eval-TLP-Tavec-30_RL_LP_frente_RL_CP-PD</th>\n",
       "      <th>eval-TLP-Tavec-31_RCl_LP_frente_RL_LP-PD</th>\n",
       "      <th>eval-TLP-Tavec-32_Recon_Ac_frente_RL_LP-PD</th>\n",
       "      <th>eval-TLP-Tavec-33_Recon_Ac_frente_RCl_LP-PD</th>\n",
       "    </tr>\n",
       "  </thead>\n",
       "  <tbody>\n",
       "    <tr>\n",
       "      <th>count</th>\n",
       "      <td>199.000000</td>\n",
       "      <td>199.000000</td>\n",
       "      <td>199.000000</td>\n",
       "      <td>199.000000</td>\n",
       "      <td>199.000000</td>\n",
       "      <td>199.000000</td>\n",
       "      <td>199.000000</td>\n",
       "      <td>199.000000</td>\n",
       "      <td>199.000000</td>\n",
       "      <td>199.000000</td>\n",
       "      <td>...</td>\n",
       "      <td>199.000000</td>\n",
       "      <td>199.000000</td>\n",
       "      <td>199.000000</td>\n",
       "      <td>199.000000</td>\n",
       "      <td>199.000000</td>\n",
       "      <td>199.000000</td>\n",
       "      <td>199.000000</td>\n",
       "      <td>199.000000</td>\n",
       "      <td>199.000000</td>\n",
       "      <td>199.000000</td>\n",
       "    </tr>\n",
       "    <tr>\n",
       "      <th>mean</th>\n",
       "      <td>1.698492</td>\n",
       "      <td>67.824121</td>\n",
       "      <td>14.507538</td>\n",
       "      <td>0.391960</td>\n",
       "      <td>1.879397</td>\n",
       "      <td>4.180905</td>\n",
       "      <td>1.110553</td>\n",
       "      <td>2.301508</td>\n",
       "      <td>0.738693</td>\n",
       "      <td>2.653266</td>\n",
       "      <td>...</td>\n",
       "      <td>1.668342</td>\n",
       "      <td>93.432513</td>\n",
       "      <td>0.048342</td>\n",
       "      <td>30.307337</td>\n",
       "      <td>23.036131</td>\n",
       "      <td>3.460754</td>\n",
       "      <td>-4.741960</td>\n",
       "      <td>-6.064673</td>\n",
       "      <td>-23.037638</td>\n",
       "      <td>-18.143266</td>\n",
       "    </tr>\n",
       "    <tr>\n",
       "      <th>std</th>\n",
       "      <td>0.460070</td>\n",
       "      <td>7.071369</td>\n",
       "      <td>4.046284</td>\n",
       "      <td>0.641286</td>\n",
       "      <td>1.165813</td>\n",
       "      <td>0.863068</td>\n",
       "      <td>0.566612</td>\n",
       "      <td>1.058657</td>\n",
       "      <td>0.533769</td>\n",
       "      <td>1.253430</td>\n",
       "      <td>...</td>\n",
       "      <td>1.566877</td>\n",
       "      <td>4.752060</td>\n",
       "      <td>0.336848</td>\n",
       "      <td>59.547862</td>\n",
       "      <td>42.453061</td>\n",
       "      <td>13.480768</td>\n",
       "      <td>16.337537</td>\n",
       "      <td>13.893145</td>\n",
       "      <td>17.671346</td>\n",
       "      <td>14.666314</td>\n",
       "    </tr>\n",
       "    <tr>\n",
       "      <th>min</th>\n",
       "      <td>1.000000</td>\n",
       "      <td>55.000000</td>\n",
       "      <td>4.000000</td>\n",
       "      <td>0.000000</td>\n",
       "      <td>0.000000</td>\n",
       "      <td>2.000000</td>\n",
       "      <td>0.000000</td>\n",
       "      <td>0.000000</td>\n",
       "      <td>0.000000</td>\n",
       "      <td>0.000000</td>\n",
       "      <td>...</td>\n",
       "      <td>0.000000</td>\n",
       "      <td>79.550000</td>\n",
       "      <td>-0.710000</td>\n",
       "      <td>-55.560000</td>\n",
       "      <td>-27.270000</td>\n",
       "      <td>-36.360000</td>\n",
       "      <td>-83.330000</td>\n",
       "      <td>-50.000000</td>\n",
       "      <td>-69.230000</td>\n",
       "      <td>-60.000000</td>\n",
       "    </tr>\n",
       "    <tr>\n",
       "      <th>25%</th>\n",
       "      <td>1.000000</td>\n",
       "      <td>62.500000</td>\n",
       "      <td>11.500000</td>\n",
       "      <td>0.000000</td>\n",
       "      <td>1.000000</td>\n",
       "      <td>4.000000</td>\n",
       "      <td>1.000000</td>\n",
       "      <td>2.000000</td>\n",
       "      <td>0.000000</td>\n",
       "      <td>2.000000</td>\n",
       "      <td>...</td>\n",
       "      <td>1.000000</td>\n",
       "      <td>90.910000</td>\n",
       "      <td>0.000000</td>\n",
       "      <td>0.000000</td>\n",
       "      <td>0.000000</td>\n",
       "      <td>-6.250000</td>\n",
       "      <td>-14.290000</td>\n",
       "      <td>-12.500000</td>\n",
       "      <td>-36.930000</td>\n",
       "      <td>-25.000000</td>\n",
       "    </tr>\n",
       "    <tr>\n",
       "      <th>50%</th>\n",
       "      <td>2.000000</td>\n",
       "      <td>68.000000</td>\n",
       "      <td>15.000000</td>\n",
       "      <td>0.000000</td>\n",
       "      <td>2.000000</td>\n",
       "      <td>4.000000</td>\n",
       "      <td>1.000000</td>\n",
       "      <td>3.000000</td>\n",
       "      <td>1.000000</td>\n",
       "      <td>3.000000</td>\n",
       "      <td>...</td>\n",
       "      <td>1.000000</td>\n",
       "      <td>93.180000</td>\n",
       "      <td>0.000000</td>\n",
       "      <td>20.000000</td>\n",
       "      <td>14.290000</td>\n",
       "      <td>0.000000</td>\n",
       "      <td>-6.670000</td>\n",
       "      <td>-6.670000</td>\n",
       "      <td>-18.750000</td>\n",
       "      <td>-15.380000</td>\n",
       "    </tr>\n",
       "    <tr>\n",
       "      <th>75%</th>\n",
       "      <td>2.000000</td>\n",
       "      <td>73.000000</td>\n",
       "      <td>18.000000</td>\n",
       "      <td>1.000000</td>\n",
       "      <td>3.000000</td>\n",
       "      <td>5.000000</td>\n",
       "      <td>1.000000</td>\n",
       "      <td>3.000000</td>\n",
       "      <td>1.000000</td>\n",
       "      <td>4.000000</td>\n",
       "      <td>...</td>\n",
       "      <td>2.000000</td>\n",
       "      <td>97.730000</td>\n",
       "      <td>0.330000</td>\n",
       "      <td>60.000000</td>\n",
       "      <td>33.330000</td>\n",
       "      <td>9.545000</td>\n",
       "      <td>0.000000</td>\n",
       "      <td>0.000000</td>\n",
       "      <td>-7.415000</td>\n",
       "      <td>-6.670000</td>\n",
       "    </tr>\n",
       "    <tr>\n",
       "      <th>max</th>\n",
       "      <td>2.000000</td>\n",
       "      <td>88.000000</td>\n",
       "      <td>22.000000</td>\n",
       "      <td>2.000000</td>\n",
       "      <td>4.000000</td>\n",
       "      <td>5.000000</td>\n",
       "      <td>2.000000</td>\n",
       "      <td>3.000000</td>\n",
       "      <td>2.000000</td>\n",
       "      <td>4.000000</td>\n",
       "      <td>...</td>\n",
       "      <td>8.000000</td>\n",
       "      <td>100.000000</td>\n",
       "      <td>0.780000</td>\n",
       "      <td>400.000000</td>\n",
       "      <td>500.000000</td>\n",
       "      <td>44.440000</td>\n",
       "      <td>50.000000</td>\n",
       "      <td>40.000000</td>\n",
       "      <td>18.180000</td>\n",
       "      <td>18.180000</td>\n",
       "    </tr>\n",
       "  </tbody>\n",
       "</table>\n",
       "<p>8 rows × 80 columns</p>\n",
       "</div>"
      ],
      "text/plain": [
       "       demo-genero   demo-edad  clin-reservaCognitiva_total  \\\n",
       "count   199.000000  199.000000                   199.000000   \n",
       "mean      1.698492   67.824121                    14.507538   \n",
       "std       0.460070    7.071369                     4.046284   \n",
       "min       1.000000   55.000000                     4.000000   \n",
       "25%       1.000000   62.500000                    11.500000   \n",
       "50%       2.000000   68.000000                    15.000000   \n",
       "75%       2.000000   73.000000                    18.000000   \n",
       "max       2.000000   88.000000                    22.000000   \n",
       "\n",
       "       clin-reservaCognitiva_idiomas  clin-reservaCognitiva_ocupacion  \\\n",
       "count                     199.000000                       199.000000   \n",
       "mean                        0.391960                         1.879397   \n",
       "std                         0.641286                         1.165813   \n",
       "min                         0.000000                         0.000000   \n",
       "25%                         0.000000                         1.000000   \n",
       "50%                         0.000000                         2.000000   \n",
       "75%                         1.000000                         3.000000   \n",
       "max                         2.000000                         4.000000   \n",
       "\n",
       "       clin-reservaCognitiva_escolaridad  \\\n",
       "count                         199.000000   \n",
       "mean                            4.180905   \n",
       "std                             0.863068   \n",
       "min                             2.000000   \n",
       "25%                             4.000000   \n",
       "50%                             4.000000   \n",
       "75%                             5.000000   \n",
       "max                             5.000000   \n",
       "\n",
       "       clin-reservaCognitiva_escolaridadPadres  clin-reservaCognitiva_cursos  \\\n",
       "count                               199.000000                    199.000000   \n",
       "mean                                  1.110553                      2.301508   \n",
       "std                                   0.566612                      1.058657   \n",
       "min                                   0.000000                      0.000000   \n",
       "25%                                   1.000000                      2.000000   \n",
       "50%                                   1.000000                      3.000000   \n",
       "75%                                   1.000000                      3.000000   \n",
       "max                                   2.000000                      3.000000   \n",
       "\n",
       "       clin-reservaCognitiva_formacionMusical  \\\n",
       "count                              199.000000   \n",
       "mean                                 0.738693   \n",
       "std                                  0.533769   \n",
       "min                                  0.000000   \n",
       "25%                                  0.000000   \n",
       "50%                                  1.000000   \n",
       "75%                                  1.000000   \n",
       "max                                  2.000000   \n",
       "\n",
       "       clin-reservaCognitiva_actividadLectora  ...  eval-TLP-Tavec-24_FP-PD  \\\n",
       "count                              199.000000  ...               199.000000   \n",
       "mean                                 2.653266  ...                 1.668342   \n",
       "std                                  1.253430  ...                 1.566877   \n",
       "min                                  0.000000  ...                 0.000000   \n",
       "25%                                  2.000000  ...                 1.000000   \n",
       "50%                                  3.000000  ...                 1.000000   \n",
       "75%                                  4.000000  ...                 2.000000   \n",
       "max                                  4.000000  ...                 8.000000   \n",
       "\n",
       "       eval-TLP-Tavec-25_Discriminabilidad-PD  eval-TLP-Tavec-26_Sesgo-PD  \\\n",
       "count                              199.000000                  199.000000   \n",
       "mean                                93.432513                    0.048342   \n",
       "std                                  4.752060                    0.336848   \n",
       "min                                 79.550000                   -0.710000   \n",
       "25%                                 90.910000                    0.000000   \n",
       "50%                                 93.180000                    0.000000   \n",
       "75%                                 97.730000                    0.330000   \n",
       "max                                100.000000                    0.780000   \n",
       "\n",
       "       eval-TLP-Tavec-27_RI_B_frente_RI_A1-PD  \\\n",
       "count                              199.000000   \n",
       "mean                                30.307337   \n",
       "std                                 59.547862   \n",
       "min                                -55.560000   \n",
       "25%                                  0.000000   \n",
       "50%                                 20.000000   \n",
       "75%                                 60.000000   \n",
       "max                                400.000000   \n",
       "\n",
       "       eval-TLP-Tavec-28_RL_CP_frente_RI_A5-PD  \\\n",
       "count                               199.000000   \n",
       "mean                                 23.036131   \n",
       "std                                  42.453061   \n",
       "min                                 -27.270000   \n",
       "25%                                   0.000000   \n",
       "50%                                  14.290000   \n",
       "75%                                  33.330000   \n",
       "max                                 500.000000   \n",
       "\n",
       "       eval-TLP-Tavec-29_RCl_Cp_frente_RCl_LP-PD  \\\n",
       "count                                 199.000000   \n",
       "mean                                    3.460754   \n",
       "std                                    13.480768   \n",
       "min                                   -36.360000   \n",
       "25%                                    -6.250000   \n",
       "50%                                     0.000000   \n",
       "75%                                     9.545000   \n",
       "max                                    44.440000   \n",
       "\n",
       "       eval-TLP-Tavec-30_RL_LP_frente_RL_CP-PD  \\\n",
       "count                               199.000000   \n",
       "mean                                 -4.741960   \n",
       "std                                  16.337537   \n",
       "min                                 -83.330000   \n",
       "25%                                 -14.290000   \n",
       "50%                                  -6.670000   \n",
       "75%                                   0.000000   \n",
       "max                                  50.000000   \n",
       "\n",
       "       eval-TLP-Tavec-31_RCl_LP_frente_RL_LP-PD  \\\n",
       "count                                199.000000   \n",
       "mean                                  -6.064673   \n",
       "std                                   13.893145   \n",
       "min                                  -50.000000   \n",
       "25%                                  -12.500000   \n",
       "50%                                   -6.670000   \n",
       "75%                                    0.000000   \n",
       "max                                   40.000000   \n",
       "\n",
       "       eval-TLP-Tavec-32_Recon_Ac_frente_RL_LP-PD  \\\n",
       "count                                  199.000000   \n",
       "mean                                   -23.037638   \n",
       "std                                     17.671346   \n",
       "min                                    -69.230000   \n",
       "25%                                    -36.930000   \n",
       "50%                                    -18.750000   \n",
       "75%                                     -7.415000   \n",
       "max                                     18.180000   \n",
       "\n",
       "       eval-TLP-Tavec-33_Recon_Ac_frente_RCl_LP-PD  \n",
       "count                                   199.000000  \n",
       "mean                                    -18.143266  \n",
       "std                                      14.666314  \n",
       "min                                     -60.000000  \n",
       "25%                                     -25.000000  \n",
       "50%                                     -15.380000  \n",
       "75%                                      -6.670000  \n",
       "max                                      18.180000  \n",
       "\n",
       "[8 rows x 80 columns]"
      ]
     },
     "execution_count": 26,
     "metadata": {},
     "output_type": "execute_result"
    }
   ],
   "source": [
    "df_filtered.describe()"
   ]
  },
  {
   "cell_type": "code",
   "execution_count": 27,
   "metadata": {},
   "outputs": [
    {
     "data": {
      "text/plain": [
       "(199, 113)"
      ]
     },
     "execution_count": 27,
     "metadata": {},
     "output_type": "execute_result"
    }
   ],
   "source": [
    "df_filtered.shape"
   ]
  },
  {
   "cell_type": "code",
   "execution_count": 29,
   "metadata": {},
   "outputs": [
    {
     "name": "stderr",
     "output_type": "stream",
     "text": [
      "c:\\Users\\jgala\\uned\\tfm\\synthetic-data\\.conda\\Lib\\site-packages\\tqdm\\auto.py:21: TqdmWarning: IProgress not found. Please update jupyter and ipywidgets. See https://ipywidgets.readthedocs.io/en/stable/user_install.html\n",
      "  from .autonotebook import tqdm as notebook_tqdm\n"
     ]
    }
   ],
   "source": [
    "from ydata_profiling import ProfileReport"
   ]
  },
  {
   "cell_type": "code",
   "execution_count": 30,
   "metadata": {},
   "outputs": [],
   "source": [
    "# Generate the Profiling Report\n",
    "profile = ProfileReport(\n",
    "    df_filtered, title=\"Dataset\", html={\"style\": {\"full_width\": True}}, sort=None\n",
    ")"
   ]
  },
  {
   "cell_type": "code",
   "execution_count": 31,
   "metadata": {},
   "outputs": [
    {
     "name": "stderr",
     "output_type": "stream",
     "text": [
      "c:\\Users\\jgala\\uned\\tfm\\synthetic-data\\.conda\\Lib\\site-packages\\ydata_profiling\\utils\\dataframe.py:137: SettingWithCopyWarning: \n",
      "A value is trying to be set on a copy of a slice from a DataFrame\n",
      "\n",
      "See the caveats in the documentation: https://pandas.pydata.org/pandas-docs/stable/user_guide/indexing.html#returning-a-view-versus-a-copy\n",
      "  df.rename(columns={\"index\": \"df_index\"}, inplace=True)\n",
      "Summarize dataset:  96%|█████████▌| 115/120 [00:00<00:00, 108.36it/s, Calculate auto correlation]                                   c:\\Users\\jgala\\uned\\tfm\\synthetic-data\\.conda\\Lib\\site-packages\\ydata_profiling\\model\\correlations.py:66: UserWarning: There was an attempt to calculate the auto correlation, but this failed.\n",
      "To hide this warning, disable the calculation\n",
      "(using `df.profile_report(correlations={\"auto\": {\"calculate\": False}})`\n",
      "If this is problematic for your use case, please report this as an issue:\n",
      "https://github.com/ydataai/ydata-profiling/issues\n",
      "(include the error message: 'could not convert string to float: 'D'')\n",
      "  warnings.warn(\n",
      "Summarize dataset: 100%|█████████▉| 2520/2523 [04:28<00:02,  1.10it/s, Detecting duplicates]                                                                            c:\\Users\\jgala\\uned\\tfm\\synthetic-data\\.conda\\Lib\\site-packages\\ydata_profiling\\model\\pandas\\duplicates_pandas.py:40: PerformanceWarning: DataFrame is highly fragmented.  This is usually the result of calling `frame.insert` many times, which has poor performance.  Consider joining all columns at once using pd.concat(axis=1) instead. To get a de-fragmented frame, use `newframe = frame.copy()`\n",
      "  .reset_index(name=duplicates_key)\n",
      "c:\\Users\\jgala\\uned\\tfm\\synthetic-data\\.conda\\Lib\\site-packages\\ydata_profiling\\model\\pandas\\duplicates_pandas.py:40: PerformanceWarning: DataFrame is highly fragmented.  This is usually the result of calling `frame.insert` many times, which has poor performance.  Consider joining all columns at once using pd.concat(axis=1) instead. To get a de-fragmented frame, use `newframe = frame.copy()`\n",
      "  .reset_index(name=duplicates_key)\n",
      "c:\\Users\\jgala\\uned\\tfm\\synthetic-data\\.conda\\Lib\\site-packages\\ydata_profiling\\model\\pandas\\duplicates_pandas.py:40: PerformanceWarning: DataFrame is highly fragmented.  This is usually the result of calling `frame.insert` many times, which has poor performance.  Consider joining all columns at once using pd.concat(axis=1) instead. To get a de-fragmented frame, use `newframe = frame.copy()`\n",
      "  .reset_index(name=duplicates_key)\n",
      "c:\\Users\\jgala\\uned\\tfm\\synthetic-data\\.conda\\Lib\\site-packages\\ydata_profiling\\model\\pandas\\duplicates_pandas.py:40: PerformanceWarning: DataFrame is highly fragmented.  This is usually the result of calling `frame.insert` many times, which has poor performance.  Consider joining all columns at once using pd.concat(axis=1) instead. To get a de-fragmented frame, use `newframe = frame.copy()`\n",
      "  .reset_index(name=duplicates_key)\n",
      "c:\\Users\\jgala\\uned\\tfm\\synthetic-data\\.conda\\Lib\\site-packages\\ydata_profiling\\model\\pandas\\duplicates_pandas.py:40: PerformanceWarning: DataFrame is highly fragmented.  This is usually the result of calling `frame.insert` many times, which has poor performance.  Consider joining all columns at once using pd.concat(axis=1) instead. To get a de-fragmented frame, use `newframe = frame.copy()`\n",
      "  .reset_index(name=duplicates_key)\n",
      "c:\\Users\\jgala\\uned\\tfm\\synthetic-data\\.conda\\Lib\\site-packages\\ydata_profiling\\model\\pandas\\duplicates_pandas.py:40: PerformanceWarning: DataFrame is highly fragmented.  This is usually the result of calling `frame.insert` many times, which has poor performance.  Consider joining all columns at once using pd.concat(axis=1) instead. To get a de-fragmented frame, use `newframe = frame.copy()`\n",
      "  .reset_index(name=duplicates_key)\n",
      "c:\\Users\\jgala\\uned\\tfm\\synthetic-data\\.conda\\Lib\\site-packages\\ydata_profiling\\model\\pandas\\duplicates_pandas.py:40: PerformanceWarning: DataFrame is highly fragmented.  This is usually the result of calling `frame.insert` many times, which has poor performance.  Consider joining all columns at once using pd.concat(axis=1) instead. To get a de-fragmented frame, use `newframe = frame.copy()`\n",
      "  .reset_index(name=duplicates_key)\n",
      "c:\\Users\\jgala\\uned\\tfm\\synthetic-data\\.conda\\Lib\\site-packages\\ydata_profiling\\model\\pandas\\duplicates_pandas.py:40: PerformanceWarning: DataFrame is highly fragmented.  This is usually the result of calling `frame.insert` many times, which has poor performance.  Consider joining all columns at once using pd.concat(axis=1) instead. To get a de-fragmented frame, use `newframe = frame.copy()`\n",
      "  .reset_index(name=duplicates_key)\n",
      "c:\\Users\\jgala\\uned\\tfm\\synthetic-data\\.conda\\Lib\\site-packages\\ydata_profiling\\model\\pandas\\duplicates_pandas.py:40: PerformanceWarning: DataFrame is highly fragmented.  This is usually the result of calling `frame.insert` many times, which has poor performance.  Consider joining all columns at once using pd.concat(axis=1) instead. To get a de-fragmented frame, use `newframe = frame.copy()`\n",
      "  .reset_index(name=duplicates_key)\n",
      "c:\\Users\\jgala\\uned\\tfm\\synthetic-data\\.conda\\Lib\\site-packages\\ydata_profiling\\model\\pandas\\duplicates_pandas.py:40: PerformanceWarning: DataFrame is highly fragmented.  This is usually the result of calling `frame.insert` many times, which has poor performance.  Consider joining all columns at once using pd.concat(axis=1) instead. To get a de-fragmented frame, use `newframe = frame.copy()`\n",
      "  .reset_index(name=duplicates_key)\n",
      "c:\\Users\\jgala\\uned\\tfm\\synthetic-data\\.conda\\Lib\\site-packages\\ydata_profiling\\model\\pandas\\duplicates_pandas.py:40: PerformanceWarning: DataFrame is highly fragmented.  This is usually the result of calling `frame.insert` many times, which has poor performance.  Consider joining all columns at once using pd.concat(axis=1) instead. To get a de-fragmented frame, use `newframe = frame.copy()`\n",
      "  .reset_index(name=duplicates_key)\n",
      "c:\\Users\\jgala\\uned\\tfm\\synthetic-data\\.conda\\Lib\\site-packages\\ydata_profiling\\model\\pandas\\duplicates_pandas.py:40: PerformanceWarning: DataFrame is highly fragmented.  This is usually the result of calling `frame.insert` many times, which has poor performance.  Consider joining all columns at once using pd.concat(axis=1) instead. To get a de-fragmented frame, use `newframe = frame.copy()`\n",
      "  .reset_index(name=duplicates_key)\n",
      "c:\\Users\\jgala\\uned\\tfm\\synthetic-data\\.conda\\Lib\\site-packages\\ydata_profiling\\model\\pandas\\duplicates_pandas.py:40: PerformanceWarning: DataFrame is highly fragmented.  This is usually the result of calling `frame.insert` many times, which has poor performance.  Consider joining all columns at once using pd.concat(axis=1) instead. To get a de-fragmented frame, use `newframe = frame.copy()`\n",
      "  .reset_index(name=duplicates_key)\n",
      "c:\\Users\\jgala\\uned\\tfm\\synthetic-data\\.conda\\Lib\\site-packages\\ydata_profiling\\model\\pandas\\duplicates_pandas.py:40: PerformanceWarning: DataFrame is highly fragmented.  This is usually the result of calling `frame.insert` many times, which has poor performance.  Consider joining all columns at once using pd.concat(axis=1) instead. To get a de-fragmented frame, use `newframe = frame.copy()`\n",
      "  .reset_index(name=duplicates_key)\n",
      "Summarize dataset: 100%|██████████| 2523/2523 [04:29<00:00,  9.38it/s, Completed]               \n",
      "Generate report structure: 100%|██████████| 1/1 [00:28<00:00, 28.33s/it]\n",
      "Render HTML: 100%|██████████| 1/1 [00:54<00:00, 54.97s/it]\n",
      "Export report to file: 100%|██████████| 1/1 [00:00<00:00,  2.06it/s]\n"
     ]
    }
   ],
   "source": [
    "profile.to_file(\"profile_report.html\")"
   ]
  },
  {
   "cell_type": "markdown",
   "metadata": {},
   "source": [
    "### Split data"
   ]
  },
  {
   "cell_type": "markdown",
   "metadata": {},
   "source": [
    "StratifiedKFold (Para clasificación con distribución equilibrada).\n",
    "Divide los datos en K partes (folds), asegurando que cada fold tenga una distribución similar de clases.\n",
    "Ideal para problemas de clasificación con clases desbalanceadas."
   ]
  },
  {
   "cell_type": "code",
   "execution_count": 32,
   "metadata": {},
   "outputs": [],
   "source": [
    "for i in range(10):\n",
    "    random_state = CONS_RANDOM_STATE + i  # Cambia la semilla en cada iteración\n",
    "    train_df, test_df = train_test_split(df_filtered, test_size=CONS_TEST_SIZE, random_state=random_state, stratify=df_filtered['ED_2Clases'])\n",
    "    train_df.to_csv(f'../data/train/set_{i}.csv', index=False)\n",
    "    test_df.to_csv(f'../data/test/set_{i}.csv', index=False)"
   ]
  },
  {
   "cell_type": "code",
   "execution_count": 33,
   "metadata": {},
   "outputs": [
    {
     "data": {
      "text/plain": [
       "(159, 113)"
      ]
     },
     "execution_count": 33,
     "metadata": {},
     "output_type": "execute_result"
    }
   ],
   "source": [
    "train_df.shape"
   ]
  },
  {
   "cell_type": "code",
   "execution_count": 34,
   "metadata": {},
   "outputs": [
    {
     "data": {
      "text/plain": [
       "(40, 113)"
      ]
     },
     "execution_count": 34,
     "metadata": {},
     "output_type": "execute_result"
    }
   ],
   "source": [
    "test_df.shape"
   ]
  }
 ],
 "metadata": {
  "kernelspec": {
   "display_name": "Python 3",
   "language": "python",
   "name": "python3"
  },
  "language_info": {
   "codemirror_mode": {
    "name": "ipython",
    "version": 3
   },
   "file_extension": ".py",
   "mimetype": "text/x-python",
   "name": "python",
   "nbconvert_exporter": "python",
   "pygments_lexer": "ipython3",
   "version": "3.11.11"
  }
 },
 "nbformat": 4,
 "nbformat_minor": 2
}
