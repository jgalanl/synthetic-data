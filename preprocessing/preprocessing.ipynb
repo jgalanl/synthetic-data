{
 "cells": [
  {
   "cell_type": "code",
   "execution_count": 15,
   "metadata": {},
   "outputs": [],
   "source": [
    "import pandas as pd\n",
    "from sklearn.model_selection import train_test_split"
   ]
  },
  {
   "cell_type": "code",
   "execution_count": 16,
   "metadata": {},
   "outputs": [],
   "source": [
    "CONS_TEST_SIZE = 0.2\n",
    "CONS_RANDOM_STATE = 42"
   ]
  },
  {
   "cell_type": "markdown",
   "metadata": {},
   "source": [
    "Load data"
   ]
  },
  {
   "cell_type": "code",
   "execution_count": 17,
   "metadata": {},
   "outputs": [],
   "source": [
    "df = pd.read_excel(\n",
    "    '../data/original/Identia_UNED_TLP.xlsx'\n",
    ")"
   ]
  },
  {
   "cell_type": "code",
   "execution_count": 18,
   "metadata": {},
   "outputs": [
    {
     "data": {
      "application/vnd.microsoft.datawrangler.viewer.v0+json": {
       "columns": [
        {
         "name": "index",
         "rawType": "int64",
         "type": "integer"
        },
        {
         "name": "etiq-id",
         "rawType": "object",
         "type": "string"
        },
        {
         "name": "etiq-diagMMSE",
         "rawType": "object",
         "type": "string"
        },
        {
         "name": "etiq-diagExpTLPtext",
         "rawType": "object",
         "type": "string"
        },
        {
         "name": "etiq-diagExpTLPcode",
         "rawType": "float64",
         "type": "float"
        },
        {
         "name": "etiq-diagExpTLP",
         "rawType": "object",
         "type": "string"
        },
        {
         "name": "etiq-diagExpTLPtext_R2",
         "rawType": "object",
         "type": "string"
        },
        {
         "name": "etiq-diagExpTLPcode_R2",
         "rawType": "float64",
         "type": "float"
        },
        {
         "name": "etiq-diagExpTLP_R2",
         "rawType": "object",
         "type": "string"
        },
        {
         "name": "demo-genero",
         "rawType": "int64",
         "type": "integer"
        },
        {
         "name": "demo-fechaEvaluacion",
         "rawType": "object",
         "type": "string"
        },
        {
         "name": "demo-fechaNacimiento",
         "rawType": "object",
         "type": "string"
        },
        {
         "name": "demo-rangoEdad",
         "rawType": "object",
         "type": "string"
        },
        {
         "name": "demo-edad",
         "rawType": "int64",
         "type": "integer"
        },
        {
         "name": "clin-reservaCognitiva_total",
         "rawType": "int64",
         "type": "integer"
        },
        {
         "name": "clin-reservaCognitiva_idiomas",
         "rawType": "int64",
         "type": "integer"
        },
        {
         "name": "clin-reservaCognitiva_ocupacion",
         "rawType": "int64",
         "type": "integer"
        },
        {
         "name": "clin-reservaCognitiva_escolaridad",
         "rawType": "int64",
         "type": "integer"
        },
        {
         "name": "clin-reservaCognitiva_escolaridadPadres",
         "rawType": "int64",
         "type": "integer"
        },
        {
         "name": "clin-reservaCognitiva_cursos",
         "rawType": "int64",
         "type": "integer"
        },
        {
         "name": "clin-reservaCognitiva_formacionMusical",
         "rawType": "int64",
         "type": "integer"
        },
        {
         "name": "clin-reservaCognitiva_actividadLectora",
         "rawType": "int64",
         "type": "integer"
        },
        {
         "name": "clin-reservaCognitiva_juegos",
         "rawType": "int64",
         "type": "integer"
        },
        {
         "name": "clin-ansiedad",
         "rawType": "bool",
         "type": "boolean"
        },
        {
         "name": "clin-depresion",
         "rawType": "bool",
         "type": "boolean"
        },
        {
         "name": "clin-cardiopatiaIsquemica",
         "rawType": "bool",
         "type": "boolean"
        },
        {
         "name": "clin-diabetes",
         "rawType": "bool",
         "type": "boolean"
        },
        {
         "name": "clin-Hipercolesterolemia",
         "rawType": "bool",
         "type": "boolean"
        },
        {
         "name": "clin-Hipertension",
         "rawType": "bool",
         "type": "boolean"
        },
        {
         "name": "clin-enfermedadesAltTiroides",
         "rawType": "bool",
         "type": "boolean"
        },
        {
         "name": "clin-enfermedadesRenal",
         "rawType": "bool",
         "type": "boolean"
        },
        {
         "name": "clin-enfermedadesHepatica",
         "rawType": "bool",
         "type": "boolean"
        },
        {
         "name": "clin-enfermedadesAntecedentesCardiacos",
         "rawType": "bool",
         "type": "boolean"
        },
        {
         "name": "clin-tratCronico",
         "rawType": "bool",
         "type": "boolean"
        },
        {
         "name": "clin-tratPsicologico",
         "rawType": "bool",
         "type": "boolean"
        },
        {
         "name": "clin-tratPsiquiatrico",
         "rawType": "bool",
         "type": "boolean"
        },
        {
         "name": "clin-familiaresAlzheimer",
         "rawType": "bool",
         "type": "boolean"
        },
        {
         "name": "clin-familiaresOtraDemencia",
         "rawType": "bool",
         "type": "boolean"
        },
        {
         "name": "clin-alcohol",
         "rawType": "bool",
         "type": "boolean"
        },
        {
         "name": "clin-fumador",
         "rawType": "bool",
         "type": "boolean"
        },
        {
         "name": "clin-numCigarros",
         "rawType": "float64",
         "type": "float"
        },
        {
         "name": "clin-añosSinFumar",
         "rawType": "float64",
         "type": "float"
        },
        {
         "name": "clin-tipoAlcohol",
         "rawType": "object",
         "type": "unknown"
        },
        {
         "name": "clin-entornoUrbano",
         "rawType": "bool",
         "type": "boolean"
        },
        {
         "name": "clin-Covid_vacunado",
         "rawType": "bool",
         "type": "boolean"
        },
        {
         "name": "clin-Covid_numDosis",
         "rawType": "int64",
         "type": "integer"
        },
        {
         "name": "clin-Covid_pasadoCovid",
         "rawType": "bool",
         "type": "boolean"
        },
        {
         "name": "clin-Covid_numVecesCovid",
         "rawType": "int64",
         "type": "integer"
        },
        {
         "name": "clin-Covid_sintomaDifRespirar",
         "rawType": "bool",
         "type": "boolean"
        },
        {
         "name": "clin-Covid_sintomaDolMuscular",
         "rawType": "bool",
         "type": "boolean"
        },
        {
         "name": "clin-Covid_sintomaEscalofrios",
         "rawType": "bool",
         "type": "boolean"
        },
        {
         "name": "clin-Covid_sintomaDolGarganta",
         "rawType": "bool",
         "type": "boolean"
        },
        {
         "name": "clin-Covid_sintomaFiebre",
         "rawType": "bool",
         "type": "boolean"
        },
        {
         "name": "clin-Covid_sintomaDolCabeza",
         "rawType": "bool",
         "type": "boolean"
        },
        {
         "name": "clin-Covid_sintomaDiarrea",
         "rawType": "bool",
         "type": "boolean"
        },
        {
         "name": "clin-Covid_sintomaSarpullido",
         "rawType": "bool",
         "type": "boolean"
        },
        {
         "name": "clin-Covid_sintomaPerOlfato",
         "rawType": "bool",
         "type": "boolean"
        },
        {
         "name": "clin-Covid_sintomaPerGusto",
         "rawType": "bool",
         "type": "boolean"
        },
        {
         "name": "clin-Covid_sintomaCansancio",
         "rawType": "bool",
         "type": "boolean"
        },
        {
         "name": "clin-Covid_sentimientoAislado",
         "rawType": "float64",
         "type": "float"
        },
        {
         "name": "clin-nivelSociabilidad",
         "rawType": "int64",
         "type": "integer"
        },
        {
         "name": "clin-nivelActFisica",
         "rawType": "int64",
         "type": "integer"
        },
        {
         "name": "clin-frecUsoOrdenador",
         "rawType": "int64",
         "type": "integer"
        },
        {
         "name": "clin-frecUsoMovil",
         "rawType": "int64",
         "type": "integer"
        },
        {
         "name": "clin-frecUsoTele",
         "rawType": "int64",
         "type": "integer"
        },
        {
         "name": "clin-frecUsoEmail",
         "rawType": "int64",
         "type": "integer"
        },
        {
         "name": "clin-frecUsoRSociales",
         "rawType": "int64",
         "type": "integer"
        },
        {
         "name": "clin-frecOlvidos",
         "rawType": "int64",
         "type": "integer"
        },
        {
         "name": "clin-consumoAlcohol_UBEsemanal",
         "rawType": "float64",
         "type": "float"
        },
        {
         "name": "clin-añosSinFumar_Tipos_y_Rangos",
         "rawType": "object",
         "type": "string"
        },
        {
         "name": "clin-tipoFumador",
         "rawType": "object",
         "type": "string"
        },
        {
         "name": "ques-QuejasMemo-Total-PD",
         "rawType": "int64",
         "type": "integer"
        },
        {
         "name": "ques-NavEspacial-All-PD",
         "rawType": "int64",
         "type": "integer"
        },
        {
         "name": "ques-NavEspacial-resultadosWFQ_NO-PD",
         "rawType": "int64",
         "type": "integer"
        },
        {
         "name": "ques-NavEspacial-resultadosWFQ_SA-PD",
         "rawType": "int64",
         "type": "integer"
        },
        {
         "name": "ques-NavEspacial-resultadosWFQ_DE-PD",
         "rawType": "int64",
         "type": "integer"
        },
        {
         "name": "ques-Sus-totalPar-PD",
         "rawType": "int64",
         "type": "integer"
        },
        {
         "name": "ques-Sus-totalImpar-PD",
         "rawType": "int64",
         "type": "integer"
        },
        {
         "name": "ques-Sus-total-PD",
         "rawType": "float64",
         "type": "float"
        },
        {
         "name": "ques-MMSE-Total-PD",
         "rawType": "int64",
         "type": "integer"
        },
        {
         "name": "ques-MMSE-concentracion-PD",
         "rawType": "int64",
         "type": "integer"
        },
        {
         "name": "ques-MMSE-fijacion-PD",
         "rawType": "int64",
         "type": "integer"
        },
        {
         "name": "ques-MMSE-lenguaje-PD",
         "rawType": "int64",
         "type": "integer"
        },
        {
         "name": "ques-MMSE-memoria-PD",
         "rawType": "int64",
         "type": "integer"
        },
        {
         "name": "ques-MMSE-orientacion-PD",
         "rawType": "int64",
         "type": "integer"
        },
        {
         "name": "ques-MMSE-escolaridad-PD",
         "rawType": "int64",
         "type": "integer"
        },
        {
         "name": "eval-TLP-CubCorsi-totalDirectos-PD",
         "rawType": "int64",
         "type": "integer"
        },
        {
         "name": "eval-TLP-CubCorsi-totalDirectos-PZ",
         "rawType": "float64",
         "type": "float"
        },
        {
         "name": "eval-TLP-CubCorsi-totalinversos-PD",
         "rawType": "int64",
         "type": "integer"
        },
        {
         "name": "eval-TLP-CubCorsi-totalinversos-PZ",
         "rawType": "float64",
         "type": "float"
        },
        {
         "name": "eval-TLP-CubCorsi-total-PD",
         "rawType": "int64",
         "type": "integer"
        },
        {
         "name": "eval-TLP-CubCorsi-total-PZ",
         "rawType": "float64",
         "type": "float"
        },
        {
         "name": "eval-TLP-FigRey-tipoCopia-PD",
         "rawType": "int64",
         "type": "integer"
        },
        {
         "name": "eval-TLP-FigRey-totalCopia-PD",
         "rawType": "float64",
         "type": "float"
        },
        {
         "name": "eval-TLP-FigRey-totalCopia-PZ",
         "rawType": "float64",
         "type": "float"
        },
        {
         "name": "eval-TLP-FigRey-totalMemoria-PD",
         "rawType": "float64",
         "type": "float"
        },
        {
         "name": "eval-TLP-FigRey-totalMemoria-PZ",
         "rawType": "float64",
         "type": "float"
        },
        {
         "name": "eval-TLP-FigRey-Duracion-PD",
         "rawType": "int64",
         "type": "integer"
        },
        {
         "name": "eval-TLP-FigRey-Duracion-PZ",
         "rawType": "float64",
         "type": "float"
        },
        {
         "name": "eval-TLP-Stroop-color-PD",
         "rawType": "int64",
         "type": "integer"
        },
        {
         "name": "eval-TLP-Stroop-color-PDC",
         "rawType": "int64",
         "type": "integer"
        },
        {
         "name": "eval-TLP-Stroop-color-PZ",
         "rawType": "float64",
         "type": "float"
        },
        {
         "name": "eval-TLP-Stroop-palabras-PD",
         "rawType": "int64",
         "type": "integer"
        },
        {
         "name": "eval-TLP-Stroop-palabras-PDC",
         "rawType": "int64",
         "type": "integer"
        },
        {
         "name": "eval-TLP-Stroop-palabras-PZ",
         "rawType": "float64",
         "type": "float"
        },
        {
         "name": "eval-TLP-Stroop-palabrasColor-PD",
         "rawType": "int64",
         "type": "integer"
        },
        {
         "name": "eval-TLP-Stroop-palabrasColor-PDC",
         "rawType": "int64",
         "type": "integer"
        },
        {
         "name": "eval-TLP-Stroop-palabrasColor-PZ",
         "rawType": "float64",
         "type": "float"
        },
        {
         "name": "eval-TLP-Stroop-interferencia-PDC",
         "rawType": "float64",
         "type": "float"
        },
        {
         "name": "eval-TLP-Stroop-interferencia-PZ",
         "rawType": "float64",
         "type": "float"
        },
        {
         "name": "eval-TLP-Tavec-1_RI_A1-PD",
         "rawType": "int64",
         "type": "integer"
        },
        {
         "name": "eval-TLP-Tavec-1_RI_A1-PZ",
         "rawType": "float64",
         "type": "float"
        },
        {
         "name": "eval-TLP-Tavec-2_RI_A5-PD",
         "rawType": "int64",
         "type": "integer"
        },
        {
         "name": "eval-TLP-Tavec-2_RI_A5-PZ",
         "rawType": "float64",
         "type": "float"
        },
        {
         "name": "eval-TLP-Tavec-3_RI_AT-PD",
         "rawType": "int64",
         "type": "integer"
        },
        {
         "name": "eval-TLP-Tavec-3_RI_AT-PZ",
         "rawType": "float64",
         "type": "float"
        },
        {
         "name": "eval-TLP-Tavec-4_RI_B-PD",
         "rawType": "int64",
         "type": "integer"
        },
        {
         "name": "eval-TLP-Tavec-4_RI_B-PZ",
         "rawType": "float64",
         "type": "float"
        },
        {
         "name": "eval-TLP-Tavec-5_Rg_Pr-PD",
         "rawType": "float64",
         "type": "float"
        },
        {
         "name": "eval-TLP-Tavec-5_Rg_Pr-PZ",
         "rawType": "float64",
         "type": "float"
        },
        {
         "name": "eval-TLP-Tavec-6_Rg_Md-PD",
         "rawType": "float64",
         "type": "float"
        },
        {
         "name": "eval-TLP-Tavec-6_Rg_Md-PZ",
         "rawType": "float64",
         "type": "float"
        },
        {
         "name": "eval-TLP-Tavec-7_Rg_Rc-PD",
         "rawType": "float64",
         "type": "float"
        },
        {
         "name": "eval-TLP-Tavec-7_Rg_Rc-PZ",
         "rawType": "float64",
         "type": "float"
        },
        {
         "name": "eval-TLP-Tavec-8_RL_CP-PD",
         "rawType": "int64",
         "type": "integer"
        },
        {
         "name": "eval-TLP-Tavec-8_RL_CP-PZ",
         "rawType": "float64",
         "type": "float"
        },
        {
         "name": "eval-TLP-Tavec-9_RCl_CP-PD",
         "rawType": "int64",
         "type": "integer"
        },
        {
         "name": "eval-TLP-Tavec-9_RCl_CP-PZ",
         "rawType": "float64",
         "type": "float"
        },
        {
         "name": "eval-TLP-Tavec-10_RL_LP-PD",
         "rawType": "int64",
         "type": "integer"
        },
        {
         "name": "eval-TLP-Tavec-10_RL_LP-PZ",
         "rawType": "float64",
         "type": "float"
        },
        {
         "name": "eval-TLP-Tavec-11_RCl_LP-PD",
         "rawType": "int64",
         "type": "integer"
        },
        {
         "name": "eval-TLP-Tavec-11_RCl_LP-PZ",
         "rawType": "float64",
         "type": "float"
        },
        {
         "name": "eval-TLP-Tavec-12_ESem_RI_A-PD",
         "rawType": "int64",
         "type": "integer"
        },
        {
         "name": "eval-TLP-Tavec-12_ESem_RI_A-PZ",
         "rawType": "float64",
         "type": "float"
        },
        {
         "name": "eval-TLP-Tavec-13_ESem_RI_B-PD",
         "rawType": "int64",
         "type": "integer"
        },
        {
         "name": "eval-TLP-Tavec-13_ESem_RI_B-PZ",
         "rawType": "float64",
         "type": "float"
        },
        {
         "name": "eval-TLP-Tavec-14_ESem_RL_CP-PD",
         "rawType": "int64",
         "type": "integer"
        },
        {
         "name": "eval-TLP-Tavec-14_ESem_RL_CP-PZ",
         "rawType": "float64",
         "type": "float"
        },
        {
         "name": "eval-TLP-Tavec-15_ESem_RL_LP-PD",
         "rawType": "int64",
         "type": "integer"
        },
        {
         "name": "eval-TLP-Tavec-15_ESem_RL_LP-PZ",
         "rawType": "float64",
         "type": "float"
        },
        {
         "name": "eval-TLP-Tavec-16_ESer_RI_A-PD",
         "rawType": "int64",
         "type": "integer"
        },
        {
         "name": "eval-TLP-Tavec-16_ESer_RI_A-PZ",
         "rawType": "float64",
         "type": "float"
        },
        {
         "name": "eval-TLP-Tavec-17_ESer_RI_B-PD",
         "rawType": "int64",
         "type": "integer"
        },
        {
         "name": "eval-TLP-Tavec-17_ESer_RI_B-PZ",
         "rawType": "float64",
         "type": "float"
        },
        {
         "name": "eval-TLP-Tavec-18_ESer_RL_CP-PD",
         "rawType": "int64",
         "type": "integer"
        },
        {
         "name": "eval-TLP-Tavec-18_ESer_RL_CP-PZ",
         "rawType": "float64",
         "type": "float"
        },
        {
         "name": "eval-TLP-Tavec-19_ESer_RL_LP-PD",
         "rawType": "int64",
         "type": "integer"
        },
        {
         "name": "eval-TLP-Tavec-19_ESer_RL_LP-PZ",
         "rawType": "float64",
         "type": "float"
        },
        {
         "name": "eval-TLP-Tavec-20_P-PD",
         "rawType": "int64",
         "type": "integer"
        },
        {
         "name": "eval-TLP-Tavec-20_P-PZ",
         "rawType": "float64",
         "type": "float"
        },
        {
         "name": "eval-TLP-Tavec-21_I_RL-PD",
         "rawType": "int64",
         "type": "integer"
        },
        {
         "name": "eval-TLP-Tavec-21_I_RL-PZ",
         "rawType": "float64",
         "type": "float"
        },
        {
         "name": "eval-TLP-Tavec-22_I_RCL-PD",
         "rawType": "int64",
         "type": "integer"
        },
        {
         "name": "eval-TLP-Tavec-22_I_RCL-PZ",
         "rawType": "float64",
         "type": "float"
        },
        {
         "name": "eval-TLP-Tavec-23_Recon_Ac-PD",
         "rawType": "int64",
         "type": "integer"
        },
        {
         "name": "eval-TLP-Tavec-23_Recon_Ac-PZ",
         "rawType": "float64",
         "type": "float"
        },
        {
         "name": "eval-TLP-Tavec-24_FP-PD",
         "rawType": "int64",
         "type": "integer"
        },
        {
         "name": "eval-TLP-Tavec-24_FP-PZ",
         "rawType": "float64",
         "type": "float"
        },
        {
         "name": "eval-TLP-Tavec-25_Discriminabilidad-PD",
         "rawType": "float64",
         "type": "float"
        },
        {
         "name": "eval-TLP-Tavec-25_Discriminabilidad-PZ",
         "rawType": "float64",
         "type": "float"
        },
        {
         "name": "eval-TLP-Tavec-26_Sesgo-PD",
         "rawType": "float64",
         "type": "float"
        },
        {
         "name": "eval-TLP-Tavec-26_Sesgo-PZ",
         "rawType": "float64",
         "type": "float"
        },
        {
         "name": "eval-TLP-Tavec-27_RI_B_frente_RI_A1-PD",
         "rawType": "float64",
         "type": "float"
        },
        {
         "name": "eval-TLP-Tavec-27_RI_B_frente_RI_A1-PZ",
         "rawType": "float64",
         "type": "float"
        },
        {
         "name": "eval-TLP-Tavec-28_RL_CP_frente_RI_A5-PD",
         "rawType": "float64",
         "type": "float"
        },
        {
         "name": "eval-TLP-Tavec-28_RL_CP_frente_RI_A5-PZ",
         "rawType": "float64",
         "type": "float"
        },
        {
         "name": "eval-TLP-Tavec-29_RCl_Cp_frente_RCl_LP-PD",
         "rawType": "float64",
         "type": "float"
        },
        {
         "name": "eval-TLP-Tavec-29_RCl_Cp_frente_RCl_LP-PZ",
         "rawType": "float64",
         "type": "float"
        },
        {
         "name": "eval-TLP-Tavec-30_RL_LP_frente_RL_CP-PD",
         "rawType": "float64",
         "type": "float"
        },
        {
         "name": "eval-TLP-Tavec-30_RL_LP_frente_RL_CP-PZ",
         "rawType": "float64",
         "type": "float"
        },
        {
         "name": "eval-TLP-Tavec-31_RCl_LP_frente_RL_LP-PD",
         "rawType": "float64",
         "type": "float"
        },
        {
         "name": "eval-TLP-Tavec-31_RCl_LP_frente_RL_LP-PZ",
         "rawType": "float64",
         "type": "float"
        },
        {
         "name": "eval-TLP-Tavec-32_Recon_Ac_frente_RL_LP-PD",
         "rawType": "float64",
         "type": "float"
        },
        {
         "name": "eval-TLP-Tavec-32_Recon_Ac_frente_RL_LP-PZ",
         "rawType": "float64",
         "type": "float"
        },
        {
         "name": "eval-TLP-Tavec-33_Recon_Ac_frente_RCl_LP-PD",
         "rawType": "float64",
         "type": "float"
        },
        {
         "name": "eval-TLP-Tavec-33_Recon_Ac_frente_RCl_LP-PZ",
         "rawType": "float64",
         "type": "float"
        }
       ],
       "conversionMethod": "pd.DataFrame",
       "ref": "0e460e85-7875-4e81-b080-23d14603cd27",
       "rows": [
        [
         "0",
         "ID_M_Rango3_056_ED2",
         "ED2",
         "DC MUY LEVE, ejecutivo - atencional",
         "2.07",
         "ED2",
         "DC MUY LEVE, ejecutivo - atencional",
         "2.07",
         "ED2",
         "2",
         "2024-02-22T00:00:00",
         "1942-05-08T00:00:00",
         "Rango3",
         "81",
         "12",
         "0",
         "1",
         "3",
         "1",
         "0",
         "1",
         "4",
         "2",
         "False",
         "True",
         "False",
         "True",
         "True",
         "False",
         "False",
         "False",
         "False",
         "False",
         "True",
         "False",
         "False",
         "True",
         "True",
         "False",
         "False",
         "0.0",
         null,
         null,
         "True",
         "True",
         "4",
         "False",
         "0",
         "False",
         "False",
         "False",
         "False",
         "False",
         "False",
         "False",
         "False",
         "False",
         "False",
         "False",
         "4.0",
         "3",
         "5",
         "5",
         "5",
         "5",
         "1",
         "3",
         "4",
         "0.0",
         "No fumador",
         "No fumador",
         "8",
         "106",
         "45",
         "49",
         "12",
         "18",
         "19",
         "92.5",
         "28",
         "5",
         "3",
         "8",
         "2",
         "10",
         "1",
         "6",
         "0.3333333333333333",
         "4",
         "0.0",
         "10",
         "0.0",
         "4",
         "28.0",
         "-0.3333333333333333",
         "11.0",
         "0.0",
         "253",
         "0.3333333333333333",
         "78",
         "89",
         "0.6",
         "80",
         "94",
         "-0.6",
         "17",
         "32",
         "-1.2",
         "-13.715847",
         "-1.4",
         "4",
         "-0.42",
         "11",
         "0.48",
         "49",
         "0.89",
         "5",
         "-0.03",
         "32.65",
         "0.29",
         "36.73",
         "-0.58",
         "30.61",
         "0.53",
         "11",
         "1.01",
         "9",
         "0.07",
         "8",
         "0.14",
         "12",
         "0.95",
         "12",
         "0.64",
         "2",
         "1.25",
         "3",
         "0.51",
         "0",
         "-1.06",
         "3",
         "-0.31",
         "0",
         "-0.42",
         "2",
         "1.91",
         "2",
         "2.6",
         "9",
         "0.26",
         "2",
         "-0.8",
         "6",
         "-0.09",
         "13",
         "-0.15",
         "4",
         "0.22",
         "84.09",
         "-0.24",
         "0.14",
         "0.2",
         "-20.0",
         "-0.52",
         "0.0",
         "-0.7",
         "33.33",
         "1.7",
         "37.5",
         "1.07",
         "-33.33",
         "-0.55",
         "-38.46",
         "0.23",
         "-7.69",
         "1.19"
        ],
        [
         "1",
         "ID_M_Rango3_312_ED3",
         "ED3",
         "DC LEVE, ejecutivo - atencional",
         "3.07",
         "ED3",
         "DC LEVE, multidominio amnésico",
         "3.06",
         "ED3",
         "2",
         "2024-06-26T00:00:00",
         "1948-10-07T00:00:00",
         "Rango3",
         "75",
         "8",
         "0",
         "1",
         "3",
         "2",
         "0",
         "1",
         "1",
         "0",
         "True",
         "True",
         "False",
         "False",
         "False",
         "False",
         "False",
         "False",
         "False",
         "False",
         "True",
         "False",
         "True",
         "False",
         "False",
         "False",
         "False",
         "0.0",
         null,
         null,
         "True",
         "True",
         "4",
         "True",
         "1",
         "False",
         "False",
         "True",
         "False",
         "True",
         "False",
         "False",
         "False",
         "False",
         "False",
         "False",
         "4.0",
         "3",
         "3",
         "1",
         "1",
         "5",
         "1",
         "1",
         "3",
         "0.0",
         "No fumador",
         "No fumador",
         "8",
         "110",
         "52",
         "49",
         "9",
         "16",
         "18",
         "85.0",
         "24",
         "3",
         "3",
         "8",
         "2",
         "8",
         "1",
         "4",
         "-0.6666666666666666",
         "2",
         "-0.6666666666666666",
         "6",
         "-1.0",
         "4",
         "14.0",
         "-1.666666666666667",
         "1.5",
         "-1.666666666666667",
         "360",
         "-1.0",
         "37",
         "48",
         "-2.2",
         "66",
         "80",
         "-1.4",
         "14",
         "29",
         "-1.6",
         "-1.0",
         "0.0",
         "2",
         "-1.35",
         "9",
         "-0.17",
         "36",
         "-0.19",
         "7",
         "0.92",
         "25.0",
         "-0.91",
         "47.22",
         "0.41",
         "27.78",
         "0.19",
         "8",
         "0.22",
         "8",
         "-0.23",
         "8",
         "0.14",
         "8",
         "-0.19",
         "7",
         "-0.25",
         "1",
         "0.21",
         "2",
         "0.04",
         "2",
         "-0.25",
         "4",
         "0.04",
         "1",
         "0.66",
         "1",
         "0.66",
         "0",
         "-0.48",
         "26",
         "2.1",
         "15",
         "1.23",
         "6",
         "-0.09",
         "10",
         "-1.46",
         "3",
         "-0.13",
         "79.55",
         "-0.76",
         "-0.33",
         "-0.83",
         "-71.43",
         "-1.49",
         "12.5",
         "-0.53",
         "0.0",
         "0.63",
         "0.0",
         "0.12",
         "0.0",
         "0.43",
         "-20.0",
         "0.92",
         "-20.0",
         "0.65"
        ],
        [
         "2",
         "ID_M_Rango2_220_ED1",
         "ED1",
         "NORMAL",
         "1.0",
         "ED1",
         "DC MUY LEVE, multidominio amnésico",
         "2.06",
         "ED2",
         "2",
         "2024-05-14T00:00:00",
         "1952-05-08T00:00:00",
         "Rango2",
         "72",
         "11",
         "0",
         "0",
         "4",
         "1",
         "0",
         "1",
         "3",
         "2",
         "False",
         "False",
         "False",
         "False",
         "False",
         "False",
         "False",
         "False",
         "False",
         "False",
         "True",
         "False",
         "False",
         "False",
         "True",
         "False",
         "False",
         "0.0",
         null,
         null,
         "True",
         "True",
         "3",
         "False",
         "0",
         "False",
         "False",
         "False",
         "False",
         "False",
         "False",
         "False",
         "False",
         "False",
         "False",
         "False",
         "3.0",
         "3",
         "1",
         "5",
         "5",
         "5",
         "5",
         "5",
         "5",
         "0.0",
         "No fumador",
         "No fumador",
         "6",
         "95",
         "49",
         "35",
         "11",
         "20",
         "20",
         "100.0",
         "30",
         "5",
         "3",
         "9",
         "3",
         "10",
         "1",
         "7",
         "0.6666666666666666",
         "5",
         "0.3333333333333333",
         "12",
         "0.3333333333333333",
         "2",
         "33.0",
         "0.3333333333333333",
         "10.0",
         "-0.3333333333333333",
         "226",
         "0.0",
         "70",
         "81",
         "0.0",
         "100",
         "114",
         "0.4",
         "39",
         "54",
         "1.0",
         "6.6461525",
         "0.8",
         "6",
         "0.08",
         "14",
         "1.51",
         "56",
         "1.41",
         "7",
         "0.59",
         "32.14",
         "0.18",
         "44.64",
         "0.01",
         "23.21",
         "-0.14",
         "8",
         "-0.45",
         "8",
         "-0.95",
         "10",
         "0.14",
         "10",
         "-0.25",
         "11",
         "-0.05",
         "1",
         "-0.01",
         "1",
         "-0.82",
         "3",
         "-0.24",
         "13",
         "3.07",
         "2",
         "1.96",
         "0",
         "-0.72",
         "0",
         "-0.85",
         "13",
         "1.48",
         "6",
         "0.18",
         "6",
         "0.55",
         "12",
         "-0.97",
         "1",
         "-0.52",
         "88.64",
         "-0.11",
         "-0.6",
         "-1.5",
         "-14.29",
         "-0.49",
         "75.0",
         "1.31",
         "25.0",
         "1.94",
         "-20.0",
         "-0.78",
         "0.0",
         "0.46",
         "-16.67",
         "0.69",
         "-16.67",
         "0.3"
        ],
        [
         "3",
         "ID_M_Rango1_122_ED1",
         "ED1",
         "DC MUY LEVE, amnésico",
         "2.01",
         "ED2",
         "DC MUY LEVE, amnésico",
         "2.01",
         "ED2",
         "2",
         "2024-04-10T00:00:00",
         "1964-01-27T00:00:00",
         "Rango1",
         "60",
         "18",
         "2",
         "1",
         "4",
         "2",
         "3",
         "1",
         "4",
         "1",
         "False",
         "False",
         "False",
         "False",
         "False",
         "False",
         "False",
         "False",
         "False",
         "False",
         "False",
         "False",
         "False",
         "False",
         "False",
         "False",
         "True",
         "15.0",
         null,
         null,
         "True",
         "True",
         "3",
         "False",
         "0",
         "False",
         "False",
         "False",
         "False",
         "False",
         "False",
         "False",
         "False",
         "False",
         "False",
         "False",
         "3.0",
         "5",
         "5",
         "5",
         "5",
         "1",
         "3",
         "3",
         "3",
         "0.0",
         "Fumador",
         "Fumador",
         "3",
         "86",
         "46",
         "31",
         "9",
         "15",
         "17",
         "80.0",
         "30",
         "5",
         "3",
         "9",
         "3",
         "10",
         "1",
         "8",
         "0.3333333333333333",
         "6",
         "0.3333333333333333",
         "14",
         "0.0",
         "1",
         "34.0",
         "0.6666666666666666",
         "19.0",
         "0.3333333333333333",
         "140",
         "0.6666666666666666",
         "85",
         "89",
         "0.6",
         "110",
         "118",
         "0.6",
         "35",
         "40",
         "-0.4",
         "-10.734299",
         "-1.0",
         "8",
         "0.66",
         "14",
         "0.76",
         "65",
         "1.51",
         "5",
         "-0.35",
         "26.15",
         "-0.67",
         "52.31",
         "1.05",
         "21.54",
         "-0.45",
         "12",
         "0.51",
         "10",
         "-0.69",
         "8",
         "-1.13",
         "10",
         "-0.77",
         "26",
         "1.33",
         "2",
         "0.74",
         "6",
         "0.84",
         "5",
         "0.09",
         "5",
         "-0.09",
         "0",
         "-0.55",
         "0",
         "-0.63",
         "0",
         "-0.63",
         "1",
         "-1.03",
         "5",
         "0.25",
         "3",
         "0.16",
         "16",
         "0.82",
         "4",
         "1.38",
         "90.91",
         "-0.56",
         "0.6",
         "1.79",
         "60.0",
         "0.57",
         "16.67",
         "-0.19",
         "0.0",
         "0.57",
         "50.0",
         "2.95",
         "-20.0",
         "-0.71",
         "-50.0",
         "-1.54",
         "-37.5",
         "-1.28"
        ],
        [
         "4",
         "ID_M_Rango1_233_ED2",
         "ED2",
         "DC MUY LEVE, multidominio amnésico",
         "2.06",
         "ED2",
         "DC LEVE, multidominio amnésico",
         "3.06",
         "ED3",
         "2",
         "2024-05-14T00:00:00",
         "1959-09-16T00:00:00",
         "Rango1",
         "64",
         "13",
         "0",
         "1",
         "4",
         "1",
         "2",
         "1",
         "2",
         "2",
         "False",
         "False",
         "False",
         "False",
         "False",
         "False",
         "False",
         "False",
         "False",
         "False",
         "False",
         "False",
         "False",
         "False",
         "False",
         "False",
         "False",
         "0.0",
         null,
         null,
         "True",
         "True",
         "3",
         "True",
         "2",
         "False",
         "False",
         "False",
         "True",
         "True",
         "False",
         "False",
         "False",
         "False",
         "False",
         "True",
         "3.0",
         "5",
         "5",
         "5",
         "5",
         "5",
         "5",
         "1",
         "3",
         "0.0",
         "No fumador",
         "No fumador",
         "6",
         "86",
         "41",
         "35",
         "10",
         "19",
         "20",
         "97.5",
         "28",
         "4",
         "3",
         "9",
         "2",
         "10",
         "1",
         "6",
         "-0.6666666666666666",
         "6",
         "0.3333333333333333",
         "12",
         "-0.3333333333333333",
         "1",
         "36.0",
         "2.666666666666667",
         "12.0",
         "-0.3333333333333333",
         "204",
         "-0.3333333333333333",
         "66",
         "70",
         "-0.6",
         "80",
         "88",
         "-1.0",
         "40",
         "45",
         "0.0",
         "6.012657",
         "0.6",
         "4",
         "-1.32",
         "10",
         "-1.12",
         "39",
         "-1.25",
         "4",
         "-0.81",
         "35.9",
         "1.08",
         "25.64",
         "-2.95",
         "38.46",
         "2.35",
         "6",
         "-1.64",
         "9",
         "-1.07",
         "9",
         "-0.78",
         "9",
         "-1.14",
         "6",
         "-0.88",
         "1",
         "-0.09",
         "0",
         "-1.46",
         "2",
         "-0.9",
         "4",
         "-0.3",
         "0",
         "-0.55",
         "1",
         "0.17",
         "1",
         "0.22",
         "8",
         "0.26",
         "3",
         "-0.2",
         "0",
         "-0.64",
         "10",
         "-2.93",
         "0",
         "-0.73",
         "86.36",
         "-1.39",
         "-0.71",
         "-2.19",
         "0.0",
         "-0.54",
         "66.67",
         "1.45",
         "0.0",
         "0.57",
         "-33.33",
         "-1.6",
         "0.0",
         "0.29",
         "-10.0",
         "0.78",
         "-10.0",
         "0.5"
        ]
       ],
       "shape": {
        "columns": 175,
        "rows": 5
       }
      },
      "text/html": [
       "<div>\n",
       "<style scoped>\n",
       "    .dataframe tbody tr th:only-of-type {\n",
       "        vertical-align: middle;\n",
       "    }\n",
       "\n",
       "    .dataframe tbody tr th {\n",
       "        vertical-align: top;\n",
       "    }\n",
       "\n",
       "    .dataframe thead th {\n",
       "        text-align: right;\n",
       "    }\n",
       "</style>\n",
       "<table border=\"1\" class=\"dataframe\">\n",
       "  <thead>\n",
       "    <tr style=\"text-align: right;\">\n",
       "      <th></th>\n",
       "      <th>etiq-id</th>\n",
       "      <th>etiq-diagMMSE</th>\n",
       "      <th>etiq-diagExpTLPtext</th>\n",
       "      <th>etiq-diagExpTLPcode</th>\n",
       "      <th>etiq-diagExpTLP</th>\n",
       "      <th>etiq-diagExpTLPtext_R2</th>\n",
       "      <th>etiq-diagExpTLPcode_R2</th>\n",
       "      <th>etiq-diagExpTLP_R2</th>\n",
       "      <th>demo-genero</th>\n",
       "      <th>demo-fechaEvaluacion</th>\n",
       "      <th>...</th>\n",
       "      <th>eval-TLP-Tavec-29_RCl_Cp_frente_RCl_LP-PD</th>\n",
       "      <th>eval-TLP-Tavec-29_RCl_Cp_frente_RCl_LP-PZ</th>\n",
       "      <th>eval-TLP-Tavec-30_RL_LP_frente_RL_CP-PD</th>\n",
       "      <th>eval-TLP-Tavec-30_RL_LP_frente_RL_CP-PZ</th>\n",
       "      <th>eval-TLP-Tavec-31_RCl_LP_frente_RL_LP-PD</th>\n",
       "      <th>eval-TLP-Tavec-31_RCl_LP_frente_RL_LP-PZ</th>\n",
       "      <th>eval-TLP-Tavec-32_Recon_Ac_frente_RL_LP-PD</th>\n",
       "      <th>eval-TLP-Tavec-32_Recon_Ac_frente_RL_LP-PZ</th>\n",
       "      <th>eval-TLP-Tavec-33_Recon_Ac_frente_RCl_LP-PD</th>\n",
       "      <th>eval-TLP-Tavec-33_Recon_Ac_frente_RCl_LP-PZ</th>\n",
       "    </tr>\n",
       "  </thead>\n",
       "  <tbody>\n",
       "    <tr>\n",
       "      <th>0</th>\n",
       "      <td>ID_M_Rango3_056_ED2</td>\n",
       "      <td>ED2</td>\n",
       "      <td>DC MUY LEVE, ejecutivo - atencional</td>\n",
       "      <td>2.07</td>\n",
       "      <td>ED2</td>\n",
       "      <td>DC MUY LEVE, ejecutivo - atencional</td>\n",
       "      <td>2.07</td>\n",
       "      <td>ED2</td>\n",
       "      <td>2</td>\n",
       "      <td>2024-02-22T00:00:00</td>\n",
       "      <td>...</td>\n",
       "      <td>33.33</td>\n",
       "      <td>1.70</td>\n",
       "      <td>37.50</td>\n",
       "      <td>1.07</td>\n",
       "      <td>-33.33</td>\n",
       "      <td>-0.55</td>\n",
       "      <td>-38.46</td>\n",
       "      <td>0.23</td>\n",
       "      <td>-7.69</td>\n",
       "      <td>1.19</td>\n",
       "    </tr>\n",
       "    <tr>\n",
       "      <th>1</th>\n",
       "      <td>ID_M_Rango3_312_ED3</td>\n",
       "      <td>ED3</td>\n",
       "      <td>DC LEVE, ejecutivo - atencional</td>\n",
       "      <td>3.07</td>\n",
       "      <td>ED3</td>\n",
       "      <td>DC LEVE, multidominio amnésico</td>\n",
       "      <td>3.06</td>\n",
       "      <td>ED3</td>\n",
       "      <td>2</td>\n",
       "      <td>2024-06-26T00:00:00</td>\n",
       "      <td>...</td>\n",
       "      <td>0.00</td>\n",
       "      <td>0.63</td>\n",
       "      <td>0.00</td>\n",
       "      <td>0.12</td>\n",
       "      <td>0.00</td>\n",
       "      <td>0.43</td>\n",
       "      <td>-20.00</td>\n",
       "      <td>0.92</td>\n",
       "      <td>-20.00</td>\n",
       "      <td>0.65</td>\n",
       "    </tr>\n",
       "    <tr>\n",
       "      <th>2</th>\n",
       "      <td>ID_M_Rango2_220_ED1</td>\n",
       "      <td>ED1</td>\n",
       "      <td>NORMAL</td>\n",
       "      <td>1.00</td>\n",
       "      <td>ED1</td>\n",
       "      <td>DC MUY LEVE, multidominio amnésico</td>\n",
       "      <td>2.06</td>\n",
       "      <td>ED2</td>\n",
       "      <td>2</td>\n",
       "      <td>2024-05-14T00:00:00</td>\n",
       "      <td>...</td>\n",
       "      <td>25.00</td>\n",
       "      <td>1.94</td>\n",
       "      <td>-20.00</td>\n",
       "      <td>-0.78</td>\n",
       "      <td>0.00</td>\n",
       "      <td>0.46</td>\n",
       "      <td>-16.67</td>\n",
       "      <td>0.69</td>\n",
       "      <td>-16.67</td>\n",
       "      <td>0.30</td>\n",
       "    </tr>\n",
       "    <tr>\n",
       "      <th>3</th>\n",
       "      <td>ID_M_Rango1_122_ED1</td>\n",
       "      <td>ED1</td>\n",
       "      <td>DC MUY LEVE, amnésico</td>\n",
       "      <td>2.01</td>\n",
       "      <td>ED2</td>\n",
       "      <td>DC MUY LEVE, amnésico</td>\n",
       "      <td>2.01</td>\n",
       "      <td>ED2</td>\n",
       "      <td>2</td>\n",
       "      <td>2024-04-10T00:00:00</td>\n",
       "      <td>...</td>\n",
       "      <td>0.00</td>\n",
       "      <td>0.57</td>\n",
       "      <td>50.00</td>\n",
       "      <td>2.95</td>\n",
       "      <td>-20.00</td>\n",
       "      <td>-0.71</td>\n",
       "      <td>-50.00</td>\n",
       "      <td>-1.54</td>\n",
       "      <td>-37.50</td>\n",
       "      <td>-1.28</td>\n",
       "    </tr>\n",
       "    <tr>\n",
       "      <th>4</th>\n",
       "      <td>ID_M_Rango1_233_ED2</td>\n",
       "      <td>ED2</td>\n",
       "      <td>DC MUY LEVE, multidominio amnésico</td>\n",
       "      <td>2.06</td>\n",
       "      <td>ED2</td>\n",
       "      <td>DC LEVE, multidominio amnésico</td>\n",
       "      <td>3.06</td>\n",
       "      <td>ED3</td>\n",
       "      <td>2</td>\n",
       "      <td>2024-05-14T00:00:00</td>\n",
       "      <td>...</td>\n",
       "      <td>0.00</td>\n",
       "      <td>0.57</td>\n",
       "      <td>-33.33</td>\n",
       "      <td>-1.60</td>\n",
       "      <td>0.00</td>\n",
       "      <td>0.29</td>\n",
       "      <td>-10.00</td>\n",
       "      <td>0.78</td>\n",
       "      <td>-10.00</td>\n",
       "      <td>0.50</td>\n",
       "    </tr>\n",
       "  </tbody>\n",
       "</table>\n",
       "<p>5 rows × 175 columns</p>\n",
       "</div>"
      ],
      "text/plain": [
       "               etiq-id etiq-diagMMSE                  etiq-diagExpTLPtext  \\\n",
       "0  ID_M_Rango3_056_ED2           ED2  DC MUY LEVE, ejecutivo - atencional   \n",
       "1  ID_M_Rango3_312_ED3           ED3      DC LEVE, ejecutivo - atencional   \n",
       "2  ID_M_Rango2_220_ED1           ED1                               NORMAL   \n",
       "3  ID_M_Rango1_122_ED1           ED1                DC MUY LEVE, amnésico   \n",
       "4  ID_M_Rango1_233_ED2           ED2   DC MUY LEVE, multidominio amnésico   \n",
       "\n",
       "   etiq-diagExpTLPcode etiq-diagExpTLP               etiq-diagExpTLPtext_R2  \\\n",
       "0                 2.07             ED2  DC MUY LEVE, ejecutivo - atencional   \n",
       "1                 3.07             ED3       DC LEVE, multidominio amnésico   \n",
       "2                 1.00             ED1   DC MUY LEVE, multidominio amnésico   \n",
       "3                 2.01             ED2                DC MUY LEVE, amnésico   \n",
       "4                 2.06             ED2       DC LEVE, multidominio amnésico   \n",
       "\n",
       "   etiq-diagExpTLPcode_R2 etiq-diagExpTLP_R2  demo-genero  \\\n",
       "0                    2.07                ED2            2   \n",
       "1                    3.06                ED3            2   \n",
       "2                    2.06                ED2            2   \n",
       "3                    2.01                ED2            2   \n",
       "4                    3.06                ED3            2   \n",
       "\n",
       "  demo-fechaEvaluacion  ... eval-TLP-Tavec-29_RCl_Cp_frente_RCl_LP-PD  \\\n",
       "0  2024-02-22T00:00:00  ...                                     33.33   \n",
       "1  2024-06-26T00:00:00  ...                                      0.00   \n",
       "2  2024-05-14T00:00:00  ...                                     25.00   \n",
       "3  2024-04-10T00:00:00  ...                                      0.00   \n",
       "4  2024-05-14T00:00:00  ...                                      0.00   \n",
       "\n",
       "  eval-TLP-Tavec-29_RCl_Cp_frente_RCl_LP-PZ  \\\n",
       "0                                      1.70   \n",
       "1                                      0.63   \n",
       "2                                      1.94   \n",
       "3                                      0.57   \n",
       "4                                      0.57   \n",
       "\n",
       "   eval-TLP-Tavec-30_RL_LP_frente_RL_CP-PD  \\\n",
       "0                                    37.50   \n",
       "1                                     0.00   \n",
       "2                                   -20.00   \n",
       "3                                    50.00   \n",
       "4                                   -33.33   \n",
       "\n",
       "   eval-TLP-Tavec-30_RL_LP_frente_RL_CP-PZ  \\\n",
       "0                                     1.07   \n",
       "1                                     0.12   \n",
       "2                                    -0.78   \n",
       "3                                     2.95   \n",
       "4                                    -1.60   \n",
       "\n",
       "   eval-TLP-Tavec-31_RCl_LP_frente_RL_LP-PD  \\\n",
       "0                                    -33.33   \n",
       "1                                      0.00   \n",
       "2                                      0.00   \n",
       "3                                    -20.00   \n",
       "4                                      0.00   \n",
       "\n",
       "   eval-TLP-Tavec-31_RCl_LP_frente_RL_LP-PZ  \\\n",
       "0                                     -0.55   \n",
       "1                                      0.43   \n",
       "2                                      0.46   \n",
       "3                                     -0.71   \n",
       "4                                      0.29   \n",
       "\n",
       "   eval-TLP-Tavec-32_Recon_Ac_frente_RL_LP-PD  \\\n",
       "0                                      -38.46   \n",
       "1                                      -20.00   \n",
       "2                                      -16.67   \n",
       "3                                      -50.00   \n",
       "4                                      -10.00   \n",
       "\n",
       "   eval-TLP-Tavec-32_Recon_Ac_frente_RL_LP-PZ  \\\n",
       "0                                        0.23   \n",
       "1                                        0.92   \n",
       "2                                        0.69   \n",
       "3                                       -1.54   \n",
       "4                                        0.78   \n",
       "\n",
       "   eval-TLP-Tavec-33_Recon_Ac_frente_RCl_LP-PD  \\\n",
       "0                                        -7.69   \n",
       "1                                       -20.00   \n",
       "2                                       -16.67   \n",
       "3                                       -37.50   \n",
       "4                                       -10.00   \n",
       "\n",
       "   eval-TLP-Tavec-33_Recon_Ac_frente_RCl_LP-PZ  \n",
       "0                                         1.19  \n",
       "1                                         0.65  \n",
       "2                                         0.30  \n",
       "3                                        -1.28  \n",
       "4                                         0.50  \n",
       "\n",
       "[5 rows x 175 columns]"
      ]
     },
     "execution_count": 18,
     "metadata": {},
     "output_type": "execute_result"
    }
   ],
   "source": [
    "df.head()"
   ]
  },
  {
   "cell_type": "markdown",
   "metadata": {},
   "source": [
    "Generar la columna \"ED_2Clases\" a partir de la variable \"etiq-diagExpTLP_R2"
   ]
  },
  {
   "cell_type": "code",
   "execution_count": 19,
   "metadata": {},
   "outputs": [],
   "source": [
    "def transfor_ed(row):\n",
    "   if row['etiq-diagExpTLP_R2'] == 'ED1':\n",
    "      return 'H'\n",
    "   elif row['etiq-diagExpTLP_R2'] == 'ED2' or row['etiq-diagExpTLP_R2'] == 'ED3':\n",
    "      return 'D'"
   ]
  },
  {
   "cell_type": "code",
   "execution_count": 20,
   "metadata": {},
   "outputs": [],
   "source": [
    "df['ED_2Clases'] = df.apply(transfor_ed, axis=1)"
   ]
  },
  {
   "cell_type": "code",
   "execution_count": 21,
   "metadata": {},
   "outputs": [],
   "source": [
    "columns = [\n",
    "    'ED_2Clases',\n",
    "    'clin-reservaCognitiva_escolaridad',\n",
    "    'demo-edad',\n",
    "    'demo-genero',\n",
    "    'eval-TLP-CubCorsi-totalDirectos-PD',\n",
    "    'eval-TLP-CubCorsi-totalinversos-PD',\n",
    "    'eval-TLP-CubCorsi-total-PD',\n",
    "    'eval-TLP-FigRey-Duracion-PD',\n",
    "    'eval-TLP-FigRey-totalCopia-PD',\n",
    "    'eval-TLP-FigRey-totalMemoria-PD',\n",
    "    'eval-TLP-Stroop-palabras-PD',\n",
    "    'eval-TLP-Stroop-color-PD',\n",
    "    'eval-TLP-Stroop-palabrasColor-PD',\n",
    "    'eval-TLP-Tavec-1_RI_A1-PD',\n",
    "    'eval-TLP-Tavec-10_RL_LP-PD',\n",
    "    'eval-TLP-Tavec-11_RCl_LP-PD',\n",
    "    'eval-TLP-Tavec-2_RI_A5-PD',\n",
    "    'eval-TLP-Tavec-3_RI_AT-PD',\n",
    "    'eval-TLP-Tavec-8_RL_CP-PD',\n",
    "    'eval-TLP-Tavec-9_RCl_CP-PD'\n",
    "]"
   ]
  },
  {
   "cell_type": "code",
   "execution_count": 22,
   "metadata": {},
   "outputs": [],
   "source": [
    "df = df[columns]"
   ]
  },
  {
   "cell_type": "code",
   "execution_count": 23,
   "metadata": {},
   "outputs": [
    {
     "data": {
      "text/plain": [
       "(314, 20)"
      ]
     },
     "execution_count": 23,
     "metadata": {},
     "output_type": "execute_result"
    }
   ],
   "source": [
    "df.shape"
   ]
  },
  {
   "cell_type": "code",
   "execution_count": 24,
   "metadata": {},
   "outputs": [
    {
     "data": {
      "text/plain": [
       "Index([], dtype='object')"
      ]
     },
     "execution_count": 24,
     "metadata": {},
     "output_type": "execute_result"
    }
   ],
   "source": [
    "df.columns[df.isna().any()]"
   ]
  },
  {
   "cell_type": "code",
   "execution_count": 25,
   "metadata": {},
   "outputs": [],
   "source": [
    "df.dropna(inplace=True)"
   ]
  },
  {
   "cell_type": "code",
   "execution_count": 26,
   "metadata": {},
   "outputs": [
    {
     "data": {
      "text/plain": [
       "(314, 20)"
      ]
     },
     "execution_count": 26,
     "metadata": {},
     "output_type": "execute_result"
    }
   ],
   "source": [
    "df.shape"
   ]
  },
  {
   "cell_type": "code",
   "execution_count": 27,
   "metadata": {},
   "outputs": [
    {
     "data": {
      "text/plain": [
       "Index([], dtype='object')"
      ]
     },
     "execution_count": 27,
     "metadata": {},
     "output_type": "execute_result"
    }
   ],
   "source": [
    "df.columns[df.astype(str).apply(lambda col: col.isin([\"inf\", \"-inf\"]).any())]"
   ]
  },
  {
   "cell_type": "code",
   "execution_count": 28,
   "metadata": {},
   "outputs": [
    {
     "name": "stdout",
     "output_type": "stream",
     "text": [
      "<class 'pandas.core.frame.DataFrame'>\n",
      "RangeIndex: 314 entries, 0 to 313\n",
      "Data columns (total 20 columns):\n",
      " #   Column                              Non-Null Count  Dtype  \n",
      "---  ------                              --------------  -----  \n",
      " 0   ED_2Clases                          314 non-null    object \n",
      " 1   clin-reservaCognitiva_escolaridad   314 non-null    int64  \n",
      " 2   demo-edad                           314 non-null    int64  \n",
      " 3   demo-genero                         314 non-null    int64  \n",
      " 4   eval-TLP-CubCorsi-totalDirectos-PD  314 non-null    int64  \n",
      " 5   eval-TLP-CubCorsi-totalinversos-PD  314 non-null    int64  \n",
      " 6   eval-TLP-CubCorsi-total-PD          314 non-null    int64  \n",
      " 7   eval-TLP-FigRey-Duracion-PD         314 non-null    int64  \n",
      " 8   eval-TLP-FigRey-totalCopia-PD       314 non-null    float64\n",
      " 9   eval-TLP-FigRey-totalMemoria-PD     314 non-null    float64\n",
      " 10  eval-TLP-Stroop-palabras-PD         314 non-null    int64  \n",
      " 11  eval-TLP-Stroop-color-PD            314 non-null    int64  \n",
      " 12  eval-TLP-Stroop-palabrasColor-PD    314 non-null    int64  \n",
      " 13  eval-TLP-Tavec-1_RI_A1-PD           314 non-null    int64  \n",
      " 14  eval-TLP-Tavec-10_RL_LP-PD          314 non-null    int64  \n",
      " 15  eval-TLP-Tavec-11_RCl_LP-PD         314 non-null    int64  \n",
      " 16  eval-TLP-Tavec-2_RI_A5-PD           314 non-null    int64  \n",
      " 17  eval-TLP-Tavec-3_RI_AT-PD           314 non-null    int64  \n",
      " 18  eval-TLP-Tavec-8_RL_CP-PD           314 non-null    int64  \n",
      " 19  eval-TLP-Tavec-9_RCl_CP-PD          314 non-null    int64  \n",
      "dtypes: float64(2), int64(17), object(1)\n",
      "memory usage: 49.2+ KB\n"
     ]
    }
   ],
   "source": [
    "df.info()"
   ]
  },
  {
   "cell_type": "code",
   "execution_count": 29,
   "metadata": {},
   "outputs": [
    {
     "data": {
      "application/vnd.microsoft.datawrangler.viewer.v0+json": {
       "columns": [
        {
         "name": "index",
         "rawType": "object",
         "type": "string"
        },
        {
         "name": "clin-reservaCognitiva_escolaridad",
         "rawType": "float64",
         "type": "float"
        },
        {
         "name": "demo-edad",
         "rawType": "float64",
         "type": "float"
        },
        {
         "name": "demo-genero",
         "rawType": "float64",
         "type": "float"
        },
        {
         "name": "eval-TLP-CubCorsi-totalDirectos-PD",
         "rawType": "float64",
         "type": "float"
        },
        {
         "name": "eval-TLP-CubCorsi-totalinversos-PD",
         "rawType": "float64",
         "type": "float"
        },
        {
         "name": "eval-TLP-CubCorsi-total-PD",
         "rawType": "float64",
         "type": "float"
        },
        {
         "name": "eval-TLP-FigRey-Duracion-PD",
         "rawType": "float64",
         "type": "float"
        },
        {
         "name": "eval-TLP-FigRey-totalCopia-PD",
         "rawType": "float64",
         "type": "float"
        },
        {
         "name": "eval-TLP-FigRey-totalMemoria-PD",
         "rawType": "float64",
         "type": "float"
        },
        {
         "name": "eval-TLP-Stroop-palabras-PD",
         "rawType": "float64",
         "type": "float"
        },
        {
         "name": "eval-TLP-Stroop-color-PD",
         "rawType": "float64",
         "type": "float"
        },
        {
         "name": "eval-TLP-Stroop-palabrasColor-PD",
         "rawType": "float64",
         "type": "float"
        },
        {
         "name": "eval-TLP-Tavec-1_RI_A1-PD",
         "rawType": "float64",
         "type": "float"
        },
        {
         "name": "eval-TLP-Tavec-10_RL_LP-PD",
         "rawType": "float64",
         "type": "float"
        },
        {
         "name": "eval-TLP-Tavec-11_RCl_LP-PD",
         "rawType": "float64",
         "type": "float"
        },
        {
         "name": "eval-TLP-Tavec-2_RI_A5-PD",
         "rawType": "float64",
         "type": "float"
        },
        {
         "name": "eval-TLP-Tavec-3_RI_AT-PD",
         "rawType": "float64",
         "type": "float"
        },
        {
         "name": "eval-TLP-Tavec-8_RL_CP-PD",
         "rawType": "float64",
         "type": "float"
        },
        {
         "name": "eval-TLP-Tavec-9_RCl_CP-PD",
         "rawType": "float64",
         "type": "float"
        }
       ],
       "conversionMethod": "pd.DataFrame",
       "ref": "e08a0991-5a5d-4c25-aa07-00a9b0f4da17",
       "rows": [
        [
         "count",
         "314.0",
         "314.0",
         "314.0",
         "314.0",
         "314.0",
         "314.0",
         "314.0",
         "314.0",
         "314.0",
         "314.0",
         "314.0",
         "314.0",
         "314.0",
         "314.0",
         "314.0",
         "314.0",
         "314.0",
         "314.0",
         "314.0"
        ],
        [
         "mean",
         "4.022292993630574",
         "69.10828025477707",
         "1.6847133757961783",
         "7.414012738853503",
         "6.6687898089171975",
         "14.0828025477707",
         "200.29936305732485",
         "32.39331210191083",
         "16.04299363057325",
         "90.04458598726114",
         "61.089171974522294",
         "33.57643312101911",
         "6.493630573248407",
         "10.847133757961783",
         "11.601910828025478",
         "12.124203821656051",
         "50.86624203821656",
         "10.235668789808917",
         "11.359872611464969"
        ],
        [
         "std",
         "0.9438618736680556",
         "7.65517187644716",
         "0.4653715551656092",
         "1.6711977912100022",
         "1.9147603393000683",
         "3.1449778077702377",
         "88.16075680894848",
         "4.697282184566999",
         "7.016222549846098",
         "18.885680614056803",
         "13.393706879602826",
         "10.402854364549073",
         "2.2054878265779876",
         "3.396419097362257",
         "2.9572237074527714",
         "2.613650606311091",
         "11.060158207305324",
         "3.4235421138937783",
         "2.956735093280311"
        ],
        [
         "min",
         "1.0",
         "55.0",
         "1.0",
         "4.0",
         "0.0",
         "4.0",
         "75.0",
         "10.0",
         "0.0",
         "0.0",
         "0.0",
         "0.0",
         "1.0",
         "0.0",
         "1.0",
         "0.0",
         "12.0",
         "0.0",
         "0.0"
        ],
        [
         "25%",
         "3.0",
         "63.0",
         "1.0",
         "6.0",
         "6.0",
         "12.0",
         "135.25",
         "31.0",
         "11.0",
         "78.25",
         "53.0",
         "26.0",
         "5.0",
         "8.0",
         "10.0",
         "10.0",
         "43.0",
         "8.0",
         "9.0"
        ],
        [
         "50%",
         "4.0",
         "69.0",
         "2.0",
         "7.0",
         "6.0",
         "14.0",
         "183.5",
         "34.0",
         "16.5",
         "92.0",
         "63.0",
         "34.0",
         "6.0",
         "11.0",
         "12.0",
         "12.0",
         "51.0",
         "10.0",
         "12.0"
        ],
        [
         "75%",
         "5.0",
         "74.0",
         "2.0",
         "9.0",
         "8.0",
         "16.0",
         "247.5",
         "36.0",
         "21.0",
         "103.0",
         "70.0",
         "40.0",
         "8.0",
         "14.0",
         "14.0",
         "14.0",
         "59.0",
         "13.0",
         "14.0"
        ],
        [
         "max",
         "5.0",
         "88.0",
         "2.0",
         "13.0",
         "12.0",
         "22.0",
         "537.0",
         "36.0",
         "34.0",
         "133.0",
         "103.0",
         "74.0",
         "15.0",
         "16.0",
         "16.0",
         "16.0",
         "77.0",
         "16.0",
         "16.0"
        ]
       ],
       "shape": {
        "columns": 19,
        "rows": 8
       }
      },
      "text/html": [
       "<div>\n",
       "<style scoped>\n",
       "    .dataframe tbody tr th:only-of-type {\n",
       "        vertical-align: middle;\n",
       "    }\n",
       "\n",
       "    .dataframe tbody tr th {\n",
       "        vertical-align: top;\n",
       "    }\n",
       "\n",
       "    .dataframe thead th {\n",
       "        text-align: right;\n",
       "    }\n",
       "</style>\n",
       "<table border=\"1\" class=\"dataframe\">\n",
       "  <thead>\n",
       "    <tr style=\"text-align: right;\">\n",
       "      <th></th>\n",
       "      <th>clin-reservaCognitiva_escolaridad</th>\n",
       "      <th>demo-edad</th>\n",
       "      <th>demo-genero</th>\n",
       "      <th>eval-TLP-CubCorsi-totalDirectos-PD</th>\n",
       "      <th>eval-TLP-CubCorsi-totalinversos-PD</th>\n",
       "      <th>eval-TLP-CubCorsi-total-PD</th>\n",
       "      <th>eval-TLP-FigRey-Duracion-PD</th>\n",
       "      <th>eval-TLP-FigRey-totalCopia-PD</th>\n",
       "      <th>eval-TLP-FigRey-totalMemoria-PD</th>\n",
       "      <th>eval-TLP-Stroop-palabras-PD</th>\n",
       "      <th>eval-TLP-Stroop-color-PD</th>\n",
       "      <th>eval-TLP-Stroop-palabrasColor-PD</th>\n",
       "      <th>eval-TLP-Tavec-1_RI_A1-PD</th>\n",
       "      <th>eval-TLP-Tavec-10_RL_LP-PD</th>\n",
       "      <th>eval-TLP-Tavec-11_RCl_LP-PD</th>\n",
       "      <th>eval-TLP-Tavec-2_RI_A5-PD</th>\n",
       "      <th>eval-TLP-Tavec-3_RI_AT-PD</th>\n",
       "      <th>eval-TLP-Tavec-8_RL_CP-PD</th>\n",
       "      <th>eval-TLP-Tavec-9_RCl_CP-PD</th>\n",
       "    </tr>\n",
       "  </thead>\n",
       "  <tbody>\n",
       "    <tr>\n",
       "      <th>count</th>\n",
       "      <td>314.000000</td>\n",
       "      <td>314.000000</td>\n",
       "      <td>314.000000</td>\n",
       "      <td>314.000000</td>\n",
       "      <td>314.00000</td>\n",
       "      <td>314.000000</td>\n",
       "      <td>314.000000</td>\n",
       "      <td>314.000000</td>\n",
       "      <td>314.000000</td>\n",
       "      <td>314.000000</td>\n",
       "      <td>314.000000</td>\n",
       "      <td>314.000000</td>\n",
       "      <td>314.000000</td>\n",
       "      <td>314.000000</td>\n",
       "      <td>314.000000</td>\n",
       "      <td>314.000000</td>\n",
       "      <td>314.000000</td>\n",
       "      <td>314.000000</td>\n",
       "      <td>314.000000</td>\n",
       "    </tr>\n",
       "    <tr>\n",
       "      <th>mean</th>\n",
       "      <td>4.022293</td>\n",
       "      <td>69.108280</td>\n",
       "      <td>1.684713</td>\n",
       "      <td>7.414013</td>\n",
       "      <td>6.66879</td>\n",
       "      <td>14.082803</td>\n",
       "      <td>200.299363</td>\n",
       "      <td>32.393312</td>\n",
       "      <td>16.042994</td>\n",
       "      <td>90.044586</td>\n",
       "      <td>61.089172</td>\n",
       "      <td>33.576433</td>\n",
       "      <td>6.493631</td>\n",
       "      <td>10.847134</td>\n",
       "      <td>11.601911</td>\n",
       "      <td>12.124204</td>\n",
       "      <td>50.866242</td>\n",
       "      <td>10.235669</td>\n",
       "      <td>11.359873</td>\n",
       "    </tr>\n",
       "    <tr>\n",
       "      <th>std</th>\n",
       "      <td>0.943862</td>\n",
       "      <td>7.655172</td>\n",
       "      <td>0.465372</td>\n",
       "      <td>1.671198</td>\n",
       "      <td>1.91476</td>\n",
       "      <td>3.144978</td>\n",
       "      <td>88.160757</td>\n",
       "      <td>4.697282</td>\n",
       "      <td>7.016223</td>\n",
       "      <td>18.885681</td>\n",
       "      <td>13.393707</td>\n",
       "      <td>10.402854</td>\n",
       "      <td>2.205488</td>\n",
       "      <td>3.396419</td>\n",
       "      <td>2.957224</td>\n",
       "      <td>2.613651</td>\n",
       "      <td>11.060158</td>\n",
       "      <td>3.423542</td>\n",
       "      <td>2.956735</td>\n",
       "    </tr>\n",
       "    <tr>\n",
       "      <th>min</th>\n",
       "      <td>1.000000</td>\n",
       "      <td>55.000000</td>\n",
       "      <td>1.000000</td>\n",
       "      <td>4.000000</td>\n",
       "      <td>0.00000</td>\n",
       "      <td>4.000000</td>\n",
       "      <td>75.000000</td>\n",
       "      <td>10.000000</td>\n",
       "      <td>0.000000</td>\n",
       "      <td>0.000000</td>\n",
       "      <td>0.000000</td>\n",
       "      <td>0.000000</td>\n",
       "      <td>1.000000</td>\n",
       "      <td>0.000000</td>\n",
       "      <td>1.000000</td>\n",
       "      <td>0.000000</td>\n",
       "      <td>12.000000</td>\n",
       "      <td>0.000000</td>\n",
       "      <td>0.000000</td>\n",
       "    </tr>\n",
       "    <tr>\n",
       "      <th>25%</th>\n",
       "      <td>3.000000</td>\n",
       "      <td>63.000000</td>\n",
       "      <td>1.000000</td>\n",
       "      <td>6.000000</td>\n",
       "      <td>6.00000</td>\n",
       "      <td>12.000000</td>\n",
       "      <td>135.250000</td>\n",
       "      <td>31.000000</td>\n",
       "      <td>11.000000</td>\n",
       "      <td>78.250000</td>\n",
       "      <td>53.000000</td>\n",
       "      <td>26.000000</td>\n",
       "      <td>5.000000</td>\n",
       "      <td>8.000000</td>\n",
       "      <td>10.000000</td>\n",
       "      <td>10.000000</td>\n",
       "      <td>43.000000</td>\n",
       "      <td>8.000000</td>\n",
       "      <td>9.000000</td>\n",
       "    </tr>\n",
       "    <tr>\n",
       "      <th>50%</th>\n",
       "      <td>4.000000</td>\n",
       "      <td>69.000000</td>\n",
       "      <td>2.000000</td>\n",
       "      <td>7.000000</td>\n",
       "      <td>6.00000</td>\n",
       "      <td>14.000000</td>\n",
       "      <td>183.500000</td>\n",
       "      <td>34.000000</td>\n",
       "      <td>16.500000</td>\n",
       "      <td>92.000000</td>\n",
       "      <td>63.000000</td>\n",
       "      <td>34.000000</td>\n",
       "      <td>6.000000</td>\n",
       "      <td>11.000000</td>\n",
       "      <td>12.000000</td>\n",
       "      <td>12.000000</td>\n",
       "      <td>51.000000</td>\n",
       "      <td>10.000000</td>\n",
       "      <td>12.000000</td>\n",
       "    </tr>\n",
       "    <tr>\n",
       "      <th>75%</th>\n",
       "      <td>5.000000</td>\n",
       "      <td>74.000000</td>\n",
       "      <td>2.000000</td>\n",
       "      <td>9.000000</td>\n",
       "      <td>8.00000</td>\n",
       "      <td>16.000000</td>\n",
       "      <td>247.500000</td>\n",
       "      <td>36.000000</td>\n",
       "      <td>21.000000</td>\n",
       "      <td>103.000000</td>\n",
       "      <td>70.000000</td>\n",
       "      <td>40.000000</td>\n",
       "      <td>8.000000</td>\n",
       "      <td>14.000000</td>\n",
       "      <td>14.000000</td>\n",
       "      <td>14.000000</td>\n",
       "      <td>59.000000</td>\n",
       "      <td>13.000000</td>\n",
       "      <td>14.000000</td>\n",
       "    </tr>\n",
       "    <tr>\n",
       "      <th>max</th>\n",
       "      <td>5.000000</td>\n",
       "      <td>88.000000</td>\n",
       "      <td>2.000000</td>\n",
       "      <td>13.000000</td>\n",
       "      <td>12.00000</td>\n",
       "      <td>22.000000</td>\n",
       "      <td>537.000000</td>\n",
       "      <td>36.000000</td>\n",
       "      <td>34.000000</td>\n",
       "      <td>133.000000</td>\n",
       "      <td>103.000000</td>\n",
       "      <td>74.000000</td>\n",
       "      <td>15.000000</td>\n",
       "      <td>16.000000</td>\n",
       "      <td>16.000000</td>\n",
       "      <td>16.000000</td>\n",
       "      <td>77.000000</td>\n",
       "      <td>16.000000</td>\n",
       "      <td>16.000000</td>\n",
       "    </tr>\n",
       "  </tbody>\n",
       "</table>\n",
       "</div>"
      ],
      "text/plain": [
       "       clin-reservaCognitiva_escolaridad   demo-edad  demo-genero  \\\n",
       "count                         314.000000  314.000000   314.000000   \n",
       "mean                            4.022293   69.108280     1.684713   \n",
       "std                             0.943862    7.655172     0.465372   \n",
       "min                             1.000000   55.000000     1.000000   \n",
       "25%                             3.000000   63.000000     1.000000   \n",
       "50%                             4.000000   69.000000     2.000000   \n",
       "75%                             5.000000   74.000000     2.000000   \n",
       "max                             5.000000   88.000000     2.000000   \n",
       "\n",
       "       eval-TLP-CubCorsi-totalDirectos-PD  eval-TLP-CubCorsi-totalinversos-PD  \\\n",
       "count                          314.000000                           314.00000   \n",
       "mean                             7.414013                             6.66879   \n",
       "std                              1.671198                             1.91476   \n",
       "min                              4.000000                             0.00000   \n",
       "25%                              6.000000                             6.00000   \n",
       "50%                              7.000000                             6.00000   \n",
       "75%                              9.000000                             8.00000   \n",
       "max                             13.000000                            12.00000   \n",
       "\n",
       "       eval-TLP-CubCorsi-total-PD  eval-TLP-FigRey-Duracion-PD  \\\n",
       "count                  314.000000                   314.000000   \n",
       "mean                    14.082803                   200.299363   \n",
       "std                      3.144978                    88.160757   \n",
       "min                      4.000000                    75.000000   \n",
       "25%                     12.000000                   135.250000   \n",
       "50%                     14.000000                   183.500000   \n",
       "75%                     16.000000                   247.500000   \n",
       "max                     22.000000                   537.000000   \n",
       "\n",
       "       eval-TLP-FigRey-totalCopia-PD  eval-TLP-FigRey-totalMemoria-PD  \\\n",
       "count                     314.000000                       314.000000   \n",
       "mean                       32.393312                        16.042994   \n",
       "std                         4.697282                         7.016223   \n",
       "min                        10.000000                         0.000000   \n",
       "25%                        31.000000                        11.000000   \n",
       "50%                        34.000000                        16.500000   \n",
       "75%                        36.000000                        21.000000   \n",
       "max                        36.000000                        34.000000   \n",
       "\n",
       "       eval-TLP-Stroop-palabras-PD  eval-TLP-Stroop-color-PD  \\\n",
       "count                   314.000000                314.000000   \n",
       "mean                     90.044586                 61.089172   \n",
       "std                      18.885681                 13.393707   \n",
       "min                       0.000000                  0.000000   \n",
       "25%                      78.250000                 53.000000   \n",
       "50%                      92.000000                 63.000000   \n",
       "75%                     103.000000                 70.000000   \n",
       "max                     133.000000                103.000000   \n",
       "\n",
       "       eval-TLP-Stroop-palabrasColor-PD  eval-TLP-Tavec-1_RI_A1-PD  \\\n",
       "count                        314.000000                 314.000000   \n",
       "mean                          33.576433                   6.493631   \n",
       "std                           10.402854                   2.205488   \n",
       "min                            0.000000                   1.000000   \n",
       "25%                           26.000000                   5.000000   \n",
       "50%                           34.000000                   6.000000   \n",
       "75%                           40.000000                   8.000000   \n",
       "max                           74.000000                  15.000000   \n",
       "\n",
       "       eval-TLP-Tavec-10_RL_LP-PD  eval-TLP-Tavec-11_RCl_LP-PD  \\\n",
       "count                  314.000000                   314.000000   \n",
       "mean                    10.847134                    11.601911   \n",
       "std                      3.396419                     2.957224   \n",
       "min                      0.000000                     1.000000   \n",
       "25%                      8.000000                    10.000000   \n",
       "50%                     11.000000                    12.000000   \n",
       "75%                     14.000000                    14.000000   \n",
       "max                     16.000000                    16.000000   \n",
       "\n",
       "       eval-TLP-Tavec-2_RI_A5-PD  eval-TLP-Tavec-3_RI_AT-PD  \\\n",
       "count                 314.000000                 314.000000   \n",
       "mean                   12.124204                  50.866242   \n",
       "std                     2.613651                  11.060158   \n",
       "min                     0.000000                  12.000000   \n",
       "25%                    10.000000                  43.000000   \n",
       "50%                    12.000000                  51.000000   \n",
       "75%                    14.000000                  59.000000   \n",
       "max                    16.000000                  77.000000   \n",
       "\n",
       "       eval-TLP-Tavec-8_RL_CP-PD  eval-TLP-Tavec-9_RCl_CP-PD  \n",
       "count                 314.000000                  314.000000  \n",
       "mean                   10.235669                   11.359873  \n",
       "std                     3.423542                    2.956735  \n",
       "min                     0.000000                    0.000000  \n",
       "25%                     8.000000                    9.000000  \n",
       "50%                    10.000000                   12.000000  \n",
       "75%                    13.000000                   14.000000  \n",
       "max                    16.000000                   16.000000  "
      ]
     },
     "execution_count": 29,
     "metadata": {},
     "output_type": "execute_result"
    }
   ],
   "source": [
    "df.describe()"
   ]
  },
  {
   "cell_type": "markdown",
   "metadata": {},
   "source": [
    "Eliminar duplicados"
   ]
  },
  {
   "cell_type": "code",
   "execution_count": 30,
   "metadata": {},
   "outputs": [],
   "source": [
    "duplicate = df[df.duplicated()]"
   ]
  },
  {
   "cell_type": "code",
   "execution_count": 31,
   "metadata": {},
   "outputs": [
    {
     "data": {
      "application/vnd.microsoft.datawrangler.viewer.v0+json": {
       "columns": [
        {
         "name": "index",
         "rawType": "int64",
         "type": "integer"
        },
        {
         "name": "ED_2Clases",
         "rawType": "object",
         "type": "string"
        },
        {
         "name": "clin-reservaCognitiva_escolaridad",
         "rawType": "int64",
         "type": "integer"
        },
        {
         "name": "demo-edad",
         "rawType": "int64",
         "type": "integer"
        },
        {
         "name": "demo-genero",
         "rawType": "int64",
         "type": "integer"
        },
        {
         "name": "eval-TLP-CubCorsi-totalDirectos-PD",
         "rawType": "int64",
         "type": "integer"
        },
        {
         "name": "eval-TLP-CubCorsi-totalinversos-PD",
         "rawType": "int64",
         "type": "integer"
        },
        {
         "name": "eval-TLP-CubCorsi-total-PD",
         "rawType": "int64",
         "type": "integer"
        },
        {
         "name": "eval-TLP-FigRey-Duracion-PD",
         "rawType": "int64",
         "type": "integer"
        },
        {
         "name": "eval-TLP-FigRey-totalCopia-PD",
         "rawType": "float64",
         "type": "float"
        },
        {
         "name": "eval-TLP-FigRey-totalMemoria-PD",
         "rawType": "float64",
         "type": "float"
        },
        {
         "name": "eval-TLP-Stroop-palabras-PD",
         "rawType": "int64",
         "type": "integer"
        },
        {
         "name": "eval-TLP-Stroop-color-PD",
         "rawType": "int64",
         "type": "integer"
        },
        {
         "name": "eval-TLP-Stroop-palabrasColor-PD",
         "rawType": "int64",
         "type": "integer"
        },
        {
         "name": "eval-TLP-Tavec-1_RI_A1-PD",
         "rawType": "int64",
         "type": "integer"
        },
        {
         "name": "eval-TLP-Tavec-10_RL_LP-PD",
         "rawType": "int64",
         "type": "integer"
        },
        {
         "name": "eval-TLP-Tavec-11_RCl_LP-PD",
         "rawType": "int64",
         "type": "integer"
        },
        {
         "name": "eval-TLP-Tavec-2_RI_A5-PD",
         "rawType": "int64",
         "type": "integer"
        },
        {
         "name": "eval-TLP-Tavec-3_RI_AT-PD",
         "rawType": "int64",
         "type": "integer"
        },
        {
         "name": "eval-TLP-Tavec-8_RL_CP-PD",
         "rawType": "int64",
         "type": "integer"
        },
        {
         "name": "eval-TLP-Tavec-9_RCl_CP-PD",
         "rawType": "int64",
         "type": "integer"
        }
       ],
       "conversionMethod": "pd.DataFrame",
       "ref": "f59136ac-6047-4fe3-b970-268c9e29c5a4",
       "rows": [],
       "shape": {
        "columns": 20,
        "rows": 0
       }
      },
      "text/html": [
       "<div>\n",
       "<style scoped>\n",
       "    .dataframe tbody tr th:only-of-type {\n",
       "        vertical-align: middle;\n",
       "    }\n",
       "\n",
       "    .dataframe tbody tr th {\n",
       "        vertical-align: top;\n",
       "    }\n",
       "\n",
       "    .dataframe thead th {\n",
       "        text-align: right;\n",
       "    }\n",
       "</style>\n",
       "<table border=\"1\" class=\"dataframe\">\n",
       "  <thead>\n",
       "    <tr style=\"text-align: right;\">\n",
       "      <th></th>\n",
       "      <th>ED_2Clases</th>\n",
       "      <th>clin-reservaCognitiva_escolaridad</th>\n",
       "      <th>demo-edad</th>\n",
       "      <th>demo-genero</th>\n",
       "      <th>eval-TLP-CubCorsi-totalDirectos-PD</th>\n",
       "      <th>eval-TLP-CubCorsi-totalinversos-PD</th>\n",
       "      <th>eval-TLP-CubCorsi-total-PD</th>\n",
       "      <th>eval-TLP-FigRey-Duracion-PD</th>\n",
       "      <th>eval-TLP-FigRey-totalCopia-PD</th>\n",
       "      <th>eval-TLP-FigRey-totalMemoria-PD</th>\n",
       "      <th>eval-TLP-Stroop-palabras-PD</th>\n",
       "      <th>eval-TLP-Stroop-color-PD</th>\n",
       "      <th>eval-TLP-Stroop-palabrasColor-PD</th>\n",
       "      <th>eval-TLP-Tavec-1_RI_A1-PD</th>\n",
       "      <th>eval-TLP-Tavec-10_RL_LP-PD</th>\n",
       "      <th>eval-TLP-Tavec-11_RCl_LP-PD</th>\n",
       "      <th>eval-TLP-Tavec-2_RI_A5-PD</th>\n",
       "      <th>eval-TLP-Tavec-3_RI_AT-PD</th>\n",
       "      <th>eval-TLP-Tavec-8_RL_CP-PD</th>\n",
       "      <th>eval-TLP-Tavec-9_RCl_CP-PD</th>\n",
       "    </tr>\n",
       "  </thead>\n",
       "  <tbody>\n",
       "  </tbody>\n",
       "</table>\n",
       "</div>"
      ],
      "text/plain": [
       "Empty DataFrame\n",
       "Columns: [ED_2Clases, clin-reservaCognitiva_escolaridad, demo-edad, demo-genero, eval-TLP-CubCorsi-totalDirectos-PD, eval-TLP-CubCorsi-totalinversos-PD, eval-TLP-CubCorsi-total-PD, eval-TLP-FigRey-Duracion-PD, eval-TLP-FigRey-totalCopia-PD, eval-TLP-FigRey-totalMemoria-PD, eval-TLP-Stroop-palabras-PD, eval-TLP-Stroop-color-PD, eval-TLP-Stroop-palabrasColor-PD, eval-TLP-Tavec-1_RI_A1-PD, eval-TLP-Tavec-10_RL_LP-PD, eval-TLP-Tavec-11_RCl_LP-PD, eval-TLP-Tavec-2_RI_A5-PD, eval-TLP-Tavec-3_RI_AT-PD, eval-TLP-Tavec-8_RL_CP-PD, eval-TLP-Tavec-9_RCl_CP-PD]\n",
       "Index: []"
      ]
     },
     "execution_count": 31,
     "metadata": {},
     "output_type": "execute_result"
    }
   ],
   "source": [
    "duplicate"
   ]
  },
  {
   "cell_type": "markdown",
   "metadata": {},
   "source": [
    "Eliminar outliers"
   ]
  },
  {
   "cell_type": "code",
   "execution_count": 33,
   "metadata": {},
   "outputs": [],
   "source": [
    "import seaborn as sns\n",
    "import matplotlib.pyplot as plt\n",
    "\n",
    "sns.set_theme(style=\"whitegrid\")\n",
    "for column in df.select_dtypes(include=['number']).columns:\n",
    "    plt.figure(figsize=(8, 5))\n",
    "    sns.boxplot(x=df[column], color='skyblue')\n",
    "    plt.title(f'Boxplot of {column}')\n",
    "    plt.xlabel(column)\n",
    "    plt.xticks(rotation=45)\n",
    "    plt.savefig(f'boxplots/{column}.png', bbox_inches='tight')\n",
    "    plt.close()"
   ]
  },
  {
   "cell_type": "code",
   "execution_count": 34,
   "metadata": {},
   "outputs": [],
   "source": [
    "from scipy import stats\n",
    "import numpy as np\n",
    "\n",
    "num_cols = df.select_dtypes(include=[\"number\"]).columns\n",
    "z_scores = np.abs(stats.zscore(df[num_cols]))\n",
    "df_filtered = df[(z_scores < 3).all(axis=1)]"
   ]
  },
  {
   "cell_type": "code",
   "execution_count": 35,
   "metadata": {},
   "outputs": [
    {
     "data": {
      "application/vnd.microsoft.datawrangler.viewer.v0+json": {
       "columns": [
        {
         "name": "index",
         "rawType": "object",
         "type": "string"
        },
        {
         "name": "clin-reservaCognitiva_escolaridad",
         "rawType": "float64",
         "type": "float"
        },
        {
         "name": "demo-edad",
         "rawType": "float64",
         "type": "float"
        },
        {
         "name": "demo-genero",
         "rawType": "float64",
         "type": "float"
        },
        {
         "name": "eval-TLP-CubCorsi-totalDirectos-PD",
         "rawType": "float64",
         "type": "float"
        },
        {
         "name": "eval-TLP-CubCorsi-totalinversos-PD",
         "rawType": "float64",
         "type": "float"
        },
        {
         "name": "eval-TLP-CubCorsi-total-PD",
         "rawType": "float64",
         "type": "float"
        },
        {
         "name": "eval-TLP-FigRey-Duracion-PD",
         "rawType": "float64",
         "type": "float"
        },
        {
         "name": "eval-TLP-FigRey-totalCopia-PD",
         "rawType": "float64",
         "type": "float"
        },
        {
         "name": "eval-TLP-FigRey-totalMemoria-PD",
         "rawType": "float64",
         "type": "float"
        },
        {
         "name": "eval-TLP-Stroop-palabras-PD",
         "rawType": "float64",
         "type": "float"
        },
        {
         "name": "eval-TLP-Stroop-color-PD",
         "rawType": "float64",
         "type": "float"
        },
        {
         "name": "eval-TLP-Stroop-palabrasColor-PD",
         "rawType": "float64",
         "type": "float"
        },
        {
         "name": "eval-TLP-Tavec-1_RI_A1-PD",
         "rawType": "float64",
         "type": "float"
        },
        {
         "name": "eval-TLP-Tavec-10_RL_LP-PD",
         "rawType": "float64",
         "type": "float"
        },
        {
         "name": "eval-TLP-Tavec-11_RCl_LP-PD",
         "rawType": "float64",
         "type": "float"
        },
        {
         "name": "eval-TLP-Tavec-2_RI_A5-PD",
         "rawType": "float64",
         "type": "float"
        },
        {
         "name": "eval-TLP-Tavec-3_RI_AT-PD",
         "rawType": "float64",
         "type": "float"
        },
        {
         "name": "eval-TLP-Tavec-8_RL_CP-PD",
         "rawType": "float64",
         "type": "float"
        },
        {
         "name": "eval-TLP-Tavec-9_RCl_CP-PD",
         "rawType": "float64",
         "type": "float"
        }
       ],
       "conversionMethod": "pd.DataFrame",
       "ref": "a6486e14-0125-4b60-af2e-13520c082fea",
       "rows": [
        [
         "count",
         "290.0",
         "290.0",
         "290.0",
         "290.0",
         "290.0",
         "290.0",
         "290.0",
         "290.0",
         "290.0",
         "290.0",
         "290.0",
         "290.0",
         "290.0",
         "290.0",
         "290.0",
         "290.0",
         "290.0",
         "290.0",
         "290.0"
        ],
        [
         "mean",
         "4.096551724137931",
         "68.62068965517241",
         "1.6896551724137931",
         "7.444827586206896",
         "6.755172413793104",
         "14.2",
         "192.24827586206897",
         "33.0",
         "16.387931034482758",
         "91.60689655172413",
         "62.213793103448275",
         "34.179310344827584",
         "6.56551724137931",
         "10.986206896551725",
         "11.727586206896552",
         "12.23103448275862",
         "51.37586206896552",
         "10.36896551724138",
         "11.455172413793104"
        ],
        [
         "std",
         "0.8984734298997225",
         "7.426753253110781",
         "0.46343446891666784",
         "1.5757869911415379",
         "1.8184152587392153",
         "2.9296243721572424",
         "76.26751597867113",
         "3.6342279037984677",
         "6.706684100322966",
         "17.108162543926213",
         "11.537923752760708",
         "9.676189136273157",
         "2.1559085725183493",
         "3.222941567045383",
         "2.8072319545894167",
         "2.5050265658656476",
         "10.638448099886975",
         "3.3345837451070386",
         "2.850312458668196"
        ],
        [
         "min",
         "2.0",
         "55.0",
         "1.0",
         "4.0",
         "2.0",
         "7.0",
         "75.0",
         "19.5",
         "1.0",
         "43.0",
         "21.0",
         "13.0",
         "1.0",
         "1.0",
         "3.0",
         "5.0",
         "24.0",
         "0.0",
         "3.0"
        ],
        [
         "25%",
         "3.0",
         "63.0",
         "1.0",
         "6.0",
         "6.0",
         "12.0",
         "134.25",
         "31.0",
         "11.5",
         "80.0",
         "54.0",
         "27.0",
         "5.0",
         "8.25",
         "10.0",
         "10.0",
         "44.0",
         "8.0",
         "9.0"
        ],
        [
         "50%",
         "4.0",
         "68.5",
         "2.0",
         "7.0",
         "7.0",
         "14.0",
         "179.5",
         "34.0",
         "16.75",
         "93.0",
         "63.0",
         "34.0",
         "6.5",
         "11.0",
         "12.0",
         "13.0",
         "51.0",
         "10.0",
         "12.0"
        ],
        [
         "75%",
         "5.0",
         "74.0",
         "2.0",
         "9.0",
         "8.0",
         "16.0",
         "240.0",
         "36.0",
         "21.0",
         "104.0",
         "71.0",
         "41.0",
         "8.0",
         "14.0",
         "14.0",
         "14.0",
         "59.0",
         "13.0",
         "14.0"
        ],
        [
         "max",
         "5.0",
         "88.0",
         "2.0",
         "12.0",
         "12.0",
         "22.0",
         "450.0",
         "36.0",
         "34.0",
         "133.0",
         "87.0",
         "63.0",
         "13.0",
         "16.0",
         "16.0",
         "16.0",
         "76.0",
         "16.0",
         "16.0"
        ]
       ],
       "shape": {
        "columns": 19,
        "rows": 8
       }
      },
      "text/html": [
       "<div>\n",
       "<style scoped>\n",
       "    .dataframe tbody tr th:only-of-type {\n",
       "        vertical-align: middle;\n",
       "    }\n",
       "\n",
       "    .dataframe tbody tr th {\n",
       "        vertical-align: top;\n",
       "    }\n",
       "\n",
       "    .dataframe thead th {\n",
       "        text-align: right;\n",
       "    }\n",
       "</style>\n",
       "<table border=\"1\" class=\"dataframe\">\n",
       "  <thead>\n",
       "    <tr style=\"text-align: right;\">\n",
       "      <th></th>\n",
       "      <th>clin-reservaCognitiva_escolaridad</th>\n",
       "      <th>demo-edad</th>\n",
       "      <th>demo-genero</th>\n",
       "      <th>eval-TLP-CubCorsi-totalDirectos-PD</th>\n",
       "      <th>eval-TLP-CubCorsi-totalinversos-PD</th>\n",
       "      <th>eval-TLP-CubCorsi-total-PD</th>\n",
       "      <th>eval-TLP-FigRey-Duracion-PD</th>\n",
       "      <th>eval-TLP-FigRey-totalCopia-PD</th>\n",
       "      <th>eval-TLP-FigRey-totalMemoria-PD</th>\n",
       "      <th>eval-TLP-Stroop-palabras-PD</th>\n",
       "      <th>eval-TLP-Stroop-color-PD</th>\n",
       "      <th>eval-TLP-Stroop-palabrasColor-PD</th>\n",
       "      <th>eval-TLP-Tavec-1_RI_A1-PD</th>\n",
       "      <th>eval-TLP-Tavec-10_RL_LP-PD</th>\n",
       "      <th>eval-TLP-Tavec-11_RCl_LP-PD</th>\n",
       "      <th>eval-TLP-Tavec-2_RI_A5-PD</th>\n",
       "      <th>eval-TLP-Tavec-3_RI_AT-PD</th>\n",
       "      <th>eval-TLP-Tavec-8_RL_CP-PD</th>\n",
       "      <th>eval-TLP-Tavec-9_RCl_CP-PD</th>\n",
       "    </tr>\n",
       "  </thead>\n",
       "  <tbody>\n",
       "    <tr>\n",
       "      <th>count</th>\n",
       "      <td>290.000000</td>\n",
       "      <td>290.000000</td>\n",
       "      <td>290.000000</td>\n",
       "      <td>290.000000</td>\n",
       "      <td>290.000000</td>\n",
       "      <td>290.000000</td>\n",
       "      <td>290.000000</td>\n",
       "      <td>290.000000</td>\n",
       "      <td>290.000000</td>\n",
       "      <td>290.000000</td>\n",
       "      <td>290.000000</td>\n",
       "      <td>290.000000</td>\n",
       "      <td>290.000000</td>\n",
       "      <td>290.000000</td>\n",
       "      <td>290.000000</td>\n",
       "      <td>290.000000</td>\n",
       "      <td>290.000000</td>\n",
       "      <td>290.000000</td>\n",
       "      <td>290.000000</td>\n",
       "    </tr>\n",
       "    <tr>\n",
       "      <th>mean</th>\n",
       "      <td>4.096552</td>\n",
       "      <td>68.620690</td>\n",
       "      <td>1.689655</td>\n",
       "      <td>7.444828</td>\n",
       "      <td>6.755172</td>\n",
       "      <td>14.200000</td>\n",
       "      <td>192.248276</td>\n",
       "      <td>33.000000</td>\n",
       "      <td>16.387931</td>\n",
       "      <td>91.606897</td>\n",
       "      <td>62.213793</td>\n",
       "      <td>34.179310</td>\n",
       "      <td>6.565517</td>\n",
       "      <td>10.986207</td>\n",
       "      <td>11.727586</td>\n",
       "      <td>12.231034</td>\n",
       "      <td>51.375862</td>\n",
       "      <td>10.368966</td>\n",
       "      <td>11.455172</td>\n",
       "    </tr>\n",
       "    <tr>\n",
       "      <th>std</th>\n",
       "      <td>0.898473</td>\n",
       "      <td>7.426753</td>\n",
       "      <td>0.463434</td>\n",
       "      <td>1.575787</td>\n",
       "      <td>1.818415</td>\n",
       "      <td>2.929624</td>\n",
       "      <td>76.267516</td>\n",
       "      <td>3.634228</td>\n",
       "      <td>6.706684</td>\n",
       "      <td>17.108163</td>\n",
       "      <td>11.537924</td>\n",
       "      <td>9.676189</td>\n",
       "      <td>2.155909</td>\n",
       "      <td>3.222942</td>\n",
       "      <td>2.807232</td>\n",
       "      <td>2.505027</td>\n",
       "      <td>10.638448</td>\n",
       "      <td>3.334584</td>\n",
       "      <td>2.850312</td>\n",
       "    </tr>\n",
       "    <tr>\n",
       "      <th>min</th>\n",
       "      <td>2.000000</td>\n",
       "      <td>55.000000</td>\n",
       "      <td>1.000000</td>\n",
       "      <td>4.000000</td>\n",
       "      <td>2.000000</td>\n",
       "      <td>7.000000</td>\n",
       "      <td>75.000000</td>\n",
       "      <td>19.500000</td>\n",
       "      <td>1.000000</td>\n",
       "      <td>43.000000</td>\n",
       "      <td>21.000000</td>\n",
       "      <td>13.000000</td>\n",
       "      <td>1.000000</td>\n",
       "      <td>1.000000</td>\n",
       "      <td>3.000000</td>\n",
       "      <td>5.000000</td>\n",
       "      <td>24.000000</td>\n",
       "      <td>0.000000</td>\n",
       "      <td>3.000000</td>\n",
       "    </tr>\n",
       "    <tr>\n",
       "      <th>25%</th>\n",
       "      <td>3.000000</td>\n",
       "      <td>63.000000</td>\n",
       "      <td>1.000000</td>\n",
       "      <td>6.000000</td>\n",
       "      <td>6.000000</td>\n",
       "      <td>12.000000</td>\n",
       "      <td>134.250000</td>\n",
       "      <td>31.000000</td>\n",
       "      <td>11.500000</td>\n",
       "      <td>80.000000</td>\n",
       "      <td>54.000000</td>\n",
       "      <td>27.000000</td>\n",
       "      <td>5.000000</td>\n",
       "      <td>8.250000</td>\n",
       "      <td>10.000000</td>\n",
       "      <td>10.000000</td>\n",
       "      <td>44.000000</td>\n",
       "      <td>8.000000</td>\n",
       "      <td>9.000000</td>\n",
       "    </tr>\n",
       "    <tr>\n",
       "      <th>50%</th>\n",
       "      <td>4.000000</td>\n",
       "      <td>68.500000</td>\n",
       "      <td>2.000000</td>\n",
       "      <td>7.000000</td>\n",
       "      <td>7.000000</td>\n",
       "      <td>14.000000</td>\n",
       "      <td>179.500000</td>\n",
       "      <td>34.000000</td>\n",
       "      <td>16.750000</td>\n",
       "      <td>93.000000</td>\n",
       "      <td>63.000000</td>\n",
       "      <td>34.000000</td>\n",
       "      <td>6.500000</td>\n",
       "      <td>11.000000</td>\n",
       "      <td>12.000000</td>\n",
       "      <td>13.000000</td>\n",
       "      <td>51.000000</td>\n",
       "      <td>10.000000</td>\n",
       "      <td>12.000000</td>\n",
       "    </tr>\n",
       "    <tr>\n",
       "      <th>75%</th>\n",
       "      <td>5.000000</td>\n",
       "      <td>74.000000</td>\n",
       "      <td>2.000000</td>\n",
       "      <td>9.000000</td>\n",
       "      <td>8.000000</td>\n",
       "      <td>16.000000</td>\n",
       "      <td>240.000000</td>\n",
       "      <td>36.000000</td>\n",
       "      <td>21.000000</td>\n",
       "      <td>104.000000</td>\n",
       "      <td>71.000000</td>\n",
       "      <td>41.000000</td>\n",
       "      <td>8.000000</td>\n",
       "      <td>14.000000</td>\n",
       "      <td>14.000000</td>\n",
       "      <td>14.000000</td>\n",
       "      <td>59.000000</td>\n",
       "      <td>13.000000</td>\n",
       "      <td>14.000000</td>\n",
       "    </tr>\n",
       "    <tr>\n",
       "      <th>max</th>\n",
       "      <td>5.000000</td>\n",
       "      <td>88.000000</td>\n",
       "      <td>2.000000</td>\n",
       "      <td>12.000000</td>\n",
       "      <td>12.000000</td>\n",
       "      <td>22.000000</td>\n",
       "      <td>450.000000</td>\n",
       "      <td>36.000000</td>\n",
       "      <td>34.000000</td>\n",
       "      <td>133.000000</td>\n",
       "      <td>87.000000</td>\n",
       "      <td>63.000000</td>\n",
       "      <td>13.000000</td>\n",
       "      <td>16.000000</td>\n",
       "      <td>16.000000</td>\n",
       "      <td>16.000000</td>\n",
       "      <td>76.000000</td>\n",
       "      <td>16.000000</td>\n",
       "      <td>16.000000</td>\n",
       "    </tr>\n",
       "  </tbody>\n",
       "</table>\n",
       "</div>"
      ],
      "text/plain": [
       "       clin-reservaCognitiva_escolaridad   demo-edad  demo-genero  \\\n",
       "count                         290.000000  290.000000   290.000000   \n",
       "mean                            4.096552   68.620690     1.689655   \n",
       "std                             0.898473    7.426753     0.463434   \n",
       "min                             2.000000   55.000000     1.000000   \n",
       "25%                             3.000000   63.000000     1.000000   \n",
       "50%                             4.000000   68.500000     2.000000   \n",
       "75%                             5.000000   74.000000     2.000000   \n",
       "max                             5.000000   88.000000     2.000000   \n",
       "\n",
       "       eval-TLP-CubCorsi-totalDirectos-PD  eval-TLP-CubCorsi-totalinversos-PD  \\\n",
       "count                          290.000000                          290.000000   \n",
       "mean                             7.444828                            6.755172   \n",
       "std                              1.575787                            1.818415   \n",
       "min                              4.000000                            2.000000   \n",
       "25%                              6.000000                            6.000000   \n",
       "50%                              7.000000                            7.000000   \n",
       "75%                              9.000000                            8.000000   \n",
       "max                             12.000000                           12.000000   \n",
       "\n",
       "       eval-TLP-CubCorsi-total-PD  eval-TLP-FigRey-Duracion-PD  \\\n",
       "count                  290.000000                   290.000000   \n",
       "mean                    14.200000                   192.248276   \n",
       "std                      2.929624                    76.267516   \n",
       "min                      7.000000                    75.000000   \n",
       "25%                     12.000000                   134.250000   \n",
       "50%                     14.000000                   179.500000   \n",
       "75%                     16.000000                   240.000000   \n",
       "max                     22.000000                   450.000000   \n",
       "\n",
       "       eval-TLP-FigRey-totalCopia-PD  eval-TLP-FigRey-totalMemoria-PD  \\\n",
       "count                     290.000000                       290.000000   \n",
       "mean                       33.000000                        16.387931   \n",
       "std                         3.634228                         6.706684   \n",
       "min                        19.500000                         1.000000   \n",
       "25%                        31.000000                        11.500000   \n",
       "50%                        34.000000                        16.750000   \n",
       "75%                        36.000000                        21.000000   \n",
       "max                        36.000000                        34.000000   \n",
       "\n",
       "       eval-TLP-Stroop-palabras-PD  eval-TLP-Stroop-color-PD  \\\n",
       "count                   290.000000                290.000000   \n",
       "mean                     91.606897                 62.213793   \n",
       "std                      17.108163                 11.537924   \n",
       "min                      43.000000                 21.000000   \n",
       "25%                      80.000000                 54.000000   \n",
       "50%                      93.000000                 63.000000   \n",
       "75%                     104.000000                 71.000000   \n",
       "max                     133.000000                 87.000000   \n",
       "\n",
       "       eval-TLP-Stroop-palabrasColor-PD  eval-TLP-Tavec-1_RI_A1-PD  \\\n",
       "count                        290.000000                 290.000000   \n",
       "mean                          34.179310                   6.565517   \n",
       "std                            9.676189                   2.155909   \n",
       "min                           13.000000                   1.000000   \n",
       "25%                           27.000000                   5.000000   \n",
       "50%                           34.000000                   6.500000   \n",
       "75%                           41.000000                   8.000000   \n",
       "max                           63.000000                  13.000000   \n",
       "\n",
       "       eval-TLP-Tavec-10_RL_LP-PD  eval-TLP-Tavec-11_RCl_LP-PD  \\\n",
       "count                  290.000000                   290.000000   \n",
       "mean                    10.986207                    11.727586   \n",
       "std                      3.222942                     2.807232   \n",
       "min                      1.000000                     3.000000   \n",
       "25%                      8.250000                    10.000000   \n",
       "50%                     11.000000                    12.000000   \n",
       "75%                     14.000000                    14.000000   \n",
       "max                     16.000000                    16.000000   \n",
       "\n",
       "       eval-TLP-Tavec-2_RI_A5-PD  eval-TLP-Tavec-3_RI_AT-PD  \\\n",
       "count                 290.000000                 290.000000   \n",
       "mean                   12.231034                  51.375862   \n",
       "std                     2.505027                  10.638448   \n",
       "min                     5.000000                  24.000000   \n",
       "25%                    10.000000                  44.000000   \n",
       "50%                    13.000000                  51.000000   \n",
       "75%                    14.000000                  59.000000   \n",
       "max                    16.000000                  76.000000   \n",
       "\n",
       "       eval-TLP-Tavec-8_RL_CP-PD  eval-TLP-Tavec-9_RCl_CP-PD  \n",
       "count                 290.000000                  290.000000  \n",
       "mean                   10.368966                   11.455172  \n",
       "std                     3.334584                    2.850312  \n",
       "min                     0.000000                    3.000000  \n",
       "25%                     8.000000                    9.000000  \n",
       "50%                    10.000000                   12.000000  \n",
       "75%                    13.000000                   14.000000  \n",
       "max                    16.000000                   16.000000  "
      ]
     },
     "execution_count": 35,
     "metadata": {},
     "output_type": "execute_result"
    }
   ],
   "source": [
    "df_filtered.describe()"
   ]
  },
  {
   "cell_type": "code",
   "execution_count": 36,
   "metadata": {},
   "outputs": [
    {
     "name": "stdout",
     "output_type": "stream",
     "text": [
      "Original shape: (314, 20)\n",
      "Filtered shape: (290, 20)\n",
      "Original distribution: ED_2Clases\n",
      "D    248\n",
      "H     66\n",
      "Name: count, dtype: int64\n",
      "Filtered distribution: ED_2Clases\n",
      "D    226\n",
      "H     64\n",
      "Name: count, dtype: int64.\n"
     ]
    }
   ],
   "source": [
    "print(f'Original shape: {df.shape}')\n",
    "print(f'Filtered shape: {df_filtered.shape}')\n",
    "print(f'Original distribution: {df[\"ED_2Clases\"].value_counts()}')\n",
    "print(f'Filtered distribution: {df_filtered[\"ED_2Clases\"].value_counts()}.')"
   ]
  },
  {
   "cell_type": "code",
   "execution_count": 40,
   "metadata": {},
   "outputs": [],
   "source": [
    "from ydata_profiling import ProfileReport"
   ]
  },
  {
   "cell_type": "code",
   "execution_count": 41,
   "metadata": {},
   "outputs": [],
   "source": [
    "# Generate the Profiling Report\n",
    "profile = ProfileReport(\n",
    "    df_filtered, title=\"Dataset\", html={\"style\": {\"full_width\": True}}, sort=None\n",
    ")"
   ]
  },
  {
   "cell_type": "code",
   "execution_count": 42,
   "metadata": {},
   "outputs": [
    {
     "name": "stderr",
     "output_type": "stream",
     "text": [
      "c:\\Users\\jgala\\Documents\\uned\\tfm\\synthetic-data\\.venv\\lib\\site-packages\\ydata_profiling\\utils\\dataframe.py:137: SettingWithCopyWarning: \n",
      "A value is trying to be set on a copy of a slice from a DataFrame\n",
      "\n",
      "See the caveats in the documentation: https://pandas.pydata.org/pandas-docs/stable/user_guide/indexing.html#returning-a-view-versus-a-copy\n",
      "  df.rename(columns={\"index\": \"df_index\"}, inplace=True)\n"
     ]
    },
    {
     "data": {
      "application/vnd.jupyter.widget-view+json": {
       "model_id": "617b7613c3f5472594c7faf57951eef5",
       "version_major": 2,
       "version_minor": 0
      },
      "text/plain": [
       "Summarize dataset:   0%|          | 0/5 [00:00<?, ?it/s]"
      ]
     },
     "metadata": {},
     "output_type": "display_data"
    },
    {
     "name": "stderr",
     "output_type": "stream",
     "text": [
      "100%|██████████| 20/20 [00:00<?, ?it/s]\n"
     ]
    },
    {
     "data": {
      "application/vnd.jupyter.widget-view+json": {
       "model_id": "2cc600d2b9b34f6d8bb68ed79b1df46f",
       "version_major": 2,
       "version_minor": 0
      },
      "text/plain": [
       "Generate report structure:   0%|          | 0/1 [00:00<?, ?it/s]"
      ]
     },
     "metadata": {},
     "output_type": "display_data"
    },
    {
     "data": {
      "application/vnd.jupyter.widget-view+json": {
       "model_id": "7cdac696c4464238b261f9eea0a94770",
       "version_major": 2,
       "version_minor": 0
      },
      "text/plain": [
       "Render HTML:   0%|          | 0/1 [00:00<?, ?it/s]"
      ]
     },
     "metadata": {},
     "output_type": "display_data"
    },
    {
     "data": {
      "application/vnd.jupyter.widget-view+json": {
       "model_id": "1707f022c3704618ad3aa41521401589",
       "version_major": 2,
       "version_minor": 0
      },
      "text/plain": [
       "Export report to file:   0%|          | 0/1 [00:00<?, ?it/s]"
      ]
     },
     "metadata": {},
     "output_type": "display_data"
    }
   ],
   "source": [
    "profile.to_file(\"profile_report.html\")"
   ]
  },
  {
   "cell_type": "markdown",
   "metadata": {},
   "source": [
    "### Split data"
   ]
  },
  {
   "cell_type": "markdown",
   "metadata": {},
   "source": [
    "StratifiedKFold (Para clasificación con distribución equilibrada).\n",
    "Divide los datos en K partes (folds), asegurando que cada fold tenga una distribución similar de clases.\n",
    "Ideal para problemas de clasificación con clases desbalanceadas."
   ]
  },
  {
   "cell_type": "code",
   "execution_count": 44,
   "metadata": {},
   "outputs": [
    {
     "name": "stdout",
     "output_type": "stream",
     "text": [
      "Set 0 - Train shape: (261, 20), Test shape: (29, 20)\n",
      "Set 0 - Train distribution:\n",
      "ED_2Clases\n",
      "D    0.777778\n",
      "H    0.222222\n",
      "Name: proportion, dtype: float64\n",
      "Set 1 - Train shape: (261, 20), Test shape: (29, 20)\n",
      "Set 1 - Train distribution:\n",
      "ED_2Clases\n",
      "D    0.777778\n",
      "H    0.222222\n",
      "Name: proportion, dtype: float64\n",
      "Set 2 - Train shape: (261, 20), Test shape: (29, 20)\n",
      "Set 2 - Train distribution:\n",
      "ED_2Clases\n",
      "D    0.777778\n",
      "H    0.222222\n",
      "Name: proportion, dtype: float64\n",
      "Set 3 - Train shape: (261, 20), Test shape: (29, 20)\n",
      "Set 3 - Train distribution:\n",
      "ED_2Clases\n",
      "D    0.777778\n",
      "H    0.222222\n",
      "Name: proportion, dtype: float64\n",
      "Set 4 - Train shape: (261, 20), Test shape: (29, 20)\n",
      "Set 4 - Train distribution:\n",
      "ED_2Clases\n",
      "D    0.777778\n",
      "H    0.222222\n",
      "Name: proportion, dtype: float64\n",
      "Set 5 - Train shape: (261, 20), Test shape: (29, 20)\n",
      "Set 5 - Train distribution:\n",
      "ED_2Clases\n",
      "D    0.777778\n",
      "H    0.222222\n",
      "Name: proportion, dtype: float64\n",
      "Set 6 - Train shape: (261, 20), Test shape: (29, 20)\n",
      "Set 6 - Train distribution:\n",
      "ED_2Clases\n",
      "D    0.781609\n",
      "H    0.218391\n",
      "Name: proportion, dtype: float64\n",
      "Set 7 - Train shape: (261, 20), Test shape: (29, 20)\n",
      "Set 7 - Train distribution:\n",
      "ED_2Clases\n",
      "D    0.781609\n",
      "H    0.218391\n",
      "Name: proportion, dtype: float64\n",
      "Set 8 - Train shape: (261, 20), Test shape: (29, 20)\n",
      "Set 8 - Train distribution:\n",
      "ED_2Clases\n",
      "D    0.781609\n",
      "H    0.218391\n",
      "Name: proportion, dtype: float64\n",
      "Set 9 - Train shape: (261, 20), Test shape: (29, 20)\n",
      "Set 9 - Train distribution:\n",
      "ED_2Clases\n",
      "D    0.781609\n",
      "H    0.218391\n",
      "Name: proportion, dtype: float64\n"
     ]
    }
   ],
   "source": [
    "from sklearn.model_selection import StratifiedKFold\n",
    "\n",
    "X = df_filtered.drop(columns=['ED_2Clases'])\n",
    "y = df_filtered['ED_2Clases']\n",
    "\n",
    "skf  = StratifiedKFold(n_splits=10, shuffle=True, random_state=CONS_RANDOM_STATE)\n",
    "for i , (train_index, test_index) in enumerate(skf.split(X, y)):\n",
    "    # Split the data into train and test sets\n",
    "    train_df = df_filtered.iloc[train_index]\n",
    "    test_df = df_filtered.iloc[test_index]\n",
    "    print(f'Set {i} - Train shape: {train_df.shape}, Test shape: {test_df.shape}')\n",
    "    print(f'Set {i} - Train distribution:\\n{train_df[\"ED_2Clases\"].value_counts(normalize=True)}')\n",
    "    train_df.to_csv(f'../data/train/set_{i}.csv', index=False)\n",
    "    test_df.to_csv(f'../data/test/set_{i}.csv', index=False)"
   ]
  }
 ],
 "metadata": {
  "kernelspec": {
   "display_name": ".venv",
   "language": "python",
   "name": "python3"
  },
  "language_info": {
   "codemirror_mode": {
    "name": "ipython",
    "version": 3
   },
   "file_extension": ".py",
   "mimetype": "text/x-python",
   "name": "python",
   "nbconvert_exporter": "python",
   "pygments_lexer": "ipython3",
   "version": "3.10.2"
  }
 },
 "nbformat": 4,
 "nbformat_minor": 2
}
