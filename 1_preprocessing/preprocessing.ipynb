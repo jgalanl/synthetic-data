{
 "cells": [
  {
   "cell_type": "code",
   "execution_count": 1,
   "metadata": {},
   "outputs": [],
   "source": [
    "import pandas as pd\n",
    "from sklearn.model_selection import train_test_split"
   ]
  },
  {
   "cell_type": "code",
   "execution_count": 2,
   "metadata": {},
   "outputs": [],
   "source": [
    "CONS_TEST_SIZE = 0.2\n",
    "CONS_RANDOM_STATE = 42"
   ]
  },
  {
   "cell_type": "markdown",
   "metadata": {},
   "source": [
    "#### Cargar datos"
   ]
  },
  {
   "cell_type": "code",
   "execution_count": 3,
   "metadata": {},
   "outputs": [],
   "source": [
    "df = pd.read_excel(\n",
    "    '../data/original/Identia_UNED_TLP.xlsx'\n",
    ")"
   ]
  },
  {
   "cell_type": "code",
   "execution_count": 4,
   "metadata": {},
   "outputs": [
    {
     "data": {
      "application/vnd.microsoft.datawrangler.viewer.v0+json": {
       "columns": [
        {
         "name": "index",
         "rawType": "int64",
         "type": "integer"
        },
        {
         "name": "etiq-id",
         "rawType": "object",
         "type": "string"
        },
        {
         "name": "etiq-diagMMSE",
         "rawType": "object",
         "type": "string"
        },
        {
         "name": "etiq-diagExpTLPtext",
         "rawType": "object",
         "type": "string"
        },
        {
         "name": "etiq-diagExpTLPcode",
         "rawType": "float64",
         "type": "float"
        },
        {
         "name": "etiq-diagExpTLP",
         "rawType": "object",
         "type": "string"
        },
        {
         "name": "etiq-diagExpTLPtext_R2",
         "rawType": "object",
         "type": "string"
        },
        {
         "name": "etiq-diagExpTLPcode_R2",
         "rawType": "float64",
         "type": "float"
        },
        {
         "name": "etiq-diagExpTLP_R2",
         "rawType": "object",
         "type": "string"
        },
        {
         "name": "demo-genero",
         "rawType": "int64",
         "type": "integer"
        },
        {
         "name": "demo-fechaEvaluacion",
         "rawType": "object",
         "type": "string"
        },
        {
         "name": "demo-fechaNacimiento",
         "rawType": "object",
         "type": "string"
        },
        {
         "name": "demo-rangoEdad",
         "rawType": "object",
         "type": "string"
        },
        {
         "name": "demo-edad",
         "rawType": "int64",
         "type": "integer"
        },
        {
         "name": "clin-reservaCognitiva_total",
         "rawType": "int64",
         "type": "integer"
        },
        {
         "name": "clin-reservaCognitiva_idiomas",
         "rawType": "int64",
         "type": "integer"
        },
        {
         "name": "clin-reservaCognitiva_ocupacion",
         "rawType": "int64",
         "type": "integer"
        },
        {
         "name": "clin-reservaCognitiva_escolaridad",
         "rawType": "int64",
         "type": "integer"
        },
        {
         "name": "clin-reservaCognitiva_escolaridadPadres",
         "rawType": "int64",
         "type": "integer"
        },
        {
         "name": "clin-reservaCognitiva_cursos",
         "rawType": "int64",
         "type": "integer"
        },
        {
         "name": "clin-reservaCognitiva_formacionMusical",
         "rawType": "int64",
         "type": "integer"
        },
        {
         "name": "clin-reservaCognitiva_actividadLectora",
         "rawType": "int64",
         "type": "integer"
        },
        {
         "name": "clin-reservaCognitiva_juegos",
         "rawType": "int64",
         "type": "integer"
        },
        {
         "name": "clin-ansiedad",
         "rawType": "bool",
         "type": "boolean"
        },
        {
         "name": "clin-depresion",
         "rawType": "bool",
         "type": "boolean"
        },
        {
         "name": "clin-cardiopatiaIsquemica",
         "rawType": "bool",
         "type": "boolean"
        },
        {
         "name": "clin-diabetes",
         "rawType": "bool",
         "type": "boolean"
        },
        {
         "name": "clin-Hipercolesterolemia",
         "rawType": "bool",
         "type": "boolean"
        },
        {
         "name": "clin-Hipertension",
         "rawType": "bool",
         "type": "boolean"
        },
        {
         "name": "clin-enfermedadesAltTiroides",
         "rawType": "bool",
         "type": "boolean"
        },
        {
         "name": "clin-enfermedadesRenal",
         "rawType": "bool",
         "type": "boolean"
        },
        {
         "name": "clin-enfermedadesHepatica",
         "rawType": "bool",
         "type": "boolean"
        },
        {
         "name": "clin-enfermedadesAntecedentesCardiacos",
         "rawType": "bool",
         "type": "boolean"
        },
        {
         "name": "clin-tratCronico",
         "rawType": "bool",
         "type": "boolean"
        },
        {
         "name": "clin-tratPsicologico",
         "rawType": "bool",
         "type": "boolean"
        },
        {
         "name": "clin-tratPsiquiatrico",
         "rawType": "bool",
         "type": "boolean"
        },
        {
         "name": "clin-familiaresAlzheimer",
         "rawType": "bool",
         "type": "boolean"
        },
        {
         "name": "clin-familiaresOtraDemencia",
         "rawType": "bool",
         "type": "boolean"
        },
        {
         "name": "clin-alcohol",
         "rawType": "bool",
         "type": "boolean"
        },
        {
         "name": "clin-fumador",
         "rawType": "bool",
         "type": "boolean"
        },
        {
         "name": "clin-numCigarros",
         "rawType": "float64",
         "type": "float"
        },
        {
         "name": "clin-añosSinFumar",
         "rawType": "float64",
         "type": "float"
        },
        {
         "name": "clin-tipoAlcohol",
         "rawType": "object",
         "type": "unknown"
        },
        {
         "name": "clin-entornoUrbano",
         "rawType": "bool",
         "type": "boolean"
        },
        {
         "name": "clin-Covid_vacunado",
         "rawType": "bool",
         "type": "boolean"
        },
        {
         "name": "clin-Covid_numDosis",
         "rawType": "int64",
         "type": "integer"
        },
        {
         "name": "clin-Covid_pasadoCovid",
         "rawType": "bool",
         "type": "boolean"
        },
        {
         "name": "clin-Covid_numVecesCovid",
         "rawType": "int64",
         "type": "integer"
        },
        {
         "name": "clin-Covid_sintomaDifRespirar",
         "rawType": "bool",
         "type": "boolean"
        },
        {
         "name": "clin-Covid_sintomaDolMuscular",
         "rawType": "bool",
         "type": "boolean"
        },
        {
         "name": "clin-Covid_sintomaEscalofrios",
         "rawType": "bool",
         "type": "boolean"
        },
        {
         "name": "clin-Covid_sintomaDolGarganta",
         "rawType": "bool",
         "type": "boolean"
        },
        {
         "name": "clin-Covid_sintomaFiebre",
         "rawType": "bool",
         "type": "boolean"
        },
        {
         "name": "clin-Covid_sintomaDolCabeza",
         "rawType": "bool",
         "type": "boolean"
        },
        {
         "name": "clin-Covid_sintomaDiarrea",
         "rawType": "bool",
         "type": "boolean"
        },
        {
         "name": "clin-Covid_sintomaSarpullido",
         "rawType": "bool",
         "type": "boolean"
        },
        {
         "name": "clin-Covid_sintomaPerOlfato",
         "rawType": "bool",
         "type": "boolean"
        },
        {
         "name": "clin-Covid_sintomaPerGusto",
         "rawType": "bool",
         "type": "boolean"
        },
        {
         "name": "clin-Covid_sintomaCansancio",
         "rawType": "bool",
         "type": "boolean"
        },
        {
         "name": "clin-Covid_sentimientoAislado",
         "rawType": "float64",
         "type": "float"
        },
        {
         "name": "clin-nivelSociabilidad",
         "rawType": "int64",
         "type": "integer"
        },
        {
         "name": "clin-nivelActFisica",
         "rawType": "int64",
         "type": "integer"
        },
        {
         "name": "clin-frecUsoOrdenador",
         "rawType": "int64",
         "type": "integer"
        },
        {
         "name": "clin-frecUsoMovil",
         "rawType": "int64",
         "type": "integer"
        },
        {
         "name": "clin-frecUsoTele",
         "rawType": "int64",
         "type": "integer"
        },
        {
         "name": "clin-frecUsoEmail",
         "rawType": "int64",
         "type": "integer"
        },
        {
         "name": "clin-frecUsoRSociales",
         "rawType": "int64",
         "type": "integer"
        },
        {
         "name": "clin-frecOlvidos",
         "rawType": "int64",
         "type": "integer"
        },
        {
         "name": "clin-consumoAlcohol_UBEsemanal",
         "rawType": "float64",
         "type": "float"
        },
        {
         "name": "clin-añosSinFumar_Tipos_y_Rangos",
         "rawType": "object",
         "type": "string"
        },
        {
         "name": "clin-tipoFumador",
         "rawType": "object",
         "type": "string"
        },
        {
         "name": "ques-QuejasMemo-Total-PD",
         "rawType": "int64",
         "type": "integer"
        },
        {
         "name": "ques-NavEspacial-All-PD",
         "rawType": "int64",
         "type": "integer"
        },
        {
         "name": "ques-NavEspacial-resultadosWFQ_NO-PD",
         "rawType": "int64",
         "type": "integer"
        },
        {
         "name": "ques-NavEspacial-resultadosWFQ_SA-PD",
         "rawType": "int64",
         "type": "integer"
        },
        {
         "name": "ques-NavEspacial-resultadosWFQ_DE-PD",
         "rawType": "int64",
         "type": "integer"
        },
        {
         "name": "ques-Sus-totalPar-PD",
         "rawType": "int64",
         "type": "integer"
        },
        {
         "name": "ques-Sus-totalImpar-PD",
         "rawType": "int64",
         "type": "integer"
        },
        {
         "name": "ques-Sus-total-PD",
         "rawType": "float64",
         "type": "float"
        },
        {
         "name": "ques-MMSE-Total-PD",
         "rawType": "int64",
         "type": "integer"
        },
        {
         "name": "ques-MMSE-concentracion-PD",
         "rawType": "int64",
         "type": "integer"
        },
        {
         "name": "ques-MMSE-fijacion-PD",
         "rawType": "int64",
         "type": "integer"
        },
        {
         "name": "ques-MMSE-lenguaje-PD",
         "rawType": "int64",
         "type": "integer"
        },
        {
         "name": "ques-MMSE-memoria-PD",
         "rawType": "int64",
         "type": "integer"
        },
        {
         "name": "ques-MMSE-orientacion-PD",
         "rawType": "int64",
         "type": "integer"
        },
        {
         "name": "ques-MMSE-escolaridad-PD",
         "rawType": "int64",
         "type": "integer"
        },
        {
         "name": "eval-TLP-CubCorsi-totalDirectos-PD",
         "rawType": "int64",
         "type": "integer"
        },
        {
         "name": "eval-TLP-CubCorsi-totalDirectos-PZ",
         "rawType": "float64",
         "type": "float"
        },
        {
         "name": "eval-TLP-CubCorsi-totalinversos-PD",
         "rawType": "int64",
         "type": "integer"
        },
        {
         "name": "eval-TLP-CubCorsi-totalinversos-PZ",
         "rawType": "float64",
         "type": "float"
        },
        {
         "name": "eval-TLP-CubCorsi-total-PD",
         "rawType": "int64",
         "type": "integer"
        },
        {
         "name": "eval-TLP-CubCorsi-total-PZ",
         "rawType": "float64",
         "type": "float"
        },
        {
         "name": "eval-TLP-FigRey-tipoCopia-PD",
         "rawType": "int64",
         "type": "integer"
        },
        {
         "name": "eval-TLP-FigRey-totalCopia-PD",
         "rawType": "float64",
         "type": "float"
        },
        {
         "name": "eval-TLP-FigRey-totalCopia-PZ",
         "rawType": "float64",
         "type": "float"
        },
        {
         "name": "eval-TLP-FigRey-totalMemoria-PD",
         "rawType": "float64",
         "type": "float"
        },
        {
         "name": "eval-TLP-FigRey-totalMemoria-PZ",
         "rawType": "float64",
         "type": "float"
        },
        {
         "name": "eval-TLP-FigRey-Duracion-PD",
         "rawType": "int64",
         "type": "integer"
        },
        {
         "name": "eval-TLP-FigRey-Duracion-PZ",
         "rawType": "float64",
         "type": "float"
        },
        {
         "name": "eval-TLP-Stroop-color-PD",
         "rawType": "int64",
         "type": "integer"
        },
        {
         "name": "eval-TLP-Stroop-color-PDC",
         "rawType": "int64",
         "type": "integer"
        },
        {
         "name": "eval-TLP-Stroop-color-PZ",
         "rawType": "float64",
         "type": "float"
        },
        {
         "name": "eval-TLP-Stroop-palabras-PD",
         "rawType": "int64",
         "type": "integer"
        },
        {
         "name": "eval-TLP-Stroop-palabras-PDC",
         "rawType": "int64",
         "type": "integer"
        },
        {
         "name": "eval-TLP-Stroop-palabras-PZ",
         "rawType": "float64",
         "type": "float"
        },
        {
         "name": "eval-TLP-Stroop-palabrasColor-PD",
         "rawType": "int64",
         "type": "integer"
        },
        {
         "name": "eval-TLP-Stroop-palabrasColor-PDC",
         "rawType": "int64",
         "type": "integer"
        },
        {
         "name": "eval-TLP-Stroop-palabrasColor-PZ",
         "rawType": "float64",
         "type": "float"
        },
        {
         "name": "eval-TLP-Stroop-interferencia-PDC",
         "rawType": "float64",
         "type": "float"
        },
        {
         "name": "eval-TLP-Stroop-interferencia-PZ",
         "rawType": "float64",
         "type": "float"
        },
        {
         "name": "eval-TLP-Tavec-1_RI_A1-PD",
         "rawType": "int64",
         "type": "integer"
        },
        {
         "name": "eval-TLP-Tavec-1_RI_A1-PZ",
         "rawType": "float64",
         "type": "float"
        },
        {
         "name": "eval-TLP-Tavec-2_RI_A5-PD",
         "rawType": "int64",
         "type": "integer"
        },
        {
         "name": "eval-TLP-Tavec-2_RI_A5-PZ",
         "rawType": "float64",
         "type": "float"
        },
        {
         "name": "eval-TLP-Tavec-3_RI_AT-PD",
         "rawType": "int64",
         "type": "integer"
        },
        {
         "name": "eval-TLP-Tavec-3_RI_AT-PZ",
         "rawType": "float64",
         "type": "float"
        },
        {
         "name": "eval-TLP-Tavec-4_RI_B-PD",
         "rawType": "int64",
         "type": "integer"
        },
        {
         "name": "eval-TLP-Tavec-4_RI_B-PZ",
         "rawType": "float64",
         "type": "float"
        },
        {
         "name": "eval-TLP-Tavec-5_Rg_Pr-PD",
         "rawType": "float64",
         "type": "float"
        },
        {
         "name": "eval-TLP-Tavec-5_Rg_Pr-PZ",
         "rawType": "float64",
         "type": "float"
        },
        {
         "name": "eval-TLP-Tavec-6_Rg_Md-PD",
         "rawType": "float64",
         "type": "float"
        },
        {
         "name": "eval-TLP-Tavec-6_Rg_Md-PZ",
         "rawType": "float64",
         "type": "float"
        },
        {
         "name": "eval-TLP-Tavec-7_Rg_Rc-PD",
         "rawType": "float64",
         "type": "float"
        },
        {
         "name": "eval-TLP-Tavec-7_Rg_Rc-PZ",
         "rawType": "float64",
         "type": "float"
        },
        {
         "name": "eval-TLP-Tavec-8_RL_CP-PD",
         "rawType": "int64",
         "type": "integer"
        },
        {
         "name": "eval-TLP-Tavec-8_RL_CP-PZ",
         "rawType": "float64",
         "type": "float"
        },
        {
         "name": "eval-TLP-Tavec-9_RCl_CP-PD",
         "rawType": "int64",
         "type": "integer"
        },
        {
         "name": "eval-TLP-Tavec-9_RCl_CP-PZ",
         "rawType": "float64",
         "type": "float"
        },
        {
         "name": "eval-TLP-Tavec-10_RL_LP-PD",
         "rawType": "int64",
         "type": "integer"
        },
        {
         "name": "eval-TLP-Tavec-10_RL_LP-PZ",
         "rawType": "float64",
         "type": "float"
        },
        {
         "name": "eval-TLP-Tavec-11_RCl_LP-PD",
         "rawType": "int64",
         "type": "integer"
        },
        {
         "name": "eval-TLP-Tavec-11_RCl_LP-PZ",
         "rawType": "float64",
         "type": "float"
        },
        {
         "name": "eval-TLP-Tavec-12_ESem_RI_A-PD",
         "rawType": "int64",
         "type": "integer"
        },
        {
         "name": "eval-TLP-Tavec-12_ESem_RI_A-PZ",
         "rawType": "float64",
         "type": "float"
        },
        {
         "name": "eval-TLP-Tavec-13_ESem_RI_B-PD",
         "rawType": "int64",
         "type": "integer"
        },
        {
         "name": "eval-TLP-Tavec-13_ESem_RI_B-PZ",
         "rawType": "float64",
         "type": "float"
        },
        {
         "name": "eval-TLP-Tavec-14_ESem_RL_CP-PD",
         "rawType": "int64",
         "type": "integer"
        },
        {
         "name": "eval-TLP-Tavec-14_ESem_RL_CP-PZ",
         "rawType": "float64",
         "type": "float"
        },
        {
         "name": "eval-TLP-Tavec-15_ESem_RL_LP-PD",
         "rawType": "int64",
         "type": "integer"
        },
        {
         "name": "eval-TLP-Tavec-15_ESem_RL_LP-PZ",
         "rawType": "float64",
         "type": "float"
        },
        {
         "name": "eval-TLP-Tavec-16_ESer_RI_A-PD",
         "rawType": "int64",
         "type": "integer"
        },
        {
         "name": "eval-TLP-Tavec-16_ESer_RI_A-PZ",
         "rawType": "float64",
         "type": "float"
        },
        {
         "name": "eval-TLP-Tavec-17_ESer_RI_B-PD",
         "rawType": "int64",
         "type": "integer"
        },
        {
         "name": "eval-TLP-Tavec-17_ESer_RI_B-PZ",
         "rawType": "float64",
         "type": "float"
        },
        {
         "name": "eval-TLP-Tavec-18_ESer_RL_CP-PD",
         "rawType": "int64",
         "type": "integer"
        },
        {
         "name": "eval-TLP-Tavec-18_ESer_RL_CP-PZ",
         "rawType": "float64",
         "type": "float"
        },
        {
         "name": "eval-TLP-Tavec-19_ESer_RL_LP-PD",
         "rawType": "int64",
         "type": "integer"
        },
        {
         "name": "eval-TLP-Tavec-19_ESer_RL_LP-PZ",
         "rawType": "float64",
         "type": "float"
        },
        {
         "name": "eval-TLP-Tavec-20_P-PD",
         "rawType": "int64",
         "type": "integer"
        },
        {
         "name": "eval-TLP-Tavec-20_P-PZ",
         "rawType": "float64",
         "type": "float"
        },
        {
         "name": "eval-TLP-Tavec-21_I_RL-PD",
         "rawType": "int64",
         "type": "integer"
        },
        {
         "name": "eval-TLP-Tavec-21_I_RL-PZ",
         "rawType": "float64",
         "type": "float"
        },
        {
         "name": "eval-TLP-Tavec-22_I_RCL-PD",
         "rawType": "int64",
         "type": "integer"
        },
        {
         "name": "eval-TLP-Tavec-22_I_RCL-PZ",
         "rawType": "float64",
         "type": "float"
        },
        {
         "name": "eval-TLP-Tavec-23_Recon_Ac-PD",
         "rawType": "int64",
         "type": "integer"
        },
        {
         "name": "eval-TLP-Tavec-23_Recon_Ac-PZ",
         "rawType": "float64",
         "type": "float"
        },
        {
         "name": "eval-TLP-Tavec-24_FP-PD",
         "rawType": "int64",
         "type": "integer"
        },
        {
         "name": "eval-TLP-Tavec-24_FP-PZ",
         "rawType": "float64",
         "type": "float"
        },
        {
         "name": "eval-TLP-Tavec-25_Discriminabilidad-PD",
         "rawType": "float64",
         "type": "float"
        },
        {
         "name": "eval-TLP-Tavec-25_Discriminabilidad-PZ",
         "rawType": "float64",
         "type": "float"
        },
        {
         "name": "eval-TLP-Tavec-26_Sesgo-PD",
         "rawType": "float64",
         "type": "float"
        },
        {
         "name": "eval-TLP-Tavec-26_Sesgo-PZ",
         "rawType": "float64",
         "type": "float"
        },
        {
         "name": "eval-TLP-Tavec-27_RI_B_frente_RI_A1-PD",
         "rawType": "float64",
         "type": "float"
        },
        {
         "name": "eval-TLP-Tavec-27_RI_B_frente_RI_A1-PZ",
         "rawType": "float64",
         "type": "float"
        },
        {
         "name": "eval-TLP-Tavec-28_RL_CP_frente_RI_A5-PD",
         "rawType": "float64",
         "type": "float"
        },
        {
         "name": "eval-TLP-Tavec-28_RL_CP_frente_RI_A5-PZ",
         "rawType": "float64",
         "type": "float"
        },
        {
         "name": "eval-TLP-Tavec-29_RCl_Cp_frente_RCl_LP-PD",
         "rawType": "float64",
         "type": "float"
        },
        {
         "name": "eval-TLP-Tavec-29_RCl_Cp_frente_RCl_LP-PZ",
         "rawType": "float64",
         "type": "float"
        },
        {
         "name": "eval-TLP-Tavec-30_RL_LP_frente_RL_CP-PD",
         "rawType": "float64",
         "type": "float"
        },
        {
         "name": "eval-TLP-Tavec-30_RL_LP_frente_RL_CP-PZ",
         "rawType": "float64",
         "type": "float"
        },
        {
         "name": "eval-TLP-Tavec-31_RCl_LP_frente_RL_LP-PD",
         "rawType": "float64",
         "type": "float"
        },
        {
         "name": "eval-TLP-Tavec-31_RCl_LP_frente_RL_LP-PZ",
         "rawType": "float64",
         "type": "float"
        },
        {
         "name": "eval-TLP-Tavec-32_Recon_Ac_frente_RL_LP-PD",
         "rawType": "float64",
         "type": "float"
        },
        {
         "name": "eval-TLP-Tavec-32_Recon_Ac_frente_RL_LP-PZ",
         "rawType": "float64",
         "type": "float"
        },
        {
         "name": "eval-TLP-Tavec-33_Recon_Ac_frente_RCl_LP-PD",
         "rawType": "float64",
         "type": "float"
        },
        {
         "name": "eval-TLP-Tavec-33_Recon_Ac_frente_RCl_LP-PZ",
         "rawType": "float64",
         "type": "float"
        }
       ],
       "ref": "a6a7bdce-3b4c-4b0c-9716-ffe6fa0ac36c",
       "rows": [
        [
         "0",
         "ID_M_Rango3_056_ED2",
         "ED2",
         "DC MUY LEVE, ejecutivo - atencional",
         "2.07",
         "ED2",
         "DC MUY LEVE, ejecutivo - atencional",
         "2.07",
         "ED2",
         "2",
         "2024-02-22T00:00:00",
         "1942-05-08T00:00:00",
         "Rango3",
         "81",
         "12",
         "0",
         "1",
         "3",
         "1",
         "0",
         "1",
         "4",
         "2",
         "False",
         "True",
         "False",
         "True",
         "True",
         "False",
         "False",
         "False",
         "False",
         "False",
         "True",
         "False",
         "False",
         "True",
         "True",
         "False",
         "False",
         "0.0",
         null,
         null,
         "True",
         "True",
         "4",
         "False",
         "0",
         "False",
         "False",
         "False",
         "False",
         "False",
         "False",
         "False",
         "False",
         "False",
         "False",
         "False",
         "4.0",
         "3",
         "5",
         "5",
         "5",
         "5",
         "1",
         "3",
         "4",
         "0.0",
         "No fumador",
         "No fumador",
         "8",
         "106",
         "45",
         "49",
         "12",
         "18",
         "19",
         "92.5",
         "28",
         "5",
         "3",
         "8",
         "2",
         "10",
         "1",
         "6",
         "0.3333333333333333",
         "4",
         "0.0",
         "10",
         "0.0",
         "4",
         "28.0",
         "-0.3333333333333333",
         "11.0",
         "0.0",
         "253",
         "0.3333333333333333",
         "78",
         "89",
         "0.6",
         "80",
         "94",
         "-0.6",
         "17",
         "32",
         "-1.2",
         "-13.715847",
         "-1.4",
         "4",
         "-0.42",
         "11",
         "0.48",
         "49",
         "0.89",
         "5",
         "-0.03",
         "32.65",
         "0.29",
         "36.73",
         "-0.58",
         "30.61",
         "0.53",
         "11",
         "1.01",
         "9",
         "0.07",
         "8",
         "0.14",
         "12",
         "0.95",
         "12",
         "0.64",
         "2",
         "1.25",
         "3",
         "0.51",
         "0",
         "-1.06",
         "3",
         "-0.31",
         "0",
         "-0.42",
         "2",
         "1.91",
         "2",
         "2.6",
         "9",
         "0.26",
         "2",
         "-0.8",
         "6",
         "-0.09",
         "13",
         "-0.15",
         "4",
         "0.22",
         "84.09",
         "-0.24",
         "0.14",
         "0.2",
         "-20.0",
         "-0.52",
         "0.0",
         "-0.7",
         "33.33",
         "1.7",
         "37.5",
         "1.07",
         "-33.33",
         "-0.55",
         "-38.46",
         "0.23",
         "-7.69",
         "1.19"
        ],
        [
         "1",
         "ID_M_Rango3_312_ED3",
         "ED3",
         "DC LEVE, ejecutivo - atencional",
         "3.07",
         "ED3",
         "DC LEVE, multidominio amnésico",
         "3.06",
         "ED3",
         "2",
         "2024-06-26T00:00:00",
         "1948-10-07T00:00:00",
         "Rango3",
         "75",
         "8",
         "0",
         "1",
         "3",
         "2",
         "0",
         "1",
         "1",
         "0",
         "True",
         "True",
         "False",
         "False",
         "False",
         "False",
         "False",
         "False",
         "False",
         "False",
         "True",
         "False",
         "True",
         "False",
         "False",
         "False",
         "False",
         "0.0",
         null,
         null,
         "True",
         "True",
         "4",
         "True",
         "1",
         "False",
         "False",
         "True",
         "False",
         "True",
         "False",
         "False",
         "False",
         "False",
         "False",
         "False",
         "4.0",
         "3",
         "3",
         "1",
         "1",
         "5",
         "1",
         "1",
         "3",
         "0.0",
         "No fumador",
         "No fumador",
         "8",
         "110",
         "52",
         "49",
         "9",
         "16",
         "18",
         "85.0",
         "24",
         "3",
         "3",
         "8",
         "2",
         "8",
         "1",
         "4",
         "-0.6666666666666666",
         "2",
         "-0.6666666666666666",
         "6",
         "-1.0",
         "4",
         "14.0",
         "-1.666666666666667",
         "1.5",
         "-1.666666666666667",
         "360",
         "-1.0",
         "37",
         "48",
         "-2.2",
         "66",
         "80",
         "-1.4",
         "14",
         "29",
         "-1.6",
         "-1.0",
         "0.0",
         "2",
         "-1.35",
         "9",
         "-0.17",
         "36",
         "-0.19",
         "7",
         "0.92",
         "25.0",
         "-0.91",
         "47.22",
         "0.41",
         "27.78",
         "0.19",
         "8",
         "0.22",
         "8",
         "-0.23",
         "8",
         "0.14",
         "8",
         "-0.19",
         "7",
         "-0.25",
         "1",
         "0.21",
         "2",
         "0.04",
         "2",
         "-0.25",
         "4",
         "0.04",
         "1",
         "0.66",
         "1",
         "0.66",
         "0",
         "-0.48",
         "26",
         "2.1",
         "15",
         "1.23",
         "6",
         "-0.09",
         "10",
         "-1.46",
         "3",
         "-0.13",
         "79.55",
         "-0.76",
         "-0.33",
         "-0.83",
         "-71.43",
         "-1.49",
         "12.5",
         "-0.53",
         "0.0",
         "0.63",
         "0.0",
         "0.12",
         "0.0",
         "0.43",
         "-20.0",
         "0.92",
         "-20.0",
         "0.65"
        ],
        [
         "2",
         "ID_M_Rango2_220_ED1",
         "ED1",
         "NORMAL",
         "1.0",
         "ED1",
         "DC MUY LEVE, multidominio amnésico",
         "2.06",
         "ED2",
         "2",
         "2024-05-14T00:00:00",
         "1952-05-08T00:00:00",
         "Rango2",
         "72",
         "11",
         "0",
         "0",
         "4",
         "1",
         "0",
         "1",
         "3",
         "2",
         "False",
         "False",
         "False",
         "False",
         "False",
         "False",
         "False",
         "False",
         "False",
         "False",
         "True",
         "False",
         "False",
         "False",
         "True",
         "False",
         "False",
         "0.0",
         null,
         null,
         "True",
         "True",
         "3",
         "False",
         "0",
         "False",
         "False",
         "False",
         "False",
         "False",
         "False",
         "False",
         "False",
         "False",
         "False",
         "False",
         "3.0",
         "3",
         "1",
         "5",
         "5",
         "5",
         "5",
         "5",
         "5",
         "0.0",
         "No fumador",
         "No fumador",
         "6",
         "95",
         "49",
         "35",
         "11",
         "20",
         "20",
         "100.0",
         "30",
         "5",
         "3",
         "9",
         "3",
         "10",
         "1",
         "7",
         "0.6666666666666666",
         "5",
         "0.3333333333333333",
         "12",
         "0.3333333333333333",
         "2",
         "33.0",
         "0.3333333333333333",
         "10.0",
         "-0.3333333333333333",
         "226",
         "0.0",
         "70",
         "81",
         "0.0",
         "100",
         "114",
         "0.4",
         "39",
         "54",
         "1.0",
         "6.6461525",
         "0.8",
         "6",
         "0.08",
         "14",
         "1.51",
         "56",
         "1.41",
         "7",
         "0.59",
         "32.14",
         "0.18",
         "44.64",
         "0.01",
         "23.21",
         "-0.14",
         "8",
         "-0.45",
         "8",
         "-0.95",
         "10",
         "0.14",
         "10",
         "-0.25",
         "11",
         "-0.05",
         "1",
         "-0.01",
         "1",
         "-0.82",
         "3",
         "-0.24",
         "13",
         "3.07",
         "2",
         "1.96",
         "0",
         "-0.72",
         "0",
         "-0.85",
         "13",
         "1.48",
         "6",
         "0.18",
         "6",
         "0.55",
         "12",
         "-0.97",
         "1",
         "-0.52",
         "88.64",
         "-0.11",
         "-0.6",
         "-1.5",
         "-14.29",
         "-0.49",
         "75.0",
         "1.31",
         "25.0",
         "1.94",
         "-20.0",
         "-0.78",
         "0.0",
         "0.46",
         "-16.67",
         "0.69",
         "-16.67",
         "0.3"
        ],
        [
         "3",
         "ID_M_Rango1_122_ED1",
         "ED1",
         "DC MUY LEVE, amnésico",
         "2.01",
         "ED2",
         "DC MUY LEVE, amnésico",
         "2.01",
         "ED2",
         "2",
         "2024-04-10T00:00:00",
         "1964-01-27T00:00:00",
         "Rango1",
         "60",
         "18",
         "2",
         "1",
         "4",
         "2",
         "3",
         "1",
         "4",
         "1",
         "False",
         "False",
         "False",
         "False",
         "False",
         "False",
         "False",
         "False",
         "False",
         "False",
         "False",
         "False",
         "False",
         "False",
         "False",
         "False",
         "True",
         "15.0",
         null,
         null,
         "True",
         "True",
         "3",
         "False",
         "0",
         "False",
         "False",
         "False",
         "False",
         "False",
         "False",
         "False",
         "False",
         "False",
         "False",
         "False",
         "3.0",
         "5",
         "5",
         "5",
         "5",
         "1",
         "3",
         "3",
         "3",
         "0.0",
         "Fumador",
         "Fumador",
         "3",
         "86",
         "46",
         "31",
         "9",
         "15",
         "17",
         "80.0",
         "30",
         "5",
         "3",
         "9",
         "3",
         "10",
         "1",
         "8",
         "0.3333333333333333",
         "6",
         "0.3333333333333333",
         "14",
         "0.0",
         "1",
         "34.0",
         "0.6666666666666666",
         "19.0",
         "0.3333333333333333",
         "140",
         "0.6666666666666666",
         "85",
         "89",
         "0.6",
         "110",
         "118",
         "0.6",
         "35",
         "40",
         "-0.4",
         "-10.734299",
         "-1.0",
         "8",
         "0.66",
         "14",
         "0.76",
         "65",
         "1.51",
         "5",
         "-0.35",
         "26.15",
         "-0.67",
         "52.31",
         "1.05",
         "21.54",
         "-0.45",
         "12",
         "0.51",
         "10",
         "-0.69",
         "8",
         "-1.13",
         "10",
         "-0.77",
         "26",
         "1.33",
         "2",
         "0.74",
         "6",
         "0.84",
         "5",
         "0.09",
         "5",
         "-0.09",
         "0",
         "-0.55",
         "0",
         "-0.63",
         "0",
         "-0.63",
         "1",
         "-1.03",
         "5",
         "0.25",
         "3",
         "0.16",
         "16",
         "0.82",
         "4",
         "1.38",
         "90.91",
         "-0.56",
         "0.6",
         "1.79",
         "60.0",
         "0.57",
         "16.67",
         "-0.19",
         "0.0",
         "0.57",
         "50.0",
         "2.95",
         "-20.0",
         "-0.71",
         "-50.0",
         "-1.54",
         "-37.5",
         "-1.28"
        ],
        [
         "4",
         "ID_M_Rango1_233_ED2",
         "ED2",
         "DC MUY LEVE, multidominio amnésico",
         "2.06",
         "ED2",
         "DC LEVE, multidominio amnésico",
         "3.06",
         "ED3",
         "2",
         "2024-05-14T00:00:00",
         "1959-09-16T00:00:00",
         "Rango1",
         "64",
         "13",
         "0",
         "1",
         "4",
         "1",
         "2",
         "1",
         "2",
         "2",
         "False",
         "False",
         "False",
         "False",
         "False",
         "False",
         "False",
         "False",
         "False",
         "False",
         "False",
         "False",
         "False",
         "False",
         "False",
         "False",
         "False",
         "0.0",
         null,
         null,
         "True",
         "True",
         "3",
         "True",
         "2",
         "False",
         "False",
         "False",
         "True",
         "True",
         "False",
         "False",
         "False",
         "False",
         "False",
         "True",
         "3.0",
         "5",
         "5",
         "5",
         "5",
         "5",
         "5",
         "1",
         "3",
         "0.0",
         "No fumador",
         "No fumador",
         "6",
         "86",
         "41",
         "35",
         "10",
         "19",
         "20",
         "97.5",
         "28",
         "4",
         "3",
         "9",
         "2",
         "10",
         "1",
         "6",
         "-0.6666666666666666",
         "6",
         "0.3333333333333333",
         "12",
         "-0.3333333333333333",
         "1",
         "36.0",
         "2.666666666666667",
         "12.0",
         "-0.3333333333333333",
         "204",
         "-0.3333333333333333",
         "66",
         "70",
         "-0.6",
         "80",
         "88",
         "-1.0",
         "40",
         "45",
         "0.0",
         "6.012657",
         "0.6",
         "4",
         "-1.32",
         "10",
         "-1.12",
         "39",
         "-1.25",
         "4",
         "-0.81",
         "35.9",
         "1.08",
         "25.64",
         "-2.95",
         "38.46",
         "2.35",
         "6",
         "-1.64",
         "9",
         "-1.07",
         "9",
         "-0.78",
         "9",
         "-1.14",
         "6",
         "-0.88",
         "1",
         "-0.09",
         "0",
         "-1.46",
         "2",
         "-0.9",
         "4",
         "-0.3",
         "0",
         "-0.55",
         "1",
         "0.17",
         "1",
         "0.22",
         "8",
         "0.26",
         "3",
         "-0.2",
         "0",
         "-0.64",
         "10",
         "-2.93",
         "0",
         "-0.73",
         "86.36",
         "-1.39",
         "-0.71",
         "-2.19",
         "0.0",
         "-0.54",
         "66.67",
         "1.45",
         "0.0",
         "0.57",
         "-33.33",
         "-1.6",
         "0.0",
         "0.29",
         "-10.0",
         "0.78",
         "-10.0",
         "0.5"
        ]
       ],
       "shape": {
        "columns": 175,
        "rows": 5
       }
      },
      "text/html": [
       "<div>\n",
       "<style scoped>\n",
       "    .dataframe tbody tr th:only-of-type {\n",
       "        vertical-align: middle;\n",
       "    }\n",
       "\n",
       "    .dataframe tbody tr th {\n",
       "        vertical-align: top;\n",
       "    }\n",
       "\n",
       "    .dataframe thead th {\n",
       "        text-align: right;\n",
       "    }\n",
       "</style>\n",
       "<table border=\"1\" class=\"dataframe\">\n",
       "  <thead>\n",
       "    <tr style=\"text-align: right;\">\n",
       "      <th></th>\n",
       "      <th>etiq-id</th>\n",
       "      <th>etiq-diagMMSE</th>\n",
       "      <th>etiq-diagExpTLPtext</th>\n",
       "      <th>etiq-diagExpTLPcode</th>\n",
       "      <th>etiq-diagExpTLP</th>\n",
       "      <th>etiq-diagExpTLPtext_R2</th>\n",
       "      <th>etiq-diagExpTLPcode_R2</th>\n",
       "      <th>etiq-diagExpTLP_R2</th>\n",
       "      <th>demo-genero</th>\n",
       "      <th>demo-fechaEvaluacion</th>\n",
       "      <th>...</th>\n",
       "      <th>eval-TLP-Tavec-29_RCl_Cp_frente_RCl_LP-PD</th>\n",
       "      <th>eval-TLP-Tavec-29_RCl_Cp_frente_RCl_LP-PZ</th>\n",
       "      <th>eval-TLP-Tavec-30_RL_LP_frente_RL_CP-PD</th>\n",
       "      <th>eval-TLP-Tavec-30_RL_LP_frente_RL_CP-PZ</th>\n",
       "      <th>eval-TLP-Tavec-31_RCl_LP_frente_RL_LP-PD</th>\n",
       "      <th>eval-TLP-Tavec-31_RCl_LP_frente_RL_LP-PZ</th>\n",
       "      <th>eval-TLP-Tavec-32_Recon_Ac_frente_RL_LP-PD</th>\n",
       "      <th>eval-TLP-Tavec-32_Recon_Ac_frente_RL_LP-PZ</th>\n",
       "      <th>eval-TLP-Tavec-33_Recon_Ac_frente_RCl_LP-PD</th>\n",
       "      <th>eval-TLP-Tavec-33_Recon_Ac_frente_RCl_LP-PZ</th>\n",
       "    </tr>\n",
       "  </thead>\n",
       "  <tbody>\n",
       "    <tr>\n",
       "      <th>0</th>\n",
       "      <td>ID_M_Rango3_056_ED2</td>\n",
       "      <td>ED2</td>\n",
       "      <td>DC MUY LEVE, ejecutivo - atencional</td>\n",
       "      <td>2.07</td>\n",
       "      <td>ED2</td>\n",
       "      <td>DC MUY LEVE, ejecutivo - atencional</td>\n",
       "      <td>2.07</td>\n",
       "      <td>ED2</td>\n",
       "      <td>2</td>\n",
       "      <td>2024-02-22T00:00:00</td>\n",
       "      <td>...</td>\n",
       "      <td>33.33</td>\n",
       "      <td>1.70</td>\n",
       "      <td>37.50</td>\n",
       "      <td>1.07</td>\n",
       "      <td>-33.33</td>\n",
       "      <td>-0.55</td>\n",
       "      <td>-38.46</td>\n",
       "      <td>0.23</td>\n",
       "      <td>-7.69</td>\n",
       "      <td>1.19</td>\n",
       "    </tr>\n",
       "    <tr>\n",
       "      <th>1</th>\n",
       "      <td>ID_M_Rango3_312_ED3</td>\n",
       "      <td>ED3</td>\n",
       "      <td>DC LEVE, ejecutivo - atencional</td>\n",
       "      <td>3.07</td>\n",
       "      <td>ED3</td>\n",
       "      <td>DC LEVE, multidominio amnésico</td>\n",
       "      <td>3.06</td>\n",
       "      <td>ED3</td>\n",
       "      <td>2</td>\n",
       "      <td>2024-06-26T00:00:00</td>\n",
       "      <td>...</td>\n",
       "      <td>0.00</td>\n",
       "      <td>0.63</td>\n",
       "      <td>0.00</td>\n",
       "      <td>0.12</td>\n",
       "      <td>0.00</td>\n",
       "      <td>0.43</td>\n",
       "      <td>-20.00</td>\n",
       "      <td>0.92</td>\n",
       "      <td>-20.00</td>\n",
       "      <td>0.65</td>\n",
       "    </tr>\n",
       "    <tr>\n",
       "      <th>2</th>\n",
       "      <td>ID_M_Rango2_220_ED1</td>\n",
       "      <td>ED1</td>\n",
       "      <td>NORMAL</td>\n",
       "      <td>1.00</td>\n",
       "      <td>ED1</td>\n",
       "      <td>DC MUY LEVE, multidominio amnésico</td>\n",
       "      <td>2.06</td>\n",
       "      <td>ED2</td>\n",
       "      <td>2</td>\n",
       "      <td>2024-05-14T00:00:00</td>\n",
       "      <td>...</td>\n",
       "      <td>25.00</td>\n",
       "      <td>1.94</td>\n",
       "      <td>-20.00</td>\n",
       "      <td>-0.78</td>\n",
       "      <td>0.00</td>\n",
       "      <td>0.46</td>\n",
       "      <td>-16.67</td>\n",
       "      <td>0.69</td>\n",
       "      <td>-16.67</td>\n",
       "      <td>0.30</td>\n",
       "    </tr>\n",
       "    <tr>\n",
       "      <th>3</th>\n",
       "      <td>ID_M_Rango1_122_ED1</td>\n",
       "      <td>ED1</td>\n",
       "      <td>DC MUY LEVE, amnésico</td>\n",
       "      <td>2.01</td>\n",
       "      <td>ED2</td>\n",
       "      <td>DC MUY LEVE, amnésico</td>\n",
       "      <td>2.01</td>\n",
       "      <td>ED2</td>\n",
       "      <td>2</td>\n",
       "      <td>2024-04-10T00:00:00</td>\n",
       "      <td>...</td>\n",
       "      <td>0.00</td>\n",
       "      <td>0.57</td>\n",
       "      <td>50.00</td>\n",
       "      <td>2.95</td>\n",
       "      <td>-20.00</td>\n",
       "      <td>-0.71</td>\n",
       "      <td>-50.00</td>\n",
       "      <td>-1.54</td>\n",
       "      <td>-37.50</td>\n",
       "      <td>-1.28</td>\n",
       "    </tr>\n",
       "    <tr>\n",
       "      <th>4</th>\n",
       "      <td>ID_M_Rango1_233_ED2</td>\n",
       "      <td>ED2</td>\n",
       "      <td>DC MUY LEVE, multidominio amnésico</td>\n",
       "      <td>2.06</td>\n",
       "      <td>ED2</td>\n",
       "      <td>DC LEVE, multidominio amnésico</td>\n",
       "      <td>3.06</td>\n",
       "      <td>ED3</td>\n",
       "      <td>2</td>\n",
       "      <td>2024-05-14T00:00:00</td>\n",
       "      <td>...</td>\n",
       "      <td>0.00</td>\n",
       "      <td>0.57</td>\n",
       "      <td>-33.33</td>\n",
       "      <td>-1.60</td>\n",
       "      <td>0.00</td>\n",
       "      <td>0.29</td>\n",
       "      <td>-10.00</td>\n",
       "      <td>0.78</td>\n",
       "      <td>-10.00</td>\n",
       "      <td>0.50</td>\n",
       "    </tr>\n",
       "  </tbody>\n",
       "</table>\n",
       "<p>5 rows × 175 columns</p>\n",
       "</div>"
      ],
      "text/plain": [
       "               etiq-id etiq-diagMMSE                  etiq-diagExpTLPtext  \\\n",
       "0  ID_M_Rango3_056_ED2           ED2  DC MUY LEVE, ejecutivo - atencional   \n",
       "1  ID_M_Rango3_312_ED3           ED3      DC LEVE, ejecutivo - atencional   \n",
       "2  ID_M_Rango2_220_ED1           ED1                               NORMAL   \n",
       "3  ID_M_Rango1_122_ED1           ED1                DC MUY LEVE, amnésico   \n",
       "4  ID_M_Rango1_233_ED2           ED2   DC MUY LEVE, multidominio amnésico   \n",
       "\n",
       "   etiq-diagExpTLPcode etiq-diagExpTLP               etiq-diagExpTLPtext_R2  \\\n",
       "0                 2.07             ED2  DC MUY LEVE, ejecutivo - atencional   \n",
       "1                 3.07             ED3       DC LEVE, multidominio amnésico   \n",
       "2                 1.00             ED1   DC MUY LEVE, multidominio amnésico   \n",
       "3                 2.01             ED2                DC MUY LEVE, amnésico   \n",
       "4                 2.06             ED2       DC LEVE, multidominio amnésico   \n",
       "\n",
       "   etiq-diagExpTLPcode_R2 etiq-diagExpTLP_R2  demo-genero  \\\n",
       "0                    2.07                ED2            2   \n",
       "1                    3.06                ED3            2   \n",
       "2                    2.06                ED2            2   \n",
       "3                    2.01                ED2            2   \n",
       "4                    3.06                ED3            2   \n",
       "\n",
       "  demo-fechaEvaluacion  ... eval-TLP-Tavec-29_RCl_Cp_frente_RCl_LP-PD  \\\n",
       "0  2024-02-22T00:00:00  ...                                     33.33   \n",
       "1  2024-06-26T00:00:00  ...                                      0.00   \n",
       "2  2024-05-14T00:00:00  ...                                     25.00   \n",
       "3  2024-04-10T00:00:00  ...                                      0.00   \n",
       "4  2024-05-14T00:00:00  ...                                      0.00   \n",
       "\n",
       "  eval-TLP-Tavec-29_RCl_Cp_frente_RCl_LP-PZ  \\\n",
       "0                                      1.70   \n",
       "1                                      0.63   \n",
       "2                                      1.94   \n",
       "3                                      0.57   \n",
       "4                                      0.57   \n",
       "\n",
       "   eval-TLP-Tavec-30_RL_LP_frente_RL_CP-PD  \\\n",
       "0                                    37.50   \n",
       "1                                     0.00   \n",
       "2                                   -20.00   \n",
       "3                                    50.00   \n",
       "4                                   -33.33   \n",
       "\n",
       "   eval-TLP-Tavec-30_RL_LP_frente_RL_CP-PZ  \\\n",
       "0                                     1.07   \n",
       "1                                     0.12   \n",
       "2                                    -0.78   \n",
       "3                                     2.95   \n",
       "4                                    -1.60   \n",
       "\n",
       "   eval-TLP-Tavec-31_RCl_LP_frente_RL_LP-PD  \\\n",
       "0                                    -33.33   \n",
       "1                                      0.00   \n",
       "2                                      0.00   \n",
       "3                                    -20.00   \n",
       "4                                      0.00   \n",
       "\n",
       "   eval-TLP-Tavec-31_RCl_LP_frente_RL_LP-PZ  \\\n",
       "0                                     -0.55   \n",
       "1                                      0.43   \n",
       "2                                      0.46   \n",
       "3                                     -0.71   \n",
       "4                                      0.29   \n",
       "\n",
       "   eval-TLP-Tavec-32_Recon_Ac_frente_RL_LP-PD  \\\n",
       "0                                      -38.46   \n",
       "1                                      -20.00   \n",
       "2                                      -16.67   \n",
       "3                                      -50.00   \n",
       "4                                      -10.00   \n",
       "\n",
       "   eval-TLP-Tavec-32_Recon_Ac_frente_RL_LP-PZ  \\\n",
       "0                                        0.23   \n",
       "1                                        0.92   \n",
       "2                                        0.69   \n",
       "3                                       -1.54   \n",
       "4                                        0.78   \n",
       "\n",
       "   eval-TLP-Tavec-33_Recon_Ac_frente_RCl_LP-PD  \\\n",
       "0                                        -7.69   \n",
       "1                                       -20.00   \n",
       "2                                       -16.67   \n",
       "3                                       -37.50   \n",
       "4                                       -10.00   \n",
       "\n",
       "   eval-TLP-Tavec-33_Recon_Ac_frente_RCl_LP-PZ  \n",
       "0                                         1.19  \n",
       "1                                         0.65  \n",
       "2                                         0.30  \n",
       "3                                        -1.28  \n",
       "4                                         0.50  \n",
       "\n",
       "[5 rows x 175 columns]"
      ]
     },
     "execution_count": 4,
     "metadata": {},
     "output_type": "execute_result"
    }
   ],
   "source": [
    "df.head()"
   ]
  },
  {
   "cell_type": "code",
   "execution_count": 5,
   "metadata": {},
   "outputs": [
    {
     "name": "stdout",
     "output_type": "stream",
     "text": [
      "<class 'pandas.core.frame.DataFrame'>\n",
      "RangeIndex: 314 entries, 0 to 313\n",
      "Columns: 175 entries, etiq-id to eval-TLP-Tavec-33_Recon_Ac_frente_RCl_LP-PZ\n",
      "dtypes: bool(31), float64(65), int64(67), object(12)\n",
      "memory usage: 362.9+ KB\n"
     ]
    }
   ],
   "source": [
    "df.info()"
   ]
  },
  {
   "cell_type": "markdown",
   "metadata": {},
   "source": [
    "##### Generar la columna \"ED_2Clases\" a partir de la variable \"etiq-diagExpTLP_R2"
   ]
  },
  {
   "cell_type": "code",
   "execution_count": 6,
   "metadata": {},
   "outputs": [],
   "source": [
    "def transfor_ed(row):\n",
    "   if row['etiq-diagExpTLP_R2'] == 'ED1':\n",
    "      return 'H'\n",
    "   elif row['etiq-diagExpTLP_R2'] == 'ED2' or row['etiq-diagExpTLP_R2'] == 'ED3':\n",
    "      return 'D'"
   ]
  },
  {
   "cell_type": "code",
   "execution_count": 7,
   "metadata": {},
   "outputs": [],
   "source": [
    "df['ED_2Clases'] = df.apply(transfor_ed, axis=1)"
   ]
  },
  {
   "cell_type": "markdown",
   "metadata": {},
   "source": [
    "##### Proyectar columnas"
   ]
  },
  {
   "cell_type": "code",
   "execution_count": 8,
   "metadata": {},
   "outputs": [],
   "source": [
    "columns = [\n",
    "    'ED_2Clases',\n",
    "    'clin-reservaCognitiva_escolaridad',\n",
    "    'demo-edad',\n",
    "    'demo-genero',\n",
    "    'eval-TLP-CubCorsi-totalDirectos-PD',\n",
    "    'eval-TLP-CubCorsi-totalinversos-PD',\n",
    "    'eval-TLP-CubCorsi-total-PD',\n",
    "    'eval-TLP-FigRey-Duracion-PD',\n",
    "    'eval-TLP-FigRey-totalCopia-PD',\n",
    "    'eval-TLP-FigRey-totalMemoria-PD',\n",
    "    'eval-TLP-Stroop-palabras-PD',\n",
    "    'eval-TLP-Stroop-color-PD',\n",
    "    'eval-TLP-Stroop-palabrasColor-PD',\n",
    "    'eval-TLP-Tavec-1_RI_A1-PD',\n",
    "    'eval-TLP-Tavec-10_RL_LP-PD',\n",
    "    'eval-TLP-Tavec-11_RCl_LP-PD',\n",
    "    'eval-TLP-Tavec-2_RI_A5-PD',\n",
    "    'eval-TLP-Tavec-3_RI_AT-PD',\n",
    "    'eval-TLP-Tavec-8_RL_CP-PD',\n",
    "    'eval-TLP-Tavec-9_RCl_CP-PD'\n",
    "]"
   ]
  },
  {
   "cell_type": "code",
   "execution_count": 9,
   "metadata": {},
   "outputs": [],
   "source": [
    "df = df[columns]"
   ]
  },
  {
   "cell_type": "code",
   "execution_count": 10,
   "metadata": {},
   "outputs": [
    {
     "data": {
      "text/plain": [
       "(314, 20)"
      ]
     },
     "execution_count": 10,
     "metadata": {},
     "output_type": "execute_result"
    }
   ],
   "source": [
    "df.shape"
   ]
  },
  {
   "cell_type": "code",
   "execution_count": 11,
   "metadata": {},
   "outputs": [
    {
     "data": {
      "application/vnd.microsoft.datawrangler.viewer.v0+json": {
       "columns": [
        {
         "name": "index",
         "rawType": "int64",
         "type": "integer"
        },
        {
         "name": "ED_2Clases",
         "rawType": "object",
         "type": "string"
        },
        {
         "name": "clin-reservaCognitiva_escolaridad",
         "rawType": "int64",
         "type": "integer"
        },
        {
         "name": "demo-edad",
         "rawType": "int64",
         "type": "integer"
        },
        {
         "name": "demo-genero",
         "rawType": "int64",
         "type": "integer"
        },
        {
         "name": "eval-TLP-CubCorsi-totalDirectos-PD",
         "rawType": "int64",
         "type": "integer"
        },
        {
         "name": "eval-TLP-CubCorsi-totalinversos-PD",
         "rawType": "int64",
         "type": "integer"
        },
        {
         "name": "eval-TLP-CubCorsi-total-PD",
         "rawType": "int64",
         "type": "integer"
        },
        {
         "name": "eval-TLP-FigRey-Duracion-PD",
         "rawType": "int64",
         "type": "integer"
        },
        {
         "name": "eval-TLP-FigRey-totalCopia-PD",
         "rawType": "float64",
         "type": "float"
        },
        {
         "name": "eval-TLP-FigRey-totalMemoria-PD",
         "rawType": "float64",
         "type": "float"
        },
        {
         "name": "eval-TLP-Stroop-palabras-PD",
         "rawType": "int64",
         "type": "integer"
        },
        {
         "name": "eval-TLP-Stroop-color-PD",
         "rawType": "int64",
         "type": "integer"
        },
        {
         "name": "eval-TLP-Stroop-palabrasColor-PD",
         "rawType": "int64",
         "type": "integer"
        },
        {
         "name": "eval-TLP-Tavec-1_RI_A1-PD",
         "rawType": "int64",
         "type": "integer"
        },
        {
         "name": "eval-TLP-Tavec-10_RL_LP-PD",
         "rawType": "int64",
         "type": "integer"
        },
        {
         "name": "eval-TLP-Tavec-11_RCl_LP-PD",
         "rawType": "int64",
         "type": "integer"
        },
        {
         "name": "eval-TLP-Tavec-2_RI_A5-PD",
         "rawType": "int64",
         "type": "integer"
        },
        {
         "name": "eval-TLP-Tavec-3_RI_AT-PD",
         "rawType": "int64",
         "type": "integer"
        },
        {
         "name": "eval-TLP-Tavec-8_RL_CP-PD",
         "rawType": "int64",
         "type": "integer"
        },
        {
         "name": "eval-TLP-Tavec-9_RCl_CP-PD",
         "rawType": "int64",
         "type": "integer"
        }
       ],
       "ref": "f83d1d87-7218-4592-b517-6dda82758c85",
       "rows": [
        [
         "0",
         "D",
         "3",
         "81",
         "2",
         "6",
         "4",
         "10",
         "253",
         "28.0",
         "11.0",
         "80",
         "78",
         "17",
         "4",
         "8",
         "12",
         "11",
         "49",
         "11",
         "9"
        ],
        [
         "1",
         "D",
         "3",
         "75",
         "2",
         "4",
         "2",
         "6",
         "360",
         "14.0",
         "1.5",
         "66",
         "37",
         "14",
         "2",
         "8",
         "8",
         "9",
         "36",
         "8",
         "8"
        ],
        [
         "2",
         "D",
         "4",
         "72",
         "2",
         "7",
         "5",
         "12",
         "226",
         "33.0",
         "10.0",
         "100",
         "70",
         "39",
         "6",
         "10",
         "10",
         "14",
         "56",
         "8",
         "8"
        ],
        [
         "3",
         "D",
         "4",
         "60",
         "2",
         "8",
         "6",
         "14",
         "140",
         "34.0",
         "19.0",
         "110",
         "85",
         "35",
         "8",
         "8",
         "10",
         "14",
         "65",
         "12",
         "10"
        ],
        [
         "4",
         "D",
         "4",
         "64",
         "2",
         "6",
         "6",
         "12",
         "204",
         "36.0",
         "12.0",
         "80",
         "66",
         "40",
         "4",
         "9",
         "9",
         "10",
         "39",
         "6",
         "9"
        ]
       ],
       "shape": {
        "columns": 20,
        "rows": 5
       }
      },
      "text/html": [
       "<div>\n",
       "<style scoped>\n",
       "    .dataframe tbody tr th:only-of-type {\n",
       "        vertical-align: middle;\n",
       "    }\n",
       "\n",
       "    .dataframe tbody tr th {\n",
       "        vertical-align: top;\n",
       "    }\n",
       "\n",
       "    .dataframe thead th {\n",
       "        text-align: right;\n",
       "    }\n",
       "</style>\n",
       "<table border=\"1\" class=\"dataframe\">\n",
       "  <thead>\n",
       "    <tr style=\"text-align: right;\">\n",
       "      <th></th>\n",
       "      <th>ED_2Clases</th>\n",
       "      <th>clin-reservaCognitiva_escolaridad</th>\n",
       "      <th>demo-edad</th>\n",
       "      <th>demo-genero</th>\n",
       "      <th>eval-TLP-CubCorsi-totalDirectos-PD</th>\n",
       "      <th>eval-TLP-CubCorsi-totalinversos-PD</th>\n",
       "      <th>eval-TLP-CubCorsi-total-PD</th>\n",
       "      <th>eval-TLP-FigRey-Duracion-PD</th>\n",
       "      <th>eval-TLP-FigRey-totalCopia-PD</th>\n",
       "      <th>eval-TLP-FigRey-totalMemoria-PD</th>\n",
       "      <th>eval-TLP-Stroop-palabras-PD</th>\n",
       "      <th>eval-TLP-Stroop-color-PD</th>\n",
       "      <th>eval-TLP-Stroop-palabrasColor-PD</th>\n",
       "      <th>eval-TLP-Tavec-1_RI_A1-PD</th>\n",
       "      <th>eval-TLP-Tavec-10_RL_LP-PD</th>\n",
       "      <th>eval-TLP-Tavec-11_RCl_LP-PD</th>\n",
       "      <th>eval-TLP-Tavec-2_RI_A5-PD</th>\n",
       "      <th>eval-TLP-Tavec-3_RI_AT-PD</th>\n",
       "      <th>eval-TLP-Tavec-8_RL_CP-PD</th>\n",
       "      <th>eval-TLP-Tavec-9_RCl_CP-PD</th>\n",
       "    </tr>\n",
       "  </thead>\n",
       "  <tbody>\n",
       "    <tr>\n",
       "      <th>0</th>\n",
       "      <td>D</td>\n",
       "      <td>3</td>\n",
       "      <td>81</td>\n",
       "      <td>2</td>\n",
       "      <td>6</td>\n",
       "      <td>4</td>\n",
       "      <td>10</td>\n",
       "      <td>253</td>\n",
       "      <td>28.0</td>\n",
       "      <td>11.0</td>\n",
       "      <td>80</td>\n",
       "      <td>78</td>\n",
       "      <td>17</td>\n",
       "      <td>4</td>\n",
       "      <td>8</td>\n",
       "      <td>12</td>\n",
       "      <td>11</td>\n",
       "      <td>49</td>\n",
       "      <td>11</td>\n",
       "      <td>9</td>\n",
       "    </tr>\n",
       "    <tr>\n",
       "      <th>1</th>\n",
       "      <td>D</td>\n",
       "      <td>3</td>\n",
       "      <td>75</td>\n",
       "      <td>2</td>\n",
       "      <td>4</td>\n",
       "      <td>2</td>\n",
       "      <td>6</td>\n",
       "      <td>360</td>\n",
       "      <td>14.0</td>\n",
       "      <td>1.5</td>\n",
       "      <td>66</td>\n",
       "      <td>37</td>\n",
       "      <td>14</td>\n",
       "      <td>2</td>\n",
       "      <td>8</td>\n",
       "      <td>8</td>\n",
       "      <td>9</td>\n",
       "      <td>36</td>\n",
       "      <td>8</td>\n",
       "      <td>8</td>\n",
       "    </tr>\n",
       "    <tr>\n",
       "      <th>2</th>\n",
       "      <td>D</td>\n",
       "      <td>4</td>\n",
       "      <td>72</td>\n",
       "      <td>2</td>\n",
       "      <td>7</td>\n",
       "      <td>5</td>\n",
       "      <td>12</td>\n",
       "      <td>226</td>\n",
       "      <td>33.0</td>\n",
       "      <td>10.0</td>\n",
       "      <td>100</td>\n",
       "      <td>70</td>\n",
       "      <td>39</td>\n",
       "      <td>6</td>\n",
       "      <td>10</td>\n",
       "      <td>10</td>\n",
       "      <td>14</td>\n",
       "      <td>56</td>\n",
       "      <td>8</td>\n",
       "      <td>8</td>\n",
       "    </tr>\n",
       "    <tr>\n",
       "      <th>3</th>\n",
       "      <td>D</td>\n",
       "      <td>4</td>\n",
       "      <td>60</td>\n",
       "      <td>2</td>\n",
       "      <td>8</td>\n",
       "      <td>6</td>\n",
       "      <td>14</td>\n",
       "      <td>140</td>\n",
       "      <td>34.0</td>\n",
       "      <td>19.0</td>\n",
       "      <td>110</td>\n",
       "      <td>85</td>\n",
       "      <td>35</td>\n",
       "      <td>8</td>\n",
       "      <td>8</td>\n",
       "      <td>10</td>\n",
       "      <td>14</td>\n",
       "      <td>65</td>\n",
       "      <td>12</td>\n",
       "      <td>10</td>\n",
       "    </tr>\n",
       "    <tr>\n",
       "      <th>4</th>\n",
       "      <td>D</td>\n",
       "      <td>4</td>\n",
       "      <td>64</td>\n",
       "      <td>2</td>\n",
       "      <td>6</td>\n",
       "      <td>6</td>\n",
       "      <td>12</td>\n",
       "      <td>204</td>\n",
       "      <td>36.0</td>\n",
       "      <td>12.0</td>\n",
       "      <td>80</td>\n",
       "      <td>66</td>\n",
       "      <td>40</td>\n",
       "      <td>4</td>\n",
       "      <td>9</td>\n",
       "      <td>9</td>\n",
       "      <td>10</td>\n",
       "      <td>39</td>\n",
       "      <td>6</td>\n",
       "      <td>9</td>\n",
       "    </tr>\n",
       "  </tbody>\n",
       "</table>\n",
       "</div>"
      ],
      "text/plain": [
       "  ED_2Clases  clin-reservaCognitiva_escolaridad  demo-edad  demo-genero  \\\n",
       "0          D                                  3         81            2   \n",
       "1          D                                  3         75            2   \n",
       "2          D                                  4         72            2   \n",
       "3          D                                  4         60            2   \n",
       "4          D                                  4         64            2   \n",
       "\n",
       "   eval-TLP-CubCorsi-totalDirectos-PD  eval-TLP-CubCorsi-totalinversos-PD  \\\n",
       "0                                   6                                   4   \n",
       "1                                   4                                   2   \n",
       "2                                   7                                   5   \n",
       "3                                   8                                   6   \n",
       "4                                   6                                   6   \n",
       "\n",
       "   eval-TLP-CubCorsi-total-PD  eval-TLP-FigRey-Duracion-PD  \\\n",
       "0                          10                          253   \n",
       "1                           6                          360   \n",
       "2                          12                          226   \n",
       "3                          14                          140   \n",
       "4                          12                          204   \n",
       "\n",
       "   eval-TLP-FigRey-totalCopia-PD  eval-TLP-FigRey-totalMemoria-PD  \\\n",
       "0                           28.0                             11.0   \n",
       "1                           14.0                              1.5   \n",
       "2                           33.0                             10.0   \n",
       "3                           34.0                             19.0   \n",
       "4                           36.0                             12.0   \n",
       "\n",
       "   eval-TLP-Stroop-palabras-PD  eval-TLP-Stroop-color-PD  \\\n",
       "0                           80                        78   \n",
       "1                           66                        37   \n",
       "2                          100                        70   \n",
       "3                          110                        85   \n",
       "4                           80                        66   \n",
       "\n",
       "   eval-TLP-Stroop-palabrasColor-PD  eval-TLP-Tavec-1_RI_A1-PD  \\\n",
       "0                                17                          4   \n",
       "1                                14                          2   \n",
       "2                                39                          6   \n",
       "3                                35                          8   \n",
       "4                                40                          4   \n",
       "\n",
       "   eval-TLP-Tavec-10_RL_LP-PD  eval-TLP-Tavec-11_RCl_LP-PD  \\\n",
       "0                           8                           12   \n",
       "1                           8                            8   \n",
       "2                          10                           10   \n",
       "3                           8                           10   \n",
       "4                           9                            9   \n",
       "\n",
       "   eval-TLP-Tavec-2_RI_A5-PD  eval-TLP-Tavec-3_RI_AT-PD  \\\n",
       "0                         11                         49   \n",
       "1                          9                         36   \n",
       "2                         14                         56   \n",
       "3                         14                         65   \n",
       "4                         10                         39   \n",
       "\n",
       "   eval-TLP-Tavec-8_RL_CP-PD  eval-TLP-Tavec-9_RCl_CP-PD  \n",
       "0                         11                           9  \n",
       "1                          8                           8  \n",
       "2                          8                           8  \n",
       "3                         12                          10  \n",
       "4                          6                           9  "
      ]
     },
     "execution_count": 11,
     "metadata": {},
     "output_type": "execute_result"
    }
   ],
   "source": [
    "df.head()"
   ]
  },
  {
   "cell_type": "code",
   "execution_count": 12,
   "metadata": {},
   "outputs": [],
   "source": [
    "df['ED_2Clases'] = df['ED_2Clases'].astype('category')"
   ]
  },
  {
   "cell_type": "code",
   "execution_count": 13,
   "metadata": {},
   "outputs": [
    {
     "name": "stdout",
     "output_type": "stream",
     "text": [
      "<class 'pandas.core.frame.DataFrame'>\n",
      "RangeIndex: 314 entries, 0 to 313\n",
      "Data columns (total 20 columns):\n",
      " #   Column                              Non-Null Count  Dtype   \n",
      "---  ------                              --------------  -----   \n",
      " 0   ED_2Clases                          314 non-null    category\n",
      " 1   clin-reservaCognitiva_escolaridad   314 non-null    int64   \n",
      " 2   demo-edad                           314 non-null    int64   \n",
      " 3   demo-genero                         314 non-null    int64   \n",
      " 4   eval-TLP-CubCorsi-totalDirectos-PD  314 non-null    int64   \n",
      " 5   eval-TLP-CubCorsi-totalinversos-PD  314 non-null    int64   \n",
      " 6   eval-TLP-CubCorsi-total-PD          314 non-null    int64   \n",
      " 7   eval-TLP-FigRey-Duracion-PD         314 non-null    int64   \n",
      " 8   eval-TLP-FigRey-totalCopia-PD       314 non-null    float64 \n",
      " 9   eval-TLP-FigRey-totalMemoria-PD     314 non-null    float64 \n",
      " 10  eval-TLP-Stroop-palabras-PD         314 non-null    int64   \n",
      " 11  eval-TLP-Stroop-color-PD            314 non-null    int64   \n",
      " 12  eval-TLP-Stroop-palabrasColor-PD    314 non-null    int64   \n",
      " 13  eval-TLP-Tavec-1_RI_A1-PD           314 non-null    int64   \n",
      " 14  eval-TLP-Tavec-10_RL_LP-PD          314 non-null    int64   \n",
      " 15  eval-TLP-Tavec-11_RCl_LP-PD         314 non-null    int64   \n",
      " 16  eval-TLP-Tavec-2_RI_A5-PD           314 non-null    int64   \n",
      " 17  eval-TLP-Tavec-3_RI_AT-PD           314 non-null    int64   \n",
      " 18  eval-TLP-Tavec-8_RL_CP-PD           314 non-null    int64   \n",
      " 19  eval-TLP-Tavec-9_RCl_CP-PD          314 non-null    int64   \n",
      "dtypes: category(1), float64(2), int64(17)\n",
      "memory usage: 47.2 KB\n"
     ]
    }
   ],
   "source": [
    "df.info()"
   ]
  },
  {
   "cell_type": "markdown",
   "metadata": {},
   "source": [
    "#### Eliminar duplicados"
   ]
  },
  {
   "cell_type": "code",
   "execution_count": 14,
   "metadata": {},
   "outputs": [
    {
     "name": "stdout",
     "output_type": "stream",
     "text": [
      "<class 'pandas.core.frame.DataFrame'>\n",
      "RangeIndex: 314 entries, 0 to 313\n",
      "Data columns (total 20 columns):\n",
      " #   Column                              Non-Null Count  Dtype   \n",
      "---  ------                              --------------  -----   \n",
      " 0   ED_2Clases                          314 non-null    category\n",
      " 1   clin-reservaCognitiva_escolaridad   314 non-null    int64   \n",
      " 2   demo-edad                           314 non-null    int64   \n",
      " 3   demo-genero                         314 non-null    int64   \n",
      " 4   eval-TLP-CubCorsi-totalDirectos-PD  314 non-null    int64   \n",
      " 5   eval-TLP-CubCorsi-totalinversos-PD  314 non-null    int64   \n",
      " 6   eval-TLP-CubCorsi-total-PD          314 non-null    int64   \n",
      " 7   eval-TLP-FigRey-Duracion-PD         314 non-null    int64   \n",
      " 8   eval-TLP-FigRey-totalCopia-PD       314 non-null    float64 \n",
      " 9   eval-TLP-FigRey-totalMemoria-PD     314 non-null    float64 \n",
      " 10  eval-TLP-Stroop-palabras-PD         314 non-null    int64   \n",
      " 11  eval-TLP-Stroop-color-PD            314 non-null    int64   \n",
      " 12  eval-TLP-Stroop-palabrasColor-PD    314 non-null    int64   \n",
      " 13  eval-TLP-Tavec-1_RI_A1-PD           314 non-null    int64   \n",
      " 14  eval-TLP-Tavec-10_RL_LP-PD          314 non-null    int64   \n",
      " 15  eval-TLP-Tavec-11_RCl_LP-PD         314 non-null    int64   \n",
      " 16  eval-TLP-Tavec-2_RI_A5-PD           314 non-null    int64   \n",
      " 17  eval-TLP-Tavec-3_RI_AT-PD           314 non-null    int64   \n",
      " 18  eval-TLP-Tavec-8_RL_CP-PD           314 non-null    int64   \n",
      " 19  eval-TLP-Tavec-9_RCl_CP-PD          314 non-null    int64   \n",
      "dtypes: category(1), float64(2), int64(17)\n",
      "memory usage: 47.2 KB\n"
     ]
    }
   ],
   "source": [
    "df.drop_duplicates(inplace=True)\n",
    "df.info()"
   ]
  },
  {
   "cell_type": "markdown",
   "metadata": {},
   "source": [
    "#### Distribución marginal"
   ]
  },
  {
   "cell_type": "code",
   "execution_count": 15,
   "metadata": {},
   "outputs": [],
   "source": [
    "import matplotlib.pyplot as plt\n",
    "from matplotlib.ticker import MaxNLocator\n",
    "import seaborn as sns\n",
    "\n",
    "for col in df.select_dtypes(include=['int64']).columns:\n",
    "    fig, ax = plt.subplots(figsize=(6, 4))\n",
    "    sns.histplot(df[col], discrete=True, ax=ax, kde=True)\n",
    "    ax.xaxis.set_major_locator(MaxNLocator(integer=True))\n",
    "    ax.yaxis.set_major_locator(MaxNLocator(integer=True))\n",
    "    plt.title(f'Distribución marginal de {col}')\n",
    "    plt.savefig(f'plots/marginal_{col}.png', dpi=300, bbox_inches='tight')\n",
    "    plt.close()\n",
    "\n",
    "    fig, ax = plt.subplots(figsize=(6, 2))\n",
    "    sns.boxplot(x=df[col], ax=ax)\n",
    "    ax.xaxis.set_major_locator(MaxNLocator(integer=True))\n",
    "    plt.title(f'Boxplot de {col}')\n",
    "    plt.savefig(f'boxplots/boxplot_{col}.png', dpi=300, bbox_inches='tight')\n",
    "    plt.close()\n"
   ]
  },
  {
   "cell_type": "code",
   "execution_count": 16,
   "metadata": {},
   "outputs": [],
   "source": [
    "import matplotlib.pyplot as plt\n",
    "import seaborn as sns\n",
    "\n",
    "for col in df.select_dtypes(include=['float64']).columns:\n",
    "    plt.figure(figsize=(6,4))\n",
    "    sns.histplot(df[col], kde=True, bins=30)\n",
    "    plt.title(f'Distribución marginal de {col}')\n",
    "    plt.savefig(f'plots/marginal_{col}.png')\n",
    "    plt.close()\n",
    "\n",
    "    plt.figure(figsize=(6, 2))\n",
    "    sns.boxplot(x=df[col])\n",
    "    plt.title(f'Boxplot de {col}')\n",
    "    plt.savefig(f'boxplots/boxplot_{col}.png', dpi=300, bbox_inches='tight')\n",
    "    plt.close()"
   ]
  },
  {
   "cell_type": "code",
   "execution_count": 17,
   "metadata": {},
   "outputs": [],
   "source": [
    "for col in df.select_dtypes(include=['category']).columns:\n",
    "    plt.figure(figsize=(6,4))\n",
    "    sns.countplot(data=df, x=col, order=df[col].value_counts().index)\n",
    "    plt.title(f'Distribución marginal de {col}')\n",
    "    plt.xticks(rotation=45)\n",
    "    plt.savefig(f'plots/marginal_{col}.png')\n",
    "    plt.close()"
   ]
  },
  {
   "cell_type": "markdown",
   "metadata": {},
   "source": [
    "#### Correlaciones entre variables"
   ]
  },
  {
   "cell_type": "code",
   "execution_count": 18,
   "metadata": {},
   "outputs": [
    {
     "data": {
      "text/plain": [
       "Text(0.5, 1.0, 'Matriz de correlación')"
      ]
     },
     "execution_count": 18,
     "metadata": {},
     "output_type": "execute_result"
    },
    {
     "data": {
      "image/png": "[encoded data removed]",
      "text/plain": [
       "<Figure size 1200x800 with 2 Axes>"
      ]
     },
     "metadata": {},
     "output_type": "display_data"
    }
   ],
   "source": [
    "correlation_matrix = df.select_dtypes(include=['float64', 'int64']).corr(method='pearson')\n",
    "plt.figure(figsize=(12, 8))\n",
    "sns.heatmap(correlation_matrix, annot=True, fmt=\".2f\", cmap='coolwarm', square=True, cbar_kws={\"shrink\": .8})\n",
    "plt.title('Matriz de correlación')"
   ]
  },
  {
   "cell_type": "markdown",
   "metadata": {},
   "source": [
    "#### Tipos de datos"
   ]
  },
  {
   "cell_type": "code",
   "execution_count": 19,
   "metadata": {},
   "outputs": [
    {
     "name": "stdout",
     "output_type": "stream",
     "text": [
      "                               columna tipo_dato  valores_unicos  nulos\n",
      "0                           ED_2Clases  category               2      0\n",
      "1    clin-reservaCognitiva_escolaridad     int64               5      0\n",
      "2                            demo-edad     int64              33      0\n",
      "3                          demo-genero     int64               2      0\n",
      "4           eval-TLP-CubCorsi-total-PD     int64              18      0\n",
      "5   eval-TLP-CubCorsi-totalDirectos-PD     int64              10      0\n",
      "6   eval-TLP-CubCorsi-totalinversos-PD     int64              12      0\n",
      "7          eval-TLP-FigRey-Duracion-PD     int64             197      0\n",
      "8        eval-TLP-FigRey-totalCopia-PD   float64              36      0\n",
      "9      eval-TLP-FigRey-totalMemoria-PD   float64              60      0\n",
      "10            eval-TLP-Stroop-color-PD     int64              58      0\n",
      "11         eval-TLP-Stroop-palabras-PD     int64              77      0\n",
      "12    eval-TLP-Stroop-palabrasColor-PD     int64              50      0\n",
      "13          eval-TLP-Tavec-10_RL_LP-PD     int64              16      0\n",
      "14         eval-TLP-Tavec-11_RCl_LP-PD     int64              16      0\n",
      "15           eval-TLP-Tavec-1_RI_A1-PD     int64              14      0\n",
      "16           eval-TLP-Tavec-2_RI_A5-PD     int64              13      0\n",
      "17           eval-TLP-Tavec-3_RI_AT-PD     int64              52      0\n",
      "18           eval-TLP-Tavec-8_RL_CP-PD     int64              17      0\n",
      "19          eval-TLP-Tavec-9_RCl_CP-PD     int64              15      0\n"
     ]
    }
   ],
   "source": [
    "import numpy as np\n",
    "\n",
    "resumen = pd.DataFrame({\n",
    "    'columna': df.columns,\n",
    "    'tipo_dato': df.dtypes.values,\n",
    "    'valores_unicos': df.nunique().values,\n",
    "    'nulos': df.isnull().sum().values\n",
    "})\n",
    "\n",
    "resumen = resumen.sort_values(by='columna').reset_index(drop=True)\n",
    "print(resumen)"
   ]
  },
  {
   "cell_type": "markdown",
   "metadata": {},
   "source": [
    "#### Presencia +/- Inf"
   ]
  },
  {
   "cell_type": "code",
   "execution_count": 20,
   "metadata": {},
   "outputs": [
    {
     "data": {
      "application/vnd.microsoft.datawrangler.viewer.v0+json": {
       "columns": [
        {
         "name": "index",
         "rawType": "object",
         "type": "string"
        },
        {
         "name": "0",
         "rawType": "int64",
         "type": "integer"
        }
       ],
       "ref": "3702aa49-0c6f-4bbd-9a7a-3421bbf1b60b",
       "rows": [
        [
         "clin-reservaCognitiva_escolaridad",
         "0"
        ],
        [
         "demo-edad",
         "0"
        ],
        [
         "demo-genero",
         "0"
        ],
        [
         "eval-TLP-CubCorsi-totalDirectos-PD",
         "0"
        ],
        [
         "eval-TLP-CubCorsi-totalinversos-PD",
         "0"
        ],
        [
         "eval-TLP-CubCorsi-total-PD",
         "0"
        ],
        [
         "eval-TLP-FigRey-Duracion-PD",
         "0"
        ],
        [
         "eval-TLP-FigRey-totalCopia-PD",
         "0"
        ],
        [
         "eval-TLP-FigRey-totalMemoria-PD",
         "0"
        ],
        [
         "eval-TLP-Stroop-palabras-PD",
         "0"
        ],
        [
         "eval-TLP-Stroop-color-PD",
         "0"
        ],
        [
         "eval-TLP-Stroop-palabrasColor-PD",
         "0"
        ],
        [
         "eval-TLP-Tavec-1_RI_A1-PD",
         "0"
        ],
        [
         "eval-TLP-Tavec-10_RL_LP-PD",
         "0"
        ],
        [
         "eval-TLP-Tavec-11_RCl_LP-PD",
         "0"
        ],
        [
         "eval-TLP-Tavec-2_RI_A5-PD",
         "0"
        ],
        [
         "eval-TLP-Tavec-3_RI_AT-PD",
         "0"
        ],
        [
         "eval-TLP-Tavec-8_RL_CP-PD",
         "0"
        ],
        [
         "eval-TLP-Tavec-9_RCl_CP-PD",
         "0"
        ]
       ],
       "shape": {
        "columns": 1,
        "rows": 19
       }
      },
      "text/plain": [
       "clin-reservaCognitiva_escolaridad     0\n",
       "demo-edad                             0\n",
       "demo-genero                           0\n",
       "eval-TLP-CubCorsi-totalDirectos-PD    0\n",
       "eval-TLP-CubCorsi-totalinversos-PD    0\n",
       "eval-TLP-CubCorsi-total-PD            0\n",
       "eval-TLP-FigRey-Duracion-PD           0\n",
       "eval-TLP-FigRey-totalCopia-PD         0\n",
       "eval-TLP-FigRey-totalMemoria-PD       0\n",
       "eval-TLP-Stroop-palabras-PD           0\n",
       "eval-TLP-Stroop-color-PD              0\n",
       "eval-TLP-Stroop-palabrasColor-PD      0\n",
       "eval-TLP-Tavec-1_RI_A1-PD             0\n",
       "eval-TLP-Tavec-10_RL_LP-PD            0\n",
       "eval-TLP-Tavec-11_RCl_LP-PD           0\n",
       "eval-TLP-Tavec-2_RI_A5-PD             0\n",
       "eval-TLP-Tavec-3_RI_AT-PD             0\n",
       "eval-TLP-Tavec-8_RL_CP-PD             0\n",
       "eval-TLP-Tavec-9_RCl_CP-PD            0\n",
       "dtype: int64"
      ]
     },
     "execution_count": 20,
     "metadata": {},
     "output_type": "execute_result"
    }
   ],
   "source": [
    "np.isinf(df.select_dtypes(include=['int64', 'float64'])).sum()"
   ]
  },
  {
   "cell_type": "markdown",
   "metadata": {},
   "source": [
    "#### Acotar valores índice\n",
    "Acotar los valores outlier superiores de las variables índices TAVEC, de 27 a 33,  a 200 en PD y a 4 en PZ. Reescalar [0,1] las variables no PZ."
   ]
  },
  {
   "cell_type": "code",
   "execution_count": 21,
   "metadata": {},
   "outputs": [],
   "source": [
    "tavec_columns = [col for col in df.columns if 'Tavec' in col]"
   ]
  },
  {
   "cell_type": "code",
   "execution_count": 22,
   "metadata": {},
   "outputs": [
    {
     "name": "stdout",
     "output_type": "stream",
     "text": [
      "Columna: eval-TLP-Tavec-1_RI_A1-PD, Límite superior aplicado: 12.5\n",
      "Columna: eval-TLP-Tavec-10_RL_LP-PD, Límite superior aplicado: 23.0\n",
      "Columna: eval-TLP-Tavec-11_RCl_LP-PD, Límite superior aplicado: 20.0\n",
      "Columna: eval-TLP-Tavec-2_RI_A5-PD, Límite superior aplicado: 20.0\n",
      "Columna: eval-TLP-Tavec-3_RI_AT-PD, Límite superior aplicado: 83.0\n",
      "Columna: eval-TLP-Tavec-8_RL_CP-PD, Límite superior aplicado: 20.5\n",
      "Columna: eval-TLP-Tavec-9_RCl_CP-PD, Límite superior aplicado: 21.5\n"
     ]
    }
   ],
   "source": [
    "for column in tavec_columns:\n",
    "    # Calculamos Q1, Q3 e IQR\n",
    "    Q1 = df[column].quantile(0.25)\n",
    "    Q3 = df[column].quantile(0.75)\n",
    "    IQR = Q3 - Q1\n",
    "    # Definimos el límite superior para outliers (fórmula común: Q3 + 1.5*IQR)\n",
    "    limite = Q3 + 1.5 * IQR\n",
    "    # Usar el mínimo entre el límite calculado y el tope especificado\n",
    "    limite_final = min(limite, 200)\n",
    "    # Aplicar clipping\n",
    "    print(f\"Columna: {column}, Límite superior aplicado: {limite_final}\")\n",
    "    df[column] = df[column].clip(upper=limite_final)"
   ]
  },
  {
   "cell_type": "code",
   "execution_count": 23,
   "metadata": {},
   "outputs": [
    {
     "data": {
      "application/vnd.microsoft.datawrangler.viewer.v0+json": {
       "columns": [
        {
         "name": "index",
         "rawType": "object",
         "type": "string"
        },
        {
         "name": "clin-reservaCognitiva_escolaridad",
         "rawType": "float64",
         "type": "float"
        },
        {
         "name": "demo-edad",
         "rawType": "float64",
         "type": "float"
        },
        {
         "name": "demo-genero",
         "rawType": "float64",
         "type": "float"
        },
        {
         "name": "eval-TLP-CubCorsi-totalDirectos-PD",
         "rawType": "float64",
         "type": "float"
        },
        {
         "name": "eval-TLP-CubCorsi-totalinversos-PD",
         "rawType": "float64",
         "type": "float"
        },
        {
         "name": "eval-TLP-CubCorsi-total-PD",
         "rawType": "float64",
         "type": "float"
        },
        {
         "name": "eval-TLP-FigRey-Duracion-PD",
         "rawType": "float64",
         "type": "float"
        },
        {
         "name": "eval-TLP-FigRey-totalCopia-PD",
         "rawType": "float64",
         "type": "float"
        },
        {
         "name": "eval-TLP-FigRey-totalMemoria-PD",
         "rawType": "float64",
         "type": "float"
        },
        {
         "name": "eval-TLP-Stroop-palabras-PD",
         "rawType": "float64",
         "type": "float"
        },
        {
         "name": "eval-TLP-Stroop-color-PD",
         "rawType": "float64",
         "type": "float"
        },
        {
         "name": "eval-TLP-Stroop-palabrasColor-PD",
         "rawType": "float64",
         "type": "float"
        },
        {
         "name": "eval-TLP-Tavec-1_RI_A1-PD",
         "rawType": "float64",
         "type": "float"
        },
        {
         "name": "eval-TLP-Tavec-10_RL_LP-PD",
         "rawType": "float64",
         "type": "float"
        },
        {
         "name": "eval-TLP-Tavec-11_RCl_LP-PD",
         "rawType": "float64",
         "type": "float"
        },
        {
         "name": "eval-TLP-Tavec-2_RI_A5-PD",
         "rawType": "float64",
         "type": "float"
        },
        {
         "name": "eval-TLP-Tavec-3_RI_AT-PD",
         "rawType": "float64",
         "type": "float"
        },
        {
         "name": "eval-TLP-Tavec-8_RL_CP-PD",
         "rawType": "float64",
         "type": "float"
        },
        {
         "name": "eval-TLP-Tavec-9_RCl_CP-PD",
         "rawType": "float64",
         "type": "float"
        }
       ],
       "ref": "342945f3-7a11-4be7-8690-2f75cc82467b",
       "rows": [
        [
         "count",
         "314.0",
         "314.0",
         "314.0",
         "314.0",
         "314.0",
         "314.0",
         "314.0",
         "314.0",
         "314.0",
         "314.0",
         "314.0",
         "314.0",
         "314.0",
         "314.0",
         "314.0",
         "314.0",
         "314.0",
         "314.0",
         "314.0"
        ],
        [
         "mean",
         "4.022292993630574",
         "69.10828025477707",
         "1.6847133757961783",
         "7.414012738853503",
         "6.6687898089171975",
         "14.0828025477707",
         "200.29936305732485",
         "32.39331210191083",
         "16.04299363057325",
         "90.04458598726114",
         "61.089171974522294",
         "33.57643312101911",
         "6.482484076433121",
         "10.847133757961783",
         "11.601910828025478",
         "12.124203821656051",
         "50.86624203821656",
         "10.235668789808917",
         "11.359872611464969"
        ],
        [
         "std",
         "0.9438618736680556",
         "7.65517187644716",
         "0.4653715551656092",
         "1.6711977912100022",
         "1.9147603393000683",
         "3.1449778077702377",
         "88.16075680894848",
         "4.697282184566999",
         "7.016222549846098",
         "18.885680614056803",
         "13.393706879602826",
         "10.402854364549073",
         "2.169829178963131",
         "3.396419097362257",
         "2.9572237074527714",
         "2.613650606311091",
         "11.060158207305324",
         "3.4235421138937783",
         "2.956735093280311"
        ],
        [
         "min",
         "1.0",
         "55.0",
         "1.0",
         "4.0",
         "0.0",
         "4.0",
         "75.0",
         "10.0",
         "0.0",
         "0.0",
         "0.0",
         "0.0",
         "1.0",
         "0.0",
         "1.0",
         "0.0",
         "12.0",
         "0.0",
         "0.0"
        ],
        [
         "25%",
         "3.0",
         "63.0",
         "1.0",
         "6.0",
         "6.0",
         "12.0",
         "135.25",
         "31.0",
         "11.0",
         "78.25",
         "53.0",
         "26.0",
         "5.0",
         "8.0",
         "10.0",
         "10.0",
         "43.0",
         "8.0",
         "9.0"
        ],
        [
         "50%",
         "4.0",
         "69.0",
         "2.0",
         "7.0",
         "6.0",
         "14.0",
         "183.5",
         "34.0",
         "16.5",
         "92.0",
         "63.0",
         "34.0",
         "6.0",
         "11.0",
         "12.0",
         "12.0",
         "51.0",
         "10.0",
         "12.0"
        ],
        [
         "75%",
         "5.0",
         "74.0",
         "2.0",
         "9.0",
         "8.0",
         "16.0",
         "247.5",
         "36.0",
         "21.0",
         "103.0",
         "70.0",
         "40.0",
         "8.0",
         "14.0",
         "14.0",
         "14.0",
         "59.0",
         "13.0",
         "14.0"
        ],
        [
         "max",
         "5.0",
         "88.0",
         "2.0",
         "13.0",
         "12.0",
         "22.0",
         "537.0",
         "36.0",
         "34.0",
         "133.0",
         "103.0",
         "74.0",
         "12.5",
         "16.0",
         "16.0",
         "16.0",
         "77.0",
         "16.0",
         "16.0"
        ]
       ],
       "shape": {
        "columns": 19,
        "rows": 8
       }
      },
      "text/html": [
       "<div>\n",
       "<style scoped>\n",
       "    .dataframe tbody tr th:only-of-type {\n",
       "        vertical-align: middle;\n",
       "    }\n",
       "\n",
       "    .dataframe tbody tr th {\n",
       "        vertical-align: top;\n",
       "    }\n",
       "\n",
       "    .dataframe thead th {\n",
       "        text-align: right;\n",
       "    }\n",
       "</style>\n",
       "<table border=\"1\" class=\"dataframe\">\n",
       "  <thead>\n",
       "    <tr style=\"text-align: right;\">\n",
       "      <th></th>\n",
       "      <th>clin-reservaCognitiva_escolaridad</th>\n",
       "      <th>demo-edad</th>\n",
       "      <th>demo-genero</th>\n",
       "      <th>eval-TLP-CubCorsi-totalDirectos-PD</th>\n",
       "      <th>eval-TLP-CubCorsi-totalinversos-PD</th>\n",
       "      <th>eval-TLP-CubCorsi-total-PD</th>\n",
       "      <th>eval-TLP-FigRey-Duracion-PD</th>\n",
       "      <th>eval-TLP-FigRey-totalCopia-PD</th>\n",
       "      <th>eval-TLP-FigRey-totalMemoria-PD</th>\n",
       "      <th>eval-TLP-Stroop-palabras-PD</th>\n",
       "      <th>eval-TLP-Stroop-color-PD</th>\n",
       "      <th>eval-TLP-Stroop-palabrasColor-PD</th>\n",
       "      <th>eval-TLP-Tavec-1_RI_A1-PD</th>\n",
       "      <th>eval-TLP-Tavec-10_RL_LP-PD</th>\n",
       "      <th>eval-TLP-Tavec-11_RCl_LP-PD</th>\n",
       "      <th>eval-TLP-Tavec-2_RI_A5-PD</th>\n",
       "      <th>eval-TLP-Tavec-3_RI_AT-PD</th>\n",
       "      <th>eval-TLP-Tavec-8_RL_CP-PD</th>\n",
       "      <th>eval-TLP-Tavec-9_RCl_CP-PD</th>\n",
       "    </tr>\n",
       "  </thead>\n",
       "  <tbody>\n",
       "    <tr>\n",
       "      <th>count</th>\n",
       "      <td>314.000000</td>\n",
       "      <td>314.000000</td>\n",
       "      <td>314.000000</td>\n",
       "      <td>314.000000</td>\n",
       "      <td>314.00000</td>\n",
       "      <td>314.000000</td>\n",
       "      <td>314.000000</td>\n",
       "      <td>314.000000</td>\n",
       "      <td>314.000000</td>\n",
       "      <td>314.000000</td>\n",
       "      <td>314.000000</td>\n",
       "      <td>314.000000</td>\n",
       "      <td>314.000000</td>\n",
       "      <td>314.000000</td>\n",
       "      <td>314.000000</td>\n",
       "      <td>314.000000</td>\n",
       "      <td>314.000000</td>\n",
       "      <td>314.000000</td>\n",
       "      <td>314.000000</td>\n",
       "    </tr>\n",
       "    <tr>\n",
       "      <th>mean</th>\n",
       "      <td>4.022293</td>\n",
       "      <td>69.108280</td>\n",
       "      <td>1.684713</td>\n",
       "      <td>7.414013</td>\n",
       "      <td>6.66879</td>\n",
       "      <td>14.082803</td>\n",
       "      <td>200.299363</td>\n",
       "      <td>32.393312</td>\n",
       "      <td>16.042994</td>\n",
       "      <td>90.044586</td>\n",
       "      <td>61.089172</td>\n",
       "      <td>33.576433</td>\n",
       "      <td>6.482484</td>\n",
       "      <td>10.847134</td>\n",
       "      <td>11.601911</td>\n",
       "      <td>12.124204</td>\n",
       "      <td>50.866242</td>\n",
       "      <td>10.235669</td>\n",
       "      <td>11.359873</td>\n",
       "    </tr>\n",
       "    <tr>\n",
       "      <th>std</th>\n",
       "      <td>0.943862</td>\n",
       "      <td>7.655172</td>\n",
       "      <td>0.465372</td>\n",
       "      <td>1.671198</td>\n",
       "      <td>1.91476</td>\n",
       "      <td>3.144978</td>\n",
       "      <td>88.160757</td>\n",
       "      <td>4.697282</td>\n",
       "      <td>7.016223</td>\n",
       "      <td>18.885681</td>\n",
       "      <td>13.393707</td>\n",
       "      <td>10.402854</td>\n",
       "      <td>2.169829</td>\n",
       "      <td>3.396419</td>\n",
       "      <td>2.957224</td>\n",
       "      <td>2.613651</td>\n",
       "      <td>11.060158</td>\n",
       "      <td>3.423542</td>\n",
       "      <td>2.956735</td>\n",
       "    </tr>\n",
       "    <tr>\n",
       "      <th>min</th>\n",
       "      <td>1.000000</td>\n",
       "      <td>55.000000</td>\n",
       "      <td>1.000000</td>\n",
       "      <td>4.000000</td>\n",
       "      <td>0.00000</td>\n",
       "      <td>4.000000</td>\n",
       "      <td>75.000000</td>\n",
       "      <td>10.000000</td>\n",
       "      <td>0.000000</td>\n",
       "      <td>0.000000</td>\n",
       "      <td>0.000000</td>\n",
       "      <td>0.000000</td>\n",
       "      <td>1.000000</td>\n",
       "      <td>0.000000</td>\n",
       "      <td>1.000000</td>\n",
       "      <td>0.000000</td>\n",
       "      <td>12.000000</td>\n",
       "      <td>0.000000</td>\n",
       "      <td>0.000000</td>\n",
       "    </tr>\n",
       "    <tr>\n",
       "      <th>25%</th>\n",
       "      <td>3.000000</td>\n",
       "      <td>63.000000</td>\n",
       "      <td>1.000000</td>\n",
       "      <td>6.000000</td>\n",
       "      <td>6.00000</td>\n",
       "      <td>12.000000</td>\n",
       "      <td>135.250000</td>\n",
       "      <td>31.000000</td>\n",
       "      <td>11.000000</td>\n",
       "      <td>78.250000</td>\n",
       "      <td>53.000000</td>\n",
       "      <td>26.000000</td>\n",
       "      <td>5.000000</td>\n",
       "      <td>8.000000</td>\n",
       "      <td>10.000000</td>\n",
       "      <td>10.000000</td>\n",
       "      <td>43.000000</td>\n",
       "      <td>8.000000</td>\n",
       "      <td>9.000000</td>\n",
       "    </tr>\n",
       "    <tr>\n",
       "      <th>50%</th>\n",
       "      <td>4.000000</td>\n",
       "      <td>69.000000</td>\n",
       "      <td>2.000000</td>\n",
       "      <td>7.000000</td>\n",
       "      <td>6.00000</td>\n",
       "      <td>14.000000</td>\n",
       "      <td>183.500000</td>\n",
       "      <td>34.000000</td>\n",
       "      <td>16.500000</td>\n",
       "      <td>92.000000</td>\n",
       "      <td>63.000000</td>\n",
       "      <td>34.000000</td>\n",
       "      <td>6.000000</td>\n",
       "      <td>11.000000</td>\n",
       "      <td>12.000000</td>\n",
       "      <td>12.000000</td>\n",
       "      <td>51.000000</td>\n",
       "      <td>10.000000</td>\n",
       "      <td>12.000000</td>\n",
       "    </tr>\n",
       "    <tr>\n",
       "      <th>75%</th>\n",
       "      <td>5.000000</td>\n",
       "      <td>74.000000</td>\n",
       "      <td>2.000000</td>\n",
       "      <td>9.000000</td>\n",
       "      <td>8.00000</td>\n",
       "      <td>16.000000</td>\n",
       "      <td>247.500000</td>\n",
       "      <td>36.000000</td>\n",
       "      <td>21.000000</td>\n",
       "      <td>103.000000</td>\n",
       "      <td>70.000000</td>\n",
       "      <td>40.000000</td>\n",
       "      <td>8.000000</td>\n",
       "      <td>14.000000</td>\n",
       "      <td>14.000000</td>\n",
       "      <td>14.000000</td>\n",
       "      <td>59.000000</td>\n",
       "      <td>13.000000</td>\n",
       "      <td>14.000000</td>\n",
       "    </tr>\n",
       "    <tr>\n",
       "      <th>max</th>\n",
       "      <td>5.000000</td>\n",
       "      <td>88.000000</td>\n",
       "      <td>2.000000</td>\n",
       "      <td>13.000000</td>\n",
       "      <td>12.00000</td>\n",
       "      <td>22.000000</td>\n",
       "      <td>537.000000</td>\n",
       "      <td>36.000000</td>\n",
       "      <td>34.000000</td>\n",
       "      <td>133.000000</td>\n",
       "      <td>103.000000</td>\n",
       "      <td>74.000000</td>\n",
       "      <td>12.500000</td>\n",
       "      <td>16.000000</td>\n",
       "      <td>16.000000</td>\n",
       "      <td>16.000000</td>\n",
       "      <td>77.000000</td>\n",
       "      <td>16.000000</td>\n",
       "      <td>16.000000</td>\n",
       "    </tr>\n",
       "  </tbody>\n",
       "</table>\n",
       "</div>"
      ],
      "text/plain": [
       "       clin-reservaCognitiva_escolaridad   demo-edad  demo-genero  \\\n",
       "count                         314.000000  314.000000   314.000000   \n",
       "mean                            4.022293   69.108280     1.684713   \n",
       "std                             0.943862    7.655172     0.465372   \n",
       "min                             1.000000   55.000000     1.000000   \n",
       "25%                             3.000000   63.000000     1.000000   \n",
       "50%                             4.000000   69.000000     2.000000   \n",
       "75%                             5.000000   74.000000     2.000000   \n",
       "max                             5.000000   88.000000     2.000000   \n",
       "\n",
       "       eval-TLP-CubCorsi-totalDirectos-PD  eval-TLP-CubCorsi-totalinversos-PD  \\\n",
       "count                          314.000000                           314.00000   \n",
       "mean                             7.414013                             6.66879   \n",
       "std                              1.671198                             1.91476   \n",
       "min                              4.000000                             0.00000   \n",
       "25%                              6.000000                             6.00000   \n",
       "50%                              7.000000                             6.00000   \n",
       "75%                              9.000000                             8.00000   \n",
       "max                             13.000000                            12.00000   \n",
       "\n",
       "       eval-TLP-CubCorsi-total-PD  eval-TLP-FigRey-Duracion-PD  \\\n",
       "count                  314.000000                   314.000000   \n",
       "mean                    14.082803                   200.299363   \n",
       "std                      3.144978                    88.160757   \n",
       "min                      4.000000                    75.000000   \n",
       "25%                     12.000000                   135.250000   \n",
       "50%                     14.000000                   183.500000   \n",
       "75%                     16.000000                   247.500000   \n",
       "max                     22.000000                   537.000000   \n",
       "\n",
       "       eval-TLP-FigRey-totalCopia-PD  eval-TLP-FigRey-totalMemoria-PD  \\\n",
       "count                     314.000000                       314.000000   \n",
       "mean                       32.393312                        16.042994   \n",
       "std                         4.697282                         7.016223   \n",
       "min                        10.000000                         0.000000   \n",
       "25%                        31.000000                        11.000000   \n",
       "50%                        34.000000                        16.500000   \n",
       "75%                        36.000000                        21.000000   \n",
       "max                        36.000000                        34.000000   \n",
       "\n",
       "       eval-TLP-Stroop-palabras-PD  eval-TLP-Stroop-color-PD  \\\n",
       "count                   314.000000                314.000000   \n",
       "mean                     90.044586                 61.089172   \n",
       "std                      18.885681                 13.393707   \n",
       "min                       0.000000                  0.000000   \n",
       "25%                      78.250000                 53.000000   \n",
       "50%                      92.000000                 63.000000   \n",
       "75%                     103.000000                 70.000000   \n",
       "max                     133.000000                103.000000   \n",
       "\n",
       "       eval-TLP-Stroop-palabrasColor-PD  eval-TLP-Tavec-1_RI_A1-PD  \\\n",
       "count                        314.000000                 314.000000   \n",
       "mean                          33.576433                   6.482484   \n",
       "std                           10.402854                   2.169829   \n",
       "min                            0.000000                   1.000000   \n",
       "25%                           26.000000                   5.000000   \n",
       "50%                           34.000000                   6.000000   \n",
       "75%                           40.000000                   8.000000   \n",
       "max                           74.000000                  12.500000   \n",
       "\n",
       "       eval-TLP-Tavec-10_RL_LP-PD  eval-TLP-Tavec-11_RCl_LP-PD  \\\n",
       "count                  314.000000                   314.000000   \n",
       "mean                    10.847134                    11.601911   \n",
       "std                      3.396419                     2.957224   \n",
       "min                      0.000000                     1.000000   \n",
       "25%                      8.000000                    10.000000   \n",
       "50%                     11.000000                    12.000000   \n",
       "75%                     14.000000                    14.000000   \n",
       "max                     16.000000                    16.000000   \n",
       "\n",
       "       eval-TLP-Tavec-2_RI_A5-PD  eval-TLP-Tavec-3_RI_AT-PD  \\\n",
       "count                 314.000000                 314.000000   \n",
       "mean                   12.124204                  50.866242   \n",
       "std                     2.613651                  11.060158   \n",
       "min                     0.000000                  12.000000   \n",
       "25%                    10.000000                  43.000000   \n",
       "50%                    12.000000                  51.000000   \n",
       "75%                    14.000000                  59.000000   \n",
       "max                    16.000000                  77.000000   \n",
       "\n",
       "       eval-TLP-Tavec-8_RL_CP-PD  eval-TLP-Tavec-9_RCl_CP-PD  \n",
       "count                 314.000000                  314.000000  \n",
       "mean                   10.235669                   11.359873  \n",
       "std                     3.423542                    2.956735  \n",
       "min                     0.000000                    0.000000  \n",
       "25%                     8.000000                    9.000000  \n",
       "50%                    10.000000                   12.000000  \n",
       "75%                    13.000000                   14.000000  \n",
       "max                    16.000000                   16.000000  "
      ]
     },
     "execution_count": 23,
     "metadata": {},
     "output_type": "execute_result"
    }
   ],
   "source": [
    "df.describe()"
   ]
  },
  {
   "cell_type": "markdown",
   "metadata": {},
   "source": [
    "#### Reescalar variables PD entre [0, 1]"
   ]
  },
  {
   "cell_type": "code",
   "execution_count": 24,
   "metadata": {},
   "outputs": [],
   "source": [
    "pd_columns = [col for col in df.columns if 'PD' in col]"
   ]
  },
  {
   "cell_type": "code",
   "execution_count": 25,
   "metadata": {},
   "outputs": [],
   "source": [
    "from sklearn.preprocessing import MinMaxScaler"
   ]
  },
  {
   "cell_type": "code",
   "execution_count": 26,
   "metadata": {},
   "outputs": [],
   "source": [
    "scaler = MinMaxScaler()\n",
    "df[pd_columns] = scaler.fit_transform(df[pd_columns])"
   ]
  },
  {
   "cell_type": "code",
   "execution_count": 27,
   "metadata": {},
   "outputs": [
    {
     "data": {
      "application/vnd.microsoft.datawrangler.viewer.v0+json": {
       "columns": [
        {
         "name": "index",
         "rawType": "object",
         "type": "string"
        },
        {
         "name": "clin-reservaCognitiva_escolaridad",
         "rawType": "float64",
         "type": "float"
        },
        {
         "name": "demo-edad",
         "rawType": "float64",
         "type": "float"
        },
        {
         "name": "demo-genero",
         "rawType": "float64",
         "type": "float"
        },
        {
         "name": "eval-TLP-CubCorsi-totalDirectos-PD",
         "rawType": "float64",
         "type": "float"
        },
        {
         "name": "eval-TLP-CubCorsi-totalinversos-PD",
         "rawType": "float64",
         "type": "float"
        },
        {
         "name": "eval-TLP-CubCorsi-total-PD",
         "rawType": "float64",
         "type": "float"
        },
        {
         "name": "eval-TLP-FigRey-Duracion-PD",
         "rawType": "float64",
         "type": "float"
        },
        {
         "name": "eval-TLP-FigRey-totalCopia-PD",
         "rawType": "float64",
         "type": "float"
        },
        {
         "name": "eval-TLP-FigRey-totalMemoria-PD",
         "rawType": "float64",
         "type": "float"
        },
        {
         "name": "eval-TLP-Stroop-palabras-PD",
         "rawType": "float64",
         "type": "float"
        },
        {
         "name": "eval-TLP-Stroop-color-PD",
         "rawType": "float64",
         "type": "float"
        },
        {
         "name": "eval-TLP-Stroop-palabrasColor-PD",
         "rawType": "float64",
         "type": "float"
        },
        {
         "name": "eval-TLP-Tavec-1_RI_A1-PD",
         "rawType": "float64",
         "type": "float"
        },
        {
         "name": "eval-TLP-Tavec-10_RL_LP-PD",
         "rawType": "float64",
         "type": "float"
        },
        {
         "name": "eval-TLP-Tavec-11_RCl_LP-PD",
         "rawType": "float64",
         "type": "float"
        },
        {
         "name": "eval-TLP-Tavec-2_RI_A5-PD",
         "rawType": "float64",
         "type": "float"
        },
        {
         "name": "eval-TLP-Tavec-3_RI_AT-PD",
         "rawType": "float64",
         "type": "float"
        },
        {
         "name": "eval-TLP-Tavec-8_RL_CP-PD",
         "rawType": "float64",
         "type": "float"
        },
        {
         "name": "eval-TLP-Tavec-9_RCl_CP-PD",
         "rawType": "float64",
         "type": "float"
        }
       ],
       "ref": "14a0da0f-4d56-41b1-9927-5b26830ef857",
       "rows": [
        [
         "count",
         "314.0",
         "314.0",
         "314.0",
         "314.0",
         "314.0",
         "314.0",
         "314.0",
         "314.0",
         "314.0",
         "314.0",
         "314.0",
         "314.0",
         "314.0",
         "314.0",
         "314.0",
         "314.0",
         "314.0",
         "314.0",
         "314.0"
        ],
        [
         "mean",
         "4.022292993630574",
         "69.10828025477707",
         "1.6847133757961783",
         "0.37933474876150036",
         "0.5557324840764332",
         "0.5601556970983723",
         "0.2712107425483222",
         "0.8612812346888782",
         "0.4718527538403897",
         "0.6770269623102342",
         "0.5930987570341969",
         "0.4537355827164745",
         "0.4767377457767932",
         "0.6779458598726115",
         "0.7067940552016986",
         "0.7577627388535032",
         "0.5979421852033318",
         "0.6397292993630573",
         "0.7099920382165605"
        ],
        [
         "std",
         "0.9438618736680556",
         "7.65517187644716",
         "0.4653715551656092",
         "0.18568864346777803",
         "0.159563361608339",
         "0.17472098932056876",
         "0.1908241489371179",
         "0.18066469940642305",
         "0.20635948676017937",
         "0.1419975986019308",
         "0.1300359891223575",
         "0.14057911303444692",
         "0.18868079817070704",
         "0.21227619358514105",
         "0.19714824716351814",
         "0.16335316289444318",
         "0.17015628011238962",
         "0.21397138211836114",
         "0.18479594333001945"
        ],
        [
         "min",
         "1.0",
         "55.0",
         "1.0",
         "0.0",
         "0.0",
         "0.0",
         "0.0",
         "0.0",
         "0.0",
         "0.0",
         "0.0",
         "0.0",
         "0.0",
         "0.0",
         "0.0",
         "0.0",
         "0.0",
         "0.0",
         "0.0"
        ],
        [
         "25%",
         "3.0",
         "63.0",
         "1.0",
         "0.2222222222222222",
         "0.5",
         "0.4444444444444444",
         "0.13041125541125542",
         "0.8076923076923077",
         "0.3235294117647059",
         "0.5883458646616541",
         "0.5145631067961165",
         "0.35135135135135137",
         "0.34782608695652173",
         "0.5",
         "0.6",
         "0.625",
         "0.476923076923077",
         "0.5",
         "0.5625"
        ],
        [
         "50%",
         "4.0",
         "69.0",
         "2.0",
         "0.33333333333333326",
         "0.5",
         "0.5555555555555555",
         "0.23484848484848486",
         "0.9230769230769231",
         "0.4852941176470588",
         "0.6917293233082706",
         "0.6116504854368932",
         "0.4594594594594595",
         "0.43478260869565216",
         "0.6875",
         "0.7333333333333334",
         "0.75",
         "0.6000000000000001",
         "0.625",
         "0.75"
        ],
        [
         "75%",
         "5.0",
         "74.0",
         "2.0",
         "0.5555555555555556",
         "0.6666666666666666",
         "0.6666666666666666",
         "0.37337662337662336",
         "1.0",
         "0.6176470588235294",
         "0.7744360902255638",
         "0.6796116504854368",
         "0.5405405405405406",
         "0.6086956521739131",
         "0.875",
         "0.8666666666666667",
         "0.875",
         "0.7230769230769232",
         "0.8125",
         "0.875"
        ],
        [
         "max",
         "5.0",
         "88.0",
         "2.0",
         "1.0",
         "1.0",
         "0.9999999999999999",
         "1.0",
         "1.0",
         "1.0",
         "1.0",
         "0.9999999999999999",
         "1.0",
         "1.0",
         "1.0",
         "1.0",
         "1.0",
         "1.0",
         "1.0",
         "1.0"
        ]
       ],
       "shape": {
        "columns": 19,
        "rows": 8
       }
      },
      "text/html": [
       "<div>\n",
       "<style scoped>\n",
       "    .dataframe tbody tr th:only-of-type {\n",
       "        vertical-align: middle;\n",
       "    }\n",
       "\n",
       "    .dataframe tbody tr th {\n",
       "        vertical-align: top;\n",
       "    }\n",
       "\n",
       "    .dataframe thead th {\n",
       "        text-align: right;\n",
       "    }\n",
       "</style>\n",
       "<table border=\"1\" class=\"dataframe\">\n",
       "  <thead>\n",
       "    <tr style=\"text-align: right;\">\n",
       "      <th></th>\n",
       "      <th>clin-reservaCognitiva_escolaridad</th>\n",
       "      <th>demo-edad</th>\n",
       "      <th>demo-genero</th>\n",
       "      <th>eval-TLP-CubCorsi-totalDirectos-PD</th>\n",
       "      <th>eval-TLP-CubCorsi-totalinversos-PD</th>\n",
       "      <th>eval-TLP-CubCorsi-total-PD</th>\n",
       "      <th>eval-TLP-FigRey-Duracion-PD</th>\n",
       "      <th>eval-TLP-FigRey-totalCopia-PD</th>\n",
       "      <th>eval-TLP-FigRey-totalMemoria-PD</th>\n",
       "      <th>eval-TLP-Stroop-palabras-PD</th>\n",
       "      <th>eval-TLP-Stroop-color-PD</th>\n",
       "      <th>eval-TLP-Stroop-palabrasColor-PD</th>\n",
       "      <th>eval-TLP-Tavec-1_RI_A1-PD</th>\n",
       "      <th>eval-TLP-Tavec-10_RL_LP-PD</th>\n",
       "      <th>eval-TLP-Tavec-11_RCl_LP-PD</th>\n",
       "      <th>eval-TLP-Tavec-2_RI_A5-PD</th>\n",
       "      <th>eval-TLP-Tavec-3_RI_AT-PD</th>\n",
       "      <th>eval-TLP-Tavec-8_RL_CP-PD</th>\n",
       "      <th>eval-TLP-Tavec-9_RCl_CP-PD</th>\n",
       "    </tr>\n",
       "  </thead>\n",
       "  <tbody>\n",
       "    <tr>\n",
       "      <th>count</th>\n",
       "      <td>314.000000</td>\n",
       "      <td>314.000000</td>\n",
       "      <td>314.000000</td>\n",
       "      <td>314.000000</td>\n",
       "      <td>314.000000</td>\n",
       "      <td>314.000000</td>\n",
       "      <td>314.000000</td>\n",
       "      <td>314.000000</td>\n",
       "      <td>314.000000</td>\n",
       "      <td>314.000000</td>\n",
       "      <td>314.000000</td>\n",
       "      <td>314.000000</td>\n",
       "      <td>314.000000</td>\n",
       "      <td>314.000000</td>\n",
       "      <td>314.000000</td>\n",
       "      <td>314.000000</td>\n",
       "      <td>314.000000</td>\n",
       "      <td>314.000000</td>\n",
       "      <td>314.000000</td>\n",
       "    </tr>\n",
       "    <tr>\n",
       "      <th>mean</th>\n",
       "      <td>4.022293</td>\n",
       "      <td>69.108280</td>\n",
       "      <td>1.684713</td>\n",
       "      <td>0.379335</td>\n",
       "      <td>0.555732</td>\n",
       "      <td>0.560156</td>\n",
       "      <td>0.271211</td>\n",
       "      <td>0.861281</td>\n",
       "      <td>0.471853</td>\n",
       "      <td>0.677027</td>\n",
       "      <td>0.593099</td>\n",
       "      <td>0.453736</td>\n",
       "      <td>0.476738</td>\n",
       "      <td>0.677946</td>\n",
       "      <td>0.706794</td>\n",
       "      <td>0.757763</td>\n",
       "      <td>0.597942</td>\n",
       "      <td>0.639729</td>\n",
       "      <td>0.709992</td>\n",
       "    </tr>\n",
       "    <tr>\n",
       "      <th>std</th>\n",
       "      <td>0.943862</td>\n",
       "      <td>7.655172</td>\n",
       "      <td>0.465372</td>\n",
       "      <td>0.185689</td>\n",
       "      <td>0.159563</td>\n",
       "      <td>0.174721</td>\n",
       "      <td>0.190824</td>\n",
       "      <td>0.180665</td>\n",
       "      <td>0.206359</td>\n",
       "      <td>0.141998</td>\n",
       "      <td>0.130036</td>\n",
       "      <td>0.140579</td>\n",
       "      <td>0.188681</td>\n",
       "      <td>0.212276</td>\n",
       "      <td>0.197148</td>\n",
       "      <td>0.163353</td>\n",
       "      <td>0.170156</td>\n",
       "      <td>0.213971</td>\n",
       "      <td>0.184796</td>\n",
       "    </tr>\n",
       "    <tr>\n",
       "      <th>min</th>\n",
       "      <td>1.000000</td>\n",
       "      <td>55.000000</td>\n",
       "      <td>1.000000</td>\n",
       "      <td>0.000000</td>\n",
       "      <td>0.000000</td>\n",
       "      <td>0.000000</td>\n",
       "      <td>0.000000</td>\n",
       "      <td>0.000000</td>\n",
       "      <td>0.000000</td>\n",
       "      <td>0.000000</td>\n",
       "      <td>0.000000</td>\n",
       "      <td>0.000000</td>\n",
       "      <td>0.000000</td>\n",
       "      <td>0.000000</td>\n",
       "      <td>0.000000</td>\n",
       "      <td>0.000000</td>\n",
       "      <td>0.000000</td>\n",
       "      <td>0.000000</td>\n",
       "      <td>0.000000</td>\n",
       "    </tr>\n",
       "    <tr>\n",
       "      <th>25%</th>\n",
       "      <td>3.000000</td>\n",
       "      <td>63.000000</td>\n",
       "      <td>1.000000</td>\n",
       "      <td>0.222222</td>\n",
       "      <td>0.500000</td>\n",
       "      <td>0.444444</td>\n",
       "      <td>0.130411</td>\n",
       "      <td>0.807692</td>\n",
       "      <td>0.323529</td>\n",
       "      <td>0.588346</td>\n",
       "      <td>0.514563</td>\n",
       "      <td>0.351351</td>\n",
       "      <td>0.347826</td>\n",
       "      <td>0.500000</td>\n",
       "      <td>0.600000</td>\n",
       "      <td>0.625000</td>\n",
       "      <td>0.476923</td>\n",
       "      <td>0.500000</td>\n",
       "      <td>0.562500</td>\n",
       "    </tr>\n",
       "    <tr>\n",
       "      <th>50%</th>\n",
       "      <td>4.000000</td>\n",
       "      <td>69.000000</td>\n",
       "      <td>2.000000</td>\n",
       "      <td>0.333333</td>\n",
       "      <td>0.500000</td>\n",
       "      <td>0.555556</td>\n",
       "      <td>0.234848</td>\n",
       "      <td>0.923077</td>\n",
       "      <td>0.485294</td>\n",
       "      <td>0.691729</td>\n",
       "      <td>0.611650</td>\n",
       "      <td>0.459459</td>\n",
       "      <td>0.434783</td>\n",
       "      <td>0.687500</td>\n",
       "      <td>0.733333</td>\n",
       "      <td>0.750000</td>\n",
       "      <td>0.600000</td>\n",
       "      <td>0.625000</td>\n",
       "      <td>0.750000</td>\n",
       "    </tr>\n",
       "    <tr>\n",
       "      <th>75%</th>\n",
       "      <td>5.000000</td>\n",
       "      <td>74.000000</td>\n",
       "      <td>2.000000</td>\n",
       "      <td>0.555556</td>\n",
       "      <td>0.666667</td>\n",
       "      <td>0.666667</td>\n",
       "      <td>0.373377</td>\n",
       "      <td>1.000000</td>\n",
       "      <td>0.617647</td>\n",
       "      <td>0.774436</td>\n",
       "      <td>0.679612</td>\n",
       "      <td>0.540541</td>\n",
       "      <td>0.608696</td>\n",
       "      <td>0.875000</td>\n",
       "      <td>0.866667</td>\n",
       "      <td>0.875000</td>\n",
       "      <td>0.723077</td>\n",
       "      <td>0.812500</td>\n",
       "      <td>0.875000</td>\n",
       "    </tr>\n",
       "    <tr>\n",
       "      <th>max</th>\n",
       "      <td>5.000000</td>\n",
       "      <td>88.000000</td>\n",
       "      <td>2.000000</td>\n",
       "      <td>1.000000</td>\n",
       "      <td>1.000000</td>\n",
       "      <td>1.000000</td>\n",
       "      <td>1.000000</td>\n",
       "      <td>1.000000</td>\n",
       "      <td>1.000000</td>\n",
       "      <td>1.000000</td>\n",
       "      <td>1.000000</td>\n",
       "      <td>1.000000</td>\n",
       "      <td>1.000000</td>\n",
       "      <td>1.000000</td>\n",
       "      <td>1.000000</td>\n",
       "      <td>1.000000</td>\n",
       "      <td>1.000000</td>\n",
       "      <td>1.000000</td>\n",
       "      <td>1.000000</td>\n",
       "    </tr>\n",
       "  </tbody>\n",
       "</table>\n",
       "</div>"
      ],
      "text/plain": [
       "       clin-reservaCognitiva_escolaridad   demo-edad  demo-genero  \\\n",
       "count                         314.000000  314.000000   314.000000   \n",
       "mean                            4.022293   69.108280     1.684713   \n",
       "std                             0.943862    7.655172     0.465372   \n",
       "min                             1.000000   55.000000     1.000000   \n",
       "25%                             3.000000   63.000000     1.000000   \n",
       "50%                             4.000000   69.000000     2.000000   \n",
       "75%                             5.000000   74.000000     2.000000   \n",
       "max                             5.000000   88.000000     2.000000   \n",
       "\n",
       "       eval-TLP-CubCorsi-totalDirectos-PD  eval-TLP-CubCorsi-totalinversos-PD  \\\n",
       "count                          314.000000                          314.000000   \n",
       "mean                             0.379335                            0.555732   \n",
       "std                              0.185689                            0.159563   \n",
       "min                              0.000000                            0.000000   \n",
       "25%                              0.222222                            0.500000   \n",
       "50%                              0.333333                            0.500000   \n",
       "75%                              0.555556                            0.666667   \n",
       "max                              1.000000                            1.000000   \n",
       "\n",
       "       eval-TLP-CubCorsi-total-PD  eval-TLP-FigRey-Duracion-PD  \\\n",
       "count                  314.000000                   314.000000   \n",
       "mean                     0.560156                     0.271211   \n",
       "std                      0.174721                     0.190824   \n",
       "min                      0.000000                     0.000000   \n",
       "25%                      0.444444                     0.130411   \n",
       "50%                      0.555556                     0.234848   \n",
       "75%                      0.666667                     0.373377   \n",
       "max                      1.000000                     1.000000   \n",
       "\n",
       "       eval-TLP-FigRey-totalCopia-PD  eval-TLP-FigRey-totalMemoria-PD  \\\n",
       "count                     314.000000                       314.000000   \n",
       "mean                        0.861281                         0.471853   \n",
       "std                         0.180665                         0.206359   \n",
       "min                         0.000000                         0.000000   \n",
       "25%                         0.807692                         0.323529   \n",
       "50%                         0.923077                         0.485294   \n",
       "75%                         1.000000                         0.617647   \n",
       "max                         1.000000                         1.000000   \n",
       "\n",
       "       eval-TLP-Stroop-palabras-PD  eval-TLP-Stroop-color-PD  \\\n",
       "count                   314.000000                314.000000   \n",
       "mean                      0.677027                  0.593099   \n",
       "std                       0.141998                  0.130036   \n",
       "min                       0.000000                  0.000000   \n",
       "25%                       0.588346                  0.514563   \n",
       "50%                       0.691729                  0.611650   \n",
       "75%                       0.774436                  0.679612   \n",
       "max                       1.000000                  1.000000   \n",
       "\n",
       "       eval-TLP-Stroop-palabrasColor-PD  eval-TLP-Tavec-1_RI_A1-PD  \\\n",
       "count                        314.000000                 314.000000   \n",
       "mean                           0.453736                   0.476738   \n",
       "std                            0.140579                   0.188681   \n",
       "min                            0.000000                   0.000000   \n",
       "25%                            0.351351                   0.347826   \n",
       "50%                            0.459459                   0.434783   \n",
       "75%                            0.540541                   0.608696   \n",
       "max                            1.000000                   1.000000   \n",
       "\n",
       "       eval-TLP-Tavec-10_RL_LP-PD  eval-TLP-Tavec-11_RCl_LP-PD  \\\n",
       "count                  314.000000                   314.000000   \n",
       "mean                     0.677946                     0.706794   \n",
       "std                      0.212276                     0.197148   \n",
       "min                      0.000000                     0.000000   \n",
       "25%                      0.500000                     0.600000   \n",
       "50%                      0.687500                     0.733333   \n",
       "75%                      0.875000                     0.866667   \n",
       "max                      1.000000                     1.000000   \n",
       "\n",
       "       eval-TLP-Tavec-2_RI_A5-PD  eval-TLP-Tavec-3_RI_AT-PD  \\\n",
       "count                 314.000000                 314.000000   \n",
       "mean                    0.757763                   0.597942   \n",
       "std                     0.163353                   0.170156   \n",
       "min                     0.000000                   0.000000   \n",
       "25%                     0.625000                   0.476923   \n",
       "50%                     0.750000                   0.600000   \n",
       "75%                     0.875000                   0.723077   \n",
       "max                     1.000000                   1.000000   \n",
       "\n",
       "       eval-TLP-Tavec-8_RL_CP-PD  eval-TLP-Tavec-9_RCl_CP-PD  \n",
       "count                 314.000000                  314.000000  \n",
       "mean                    0.639729                    0.709992  \n",
       "std                     0.213971                    0.184796  \n",
       "min                     0.000000                    0.000000  \n",
       "25%                     0.500000                    0.562500  \n",
       "50%                     0.625000                    0.750000  \n",
       "75%                     0.812500                    0.875000  \n",
       "max                     1.000000                    1.000000  "
      ]
     },
     "execution_count": 27,
     "metadata": {},
     "output_type": "execute_result"
    }
   ],
   "source": [
    "df.describe()"
   ]
  },
  {
   "cell_type": "markdown",
   "metadata": {},
   "source": [
    "#### Codificar variables categóricas\n",
    "Ya vienen codificadas. La variable objetivo ED_2Clases no hace falta codificarla"
   ]
  },
  {
   "cell_type": "code",
   "execution_count": 28,
   "metadata": {},
   "outputs": [
    {
     "data": {
      "application/vnd.microsoft.datawrangler.viewer.v0+json": {
       "columns": [
        {
         "name": "index",
         "rawType": "int64",
         "type": "integer"
        },
        {
         "name": "ED_2Clases",
         "rawType": "category",
         "type": "unknown"
        }
       ],
       "ref": "05396f2a-4ee6-42ca-ab4e-a0653719504d",
       "rows": [
        [
         "0",
         "D"
        ],
        [
         "1",
         "D"
        ],
        [
         "2",
         "D"
        ],
        [
         "3",
         "D"
        ],
        [
         "4",
         "D"
        ],
        [
         "5",
         "D"
        ],
        [
         "6",
         "D"
        ],
        [
         "7",
         "D"
        ],
        [
         "8",
         "D"
        ],
        [
         "9",
         "D"
        ],
        [
         "10",
         "H"
        ],
        [
         "11",
         "D"
        ],
        [
         "12",
         "D"
        ],
        [
         "13",
         "D"
        ],
        [
         "14",
         "D"
        ],
        [
         "15",
         "H"
        ],
        [
         "16",
         "D"
        ],
        [
         "17",
         "D"
        ],
        [
         "18",
         "H"
        ],
        [
         "19",
         "D"
        ],
        [
         "20",
         "D"
        ],
        [
         "21",
         "H"
        ],
        [
         "22",
         "D"
        ],
        [
         "23",
         "D"
        ],
        [
         "24",
         "H"
        ],
        [
         "25",
         "D"
        ],
        [
         "26",
         "D"
        ],
        [
         "27",
         "D"
        ],
        [
         "28",
         "D"
        ],
        [
         "29",
         "D"
        ],
        [
         "30",
         "D"
        ],
        [
         "31",
         "D"
        ],
        [
         "32",
         "H"
        ],
        [
         "33",
         "D"
        ],
        [
         "34",
         "D"
        ],
        [
         "35",
         "D"
        ],
        [
         "36",
         "D"
        ],
        [
         "37",
         "D"
        ],
        [
         "38",
         "D"
        ],
        [
         "39",
         "H"
        ],
        [
         "40",
         "H"
        ],
        [
         "41",
         "D"
        ],
        [
         "42",
         "D"
        ],
        [
         "43",
         "D"
        ],
        [
         "44",
         "D"
        ],
        [
         "45",
         "D"
        ],
        [
         "46",
         "D"
        ],
        [
         "47",
         "D"
        ],
        [
         "48",
         "D"
        ],
        [
         "49",
         "D"
        ]
       ],
       "shape": {
        "columns": 1,
        "rows": 314
       }
      },
      "text/html": [
       "<div>\n",
       "<style scoped>\n",
       "    .dataframe tbody tr th:only-of-type {\n",
       "        vertical-align: middle;\n",
       "    }\n",
       "\n",
       "    .dataframe tbody tr th {\n",
       "        vertical-align: top;\n",
       "    }\n",
       "\n",
       "    .dataframe thead th {\n",
       "        text-align: right;\n",
       "    }\n",
       "</style>\n",
       "<table border=\"1\" class=\"dataframe\">\n",
       "  <thead>\n",
       "    <tr style=\"text-align: right;\">\n",
       "      <th></th>\n",
       "      <th>ED_2Clases</th>\n",
       "    </tr>\n",
       "  </thead>\n",
       "  <tbody>\n",
       "    <tr>\n",
       "      <th>0</th>\n",
       "      <td>D</td>\n",
       "    </tr>\n",
       "    <tr>\n",
       "      <th>1</th>\n",
       "      <td>D</td>\n",
       "    </tr>\n",
       "    <tr>\n",
       "      <th>2</th>\n",
       "      <td>D</td>\n",
       "    </tr>\n",
       "    <tr>\n",
       "      <th>3</th>\n",
       "      <td>D</td>\n",
       "    </tr>\n",
       "    <tr>\n",
       "      <th>4</th>\n",
       "      <td>D</td>\n",
       "    </tr>\n",
       "    <tr>\n",
       "      <th>...</th>\n",
       "      <td>...</td>\n",
       "    </tr>\n",
       "    <tr>\n",
       "      <th>309</th>\n",
       "      <td>D</td>\n",
       "    </tr>\n",
       "    <tr>\n",
       "      <th>310</th>\n",
       "      <td>D</td>\n",
       "    </tr>\n",
       "    <tr>\n",
       "      <th>311</th>\n",
       "      <td>D</td>\n",
       "    </tr>\n",
       "    <tr>\n",
       "      <th>312</th>\n",
       "      <td>D</td>\n",
       "    </tr>\n",
       "    <tr>\n",
       "      <th>313</th>\n",
       "      <td>D</td>\n",
       "    </tr>\n",
       "  </tbody>\n",
       "</table>\n",
       "<p>314 rows × 1 columns</p>\n",
       "</div>"
      ],
      "text/plain": [
       "    ED_2Clases\n",
       "0            D\n",
       "1            D\n",
       "2            D\n",
       "3            D\n",
       "4            D\n",
       "..         ...\n",
       "309          D\n",
       "310          D\n",
       "311          D\n",
       "312          D\n",
       "313          D\n",
       "\n",
       "[314 rows x 1 columns]"
      ]
     },
     "execution_count": 28,
     "metadata": {},
     "output_type": "execute_result"
    }
   ],
   "source": [
    "df.select_dtypes(include='category')"
   ]
  },
  {
   "cell_type": "markdown",
   "metadata": {},
   "source": [
    "#### Guardar datos preprocesados"
   ]
  },
  {
   "cell_type": "code",
   "execution_count": 29,
   "metadata": {},
   "outputs": [
    {
     "name": "stdout",
     "output_type": "stream",
     "text": [
      "<class 'pandas.core.frame.DataFrame'>\n",
      "RangeIndex: 314 entries, 0 to 313\n",
      "Data columns (total 20 columns):\n",
      " #   Column                              Non-Null Count  Dtype   \n",
      "---  ------                              --------------  -----   \n",
      " 0   ED_2Clases                          314 non-null    category\n",
      " 1   clin-reservaCognitiva_escolaridad   314 non-null    int64   \n",
      " 2   demo-edad                           314 non-null    int64   \n",
      " 3   demo-genero                         314 non-null    int64   \n",
      " 4   eval-TLP-CubCorsi-totalDirectos-PD  314 non-null    float64 \n",
      " 5   eval-TLP-CubCorsi-totalinversos-PD  314 non-null    float64 \n",
      " 6   eval-TLP-CubCorsi-total-PD          314 non-null    float64 \n",
      " 7   eval-TLP-FigRey-Duracion-PD         314 non-null    float64 \n",
      " 8   eval-TLP-FigRey-totalCopia-PD       314 non-null    float64 \n",
      " 9   eval-TLP-FigRey-totalMemoria-PD     314 non-null    float64 \n",
      " 10  eval-TLP-Stroop-palabras-PD         314 non-null    float64 \n",
      " 11  eval-TLP-Stroop-color-PD            314 non-null    float64 \n",
      " 12  eval-TLP-Stroop-palabrasColor-PD    314 non-null    float64 \n",
      " 13  eval-TLP-Tavec-1_RI_A1-PD           314 non-null    float64 \n",
      " 14  eval-TLP-Tavec-10_RL_LP-PD          314 non-null    float64 \n",
      " 15  eval-TLP-Tavec-11_RCl_LP-PD         314 non-null    float64 \n",
      " 16  eval-TLP-Tavec-2_RI_A5-PD           314 non-null    float64 \n",
      " 17  eval-TLP-Tavec-3_RI_AT-PD           314 non-null    float64 \n",
      " 18  eval-TLP-Tavec-8_RL_CP-PD           314 non-null    float64 \n",
      " 19  eval-TLP-Tavec-9_RCl_CP-PD          314 non-null    float64 \n",
      "dtypes: category(1), float64(16), int64(3)\n",
      "memory usage: 47.2 KB\n"
     ]
    }
   ],
   "source": [
    "df.info()"
   ]
  },
  {
   "cell_type": "code",
   "execution_count": 30,
   "metadata": {},
   "outputs": [],
   "source": [
    "df.to_csv('../data/original/Identia_UNED_TLP_preprocessed.csv', index=False)"
   ]
  },
  {
   "cell_type": "markdown",
   "metadata": {},
   "source": [
    "#### Dividir datos entrenamiento y test"
   ]
  },
  {
   "cell_type": "code",
   "execution_count": 31,
   "metadata": {},
   "outputs": [],
   "source": [
    "import numpy as np\n",
    "from sklearn.model_selection import StratifiedKFold"
   ]
  },
  {
   "cell_type": "code",
   "execution_count": 32,
   "metadata": {},
   "outputs": [
    {
     "name": "stdout",
     "output_type": "stream",
     "text": [
      "Fold 1:\n",
      "  Train - Total: 282, Distribución de clases: ED_2Clases\n",
      "D    0.79078\n",
      "H    0.20922\n",
      "Name: proportion, dtype: float64\n",
      "  Test  - Total: 32, Distribución de clases: ED_2Clases\n",
      "D    0.78125\n",
      "H    0.21875\n",
      "Name: proportion, dtype: float64\n",
      "\n",
      "Fold 2:\n",
      "  Train - Total: 282, Distribución de clases: ED_2Clases\n",
      "D    0.79078\n",
      "H    0.20922\n",
      "Name: proportion, dtype: float64\n",
      "  Test  - Total: 32, Distribución de clases: ED_2Clases\n",
      "D    0.78125\n",
      "H    0.21875\n",
      "Name: proportion, dtype: float64\n",
      "\n",
      "Fold 3:\n",
      "  Train - Total: 282, Distribución de clases: ED_2Clases\n",
      "D    0.79078\n",
      "H    0.20922\n",
      "Name: proportion, dtype: float64\n",
      "  Test  - Total: 32, Distribución de clases: ED_2Clases\n",
      "D    0.78125\n",
      "H    0.21875\n",
      "Name: proportion, dtype: float64\n",
      "\n",
      "Fold 4:\n",
      "  Train - Total: 282, Distribución de clases: ED_2Clases\n",
      "D    0.79078\n",
      "H    0.20922\n",
      "Name: proportion, dtype: float64\n",
      "  Test  - Total: 32, Distribución de clases: ED_2Clases\n",
      "D    0.78125\n",
      "H    0.21875\n",
      "Name: proportion, dtype: float64\n",
      "\n",
      "Fold 5:\n",
      "  Train - Total: 283, Distribución de clases: ED_2Clases\n",
      "D    0.787986\n",
      "H    0.212014\n",
      "Name: proportion, dtype: float64\n",
      "  Test  - Total: 31, Distribución de clases: ED_2Clases\n",
      "D    0.806452\n",
      "H    0.193548\n",
      "Name: proportion, dtype: float64\n",
      "\n",
      "Fold 6:\n",
      "  Train - Total: 283, Distribución de clases: ED_2Clases\n",
      "D    0.787986\n",
      "H    0.212014\n",
      "Name: proportion, dtype: float64\n",
      "  Test  - Total: 31, Distribución de clases: ED_2Clases\n",
      "D    0.806452\n",
      "H    0.193548\n",
      "Name: proportion, dtype: float64\n",
      "\n",
      "Fold 7:\n",
      "  Train - Total: 283, Distribución de clases: ED_2Clases\n",
      "D    0.787986\n",
      "H    0.212014\n",
      "Name: proportion, dtype: float64\n",
      "  Test  - Total: 31, Distribución de clases: ED_2Clases\n",
      "D    0.806452\n",
      "H    0.193548\n",
      "Name: proportion, dtype: float64\n",
      "\n",
      "Fold 8:\n",
      "  Train - Total: 283, Distribución de clases: ED_2Clases\n",
      "D    0.787986\n",
      "H    0.212014\n",
      "Name: proportion, dtype: float64\n",
      "  Test  - Total: 31, Distribución de clases: ED_2Clases\n",
      "D    0.806452\n",
      "H    0.193548\n",
      "Name: proportion, dtype: float64\n",
      "\n",
      "Fold 9:\n",
      "  Train - Total: 283, Distribución de clases: ED_2Clases\n",
      "D    0.791519\n",
      "H    0.208481\n",
      "Name: proportion, dtype: float64\n",
      "  Test  - Total: 31, Distribución de clases: ED_2Clases\n",
      "D    0.774194\n",
      "H    0.225806\n",
      "Name: proportion, dtype: float64\n",
      "\n",
      "Fold 10:\n",
      "  Train - Total: 283, Distribución de clases: ED_2Clases\n",
      "D    0.791519\n",
      "H    0.208481\n",
      "Name: proportion, dtype: float64\n",
      "  Test  - Total: 31, Distribución de clases: ED_2Clases\n",
      "D    0.774194\n",
      "H    0.225806\n",
      "Name: proportion, dtype: float64\n",
      "\n"
     ]
    }
   ],
   "source": [
    "np.random.seed(42)\n",
    "\n",
    "# Inicializamos el divisor estratificado con 10 particiones (folds)\n",
    "skf = StratifiedKFold(n_splits=10, shuffle=True, random_state=42)\n",
    "\n",
    "# Guardamos los índices de entrenamiento y test para cada fold\n",
    "train_indices = []\n",
    "test_indices = []\n",
    "\n",
    "# X puede ser el DataFrame completo, y es necesario para obtener los índices\n",
    "# y es la variable de clase para estratificar (ED_2Clases)\n",
    "X = df.drop('ED_2Clases', axis=1)\n",
    "y = df['ED_2Clases']\n",
    "\n",
    "# Generamos las divisiones\n",
    "for train_idx, test_idx in skf.split(X, y):\n",
    "    train_indices.append(train_idx)\n",
    "    test_indices.append(test_idx)\n",
    "\n",
    "# Ahora podemos verificar el balance de clases en cada conjunto\n",
    "for i in range(10):\n",
    "    train_set = df.iloc[train_indices[i]]\n",
    "    test_set = df.iloc[test_indices[i]]\n",
    "    train_set.to_csv(f'../data/train/set_{i}.csv', index=False)\n",
    "    test_set.to_csv(f'../data/test/set_{i}.csv', index=False)\n",
    "    print(f\"Fold {i+1}:\")\n",
    "    print(f\"  Train - Total: {len(train_set)}, Distribución de clases: {train_set['ED_2Clases'].value_counts(normalize=True)}\")\n",
    "    print(f\"  Test  - Total: {len(test_set)}, Distribución de clases: {test_set['ED_2Clases'].value_counts(normalize=True)}\")\n",
    "    print()"
   ]
  }
 ],
 "metadata": {
  "kernelspec": {
   "display_name": "base",
   "language": "python",
   "name": "python3"
  },
  "language_info": {
   "codemirror_mode": {
    "name": "ipython",
    "version": 3
   },
   "file_extension": ".py",
   "mimetype": "text/x-python",
   "name": "python",
   "nbconvert_exporter": "python",
   "pygments_lexer": "ipython3",
   "version": "3.11.11"
  }
 },
 "nbformat": 4,
 "nbformat_minor": 2
}
