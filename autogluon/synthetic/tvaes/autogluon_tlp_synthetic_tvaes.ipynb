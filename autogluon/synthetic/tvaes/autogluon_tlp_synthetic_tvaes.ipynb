{
 "cells": [
  {
   "cell_type": "code",
   "execution_count": null,
   "metadata": {},
   "outputs": [],
   "source": [
    "import pandas as pd\n",
    "\n",
    "from autogluon.tabular import TabularPredictor\n",
    "from sklearn.model_selection import train_test_split"
   ]
  },
  {
   "cell_type": "code",
   "execution_count": null,
   "metadata": {},
   "outputs": [],
   "source": [
    "TIME_LIMIT = 2 * 3600"
   ]
  },
  {
   "cell_type": "code",
   "execution_count": null,
   "metadata": {},
   "outputs": [],
   "source": [
    "auxiliary_metrics = ['accuracy', 'balanced_accuracy', 'f1', 'f1_macro', 'f1_micro', 'roc_auc', 'average_precision', 'precision', 'recall', 'log_loss', 'pac_score']"
   ]
  },
  {
   "cell_type": "code",
   "execution_count": null,
   "metadata": {},
   "outputs": [],
   "source": [
    "for i in range(0, 10):\n",
    "    print(f'Fitting model {i}')\n",
    "    df_train = pd.read_csv(\n",
    "        f'../../../data/synthetic/tvaes/set_{i}.csv'\n",
    "        )\n",
    "\n",
    "    predictor= TabularPredictor(\n",
    "        label='ED_2Clases',\n",
    "        problem_type='binary',\n",
    "        eval_metric='roc_auc',\n",
    "        sample_weight='balance_weight',\n",
    "        path=f'AutogluonModels/synthetic/tvaes/v{i}'\n",
    "    )\n",
    "\n",
    "    predictor.fit(\n",
    "        train_data = df_train,\n",
    "        presets = ['high_quality'],\n",
    "        time_limit = TIME_LIMIT,\n",
    "        auto_stack = True,\n",
    "        # excluded_model_types=['KNN','RF','XT', 'LR'],\n",
    "        verbosity = 2\n",
    "    )\n",
    "\n",
    "    df_test = pd.read_csv(\n",
    "        f'../../../data/test/set_{i}.csv'\n",
    "    )\n",
    "\n",
    "    predictors = predictor.leaderboard(\n",
    "        df_test,\n",
    "        extra_metrics = auxiliary_metrics,\n",
    "        extra_info=True,\n",
    "        silent=True\n",
    "    )\n",
    "    predictors.to_excel(\n",
    "        f'../../../results/tvaes/predictors_set_{i}.xlsx',\n",
    "        index=False\n",
    "    )\n",
    "\n",
    "    feature_importance = predictor.feature_importance(df_train)\n",
    "    feature_importance.to_excel(\n",
    "        f'../../../results/tvaes/feature_importance_set_{i}.xlsx',\n",
    "        index=True\n",
    "    )"
   ]
  }
 ],
 "metadata": {
  "kernelspec": {
   "display_name": "Python 3",
   "language": "python",
   "name": "python3"
  },
  "language_info": {
   "codemirror_mode": {
    "name": "ipython",
    "version": 3
   },
   "file_extension": ".py",
   "mimetype": "text/x-python",
   "name": "python",
   "nbconvert_exporter": "python",
   "pygments_lexer": "ipython3",
   "version": "3.11.11"
  }
 },
 "nbformat": 4,
 "nbformat_minor": 2
}
