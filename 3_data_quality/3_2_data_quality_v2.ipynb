{
 "cells": [
  {
   "cell_type": "code",
   "execution_count": null,
   "id": "5b1b62c1",
   "metadata": {},
   "outputs": [],
   "source": [
    "import pandas as pd\n",
    "import json\n",
    "from sdv.metadata import Metadata\n",
    "from sdv.evaluation.single_table import evaluate_quality\n",
    "from sdv.evaluation.single_table import get_column_plot\n",
    "\n",
    "import os"
   ]
  },
  {
   "cell_type": "code",
   "execution_count": null,
   "id": "c785f8c7",
   "metadata": {},
   "outputs": [],
   "source": [
    "metadata = Metadata.load_from_json(filepath='../2_modeling/gc_metadata.json')\n",
    "for i in range(0, 10):\n",
    "    print(f'Running diagnostic for set {i}')\n",
    "    real_data = pd.read_csv(\n",
    "        f'../data/train/set_{i}.csv'\n",
    "    )\n",
    "    synthetic_data = pd.read_csv(\n",
    "        f'../data/synthetic/gc/set_{i}.csv'\n",
    "    )\n",
    "    report = evaluate_quality(\n",
    "        real_data=real_data,\n",
    "        synthetic_data=synthetic_data,\n",
    "        metadata=metadata\n",
    "    )\n",
    "    if report.get_score() < 0.85:\n",
    "        print(f'Warning: Queality score for set {i} is below 0.85')\n",
    "        print(f'Score: {report.get_score()}')\n",
    "        break\n",
    "    print(report.get_properties())\n",
    "    fig = report.get_visualization(property_name='Column Shapes')\n",
    "    fig.update_layout(\n",
    "        title=dict(\n",
    "            text=f'Quality Report for Set {i}',\n",
    "            x=0.5,\n",
    "            y=0.95,\n",
    "            font=dict(\n",
    "                family='Helvetica, Arial, sans-serif',\n",
    "                size=24,\n",
    "                color='black'\n",
    "            )\n",
    "        ),\n",
    "        margin=dict(l=40, r=40, t=80, b=40),\n",
    "        paper_bgcolor='white',\n",
    "        plot_bgcolor='white'\n",
    "    )\n",
    "    fig.write_image(\n",
    "        f'quality_reports/gc/set_{i}.png',\n",
    "        width=1200,\n",
    "        height=800,\n",
    "        scale=2\n",
    "    )\n",
    "    os.makedirs(f'quality_reports/gc/set_{i}', exist_ok=True)\n",
    "\n",
    "    for column_name in metadata.get_column_names():\n",
    "        fig = get_column_plot(\n",
    "            real_data=real_data,\n",
    "            synthetic_data=synthetic_data,\n",
    "            metadata=metadata,\n",
    "            column_name=column_name\n",
    "        )\n",
    "        fig.update_layout(\n",
    "            title=f'Quality Report for column {column_name} in set {i}'\n",
    "        )\n",
    "        fig.write_image(\n",
    "            f'quality_reports/gc/set_{i}/column_{column_name}.png',\n",
    "            width=1200,\n",
    "            height=800,\n",
    "            scale=2\n",
    "        )"
   ]
  }
 ],
 "metadata": {
  "kernelspec": {
   "display_name": "Python 3",
   "language": "python",
   "name": "python3"
  },
  "language_info": {
   "codemirror_mode": {
    "name": "ipython",
    "version": 3
   },
   "file_extension": ".py",
   "mimetype": "text/x-python",
   "name": "python",
   "nbconvert_exporter": "python",
   "pygments_lexer": "ipython3",
   "version": "3.11.11"
  }
 },
 "nbformat": 4,
 "nbformat_minor": 5
}
